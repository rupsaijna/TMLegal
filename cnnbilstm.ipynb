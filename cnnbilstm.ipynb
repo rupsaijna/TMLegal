{
 "cells": [
  {
   "cell_type": "markdown",
   "metadata": {},
   "source": [
    "## (CNN?) Bi-LSTM Model for classifying legal documents\n",
    "\n",
    "This model should be able to classify legal documents based on the WHOLE document, which could be up to 100 000 tokens. The tokenization therefore has to be chunked, for example in chunks of 256 tokens each, where each chunk overlaps each other with 28 tokens."
   ]
  },
  {
   "cell_type": "code",
   "execution_count": 1,
   "metadata": {},
   "outputs": [],
   "source": [
    "# First load in train, valid, and test datasets\n",
    "import pandas as pd\n",
    "import numpy as np\n",
    "\n",
    "from data_handling.data_tokenization import get_dataset_for_category\n",
    "from utils.bilstmcnn_utils import LSTM, train, get_train_test_dataset_for_category\n",
    "from utils.utils import get_device\n",
    "\n",
    "import matplotlib.pyplot as plt\n",
    "import pandas as pd\n",
    "import torch\n",
    "\n",
    "import spacy\n",
    "\n",
    "from tqdm import tqdm\n",
    "\n",
    "# Models\n",
    "\n",
    "import torch.nn as nn\n",
    "from torch.nn.utils.rnn import pack_padded_sequence, pad_packed_sequence\n",
    "from torch.utils.data import DataLoader\n",
    "    \n",
    "# Training\n",
    "\n",
    "import torch.optim as optim\n",
    "\n",
    "# Evaluation\n",
    "\n",
    "from sklearn.metrics import accuracy_score, classification_report, confusion_matrix\n",
    "import seaborn as sns"
   ]
  },
  {
   "cell_type": "markdown",
   "metadata": {},
   "source": [
    "# INFO\n",
    "\n",
    "This file needs the glove.6B.300d.txt placed in the same folder as the file, as it uses it for vectorizing the words."
   ]
  },
  {
   "cell_type": "code",
   "execution_count": 2,
   "metadata": {},
   "outputs": [],
   "source": [
    "categories = [\"expiration_date\", \"anti-assignment\", \"cap_on_liability\", \"license_grant\", \"effective_date\", \"audit_rights\", \"termination_for_convenience\"]\n",
    "categories_2 = [\"exclusivity\", \"renewal_term\", \"insurance\", \"revenueprofit_sharing\", \"volume_restriction\"]\n",
    "\n",
    "categories = categories + categories_2\n",
    "\n",
    "def run_with_categories(categories):\n",
    "    \n",
    "    num_examples = 255\n",
    "    subpart_size = 512\n",
    "    subpart_overlap = 26\n",
    "    \n",
    "    for category in categories:\n",
    "        run(category, num_examples, subpart_size, subpart_overlap)\n",
    "        \n",
    "def run(category, num_examples, subpart_size, subpart_overlap):\n",
    "    train_dataset, test_dataset, tokenizer, vocab_to_idx = get_train_test_dataset_for_category(category, num_examples, subpart_size, subpart_overlap)\n",
    "    \n",
    "    \n",
    "    train_loader = DataLoader(train_dataset, shuffle=True)\n",
    "    test_loader = DataLoader(test_dataset, shuffle=True)\n",
    "    vocabulary = list(tokenizer.vocab.strings)\n",
    "    \n",
    "    \n",
    "    device = get_device()\n",
    "\n",
    "    \n",
    "    vocab_size = len(vocab_to_idx) + 1\n",
    "    embedding_dim = 300\n",
    "    hidden = 64\n",
    "    lstm_layers = 1\n",
    "    seq_len = subpart_size\n",
    "    cnn_hidden = 128\n",
    "\n",
    "    model = LSTM(hidden, vocab_to_idx, lstm_layers, seq_len, cnn_hidden)\n",
    "    model.to(device)\n",
    "\n",
    "    lr=0.00018\n",
    "    criterion = nn.BCELoss()\n",
    "    optimizer = torch.optim.Adam(model.parameters(), lr=lr)\n",
    "    \n",
    "    train(model,\n",
    "          optimizer,\n",
    "          category = category,\n",
    "          criterion = nn.BCELoss(),\n",
    "          train_loader = train_loader,\n",
    "          test_loader = test_loader,\n",
    "          num_epochs = 9,\n",
    "          file_path = \"./models\",\n",
    "          best_valid_loss = float(\"Inf\"),\n",
    "          device = device)"
   ]
  },
  {
   "cell_type": "code",
   "execution_count": 3,
   "metadata": {},
   "outputs": [
    {
<<<<<<< HEAD
     "name": "stdout",
     "output_type": "stream",
     "text": [
      "Found existing file, loading....\n",
      "Finished loading file\n",
      "Found existing file, loading....\n",
      "Finished loading file\n",
      "Ratio: 0.7\n",
      "Pos train: 208\n",
      "Neg train: 47\n",
      "Batch size: 14\n",
      "Randomizing training and test data..\n"
     ]
    },
    {
     "name": "stdout",
     "output_type": "stream",
     "text": [
      "\n",
      "\n",
      "Training (0/9): {'precision': 0.7148137617287461, 'recall': 0.9858823529411764, 'f1': 0.828745673314653, 'tp': 2514, 'tn': 17, 'fp': 1003, 'fn': 36} Loss: 0.61502\n",
      "\n",
      "---------- EVALUATION ----------\n",
      "Document Accuracy: 0.0\n",
      "Soft Document Accuracy: 1.0\n",
      "Chunk Accuracy: 0.0416\n",
      "Loss: 0.9934220207043183\n",
      "precision: 0.04162162162162162\n",
      "recall: 1.0\n",
      "f1: 0.07991696938245978\n",
      "tp: 77\n",
      "tn: 0\n",
      "fp: 1773\n",
      "fn: 0\n"
     ]
    },
    {
     "name": "stderr",
     "output_type": "stream",
     "text": [
      "Training Epochs:  11%|█         | 1/9 [02:14<17:54, 134.32s/it]"
     ]
    },
    {
     "name": "stdout",
     "output_type": "stream",
     "text": [
      "\n",
      "\n",
      "Training (1/9): {'precision': 0.7250650477016479, 'recall': 0.9835294117647059, 'f1': 0.834747878182726, 'tp': 2508, 'tn': 69, 'fp': 951, 'fn': 42} Loss: 0.54522\n",
      "\n",
      "---------- EVALUATION ----------\n",
      "Document Accuracy: 0.0128\n",
      "Soft Document Accuracy: 0.5238\n",
      "Chunk Accuracy: 0.6286\n",
      "Loss: 0.7687969849659846\n",
      "precision: 0.056686046511627904\n",
      "recall: 0.5064935064935064\n",
      "f1: 0.10196078431372549\n",
      "tp: 39\n",
      "tn: 1124\n",
      "fp: 649\n",
      "fn: 38\n"
     ]
    },
    {
     "name": "stderr",
     "output_type": "stream",
     "text": [
      "Training Epochs:  22%|██▏       | 2/9 [04:31<15:51, 135.93s/it]"
     ]
    },
    {
     "name": "stdout",
     "output_type": "stream",
     "text": [
      "\n",
      "\n",
      "Training (2/9): {'precision': 0.8930560712959524, 'recall': 0.9431372549019608, 'f1': 0.9174136944497424, 'tp': 2405, 'tn': 732, 'fp': 288, 'fn': 145} Loss: 0.3389\n",
      "\n",
      "---------- EVALUATION ----------\n",
      "Document Accuracy: 0.0897\n",
      "Soft Document Accuracy: 0.381\n",
      "Chunk Accuracy: 0.8059\n",
      "Loss: 0.7331254314153622\n",
      "precision: 0.08529411764705883\n",
      "recall: 0.37662337662337664\n",
      "f1: 0.13908872901678657\n",
      "tp: 29\n",
      "tn: 1462\n",
      "fp: 311\n",
      "fn: 48\n"
     ]
    },
    {
     "name": "stderr",
     "output_type": "stream",
     "text": [
      "Training Epochs:  33%|███▎      | 3/9 [06:48<13:39, 136.63s/it]"
     ]
    },
    {
     "name": "stdout",
     "output_type": "stream",
     "text": [
      "\n",
      "\n",
      "Training (3/9): {'precision': 0.9680383539752297, 'recall': 0.9501960784313725, 'f1': 0.9590342370868791, 'tp': 2423, 'tn': 940, 'fp': 80, 'fn': 127} Loss: 0.24653\n",
      "\n",
      "---------- EVALUATION ----------\n",
      "Document Accuracy: 0.1026\n",
      "Soft Document Accuracy: 0.3333\n",
      "Chunk Accuracy: 0.8249\n",
      "Loss: 0.8323768109847338\n",
      "precision: 0.08695652173913043\n",
      "recall: 0.33766233766233766\n",
      "f1: 0.1382978723404255\n",
      "tp: 26\n",
      "tn: 1500\n",
      "fp: 273\n",
      "fn: 51\n"
     ]
    },
    {
     "name": "stderr",
     "output_type": "stream",
     "text": [
      "Training Epochs:  44%|████▍     | 4/9 [09:06<11:25, 137.07s/it]"
     ]
    },
    {
     "name": "stdout",
     "output_type": "stream",
     "text": [
      "\n",
      "\n",
      "Training (4/9): {'precision': 0.9911075181891673, 'recall': 0.9615686274509804, 'f1': 0.9761146496815286, 'tp': 2452, 'tn': 998, 'fp': 22, 'fn': 98} Loss: 0.20229\n",
      "\n",
      "---------- EVALUATION ----------\n",
      "Document Accuracy: 0.1538\n",
      "Soft Document Accuracy: 0.1587\n",
      "Chunk Accuracy: 0.9103\n",
      "Loss: 0.6981869156544025\n",
      "precision: 0.10619469026548672\n",
      "recall: 0.15584415584415584\n",
      "f1: 0.12631578947368421\n",
      "tp: 12\n",
      "tn: 1672\n",
      "fp: 101\n",
      "fn: 65\n"
     ]
    },
    {
     "name": "stderr",
     "output_type": "stream",
     "text": [
      "Training Epochs:  56%|█████▌    | 5/9 [11:24<09:08, 137.22s/it]"
     ]
    },
    {
     "name": "stdout",
     "output_type": "stream",
     "text": [
      "\n",
      "\n",
      "Training (5/9): {'precision': 0.9910204081632653, 'recall': 0.952156862745098, 'f1': 0.9712000000000001, 'tp': 2428, 'tn': 998, 'fp': 22, 'fn': 122} Loss: 0.16905\n",
      "\n",
      "---------- EVALUATION ----------\n",
      "Document Accuracy: 0.1923\n",
      "Soft Document Accuracy: 0.1587\n",
      "Chunk Accuracy: 0.9422\n",
      "Loss: 0.4469971893689571\n",
      "precision: 0.2222222222222222\n",
      "recall: 0.15584415584415584\n",
      "f1: 0.183206106870229\n",
      "tp: 12\n",
      "tn: 1731\n",
      "fp: 42\n",
      "fn: 65\n"
     ]
    },
    {
     "name": "stderr",
     "output_type": "stream",
     "text": [
      "Training Epochs:  67%|██████▋   | 6/9 [13:42<06:52, 137.52s/it]"
     ]
    },
    {
     "name": "stdout",
     "output_type": "stream",
     "text": [
      "\n",
      "\n",
      "Training (6/9): {'precision': 0.9975659229208925, 'recall': 0.9643137254901961, 'f1': 0.9806580259222334, 'tp': 2459, 'tn': 1014, 'fp': 6, 'fn': 91} Loss: 0.14331\n",
      "\n",
      "---------- EVALUATION ----------\n",
      "Document Accuracy: 0.1282\n",
      "Soft Document Accuracy: 0.1587\n",
      "Chunk Accuracy: 0.9108\n",
      "Loss: 0.5652758165811881\n",
      "precision: 0.11403508771929824\n",
      "recall: 0.16883116883116883\n",
      "f1: 0.1361256544502618\n",
      "tp: 13\n",
      "tn: 1672\n",
      "fp: 101\n",
      "fn: 64\n"
     ]
    },
    {
     "name": "stderr",
     "output_type": "stream",
     "text": [
      "Training Epochs:  78%|███████▊  | 7/9 [15:47<04:27, 133.55s/it]"
     ]
    },
    {
     "name": "stdout",
     "output_type": "stream",
     "text": [
      "\n",
      "\n",
      "Training (7/9): {'precision': 0.9959514170040485, 'recall': 0.9647058823529412, 'f1': 0.9800796812749004, 'tp': 2460, 'tn': 1010, 'fp': 10, 'fn': 90} Loss: 0.13459\n",
      "\n",
      "---------- EVALUATION ----------\n",
      "Document Accuracy: 0.1538\n",
      "Soft Document Accuracy: 0.1587\n",
      "Chunk Accuracy: 0.913\n",
      "Loss: 0.5519832370755\n",
      "precision: 0.11818181818181818\n",
      "recall: 0.16883116883116883\n",
      "f1: 0.13903743315508021\n",
      "tp: 13\n",
      "tn: 1676\n",
      "fp: 97\n",
      "fn: 64\n"
     ]
    },
    {
     "name": "stderr",
     "output_type": "stream",
     "text": [
      "Training Epochs:  89%|████████▉ | 8/9 [17:45<02:08, 128.47s/it]"
     ]
    },
    {
     "name": "stdout",
     "output_type": "stream",
     "text": [
      "\n",
      "\n",
      "Training (8/9): {'precision': 0.9971774193548387, 'recall': 0.9698039215686275, 'f1': 0.983300198807157, 'tp': 2473, 'tn': 1013, 'fp': 7, 'fn': 77} Loss: 0.13085\n",
      "\n",
      "---------- EVALUATION ----------\n",
      "Document Accuracy: 0.1538\n",
      "Soft Document Accuracy: 0.1429\n",
      "Chunk Accuracy: 0.9216\n",
      "Loss: 0.4936060905456543\n",
      "precision: 0.12222222222222222\n",
      "recall: 0.14285714285714285\n",
      "f1: 0.13173652694610777\n",
      "tp: 11\n",
      "tn: 1694\n",
      "fp: 79\n",
      "fn: 66\n"
     ]
    },
    {
     "name": "stderr",
     "output_type": "stream",
     "text": [
      "Training Epochs: 100%|██████████| 9/9 [19:42<00:00, 131.38s/it]"
     ]
    },
    {
     "name": "stdout",
     "output_type": "stream",
     "text": [
      "Finished Training!\n"
     ]
    },
    {
     "name": "stderr",
     "output_type": "stream",
     "text": [
      "\n"
     ]
    },
    {
     "data": {
      "image/png": "iVBORw0KGgoAAAANSUhEUgAAAXQAAAEICAYAAABPgw/pAAAAOXRFWHRTb2Z0d2FyZQBNYXRwbG90bGliIHZlcnNpb24zLjMuNCwgaHR0cHM6Ly9tYXRwbG90bGliLm9yZy8QVMy6AAAACXBIWXMAAAsTAAALEwEAmpwYAAAy+0lEQVR4nO3dd3hUZdrH8e+dDkkgkASEhI70TlApUgQFpNhdECy4Fuyru2tdFdfXVVddFVERxV5QKSKKBVQEpAZUivQeahIIIUD68/7xTEKI6UxyZib357rmypQz59wZ8TdP7nPOc8QYg1JKKe/n53QBSiml3EMDXSmlfIQGulJK+QgNdKWU8hEa6Eop5SM00JVSykdooCu3E5FvROR6p+tQqrrRQFcAiEhagVuuiJws8HhMedZljBlqjHmvgnXsFJFBFXmvk0RkTIHP66TrM8z/TCuwvqYiYkQkoIRlJojIh2dWufIlGugKAGNMWN4N2A2MKPDcR3nLlRQw1Zkx5qMCn99QYF+hz1SpSqeBrkokIv1FJEFEHhCRA8A7IlJHRL4SkUQROeK6H1vgPQtE5CbX/RtEZLGIPO9adoeIDK1AHcEi8pKI7HPdXhKRYNdrUa4aUkTksIgsEhE/12sPiMheETkmIptEZGAR6z5PRA6IiH+B5y4TkTWu++eISLyIpIrIQRH5XzlrbygiM1yf1w4RubvAa8Wte6HrZ4prlN+znNscKSLrXZ/JAhFpW+C1Ij+TM/09lfM00FVZnAXUBZoAt2D/3bzjetwYOAlMKuH95wKbgCjgv8BUEZFy1vAIcB7QBegMnAP8y/Xa34EEIBqoDzwMGBFpDdwJ9DDGhAODgZ2FV2yMWQYcBy4o8PQ1wMeu+y8DLxtjagEtgM/KWrTri2UO8DsQAwwE/iYig0tZd1/XzwjXKH9pObbZCvgE+Bv2M5kLzBGRoFI+kwr/nsozaKCrssgFHjfGZBhjThpjko0xM4wxJ4wxx4CngH4lvH+XMeZNY0wO8B7QABu85TEG+Lcx5pAxJhF4ArjW9VqWa51NjDFZxphFxk5SlAMEA+1EJNAYs9MYs62Y9X8CjAYQkXDgYtdzeetvKSJRxpg01xdAWfUAoo0x/zbGZBpjtgNvAqPcsO7i/AX42hgzzxiTBTwP1AB6UfJnUhm1qCqkga7KItEYk573QERqisgbIrJLRFKx7YGIgi2LQg7k3THGnHDdLW9fuSGwq8DjXa7nAJ4DtgLfi8h2EXnQta2t2FHqBOCQiEwTkYYU7WPgclcb53JgtTEmb3t/BVoBG0VkpYgML0fdTYCGrtZHioikYP+CyPtCO5N1F+e0z8oYkwvsAWJK+UwqoxZVhTTQVVkUnpLz70Br4FzXn+d57YHytlHKYx82HPM0dj2HMeaYMebvxpjmwAjgvry+sDHmY2NMH9d7DfBsUSs3xvyBDcGhnN5uwRizxRgzGqjnev90EQktY917gB3GmIgCt3BjzMWlrPtMpkE97bNytbcaAXtd2yzyMznD31N5AA10VRHh2L55iojUBR538/oDRSSkwC0A2/74l4hEi0gU8BjwIYCIDBeRlq7gSsW2FXJEpLWIXOAadae7as4pYbsfA3djv6A+z3tSRMaKSLRrpJvierqk9RS0Akh17YisISL+ItJBRHqUsu5EbKureSnr9yv0WQVje9/DRGSgiARiv4AzgCUlfSZn+HsqD6CBririJWxPNglYBnzr5vXPxQZN3m0C8H9APLAGWAusdj0HcDYwH0gDlgKvGWMWYHvFz7jqPIAdeT5cwnY/AfoDPxpjkgo8PwRYL/Z48peBUQVbUCVx7TcYgd2Zu8NVy1tA7ZLW7WpNPQX84mrVnFfMJkZz+me1zRizCRgLvOLa3gjsYaiZpXwmFf49lWcQvcCFUkr5Bh2hK6WUj9BAV0opH6GBrpRSPkIDXSmlfIRjEy1FRUWZpk2bOrV5pZTySqtWrUoyxkQX9Zpjgd60aVPi4+Od2rxSSnklEdlV3GvaclFKKR+hga6UUj5CA10ppXyEXn1GKeU1srKySEhIID3d92ckCAkJITY2lsDAwDK/p9RAF5G3geHAIWNMhyJeF+y8DxcDJ4AbjDGry1yBUkqVUUJCAuHh4TRt2pTyXyPFexhjSE5OJiEhgWbNmpX5fWVpubyLnbSnOEOxkyOdjb2azetl3rpSSpVDeno6kZGRPh3mACJCZGRkuf8SKTXQjTELgcMlLHIJ8L6xlmEvdNCgXFUopVQZ+XqY56nI7+mOnaIx2En88yS4nvsTEbnFdRHa+MTExIptLXU/fPMg5GRV7P1KKeWj3BHoRX2NFDknrzFmijEmzhgTFx1d5IlOpUtYCctfhx/+XbH3K6VUBSUnJ9OlSxe6dOnCWWedRUxMTP7jzMzMEt8bHx/P3XffXan1ueMolwTs5a3yxOK6NFilaDcS4v4KSyZCs75w9oWVtimllCooMjKS3377DYAJEyYQFhbGP/7xj/zXs7OzCQgoOlbj4uKIi4ur1PrcMUL/ErhOrPOAo8aY/W5Yb/EG/wfqd4BZt9oWjFJKOeSGG27gvvvuY8CAATzwwAOsWLGCXr160bVrV3r16sWmTZsAWLBgAcOH2+tuT5gwgRtvvJH+/fvTvHlzJk6c6JZaynLYYt5luaJEJAF7/chAAGPMZOzlwi7GXnX9BDDOLZWVJDAErnwHpvSDmTfDdbPBr7gLziulfNETc9bzx75Ut66zXcNaPD6ifbnft3nzZubPn4+/vz+pqaksXLiQgIAA5s+fz8MPP8yMGTP+9J6NGzfy008/cezYMVq3bs1tt91WrmPOi1JqoLuuAl7S6wa444yqqIjoVjDsBfjiNlj4HPR/sMpLUEopgKuuugp/fzuoPHr0KNdffz1btmxBRMjKKvoAjmHDhhEcHExwcDD16tXj4MGDxMbGnlEd3n2maJdrYPvP8POz0LSPvSmlqoWKjKQrS2hoaP79Rx99lAEDBjBr1ix27txJ//79i3xPcHBw/n1/f3+ys7PPuA7vn8tl2AtQtznMuAmOJ5W+vFJKVaKjR48SE2OP3H733XerdNveH+jBYXDVu3DisG2/5OY6XZFSqhq7//77eeihh+jduzc5OTlVum2xLfCqFxcXZ9x6gYsVb8Lcf8BF/we97nLfepVSHmPDhg20bdvW6TKqTFG/r4isMsYUefyj94/Q8/S4CdqOhPkTIEGvhKSUqn58J9BFYOQrEN4Qpo+DkylOV6SUUlXKdwIdoEYEXPk2pO6DOXeDQ+0kpZRygm8FOkCjHjDwMfhjNsS/7XQ1SilVZXwv0AF63gUtL4RvH4IDa52uRimlqoRvBrqfH1w2GWrUgc/HQUaa0xUppVSl881ABwiNgivehOStMPefTlejlPIBZzJ9LtgJupYsWVJp9Xn3qf+ladYX+j0APz8DzftB51FOV6SU8mKlTZ9bmgULFhAWFkavXr0qpT7fHaHn6Xc/NOkDX90HSVucrkYp5WNWrVpFv3796N69O4MHD2b/fjul98SJE2nXrh2dOnVi1KhR7Ny5k8mTJ/Piiy/SpUsXFi1a5PZafHuEDnZa3SvehMl94PMb4KYf7PS7Sinv9s2D7j/o4ayOMPSZMi9ujOGuu+5i9uzZREdH8+mnn/LII4/w9ttv88wzz7Bjxw6Cg4NJSUkhIiKC8ePHl3tUXx6+H+gAtRrCpZPh46vg+0fshF5KKXWGMjIyWLduHRdeaK+clpOTQ4MGDQDo1KkTY8aM4dJLL+XSSy+tknqqR6ADtLoIet4JSyfZ3nq7S5yuSCl1Jsoxkq4sxhjat2/P0qVL//Ta119/zcKFC/nyyy958sknWb9+faXX4/s99IIGPg4x3WH2XXBkl9PVKKW8XHBwMImJifmBnpWVxfr168nNzWXPnj0MGDCA//73v6SkpJCWlkZ4eDjHjh2rtHqqV6AHBNmpAQCm3wg5RV9JRCmlysLPz4/p06fzwAMP0LlzZ7p06cKSJUvIyclh7NixdOzYka5du3LvvfcSERHBiBEjmDVrVqXtFPWd6XPLY/0X8Pn10OtuuOhJZ2pQSpWbTp9bXabPLY/2l0LcjbBkImyZ53Q1SinlFtUz0AEG/wfqd4BZt0LqfqerUUqpM1Z9Az2wBlz5DmSdhJk3Q27VXipKKVUxTrWJq1pFfs/qG+gA0a3sMek7F8HC55yuRilVipCQEJKTk30+1I0xJCcnExJSvpMgq89x6MXpcg1s/xl+fhaa9rE3pZRHio2NJSEhgcTERKdLqXQhISHExsaW6z0a6GBH6XvjYcZNMH6xnalRKeVxAgMDadasmdNleKzq3XLJExxm++knDsMXt0FurtMVKaVUuWmg52nQCQY/BVu+h2WvOl2NUkqVmwZ6QT1ugrYjYf4ESHDopCellKogDfSCRGDkKxDeEKaPg5MpTleklFJlpoFeWI0IO99L6j6Yczf4+OFRSinfoYFelEY94IJH4Y/ZEP+209UopVSZaKAXp9fd0HIQfPsQHFjndDW+5/AO+OHfcGSn05Uo5TM00Ivj5weXvQE16thL12WkOV2Rb8g6CT89Da+eC4tegCn9YfsCp6tSyidooJckNMpejzR5K8z9p9PVeDdjYONcG+Q/PwNth8MNcyGsPnxwOSx9TfdXKHWGNNBL06wv9Lsffv8Yfp/mdDXeKXkbfHw1TBttJ0W7fo7d8dy0N9w0H1oNge8egi9uh6x0p6tVymtpoJdF3/uhSW/46j5I2uJ0Nd4j8wT8+H/w2nmwaylc9JSdWqFZ31PLBIfDXz6E/g/ZL813hsLRvc7VrJQXK1Ogi8gQEdkkIltF5MEiXq8tInNE5HcRWS8i49xfqoP8A+CKtyAgGD4fp6PI0hgDG+bY9srC56DdpXBXPPS6E/wD/7y8nx/0fxD+8hEkbbZ99d3Lq7pqpbxeqYEuIv7Aq8BQoB0wWkTaFVrsDuAPY0xnoD/wgogEublWZ9VqCJdNhoNr4ftHnK7GcyVthQ+vgE/H2tH3DXPtfojws0p/b9vhtgUTHAbvDoNV71Z6uUr5krKM0M8BthpjthtjMoFpwCWFljFAuIgIEAYcBrLdWqknaDUYet4JK9+yx6irUzKPw/wn4PWekLAShjwDty60ffLyqNcWbv4Rmp0Pc+6xba7szMqpWSkfU5ZAjwH2FHic4HquoElAW2AfsBa4xxjjm1MWDnwcYrrD7LvgyC6nq3GeMfbLbdI5sPh/0OEKuDMezrvNtqoqokYdGDPdngsQPxXevwTSDrm3bqV8UFkCXYp4rvDxZYOB34CGQBdgkojU+tOKRG4RkXgRiffaCeoDguCKqYCB6TdCTpbTFTknaQt8cBl8dp2dMmHct7YtFV7/zNft5w8XPQmXvwX7Vtu++r5fz3y9SvmwsgR6AtCowONY7Ei8oHHATGNtBXYAbQqvyBgzxRgTZ4yJi46OrmjNzqvbDEZOtBfF+OHfTldT9TLSYN7j8FpP2Lsahv4XbvkZmvR0/7Y6XQU3fgfiB28PgTWfuX8bSvmIsgT6SuBsEWnm2tE5Cviy0DK7gYEAIlIfaA1sd2ehHqf9ZRB3IyyZCFvmOV1N1TAG1s2EST3gl5eg09X26JVzb614e6UsGnaBm3+yra6ZN8N3j0CO7+2iUepMlRroxphs4E7gO2AD8JkxZr2IjBeR8a7FngR6icha4AfgAWNMUmUV7TEG/wfqd4BZt0LqfqerqVyJm+D9kXZa4dAo+Os8uPQ1CKtXNdsPi4brZkOPm2HpJPjoSnuFKaVUPnHq6tlxcXEmPt4HLiKRuBmm9LOjx+tm296vL8k4Zi+gvex1CAq1s1DG3ejs77nqPfj671A7FkZ9DPULH0WrlO8SkVXGmLiiXtMzRc9UdCu4+HnYuQgWPu90Ne5jDKydbtsrS16BzqPhrtVwzs3Of2l1vx7GzYWsE/DWIHsSk1JKR+huYYxtu6z5FKLbQmx3iImD2Dj7uDL7y5Xh4B92MrJdi6FBFxj2gv1dPE3qPnsC095V0O8B6PegPetUKR9W0gjdy5LGQ4nA8BchqhXsXgYbv4ZfP7SvBYbanXox3W0oxsRB7cKH8XuI9FRY8Awsn2zP8hz+InS73vkReXFqNbRnon59n20LHVhrpzwO+dMRs0pVCzpCrwzGwOHtduSYEG8PbzywFnJcZzyGNzg94Bt2tae7O1nvms9g3qP2BJ7u18MFj0FopHM1lYcxsPwN+O5hiGwJoz+ByBZOV6VUpShphK6BXlWyM2yo5wV8Qjwc2WFfE78iWjVtqmZkfGCdba/sXgINu8Gw5+2XjTfasRA+ux5yc+z0vGcPcroipdxOA91THU+2o/i8gN+7CtJT7GtBYXbkXnAkX6uB+7Z9MgUWPA0r3oSQ2jBoAnS91vt70Ed2wbRr4OB6+zv1vse2xJTyERro3sIYezGI/IB3tWpyXSfR1Iop1KrpYg8lLI/cXFgzDeY9BseTIG6cPRSxZl23/zqOyTwOs++A9bOgw5Uw8hUIqul0VUq5he4U9RYiENXS3jqPss9lpcOBNae3aja4TtQVf6jX7vRWTVTr4kfZ+9fA3H/AnuV2+TGf278CfE1QKFz5DpzVyU7NkLTJHq8e0djpypSqVDpC90ZpiYVaNash46h9LSgcYrqeCviYODuh2I9P2ZkLa9SBQU9AlzHe314pi83fw4yb7KGjV71np+VVyotpy8XX5ebaC1kXbNUcXH+qVeMfZO/H/RUueMSGenWStNVezzR5m52n/Zybta+uvJYGenWUdRL2/+46mmYndLsOGnRyuirnpB+FmbfC5m+g61gY9j97SUGlvIz20KujwBrQ+Dx7U/ZInlEfw4L/2OucJm6Cqz9w75FDSjmsGjRRlXLx84ML/gVXv2+nN5jS3/4Fo5SP0EBX1U+7S+CmeRAYAu8MPTVNg1JeTgNdVU/129uLZjTpZY9Zn3t/9b6coPIJGuiq+qpZF8bMgJ53woo37PVRj/v+dVmU79JAV9WbfwAMfsrO0rhnBUwZYE/AUsoLaaArBfbM3Bu/BZMDUy+y0yAr5WU00JXKE9MNblkA4fVh1njIPOF0RUqViwa6UgWF1YORk+zUxj/+n9PVKFUuGuhKFdbsfOhxEyx7DXYvd7oapcpMA12pogx6Amo3gtm322kUlPICGuhKFSU4DEZOtJOe/fQfp6tRqkw00JUqTosB9iLZSyfpFAHKK2igK1WSi560F/WefYe92IhSHkwDXamShNSGERMhcSP8/KzT1ShVIg10pUpz9iDoMhZ+eRn2/ep0NUoVSwNdqbIY/JQ9Rv2LOyA70+lqlCqSBrpSZVEjAoa/BIfWw6Lnna5GqSJpoCtVVq2HQKe/wKIXdAIv5ZE00JUqjyHPQI269oQjnT9deRgNdKXKo2ZdGP4iHFgLi190uhqlTqOBrlR5tR0OHa6An/8LB9c7XY1S+TTQlaqIoc/ZY9S/uB1ysp2uRilAA12pigmNhGHPw/7fYMlEp6tRCvDSQDfGOF2CUtD+Mmg7EhY8DYc2Ol2NUt4X6L/vSWHoy4v4aPkujmfon7rKYcNegKAwO9dLbo7T1ahqrkyBLiJDRGSTiGwVkQeLWaa/iPwmIutF5Gf3lnlKelYOfiI8Mmsd5z39A/+e8wc7ko5X1uaUKllYPbj4OdgbD0tfdboaVc1Jae0LEfEHNgMXAgnASmC0MeaPAstEAEuAIcaY3SJSzxhzqKT1xsXFmfj4ik1Jaoxh9e4jvLdkF9+s209WjqFvq2iu79mE/q3r4e8nFVqvUhViDEwbA9t+gPG/QFRLpytSPkxEVhlj4op8rQyB3hOYYIwZ7Hr8EIAx5ukCy9wONDTG/KusRZ1JoBd06Fg601bs4aPluziYmkFsnRpce14Tro5rRJ3QoDNev1JlcuwAvHouRLeBcXPBz9/pipSPKinQy9JyiQH2FHic4HquoFZAHRFZICKrROS6Ygq5RUTiRSQ+MTGxLLWXql54CHcPPJvFD1zAa2O6ERNRg6e/2ch5T//APz//nXV7j7plO0qVKPwsexbpnmWw/A2nq1HVVEAZlimqf1F4WB8AdAcGAjWApSKyzBiz+bQ3GTMFmAJ2hF7+cosX6O/HxR0bcHHHBmw6cIz3l+5k1q97+XxVAl0bR3B9z6YM7XgWwQE6clKVpPMoWD8Lfvg3tBoMkS2crkhVM2UZoScAjQo8jgX2FbHMt8aY48aYJGAh0Nk9JZZf67PCeeqyjix7eCCPj2jH0RNZ/O3T3+j9zI88/90m9h/Vi/6qSiACI14C/yD48i7IzXW6IlXNlCXQVwJni0gzEQkCRgFfFlpmNnC+iASISE3gXGCDe0stv1ohgYzr3Yz59/Xj/RvPoUujOry6YCt9nv2J2z5cxZJtSXpMu3KvWg3t3Om7foH4qU5Xo6qZUlsuxphsEbkT+A7wB942xqwXkfGu1ycbYzaIyLfAGiAXeMsYs64yCy8PPz+hb6to+raKZs/hE3y4fBefrtzDN+sOcHa9MK7r1ZTLusYQFlyWDpRSpeg61rZe5j0OZ18IdZo6XZGqJko9yqWyuOsol4pKz8phzu/7eH/pLtbuPUpYcABXdo9l7HlNaFkvzLG6lI9I2QOv9YSYrnDdl7Ydo5QbnNFhi5XF6UDPY4zhtz0pvL90F1+v2U9mTi59WkZxXc8mDGxbX49pVxUX/w589Tc73W7cjU5Xo3yEBnoZJaVl8OnKPXy4bBf7j6YTE1GDMec15i9xjYgMC3a6POVtjIH3L4G9q+H2pRDRqPT3eBtjYMv3kHUSakZCaJT9WaMu+GsLszJooJdTdk4u8zcc4v2lO1myLZmgAD+Gd2rA9T2b0rlRhNPlKW9yZJdtvTQ+F8bO9K3Wy7GD9spNW+cX/XpIxKmArxllLw5y2uNIO2tl3uOgUN/6fCqJBvoZ2HLwGB8s28WMVQkcz8yhc6MIrjuvCcM6NSAkUI9pV2Ww4k2Y+w8YOQm6Xet0Ne6x6Vs7IVlmGlz4JDTtDSeS4XiS/Zl3K+pxbjGX7vMPdgV+3QKBn/cFEFnocRTUqFMt/wrQQHeDY+lZzFy9l/eX7mRb4nHqhgYxqkcjxpzXhJiIGk6XpzxZbi68NwIOrIHbl0Htwidae5Gsk/D9o7DyTajfEa54C+q1Kfv7jYGMY3AiCU4cLhD4rp/Hk//8OKO4s70FakQUP+IPjYLGPaFOE3f85h5DA92NjDEs2ZbMe0t2Mn/DQQAGta3PdT2b0rtlJKJ/MqqiJG+D13tDs/Phms+8s7VwYC3MuAkSN0LPO2HgYxBQBfuWsjPh5OFS/gIo9AVR8K+ARudCx6ug3aUQFl359VYyDfRKsjflJB8t28W0lXs4fDyTVvXDeOu6HjSOrOl0acoTLXsdvn0QLp0MXUY7XU3Z5ebC8tdh/gTb5rj0dWg50OmqimcMZKRC6n7YNBfWTodD60H8ocUAG+5thkFwuNOVVogGeiVLz8ph7tr9PDHnDxrUDmHm7b2oGVT9enuqFLm58M5QSNwAd6ywE3p5umMH4IvbYNuP0HoYjHzFtjW8zcH1NtjXToejuyEgBFoPteHeclDV/KXhJhroVWTh5kRueGcFQzs0YNI1XbX9ov4saStM7g0tLoBRH3t262Xj1zD7Tts3H/I0dL/Bs+stC2NgzwpY+zmsn2nbMyG1od0lNtyb9Pb4qY/PdPpcVUZ9W0Xz4NA2fL12P6//vM3pcpQnimoJAx451QrwRJknYM7fYNo1UDsWbl0IceO8P8zB/g6Nz7UX+P77JhgzA1oNhXUz7Y7rF9vDd4/Avl9t+HsZHaG7mTGGe6b9xpw1+3j7hh4MaF3P6ZKUp8nNgakXweFttvUS5kH/Rvb/DtP/CslboNfdcMG/vKodUWGZJ2Dzt/ZLdsv3dqdqZEs7au94lUdNhawtlyp2MjOHK15fwp4jJ/jyzj40iwp1uiTlaRI3weTz7bzpf/nA6Wpsf3/pJDuXe2gUXDYZmvd3uipnnDwCf3xp2zI7FwMGGna1wd7+cqjVwNHyNNAdkHDkBCMn/ULd0CC+uKO3zuSo/mzR/+CHJ+Cqd6H9Zc7VkboPZt0KOxZCm+F2x2fNus7V40lS99l2zNrPYf9vgNhDTzteBW1H2KN+qpgGukOWbEvi2qkrGNimHpPHdsdPJ/pSBeVkw9RBdmbGO5bbkXFV2zDHXowjO8NeQq/bdb7RK68MSVtcR8p8Boe32wuZnH0RdLwSWg2BwKo5wVAD3UHv/LKDJ+b8wb2DWnHPoLOdLkd5moN/wBt97WjvqneqbrsZafDdQ7D6fWjQBa6YanfYqtIZY3earp0O62ZA2gEICoe2w224N+tfqVMSlBTo2geoZDf0asq6vam8OH8z7RrW4sJ29Z0uSXmS+u2g3/3w01PQ4XIb7JVt72p7xufh7dDnXuj/MAQEVf52fYUIxHSzt4uetH32tZ/BH3Pg908gNNq20DpeBbE9qvQvHh2hV4H0rBz+8sZStiUe54s7etGynneeoaYqSU4WvDnAzl54x/LK61/n5sAvL9svj7D6cNkbth+s3CMrHbbOs/32Td9CTgZENLGj9o5XQb22btmMtlw8wP6jJxnxymLCQwL54o7e1K4R6HRJypMcWAtT+kOHK+DyKe5f/9EEmDUedi6yJ9EMf0l3fFam9FTY+JUN9+0LwORC/Q423DtcARGNK7xqPbHIAzSoXYPXx3Znz+ET/G3ar+Tket9JC6oSndURzv87rPkUNn3j3nWvnwWv97Ktlktehave0zCvbCG1oMs1cO0sewLT0P/anabzJ8BLHeGHJytlsxroVahH07pMGNmenzYl8uK8zU6XozzN+f+Aeu3tWZonj5z5+jKOwRd3wOc32JNkxi+yF7DWo1iqVlg9OPdWuGk+3P2bPVmraZ9K2ZQGehUbc25jRp/TiEk/bWXu2v1Ol6M8SUAQXPoqHE+0p5+fiYR4e+LSbx/ZL4obv/Oosx2rrbrNoO8/7ayPlUADvYqJCBNGtqdb4wj+8fnvbDyQ6nRJypM07Aq977FBvGVe+d+fmwMLn7NTC+Rmww1fw8BHwV/32VQHGugOCA7wZ/LY7oQFB3DL+6tIOZHpdEnKk/R/EKLbwJx7IL24q/UUIWU3vDscfvw/u+Nz/GJ7aThVbWigO6RerRAmX9udA0fTueuTX8nOyXW6JOUpAoLhktfg2H57ubeyWDsdXu9jj5a57A248m17eTZVrWigO6hb4zr836UdWLQliee+2+R0OcqTxHa3l3lb/Z69uERx0lNh5q0w468Q3cru+Ow8Snd8VlMa6A67ukcjruvZhDcWbmf2b3udLkd5kgEP26NTvrzbHrFS2J4VMLmPPUux3wMw7lu7001VWxroHuDR4e04p1ldHpixhnV7y9EzVb4tsIZtvRxNgHmPn3o+JxsWPAtvDwEMjPvGhn8lzh+ivIMGugcI9PfjtTHdqFMziFs/WEVyWobTJSlP0fhcOO92iJ9qp7c9shPevRgW/MeecTh+MTQ+z+kqlYfQQPcQUWHBTLk2jqS0DO78+FeydCepynPBv6Buc5h5iz22/NAGuPxNuOJNez1MpVw00D1Ix9jaPH15R5ZuT+Y/czc4XY7yFEE1YeQkSDtoJ3gavwg6Xe10VcoDadPNw1zeLZb1+1KZungH7RvW5srusU6XpDxB095w73o7S6KHX5VeOUdH6B7ooaFt6NUikodnreX3PSlOl6M8Ra2GGuaqRBroHijA349J13SjXngwt36wisRjupNUKVU6DXQPVTc0iCnXxpFyMpPbP1pFZrbuJFVKlUwD3YO1a1iL567szMqdR/j3V+udLkcp5eF0p6iHG9G5Iev3pTL55220b1ib0edU/EonSinfpiN0L/DPwa3p2yqax2avY9Wuw06Xo5TyUGUKdBEZIiKbRGSriDxYwnI9RCRHRK50X4nK30+YOKoLDSNqMP7D1RxMTXe6JKWUByo10EXEH3gVGAq0A0aLSLtilnsW+M7dRSqIqGl3kh7PyGb8h6vIyM5xuiSllIcpywj9HGCrMWa7MSYTmAZcUsRydwEzgENurE8V0PqscP53dWd+3Z3CY1+sxxi90LRS6pSyBHoMsKfA4wTXc/lEJAa4DJhc0opE5BYRiReR+MTExPLWqoAhHRpw1wUt+TR+Dx8u3+10OUopD1KWQC9qpvzCQ8OXgAeMMSX2AYwxU4wxccaYuOjo6DKWqAq7d1ArBrapxxNfrmfFDt1JqpSyyhLoCUCjAo9jgX2FlokDponITuBK4DURudQdBao/8/MTXhzVhcaRNbn9o1XsSznpdElKKQ9QlkBfCZwtIs1EJAgYBXxZcAFjTDNjTFNjTFNgOnC7MeYLdxerTqkVEsiUa+NIz8rl1g9WkZ6lO0mVqu5KDXRjTDZwJ/bolQ3AZ8aY9SIyXkTGV3aBqngt64Xx0l+6sHbvUR6etVZ3kipVzZXpTFFjzFxgbqHnitwBaoy54czLUmU1qF197ruwFf+bt5kODWtzYx+9pqRS1ZWeKeoD7hzQksHt6/PU3A0s2ZrkdDlKKYdooPsAPz/hhau70DwqlDs+Xs2ewyecLkkp5QANdB8RFhzAm9fFkZNruOWDVZzM1J2kSlU3Gug+pGlUKBNHd2XjgVTun7FGd5IqVc1ooPuY/q3rcf/gNsz5fR9TFm53uhylVBXSQPdB4/s1Z1inBjz77UZ+3qxTLChVXWig+yAR4bkrO9Gqfjh3fbyanUnHnS5JKVUFNNB9VM0gu5PUz0+45YN49h/V6QGU8nUa6D6sUd2avHpNN3Ymn2DA8wt44ftNpGVkO12WUqqSaKD7uN4to/jhvn5c1O4sXvlxK/2fW8DHy3eTnZPrdGlKKTfTQK8GGtWtycTRXZl1ey+aRdXk4VlruXjiIn7adEgPbVTKh2igVyNdG9fhs1t7MnlsNzKzcxn3zkqunbqCP/alOl2aUsoNNNCrGRFhSIcGfH9vPx4f0Y51+44y7JVF/PPz3/Xi00p5OXHqT+64uDgTHx/vyLbVKUdPZvHqT1t595ed+PsJN/dtzq19mxMaXKaJOJVSVUxEVhlj4op6TUfo1VztGoE8fHFbfvh7Pwa2rcfEH7bQ//kFTFuxm5xc7a8r5U000BVgd5xOuqYbM2/vReO6NXlw5loufnmRnmmqlBfRQFen6da4DtPH9+T1Md1Iz87h+rdXcO3U5Ww8oDtOlfJ0GujqT0SEoR0bMO/efjw6vB1rEo5y8cuLeGD6Gt1xqpQH052iqlQpJzKZ9ONW3lu6kwA/P27t15xb+janZpDuOFWqqulOUXVGImoG8a/h7Zh/Xz8uaFOPl+Zvof9zC/hs5R7dcaqUB9FAV2XWJDKUV8d0Y8ZtPYmtU4P7Z6xh2MRFLNqiO06V8gQa6Krcujepy4zbevHqNd04npnNtVNXcP3bK9h04JjTpSlVrWmgqwoREYZ1asD8+/rxr2Ft+XX3EYa+vJCHZq7h0DHdcaqUE3SnqHKLlBOZTPxhKx8s20mgvx/j+7XgpvOb6Y5TpdxMd4qqShdRM4jHRrRj3r396Ncqmv/N28yA5xfwebzuOFWqqmigK7dqGhXK62O7M318TxrUrsE/p69h+CuLWbwlyenSlPJ5GuiqUsQ1rcus23vxyuiuHEvPYuzU5Yx7ZwWbD+qOU6Uqiwa6qjQiwojODZl/Xz8evrgN8buOMOSlhTw8ay2JxzKcLk8pn6M7RVWVOXI8k5d/2MKHy3YRHGB3nF7ePZaYiBpOl6aU1yhpp6gGuqpyO5KO8+w3G/l2/QEAmkWF0rtlJH1aRtGzeRS1awY6XKFSnksDXXmkrYeOsXBzEr9sTWLZ9mSOZ+bgJ9AxNoI+LSPp3TKK7k3qEBzg73SpSnkMDXTl8bJycvltTwqLt9iA/3VPCjm5hpBAP85pFpkf8G3PqoWfnzhdrlKO0UBXXudYehbLtx9m8VYb8FsOpQFQNzSIXi0iOf/sKHq3jCK2Tk2HK1WqapUU6Hoan/JI4SGBDGpXn0Ht6gNwMDWdX7YmsXhLEou3JvHVmv0ANI2sSe+WUfRpGUWvFtp/V9WbjtCV1zHGsPVQWv7ofek2238XgU4xtfMDvluTOoQEav9d+RZtuSiflpWTy+97UvID/tfdKWS7+u89mtalT0vbnmnXQPvvyvtpoKtqJS0jm+Xbk/MDfvNB23+vUzOQXi2jON8V8I3qav9deZ8z7qGLyBDgZcAfeMsY80yh18cAD7gepgG3GWN+r3jJSlVcWHAAA9vWZ2Bb238/lJrOL9uSWLwlmcVbE/na1X9vclr/PZKImkFOlq3UGSt1hC4i/sBm4EIgAVgJjDbG/FFgmV7ABmPMEREZCkwwxpxb0np1hK6cYIxhW2Kaa+dqMsu2J5OWkY0IdHT133u3iKJzo9qEh+gOVuV5zqjlIiI9sQE92PX4IQBjzNPFLF8HWGeMiSlpvRroyhNk5eSyJiGFxVuS+WVrEqt3HyE71yBiz2DtGFM7/9Y+pjZhwXpgmHLWmbZcYoA9BR4nACWNvv8KfFNMIbcAtwA0bty4DJtWqnIF+vvRvUldujepyz2DzuZ4RjYrdx5mTcJR1u49yoodh5n92z6A/JDvFFObDhryygOV5V9iUYcFFDmsF5EB2EDvU9TrxpgpwBSwI/Qy1qhUlQkNDqB/63r0b10v/7nEYxms22sDfk3CUZZtP8wXBUK+uWsk3yGmNp1iI2jfsBahGvLKAWX5V5cANCrwOBbYV3ghEekEvAUMNcYku6c8pZwXHR7MgDb1GNDmzyGfN5IvLuQ7xkbYkbyGvKoCZemhB2B3ig4E9mJ3il5jjFlfYJnGwI/AdcaYJWXZsPbQla85dCzdjuQTUlm79yhr96ZwMNXO+y4CLaLD8kfyGvKqos6oh26MyRaRO4HvsIctvm2MWS8i412vTwYeAyKB10QEILu4DSrlq+qFh3BBmxAuaFM//7nTQz6FJduSmPXrXuD0kLej+dq0a6AhrypOTyxSqoodSk13jeCP5vfmC4/k83e8asirQnRyLqU8SL1aIQysFZJ/4hOcHvJrE46yeGsSM10jeb8CI/mz64fTIjqU5tFhNImsSaC/XkVSnaKBrpQHKCnk1yTYkfwv206FPECAn9A4sibNo8JoUS+UFtFhtIi2P/Ws1+pJA10pD1VUyKemZ7Ej8TjbEtPYlpjGdtf9hZsTyczJzV8uMjSI5tF5IR+Wfz+2Tg0CdFTvszTQlfIitUIC6dwogs6NIk57Pjsnl70pJ23QHzqeH/bz/jjItOOnzgsM8vejSWRNG/T1Ql2jexv4tXSqA6+nga6UDwjw96NJZChNIkO5oM3pr6WcyGRboVH95kPHmL/hINm5pw6KiA4Pzm/ZNC/QvomJqKHTDnsJDXSlfFxEzSC6Nwmie5M6pz2flZPL7sMn2HYojW2Jx9nuCvyv1uzn6Mms/OWCA/xoFhVKi3phtMj7GR1Gs6hQPfrGw+h/DaWqqUB/v/wee0HGGA4fPzWqt0F/nHV7j/LN2v0UGNTToHYIzaNDqRsaTFiwP2HBAYQGBxCWdwuxj8MLPR8aHEBQgPby3U0DXSl1GhEhMiyYyLBgzmlW97TXMrJz2JVsR/Xbk47n/9yXcpRj6dkcz8jmZFZOmbYTFOB3WsDb0PcnLCSQsGB/QoPsF0LBZQo+1i+HP9NAV0qVWXCAP63qh9Oqfnixy2Tn5HI8M4fjGdmk5d1cYX8sw/5MS88mLfPU82kZOaRlZJGUlsnO5BP57ynzl4O/n+uvAX/Cgl1fCMEBhAT4E+AvBPn7EejvR2CA2J/+fgT6F30/yLVcgJ/rses9AX6n7v/5/fZ9AfnPCa6z5quUBrpSyq0C/P2oXcOP2jXO/KiZor4c8r8QCjw+7YvC9eWQnJZJZnYuWTm5ZObYn9k5Jv9+Vo4hJ7fyzpQP9M/7UhCCAk4Ff4C/cM05jbnp/OZu36YGulLKY7nzy6EoubmGrFwb7lnZuaffd30RZOeYAl8KhuycvNfsctm5p+5nFfiyKO5+Zk4uUWHBlfL7aKArpaotPz8h2M+f4ACgcjK2SumeBKWU8hEa6Eop5SM00JVSykdooCullI/QQFdKKR+hga6UUj5CA10ppXyEBrpSSvkIxy4SLSKJwK4Kvj0KSHJjOe7iqXWB59amdZWP1lU+vlhXE2NMdFEvOBboZ0JE4ou76rWTPLUu8NzatK7y0brKp7rVpS0XpZTyERroSinlI7w10Kc4XUAxPLUu8NzatK7y0brKp1rV5ZU9dKWUUn/mrSN0pZRShWigK6WUj/C6QBeRISKySUS2isiDTtcDICJvi8ghEVnndC0FiUgjEflJRDaIyHoRucfpmgBEJEREVojI7666nnC6poJExF9EfhWRr5yuJY+I7BSRtSLym4jEO11PHhGJEJHpIrLR9e+spwfU1Nr1OeXdUkXkb07XBSAi97r+za8TkU9EJMSt6/emHrqI+AObgQuBBGAlMNoY84fDdfUF0oD3jTEdnKylIBFpADQwxqwWkXBgFXCpB3xeAoQaY9JEJBBYDNxjjFnmZF15ROQ+IA6oZYwZ7nQ9YAMdiDPGeNRJMiLyHrDIGPOWiAQBNY0xKQ6Xlc+VGXuBc40xFT2R0V21xGD/rbczxpwUkc+AucaYd921DW8boZ8DbDXGbDfGZALTgEscrgljzELgsNN1FGaM2W+MWe26fwzYAMQ4WxUYK831MNB184iRhYjEAsOAt5yuxdOJSC2gLzAVwBiT6Ulh7jIQ2OZ0mBcQANQQkQCgJrDPnSv3tkCPAfYUeJyABwSUNxCRpkBXYLnDpQD5bY3fgEPAPGOMR9QFvATcD+Q6XEdhBvheRFaJyC1OF+PSHEgE3nG1qN4SkVCniypkFPCJ00UAGGP2As8Du4H9wFFjzPfu3Ia3BboU8ZxHjOw8mYiEATOAvxljUp2uB8AYk2OM6QLEAueIiOOtKhEZDhwyxqxyupYi9DbGdAOGAne42nxOCwC6Aa8bY7oCxwGP2K8F4GoBjQQ+d7oWABGpg+0oNAMaAqEiMtad2/C2QE8AGhV4HIub/2TxNa4e9QzgI2PMTKfrKcz1J/oCYIizlQDQGxjp6ldPAy4QkQ+dLckyxuxz/TwEzMK2H52WACQU+OtqOjbgPcVQYLUx5qDThbgMAnYYYxKNMVnATKCXOzfgbYG+EjhbRJq5vn1HAV86XJPHcu18nApsMMb8z+l68ohItIhEuO7XwP5D3+hoUYAx5iFjTKwxpin239aPxhi3jqAqQkRCXTu1cbU0LgIcP6LKGHMA2CMirV1PDQQc3eFeyGg8pN3ishs4T0Rquv7fHIjdr+U2Ae5cWWUzxmSLyJ3Ad4A/8LYxZr3DZSEinwD9gSgRSQAeN8ZMdbYqwI44rwXWuvrVAA8bY+Y6VxIADYD3XEcg+AGfGWM85hBBD1QfmGUzgADgY2PMt86WlO8u4CPXAGs7MM7hegAQkZrYo+FudbqWPMaY5SIyHVgNZAO/4uYpALzqsEWllFLF87aWi1JKqWJooCullI/QQFdKKR+hga6UUj5CA10ppXyEBrpSSvkIDXSllPIR/w/RU2cd5dSl4QAAAABJRU5ErkJggg==\n",
      "text/plain": [
       "<Figure size 432x288 with 1 Axes>"
      ]
     },
     "metadata": {
      "needs_background": "light"
     },
     "output_type": "display_data"
    },
    {
     "data": {
      "image/png": "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\n",
      "text/plain": [
       "<Figure size 432x288 with 1 Axes>"
      ]
     },
     "metadata": {
      "needs_background": "light"
     },
     "output_type": "display_data"
    },
    {
=======
>>>>>>> updating results
     "name": "stdout",
     "output_type": "stream",
     "text": [
      "Found existing file, loading....\n",
      "Finished loading file\n",
      "Found existing file, loading....\n",
      "Finished loading file\n",
      "Ratio: 0.7\n",
      "Pos train: 189\n",
      "Neg train: 66\n",
      "Batch size: 15\n",
      "Randomizing training and test data..\n",
      "Reading in glove vector\n",
      "Finished reading glove vector\n"
     ]
    },
    {
     "name": "stderr",
     "output_type": "stream",
     "text": [
      "Training Epochs:   0%|          | 0/9 [00:00<?, ?it/s]"
     ]
<<<<<<< HEAD
    },
    {
     "name": "stdout",
     "output_type": "stream",
     "text": [
      "\n",
      "\n",
      "Training (0/9): {'precision': 0.7334401709401709, 'recall': 0.9789661319073084, 'f1': 0.8386013131775845, 'tp': 2746, 'tn': 22, 'fp': 998, 'fn': 59} Loss: 0.59095\n",
      "\n",
      "---------- EVALUATION ----------\n",
      "Document Accuracy: 0.0\n",
      "Soft Document Accuracy: 1.0\n",
      "Chunk Accuracy: 0.0522\n",
      "Loss: 1.0187818965354523\n",
      "precision: 0.0522344747533372\n",
      "recall: 1.0\n",
      "f1: 0.09928295642581357\n",
      "tp: 90\n",
      "tn: 0\n",
      "fp: 1633\n",
      "fn: 0\n"
     ]
    },
    {
     "name": "stderr",
     "output_type": "stream",
     "text": [
      "Training Epochs:  11%|█         | 1/9 [02:01<16:10, 121.37s/it]"
     ]
    },
    {
     "name": "stdout",
     "output_type": "stream",
     "text": [
      "\n",
      "\n",
      "Training (1/9): {'precision': 0.7726490825688074, 'recall': 0.9607843137254902, 'f1': 0.8565072302558399, 'tp': 2695, 'tn': 227, 'fp': 793, 'fn': 110} Loss: 0.46752\n",
      "\n",
      "---------- EVALUATION ----------\n",
      "Document Accuracy: 0.1299\n",
      "Soft Document Accuracy: 0.8246\n",
      "Chunk Accuracy: 0.6048\n",
      "Loss: 0.871150090322866\n",
      "precision: 0.09465020576131687\n",
      "recall: 0.7666666666666667\n",
      "f1: 0.1684981684981685\n",
      "tp: 69\n",
      "tn: 973\n",
      "fp: 660\n",
      "fn: 21\n"
     ]
    },
    {
     "name": "stderr",
     "output_type": "stream",
     "text": [
      "Training Epochs:  22%|██▏       | 2/9 [04:03<14:12, 121.80s/it]"
     ]
    },
    {
     "name": "stdout",
     "output_type": "stream",
     "text": [
      "\n",
      "\n",
      "Training (2/9): {'precision': 0.9012303485987696, 'recall': 0.9401069518716577, 'f1': 0.9202582446344442, 'tp': 2637, 'tn': 731, 'fp': 289, 'fn': 168} Loss: 0.35521\n",
      "\n",
      "---------- EVALUATION ----------\n",
      "Document Accuracy: 0.0909\n",
      "Soft Document Accuracy: 0.6842\n",
      "Chunk Accuracy: 0.6953\n",
      "Loss: 0.8148337548429315\n",
      "precision: 0.09796672828096119\n",
      "recall: 0.5888888888888889\n",
      "f1: 0.16798732171156894\n",
      "tp: 53\n",
      "tn: 1145\n",
      "fp: 488\n",
      "fn: 37\n"
     ]
    },
    {
     "name": "stderr",
     "output_type": "stream",
     "text": [
      "Training Epochs:  33%|███▎      | 3/9 [06:05<12:10, 121.82s/it]"
     ]
    },
    {
     "name": "stdout",
     "output_type": "stream",
     "text": [
      "\n",
      "\n",
      "Training (3/9): {'precision': 0.9539381153305204, 'recall': 0.9672014260249554, 'f1': 0.9605239865462915, 'tp': 2713, 'tn': 889, 'fp': 131, 'fn': 92} Loss: 0.26224\n",
      "\n",
      "---------- EVALUATION ----------\n",
      "Document Accuracy: 0.1688\n",
      "Soft Document Accuracy: 0.4912\n",
      "Chunk Accuracy: 0.8601\n",
      "Loss: 0.6933498065192978\n",
      "precision: 0.1703056768558952\n",
      "recall: 0.43333333333333335\n",
      "f1: 0.24451410658307207\n",
      "tp: 39\n",
      "tn: 1443\n",
      "fp: 190\n",
      "fn: 51\n"
     ]
    },
    {
     "name": "stderr",
     "output_type": "stream",
     "text": [
      "Training Epochs:  44%|████▍     | 4/9 [08:07<10:09, 121.93s/it]"
     ]
    },
    {
     "name": "stdout",
     "output_type": "stream",
     "text": [
      "\n",
      "\n",
      "Training (4/9): {'precision': 0.9799570508231925, 'recall': 0.9761140819964349, 'f1': 0.9780317913913198, 'tp': 2738, 'tn': 964, 'fp': 56, 'fn': 67} Loss: 0.21725\n",
      "\n",
      "---------- EVALUATION ----------\n",
      "Document Accuracy: 0.2078\n",
      "Soft Document Accuracy: 0.5614\n",
      "Chunk Accuracy: 0.8654\n",
      "Loss: 0.7425100199587933\n",
      "precision: 0.17727272727272728\n",
      "recall: 0.43333333333333335\n",
      "f1: 0.2516129032258065\n",
      "tp: 39\n",
      "tn: 1452\n",
      "fp: 181\n",
      "fn: 51\n"
     ]
    },
    {
     "name": "stderr",
     "output_type": "stream",
     "text": [
      "Training Epochs:  56%|█████▌    | 5/9 [10:09<08:07, 121.99s/it]"
     ]
    },
    {
     "name": "stdout",
     "output_type": "stream",
     "text": [
      "\n",
      "\n",
      "Training (5/9): {'precision': 0.9852571017619561, 'recall': 0.9768270944741533, 'f1': 0.9810239885427855, 'tp': 2740, 'tn': 979, 'fp': 41, 'fn': 65} Loss: 0.20335\n",
      "\n",
      "---------- EVALUATION ----------\n",
      "Document Accuracy: 0.1429\n",
      "Soft Document Accuracy: 0.5263\n",
      "Chunk Accuracy: 0.8462\n",
      "Loss: 0.7111361731182445\n",
      "precision: 0.1568627450980392\n",
      "recall: 0.4444444444444444\n",
      "f1: 0.23188405797101447\n",
      "tp: 40\n",
      "tn: 1418\n",
      "fp: 215\n",
      "fn: 50\n"
     ]
    },
    {
     "name": "stderr",
     "output_type": "stream",
     "text": [
      "Training Epochs:  67%|██████▋   | 6/9 [12:11<06:06, 122.01s/it]"
     ]
    },
    {
     "name": "stdout",
     "output_type": "stream",
     "text": [
      "\n",
      "\n",
      "Training (6/9): {'precision': 0.9931383170819791, 'recall': 0.9803921568627451, 'f1': 0.986724076067456, 'tp': 2750, 'tn': 1001, 'fp': 19, 'fn': 55} Loss: 0.18032\n",
      "\n",
      "---------- EVALUATION ----------\n",
      "Document Accuracy: 0.2208\n",
      "Soft Document Accuracy: 0.4561\n",
      "Chunk Accuracy: 0.8996\n",
      "Loss: 0.6661909478051322\n",
      "precision: 0.21768707482993196\n",
      "recall: 0.35555555555555557\n",
      "f1: 0.27004219409282704\n",
      "tp: 32\n",
      "tn: 1518\n",
      "fp: 115\n",
      "fn: 58\n"
     ]
    },
    {
     "name": "stderr",
     "output_type": "stream",
     "text": [
      "Training Epochs:  78%|███████▊  | 7/9 [14:13<04:04, 122.05s/it]"
     ]
    },
    {
     "name": "stdout",
     "output_type": "stream",
     "text": [
      "\n",
      "\n",
      "Training (7/9): {'precision': 0.9960303139660772, 'recall': 0.983957219251337, 'f1': 0.9899569583931134, 'tp': 2760, 'tn': 1009, 'fp': 11, 'fn': 45} Loss: 0.16236\n",
      "\n",
      "---------- EVALUATION ----------\n",
      "Document Accuracy: 0.2338\n",
      "Soft Document Accuracy: 0.3333\n",
      "Chunk Accuracy: 0.9292\n",
      "Loss: 0.5954493733195515\n",
      "precision: 0.2948717948717949\n",
      "recall: 0.25555555555555554\n",
      "f1: 0.2738095238095238\n",
      "tp: 23\n",
      "tn: 1578\n",
      "fp: 55\n",
      "fn: 67\n"
     ]
    },
    {
     "name": "stderr",
     "output_type": "stream",
     "text": [
      "Training Epochs:  89%|████████▉ | 8/9 [16:16<02:02, 122.24s/it]"
     ]
    },
    {
     "name": "stdout",
     "output_type": "stream",
     "text": [
      "\n",
      "\n",
      "Training (8/9): {'precision': 0.9989126495106923, 'recall': 0.9825311942959002, 'f1': 0.9906542056074766, 'tp': 2756, 'tn': 1017, 'fp': 3, 'fn': 49} Loss: 0.15327\n",
      "\n",
      "---------- EVALUATION ----------\n",
      "Document Accuracy: 0.1948\n",
      "Soft Document Accuracy: 0.4912\n",
      "Chunk Accuracy: 0.8967\n",
      "Loss: 0.7457804203807533\n",
      "precision: 0.21794871794871795\n",
      "recall: 0.37777777777777777\n",
      "f1: 0.2764227642276423\n",
      "tp: 34\n",
      "tn: 1511\n",
      "fp: 122\n",
      "fn: 56\n"
     ]
    },
    {
     "name": "stderr",
     "output_type": "stream",
     "text": [
      "Training Epochs: 100%|██████████| 9/9 [18:17<00:00, 121.98s/it]"
     ]
    },
    {
     "name": "stdout",
     "output_type": "stream",
     "text": [
      "Finished Training!\n"
     ]
    },
    {
     "name": "stderr",
     "output_type": "stream",
     "text": [
      "\n"
     ]
    },
    {
     "data": {
      "image/png": "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\n",
      "text/plain": [
       "<Figure size 432x288 with 1 Axes>"
      ]
     },
     "metadata": {
      "needs_background": "light"
     },
     "output_type": "display_data"
    },
    {
     "data": {
      "image/png": "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\n",
      "text/plain": [
       "<Figure size 432x288 with 1 Axes>"
      ]
     },
     "metadata": {
      "needs_background": "light"
     },
     "output_type": "display_data"
    },
    {
     "name": "stdout",
     "output_type": "stream",
     "text": [
      "Found existing file, loading....\n",
      "Finished loading file\n",
      "Found existing file, loading....\n",
      "Finished loading file\n",
      "Ratio: 0.5\n",
      "Pos train: 135\n",
      "Neg train: 120\n",
      "Batch size: 14\n",
      "Randomizing training and test data..\n",
      "Reading in glove vector\n",
      "Finished reading glove vector\n"
     ]
    },
    {
     "name": "stderr",
     "output_type": "stream",
     "text": [
      "Training Epochs:   0%|          | 0/9 [00:00<?, ?it/s]"
     ]
    },
    {
     "name": "stdout",
     "output_type": "stream",
     "text": [
      "\n",
      "\n",
      "Training (0/9): {'precision': 0.5717739498337866, 'recall': 0.9274509803921569, 'f1': 0.7074219480276687, 'tp': 1892, 'tn': 113, 'fp': 1417, 'fn': 148} Loss: 0.68749\n",
      "\n",
      "---------- EVALUATION ----------\n",
      "Document Accuracy: 0.0\n",
      "Soft Document Accuracy: 1.0\n",
      "Chunk Accuracy: 0.0548\n",
      "Loss: 0.8023272296050926\n",
      "precision: 0.05475504322766571\n",
      "recall: 1.0\n",
      "f1: 0.10382513661202186\n",
      "tp: 95\n",
      "tn: 0\n",
      "fp: 1640\n",
      "fn: 0\n"
     ]
    },
    {
     "name": "stderr",
     "output_type": "stream",
     "text": [
      "Training Epochs:  11%|█         | 1/9 [01:56<15:32, 116.58s/it]"
     ]
    },
    {
     "name": "stdout",
     "output_type": "stream",
     "text": [
      "\n",
      "\n",
      "Training (1/9): {'precision': 0.5714285714285714, 'recall': 1.0, 'f1': 0.7272727272727273, 'tp': 2040, 'tn': 0, 'fp': 1530, 'fn': 0} Loss: 0.66679\n",
      "\n",
      "---------- EVALUATION ----------\n",
      "Document Accuracy: 0.0\n",
      "Soft Document Accuracy: 1.0\n",
      "Chunk Accuracy: 0.0548\n",
      "Loss: 0.7438588645551112\n",
      "precision: 0.05475504322766571\n",
      "recall: 1.0\n",
      "f1: 0.10382513661202186\n",
      "tp: 95\n",
      "tn: 0\n",
      "fp: 1640\n",
      "fn: 0\n"
     ]
    },
    {
     "name": "stderr",
     "output_type": "stream",
     "text": [
      "Training Epochs:  22%|██▏       | 2/9 [03:51<13:28, 115.44s/it]"
     ]
    },
    {
     "name": "stdout",
     "output_type": "stream",
     "text": [
      "\n",
      "\n",
      "Training (2/9): {'precision': 0.6670278078728783, 'recall': 0.9053921568627451, 'f1': 0.7681430650862966, 'tp': 1847, 'tn': 608, 'fp': 922, 'fn': 193} Loss: 0.53373\n",
      "\n",
      "---------- EVALUATION ----------\n",
      "Document Accuracy: 0.1429\n",
      "Soft Document Accuracy: 0.7561\n",
      "Chunk Accuracy: 0.8075\n",
      "Loss: 0.7686490269450398\n",
      "precision: 0.1671309192200557\n",
      "recall: 0.631578947368421\n",
      "f1: 0.2643171806167401\n",
      "tp: 60\n",
      "tn: 1341\n",
      "fp: 299\n",
      "fn: 35\n"
     ]
    },
    {
     "name": "stderr",
     "output_type": "stream",
     "text": [
      "Training Epochs:  33%|███▎      | 3/9 [05:44<11:25, 114.33s/it]"
     ]
    },
    {
     "name": "stdout",
     "output_type": "stream",
     "text": [
      "\n",
      "\n",
      "Training (3/9): {'precision': 0.8869610935856993, 'recall': 0.8269607843137254, 'f1': 0.8559107052257737, 'tp': 1687, 'tn': 1315, 'fp': 215, 'fn': 353} Loss: 0.43814\n",
      "\n",
      "---------- EVALUATION ----------\n",
      "Document Accuracy: 0.2208\n",
      "Soft Document Accuracy: 0.6098\n",
      "Chunk Accuracy: 0.8755\n",
      "Loss: 0.7432278491459884\n",
      "precision: 0.2132701421800948\n",
      "recall: 0.47368421052631576\n",
      "f1: 0.29411764705882354\n",
      "tp: 45\n",
      "tn: 1474\n",
      "fp: 166\n",
      "fn: 50\n"
     ]
    },
    {
     "name": "stderr",
     "output_type": "stream",
     "text": [
      "Training Epochs:  44%|████▍     | 4/9 [07:38<09:31, 114.27s/it]"
     ]
    },
    {
     "name": "stdout",
     "output_type": "stream",
     "text": [
      "\n",
      "\n",
      "Training (4/9): {'precision': 0.9571830985915493, 'recall': 0.832843137254902, 'f1': 0.890694626474443, 'tp': 1699, 'tn': 1454, 'fp': 76, 'fn': 341} Loss: 0.4009\n",
      "\n",
      "---------- EVALUATION ----------\n",
      "Document Accuracy: 0.2208\n",
      "Soft Document Accuracy: 0.5122\n",
      "Chunk Accuracy: 0.8542\n",
      "Loss: 0.7229424327998967\n",
      "precision: 0.1762295081967213\n",
      "recall: 0.45263157894736844\n",
      "f1: 0.2536873156342183\n",
      "tp: 43\n",
      "tn: 1439\n",
      "fp: 201\n",
      "fn: 52\n"
     ]
    },
    {
     "name": "stderr",
     "output_type": "stream",
     "text": [
      "Training Epochs:  56%|█████▌    | 5/9 [09:31<07:34, 113.67s/it]"
     ]
    },
    {
     "name": "stdout",
     "output_type": "stream",
     "text": [
      "\n",
      "\n",
      "Training (5/9): {'precision': 0.9746397694524496, 'recall': 0.828921568627451, 'f1': 0.8958940397350994, 'tp': 1691, 'tn': 1486, 'fp': 44, 'fn': 349} Loss: 0.36769\n",
      "\n",
      "---------- EVALUATION ----------\n",
      "Document Accuracy: 0.2338\n",
      "Soft Document Accuracy: 0.4878\n",
      "Chunk Accuracy: 0.8738\n",
      "Loss: 0.7380417225422797\n",
      "precision: 0.19902912621359223\n",
      "recall: 0.43157894736842106\n",
      "f1: 0.2724252491694352\n",
      "tp: 41\n",
      "tn: 1475\n",
      "fp: 165\n",
      "fn: 54\n"
     ]
    },
    {
     "name": "stderr",
     "output_type": "stream",
     "text": [
      "Training Epochs:  67%|██████▋   | 6/9 [11:23<05:39, 113.31s/it]"
     ]
    },
    {
     "name": "stdout",
     "output_type": "stream",
     "text": [
      "\n",
      "\n",
      "Training (6/9): {'precision': 0.9813953488372092, 'recall': 0.8274509803921568, 'f1': 0.897872340425532, 'tp': 1688, 'tn': 1498, 'fp': 32, 'fn': 352} Loss: 0.3524\n",
      "\n",
      "---------- EVALUATION ----------\n",
      "Document Accuracy: 0.3377\n",
      "Soft Document Accuracy: 0.3659\n",
      "Chunk Accuracy: 0.9193\n",
      "Loss: 0.6368715182527319\n",
      "precision: 0.2857142857142857\n",
      "recall: 0.3157894736842105\n",
      "f1: 0.3\n",
      "tp: 30\n",
      "tn: 1565\n",
      "fp: 75\n",
      "fn: 65\n"
     ]
    },
    {
     "name": "stderr",
     "output_type": "stream",
     "text": [
      "Training Epochs:  78%|███████▊  | 7/9 [13:16<03:46, 113.04s/it]"
     ]
    },
    {
     "name": "stdout",
     "output_type": "stream",
     "text": [
      "\n",
      "\n",
      "Training (7/9): {'precision': 0.9923842999414177, 'recall': 0.8303921568627451, 'f1': 0.904190018681612, 'tp': 1694, 'tn': 1517, 'fp': 13, 'fn': 346} Loss: 0.33282\n",
      "\n",
      "---------- EVALUATION ----------\n",
      "Document Accuracy: 0.2468\n",
      "Soft Document Accuracy: 0.439\n",
      "Chunk Accuracy: 0.8963\n",
      "Loss: 0.6695787531214875\n",
      "precision: 0.22580645161290322\n",
      "recall: 0.3684210526315789\n",
      "f1: 0.28\n",
      "tp: 35\n",
      "tn: 1520\n",
      "fp: 120\n",
      "fn: 60\n"
     ]
    },
    {
     "name": "stderr",
     "output_type": "stream",
     "text": [
      "Training Epochs:  89%|████████▉ | 8/9 [15:07<01:52, 112.64s/it]"
     ]
    },
    {
     "name": "stdout",
     "output_type": "stream",
     "text": [
      "\n",
      "\n",
      "Training (8/9): {'precision': 0.9971542401821286, 'recall': 0.8588235294117647, 'f1': 0.922833816170661, 'tp': 1752, 'tn': 1525, 'fp': 5, 'fn': 288} Loss: 0.30584\n",
      "\n",
      "---------- EVALUATION ----------\n",
      "Document Accuracy: 0.2727\n",
      "Soft Document Accuracy: 0.3902\n",
      "Chunk Accuracy: 0.8939\n",
      "Loss: 0.6709660496804621\n",
      "precision: 0.2052980132450331\n",
      "recall: 0.3263157894736842\n",
      "f1: 0.25203252032520324\n",
      "tp: 31\n",
      "tn: 1520\n",
      "fp: 120\n",
      "fn: 64\n"
     ]
    },
    {
     "name": "stderr",
     "output_type": "stream",
     "text": [
      "Training Epochs: 100%|██████████| 9/9 [17:00<00:00, 113.34s/it]"
     ]
    },
    {
     "name": "stdout",
     "output_type": "stream",
     "text": [
      "Finished Training!\n"
     ]
    },
    {
     "name": "stderr",
     "output_type": "stream",
     "text": [
      "\n"
     ]
    },
    {
     "data": {
      "image/png": "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\n",
      "text/plain": [
       "<Figure size 432x288 with 1 Axes>"
      ]
     },
     "metadata": {
      "needs_background": "light"
     },
     "output_type": "display_data"
    },
    {
     "data": {
      "image/png": "iVBORw0KGgoAAAANSUhEUgAAAXQAAAEICAYAAABPgw/pAAAAOXRFWHRTb2Z0d2FyZQBNYXRwbG90bGliIHZlcnNpb24zLjMuNCwgaHR0cHM6Ly9tYXRwbG90bGliLm9yZy8QVMy6AAAACXBIWXMAAAsTAAALEwEAmpwYAAAibklEQVR4nO3deXxU9b3/8dcHwiL7FrZA2FHDIksM4NK6VlTE4qMLYKvSWmor/qDt9dZ669bVLvqzVdTLdV8A16q3xa22ahcFAqKALAIKBATigmyyJHzuH+cEx5CQSTKTM8v7+XjkYc6ckzmfGcM7n/nMd2bM3RERkfTXKOoCREQkMRToIiIZQoEuIpIhFOgiIhlCgS4ikiEU6CIiGUKBLrViZhPMbKOZ7TKz4VHXIyKfUaBnITM7ycz+bWafmNlHZvYvMzs+zh//PTDN3VsBH5uZm1nOEc51vZkdMLOd4ddqM7vNzLol5MakADPrXdP9EHPsJeGxX2uI2iS7KNCzjJm1Af4M3Ap0APKAG4B9cV5FL2B5LU/7iLu3Ds83AegKLMqkUK+Fi4GPwv82mHj+2Ej6U6Bnn4EA7j7H3cvd/VN3f8Hd3wIws0Zm9lMzW29m28zsATNra2bNzGwX0Bh408zWAq+G17k9HMGMOdKJ3f2Auy8Hvg6UAj+q2Gdm3zGzNeEjhmfMrHvMvkFm9mK4b6uZXR1efp+Z/SLmuFPMrCRm+z0zu9LM3jKz3WZ2t5l1MbNnw0cLfzWz9jHHjw4fuWw3szfN7JSYfS+b2c/DRzM7zewFM+sU7o7rfjCzXsAXganAWWbWJWZfYzO72szWhte/yMx6JuD2/9jM3gJ2m1mOmV0Vc463zWxCpRq/Y2YrYvaPCO/DJyodd6uZ3VLV7ZQIubu+sugLaAN8CNwPnA20r7T/W8AaoC/QCngSeDBmvwP9w+97h9s5Rzjf9cBDVVz+M2B++P1pwAfACKAZwaOHV8N9rYH3CcK/ebg9Ktx3H/CLmOs8BSiJ2X4PeB3oQvBIZBuwGBgenudvwHXhsXnh/XIOQaNzZridG+5/GVhL8AfxqHD7xnjvh/C4a4AF4fdLgR/G7LsyvOxowIDjgI4JuP1LgJ7AUeFlXwW6h7fx68BuoFvMvk3A8WEN/QkekXULj2sXHpcT3pcjo/591tfnv9ShZxl33wGcRBBA/wOUhh1xRbd4IXCzu69z913AT4CJSXjIvplgBFNxznvcfbG77wvPOcbMegPjgC3ufpO773X3ne4+vxbnudXdt7r7JuAfBH9E3gjP8yeCcAf4BjDP3ee5+0F3fxEoJgj4Cve6+2p3/xR4FBhWy9t8ETA7/H42nx+7XAr81N1XeeBNd/+Q+t/+P7r7xrBm3P0xd98c3sZHgHeAopgafuvuC8Ma1rj7end/n+BRyFfD48YCH7j7olrefkkyBXoWcvcV7n6Ju/cABhN0bLeEu7sD62MOX0/QkXUhsfIIZsmHnTP8Q/JheExPgs64rrbGfP9pFdutwu97AV8Nxy3bzWw7wR++2Dn/lpjv98T8bI3M7ESgDzA3vGg2MMTMhoXb1d3O+t7+jZXquMjMlsTcxsFAxejoSOe6n+CPHuF/H6xHTZIkCvQs5+4rCR66Dw4v2kwQbhXygTI+H4SHfrwu5zSzRsB5BB3zYec0s5YE44ZNBIHUr5qr2g20iNnuWpd6QhsJRkvtYr5auvuNcfxsPPfDxQRjjCVmtgWo6LIvijl/Vbezvrf/UG3hDP9/gGlAR3dvBywL66rpXE8BQ81sMMGjhoerOU4ipEDPMmZ2jJn9yMx6hNs9gUkEs2aAOcAPzKyPmbUCfkWwSqWsiqsrBQ4SzNvjOXcTMzs2PEdX4OZw12xgipkNM7Nm4Tnnu/t7BCtyuprZjPCJ2dZmNir8uSXAOWbWwcy6AjPivycO8xBwnpmdFT5B2Tx8krFHHD97xPvBzJoDXyN4MnRYzNcVwIXhOOsu4OdmNsACQ82sI4m9/S0JAr40rGsKn/0hJ6zhP8xsZFhD//CPAO6+F3ic4P/VAnffEMf9Ig1MgZ59dgKjgPlmtpsgyJfx2YqTewgeTr8KvAvsJQiew7j7HuCXwL/Ch/Cjqznn1y1YIbMdeIZgnDLS3TeH1/MSwROGTxA8AdgPmBju20nwBOV5BCOPd4BTw+t9EHiT4Mm/F4BHanVPfP62bATOB64mCLyNBE9U1vhvJI774csE450H3H1LxRdwN8GqobEEf9weDW/HjnDfUYm8/e7+NnAT8BrBI64hwL9i9j8W3o7ZBL8nT/HZ8xwQjF2GoHFLyjJ3fcCFiNTMzPKBlUDX8Ml1STHq0EWkRuHzHj8E5irMU5dePSYiRxQ+Sb2VYCXS2IjLkSPQyEVEJENo5CIikiEiG7l06tTJe/fuHdXpRUTS0qJFiz5w99yq9kUW6L1796a4uDiq04uIpCUzW1/dPo1cREQyhAJdRCRDKNBFRDKEAl1EJEMo0EVEMkSNgW5m91jwUWTLqtlvZvZHCz4+7C0zG5H4MkVEpCbxdOj3ceSX+54NDAi/pgJ31L8sERGprRrXobv7q+FHgVXnfIK3BXXgdTNrZ2bdwo+tSrhVW3byl7c2J+Oq661FsxymnNibZjmNoy5FRLJQIl5YlMfnP+aqJLzssEA3s6kEXTz5+fl1Otmabbu49e9r6vSzyeYOzXIaMeXEPlGXIiJZKBGBblVcVuU7frn7LGAWQGFhYZ3eFezcod04d+i5dfnRpJs46zXueHktk4ryad5EXbqINKxErHIpIfhw2Qo9CD4jMutMP30g23buY84CfTqXiDS8RAT6M8BF4WqX0cAnyZqfp7ox/Toyum8H7nh5LXsPlEddjohkmXiWLc4h+AzCo82sxMy+bWaXmdll4SHzgHXAGoJPFP9+0qpNA+rSRSQq8axymVTDfgcuT1hFaS62S9csXUQakl4pmgTq0kUkCgr0JNAsXUSioEBPEnXpItLQFOhJoi5dRBqaAj2JKrr02fPVpYtI8inQk+hQl/6KunQRST4FepLNOGMgperSRaQBKNCTbHTfjozp21FduogknQK9AUw/Y4C6dBFJOgV6A1CXLiINQYHeQNSli0iyKdAbiLp0EUk2BXoDUpcuIsmkQG9A6tJFJJkU6A2sokt/WF26iCSYAr2BVXTpd6pLF5EEU6BHYIa6dBFJAgV6BEb17cgJ/dSli0hiKdAjMv10dekiklgK9IioSxeRRFOgR0hduogkkgI9QurSRSSR4gp0MxtrZqvMbI2ZXVXF/vZm9icze8vMFpjZ4MSXmpnUpYtIotQY6GbWGJgJnA0UAJPMrKDSYVcDS9x9KHAR8IdEF5qp1KWLSKLE06EXAWvcfZ277wfmAudXOqYAeAnA3VcCvc2sS0IrzWAVXfpDr6+PuhQRSWPxBHoesDFmuyS8LNabwAUAZlYE9AJ6VL4iM5tqZsVmVlxaWlq3ijPQZ136Oj7dry5dROomnkC3Ki7zSts3Au3NbAlwBfAGUHbYD7nPcvdCdy/Mzc2tba0ZbcYZA/lg1z4enq8uXUTqJp5ALwF6xmz3ADbHHuDuO9x9irsPI5ih5wLvJqrIbFDUpwMn9leXLiJ1F0+gLwQGmFkfM2sKTASeiT3AzNqF+wAuBV519x2JLTXzTT9dXbqI1F2Nge7uZcA04HlgBfCouy83s8vM7LLwsGOB5Wa2kmA1zPRkFZzJ1KWLSH3EtQ7d3ee5+0B37+fuvwwvu9Pd7wy/f83dB7j7Me5+gbt/nMyiM5m6dBGpK71SNMWoSxeRulKgpyB16SJSFwr0FKQuXUTqQoGeotSli0htKdBT1Gdd+lp16SISFwV6CgtePbpfXbqIxEWBnsKO792Bk/p3UpcuInFRoKe46WcMUJcuInFRoKc4dekiEi8FehpQly4i8VCgpwF16SISDwV6mlCXLiI1UaCnCXXpIlITBXoaqejS9dmjIlIVBXoaqejS//vVtezZf9gn/IlIllOgp5kZFbP01zdEXYqIpBgFepop7N2BkweoSxeRwynQ09D009Wli8jhFOhpSF26iFRFgZ6m1KWLSGUK9DSlLl1EKlOgpzF16SISK65AN7OxZrbKzNaY2VVV7G9rZv9rZm+a2XIzm5L4UqUydekiEqvGQDezxsBM4GygAJhkZgWVDrsceNvdjwNOAW4ys6YJrlWqUNGl69WjIhJPh14ErHH3de6+H5gLnF/pGAdam5kBrYCPALWMDeBQl/7KOnXpIlkunkDPAzbGbJeEl8W6DTgW2AwsBaa7+8GEVCg1mnHGAD7crS5dJNvFE+hWxWVeafssYAnQHRgG3GZmbQ67IrOpZlZsZsWlpaW1LFWqM7KXunQRiS/QS4CeMds9CDrxWFOAJz2wBngXOKbyFbn7LHcvdPfC3NzcutYsVVCXLiLxBPpCYICZ9Qmf6JwIPFPpmA3A6QBm1gU4GliXyELlyNSli0iNge7uZcA04HlgBfCouy83s8vM7LLwsJ8DJ5jZUuAl4Mfu/kGyipaqqUsXyW458Rzk7vOAeZUuuzPm+83AlxJbmtRWbJf+jdG9aNE0rv+9IpIh9ErRDKMuXSR7KdAzjGbpItlLgZ6BKrr0B19Tly6STRToGehQl/6qunSRbKJAz1AzzhjIR+rSRbKKAj1DjezVni8MzFWXLpJFFOgZbPrpA9Sli2QRBXoGi+3Sd+9Tly6S6RToGe4HZwzg4z37ufLxNzl4sPJ7qolIJlGgZ7jh+e25+uxjmbd0C7e89E7U5YhIEum14Vng0pP7sHrrTv740jv079yK8cd1j7okEUkCdehZwMz4xYTBFPXuwJWPvcmSjdujLklEkkCBniWa5TTmjm+MoHObZnzngWLe/+TTqEsSkQRToGeRjq2acffFx/Pp/nIuvb9Y69NFMowCPcsM7NKaWycNZ8X7O/jRo1r5IpJJFOhZ6NRjOnP1Ocfy7LIt/P+/ro66HBFJEK1yyVLfPqkP72zdxa1/W0P/zq04f1he1CWJSD2pQ89SZsbPvzyYoj4duPLxt3hjw8dRlyQi9aRAz2JNcxpx5zdG0qVNM6Y+uIjN27XyRSSdKdCzXIeWTbnn4uPZq5UvImlPgS4M6NKaP04ezsotO/jhI1r5IpKuFOgCwKlHd+a/zi3gueVbuPlFrXwRSUda5SKHfOvE3ryzdSe3/T1Y+fLl4Vr5IpJO4urQzWysma0yszVmdlUV+680syXh1zIzKzezDokvV5LJzPjZ+YMZ1acD//nEWyzWyheRtFJjoJtZY2AmcDZQAEwys4LYY9z9d+4+zN2HAT8BXnH3j5JQryRZxcqXrm2aM/WBRWzSyheRtBFPh14ErHH3de6+H5gLnH+E4ycBcxJRnESjfcum3H1xIfsOBCtf9GlHIukhnkDPAzbGbJeElx3GzFoAY4Enqtk/1cyKzay4tLS0trVKAxrQpTW3Th7Oqi07+MEjS7TyRSQNxBPoVsVl1f3rPg/4V3XjFnef5e6F7l6Ym5sbb40SkVOO7sxPzy3ghbe3ctOLq6IuR0RqEM8qlxKgZ8x2D2BzNcdOROOWjDLlxN68s20XM/++lv6dWzFheI+oSxKRasTToS8EBphZHzNrShDaz1Q+yMzaAl8Enk5siRKlYOXLIEb37cCPH1/KovVa+SKSqmoMdHcvA6YBzwMrgEfdfbmZXWZml8UcOgF4wd13J6dUiUqTxo2448KRdGvXnO8+WEzJx3uiLklEqmDu0TzZVVhY6MXFxZGcW+pmzbadTJj5b/LaH8UT3zuBls30ujSRhmZmi9y9sKp9eum/xK1/59bcduEIVm/dyQytfBFJOQp0qZUvDszlmnEFvPj2Vn73gla+iKQSPWaWWrvkhGDlyx0vr2VA51ZcMEIrX0RSgTp0qTUz44bxgzihX0euemIpi9brXR5EUoECXeqkSeNG3H7hCLq3a853H1yklS8iKUCBLnXWrkVT7rr4ePaVHeTS+4vZpfd8EYmUAl3qpX/nVsycPIJ3tu1ixlytfBGJkgJd6u0LA3O5dlwBf12xld8+r5UvIlHRKhdJiIvG9GL11p3c+Urwni9fGamVLyINTR26JISZcX248uXqJ5dS/J5Wvog0NAW6JEzFype89kfx3QcXsfEjrXwRaUgKdEmoYOVLIQfKD/KdB7TyRaQhKdAl4frltmLmhcHKl+lz3qBcK19EGoQCXZLi5AG5XHdeAS+t3MZvn1sZdTkiWUGrXCRpLhrTm3e27uK/X11H/86t+Gphz5p/SETqTB26JNW15xVwYv+OXP2npSzUyheRpFKgS1I1adyI2yePpGf7Flr5IpJkCnRJurYtmnDXxYWUles9X0SSSYEuDaJvbituv3Aka0q18kUkWRTo0mBOGtCJ68cP4qWV2/iNVr6IJJxWuUiD+uboXryzdSezwpUvX9PKF5GEUaBLg7t2XAHrSnfzX39aSqtmOZwzpFvUJYlkhLhGLmY21sxWmdkaM7uqmmNOMbMlZrbczF5JbJmSSXIaN2Lm5BEMzmvL9x9ezG+fW6mZukgC1BjoZtYYmAmcDRQAk8ysoNIx7YDbgfHuPgj4auJLlUzStkUT5k4dzaSintz+8lq+dd9CPtlzIOqyRNJaPB16EbDG3de5+35gLnB+pWMmA0+6+wYAd9+W2DIlEzXLacyvLxjKryYM4d9rP2D8zH+yasvOqMsSSVvxBHoesDFmuyS8LNZAoL2ZvWxmi8zsoqquyMymmlmxmRWXlpbWrWLJOJNH5TN36mj27C9nwu3/Yt7S96MuSSQtxRPoVsVllQeeOcBI4FzgLOAaMxt42A+5z3L3QncvzM3NrXWxkrlG9urAn684iaO7ttZcXaSO4gn0EiB2bVkPYHMVxzzn7rvd/QPgVeC4xJQo2aJLm+aaq4vUQzyBvhAYYGZ9zKwpMBF4ptIxTwMnm1mOmbUARgErEluqZAPN1UXqrsZAd/cyYBrwPEFIP+ruy83sMjO7LDxmBfAc8BawALjL3Zclr2zJdJqri9SeuUczpywsLPTi4uJIzi3pY+uOvXzvoUUs3rCd75/Sjx996WgaN6rqaR2R7GBmi9y9sKp9ei8XSWld2jRnztTRTCrK11xdpAYKdEl5wVx9yKG5+nm3/ZOVW3ZEXZZIylGgS9oI5upj2HugnAtu/zd/eUtzdZFYCnRJKyN7ted/rziJY7q25vLZi/mN1quLHKJAl7QTO1e/4+W1TLlvIdv37I+6LJHIKdAlLcXO1V9b+wHjb/uX5uqS9RToktY0Vxf5jAJd0p7m6iIBBbpkhOB9YMYweZTm6pK9FOiSMZrmNOJXE4bw6ws0V5fspECXjDOpSHN1yU4KdMlII3u1589XnMSx3dpw+ezF3Pis5uqS+RTokrE6t2nOnO+MZvKofO58RXN1yXwKdMlomqtLNlGgS1aInatPmPlv/vxW5Q/dEkl/CnTJGhVz9YLubZg2+w3N1SXjKNAlq1TM1S/UXF0ykAJdsk7TnEb8csIQbrxgCK+v/VBzdckYCnTJWhOL8pn73dGaq0vGUKBLVhuRr7m6ZA4FumS9ynP1S+5dwCurS/lot2brkl5yoi5AJBVUzNWH5LXl2meW8493PgAgr91RDM5rw5C8tgzp0Y4heW3p0LJpxNWKVC2uQDezscAfgMbAXe5+Y6X9pwBPA++GFz3p7j9LXJkiDWNiUT7nDO3Gsk2fsGzTJyzdtINlmz7h+eVbDx0TG/KD89oyJK8tHVs1i7BqkUCNgW5mjYGZwJlACbDQzJ5x97crHfoPdx+XhBpFGlSb5k04oV8nTujX6dBlO/YeUMhLyounQy8C1rj7OgAzmwucD1QOdJGMVV3IL9+0g6WbtivkJSXEE+h5wMaY7RJgVBXHjTGzN4HNwH+4+/LKB5jZVGAqQH5+fu2rFUkhbZo3YUy/jozp1/HQZQp5iVI8gW5VXFZ5XddioJe77zKzc4CngAGH/ZD7LGAWQGFhodaGScapS8h3b9ucIT3aKuSl3uIJ9BKgZ8x2D4Iu/BB33xHz/Twzu93MOrn7B4kpUyR9HSnkl236hLfC2bxCXuornkBfCAwwsz7AJmAiMDn2ADPrCmx1dzezIoL17R8muliRTFGXkM9rdxTXjx/EmQVdoihZ0kCNge7uZWY2DXieYNniPe6+3MwuC/ffCXwF+J6ZlQGfAhPdXSMVkVqoKeSfWrKJ7z20iJkXjuCsQV0jrFRSlUWVu4WFhV5cXBzJuUXS0c69B7jongUsLflEoZ7FzGyRuxdWtU8v/RdJE62bN+GBbxUxpEdbLn94Mc8t2xJ1SZJiFOgiaSQ21KfNVqjL5ynQRdJMRagPVahLJQp0kTTUunkT7v9cqL8fdUmSAhToImnq86H+hkJdFOgi6awi1I/r2U6hLgp0kXTXunkT7pty/KFQf3apQj1bKdBFMkBsqF8xR6GerRToIhkidvyiUM9OCnSRDNKqWc5nM3WFetZRoItkmIpQH6ZQzzoKdJEMpFDPTgp0kQxVEerDszDUP9y1j1v+uprHijfy6f7yqMtpMHq3RZEMt2tfGZfcs4A3Nm7n1knDOWdIt6hLSpryg87sBRv4/fOr+OTTAwC0bp7DBcPzmDQqn2O6tom4wvo70rstxvMBFyKSxlo1y+G+bxVxyT0LuGLOGwAZGeqLN3zMtU8vY9mmHYzp25Ebzh/E9j0HmLNgA3MWbuT+19YzPL8dk4vyGTe0O0c1bRx1yQmnDl0kS+zaV8aUexeweENmdeof7trHb55byaPFJXRp04yfnlvAuKHdMPvs45A/3r2fJ9/YxOz561lbujutu/YjdegKdJEsEhvqf5w4nHOHpm+olx90Zs9fz++eX8We/eV8+6Q+XHH6AFo1q37w4O4sfO9j5izYwF+Wvs/+soNp17Ur0EXkkEwI9UXrg/HK8s07OLF/R24YP4j+nVvX6jqq6tonDM9jcop37Qp0EfmcdA31D3bt4zfPruSxRSV0bdOca8YVcM6Qrp8br9RWdV37pKJ8zkvBrl2BLiKHiQ31P0wcxrih3aMuqVpl5Qd5eP4GbnphFZ8eKOfbJ/XlitP60/II45W6qK5rn1SUz7HdUqNrV6CLSJV27yvjkhQP9eL3PuKap5ez4v0dnNS/E9ePH0T/zq2Ses4jde3jhnajRdPoFggq0EWkWqka6qU793Hjsyt5YnEJ3doG45WzB9dvvFIXh3XtzXKYMCK6rr3egW5mY4E/AI2Bu9z9xmqOOx54Hfi6uz9+pOtUoIukjt37yphy70IWbfiYW74+jPOOiy7Uy8oP8tDr67npxdXsPVDOpSf3ZdqpiR+v1FZVXfuwnu2YPKphu/Z6BbqZNQZWA2cCJcBCYJK7v13FcS8Ce4F7FOgi6SUVQn3hex9xzVPLWLllJycPCMYr/XKTO16pi6q69i+HK2SS3bXXN9DHANe7+1nh9k8A3P3XlY6bARwAjgf+rEAXST9RhXrpzn38+tkVPLl4E93D8crYCMYrtRVF117fQP8KMNbdLw23vwmMcvdpMcfkAbOB04C7qSbQzWwqMBUgPz9/5Pr16+t2i0QkaRoy1MvKD/Lg6+u5+YXV7C0r5zsn92Xaaf0jfdKxrrbv2c8TizcxZ8EG1mzbdahrn1SUT0H3xHXt9X0vl6r+RFb+K3AL8GN3Lz/SX1R3nwXMgqBDj+PcItLAWjbL4d4pxzPlvoVMnxu890syQn3Bux9x7dOfjVduGD+Ivik4XolXuxZN+fZJffjWib0Pde2PFG/kwdfXB117UT7jjkvurD0hIxcze5fPgr8TsAeY6u5PVXe9GrmIpLbd+8qYct9Cit/7iD9MHJ6wUN+2cy83zlvJk29sIq/dUVwz7ljOGpT645W6qK5rv3B03V+NWt8OfSEwwMz6AJuAicDk2APcvU/Mye4jGLk8VadqRSQltGyWw72XfNapOzC+HqFeVn6Q+19bzy0vrmZf2UGmndqfy0/tn3KvxEyk6rr21s1zOGZs4p88rTHQ3b3MzKYBzxMsW7zH3Zeb2WXh/jsTXpWIpITYUJ8Rjl/qEurz133Idc8sZ+WWnXxhYC43jB9En04tE11uyjIzivp0oKhPB647r4CDSRo464VFIlKjPfvLuOTeYPxyy8ThcYf6th17+dW8FTy1ZHM4XingrEFdMnK80lD0ARciUi8tmuZw35TjueTeoFN3d84fllft8QfKD3L/v9/jlr++w/6yg1xxWn++f0pmj1dSgQJdROISG+o/eGQJQJWhPn/dh1z79HJWbd3JKUfnct152TVeiZICXUTiVhHqU6oI9a3heOXpcLwy65sjObNA45WGpEAXkVpp0TRcpx6Gelm58/Ge/cF4pfwg/++0/nxP45VIKNBFpNZiQ/1Hj70JwKnheKW3xiuRUaCLSJ1UhPrNL6xmVN+OnHFsZ41XIqZAF5E6a9E0h5+OK4i6DAk1iroAERFJDAW6iEiGUKCLiGQIBbqISIZQoIuIZAgFuohIhlCgi4hkCAW6iEiGiOz90M2sFKjrp0R3Aj5IYDmJkqp1QerWprpqR3XVTibW1cvdc6vaEVmg14eZFVf3Bu9RStW6IHVrU121o7pqJ9vq0shFRCRDKNBFRDJEugb6rKgLqEaq1gWpW5vqqh3VVTtZVVdaztBFRORw6dqhi4hIJQp0EZEMkXaBbmZjzWyVma0xs6uirgfAzO4xs21mtizqWmKZWU8z+7uZrTCz5WY2PeqaAMysuZktMLM3w7puiLqmWGbW2MzeMLM/R11LBTN7z8yWmtkSMyuOup4KZtbOzB43s5Xh79mYFKjp6PB+qvjaYWYzoq4LwMx+EP7OLzOzOWbWPKHXn04zdDNrDKwGzgRKgIXAJHd/O+K6vgDsAh5w98FR1hLLzLoB3dx9sZm1BhYBX06B+8uAlu6+y8yaAP8Eprv761HWVcHMfggUAm3cfVzU9UAQ6EChu6fUi2TM7H7gH+5+l5k1BVq4+/aIyzokzIxNwCh3r+sLGRNVSx7B73qBu39qZo8C89z9vkSdI9069CJgjbuvc/f9wFzg/Ihrwt1fBT6Kuo7K3P19d18cfr8TWAHkRVsVeGBXuNkk/EqJzsLMegDnAndFXUuqM7M2wBeAuwHcfX8qhXnodGBt1GEeIwc4ysxygBbA5kReeboFeh6wMWa7hBQIqHRgZr2B4cD8iEsBDo01lgDbgBfdPSXqAm4B/hM4GHEdlTnwgpktMrOpURcT6guUAveGI6q7zKxl1EVVMhGYE3URAO6+Cfg9sAF4H/jE3V9I5DnSLdCr+kjxlOjsUpmZtQKeAGa4+46o6wFw93J3Hwb0AIrMLPJRlZmNA7a5+6Koa6nCie4+AjgbuDwc80UtBxgB3OHuw4HdQEo8rwUQjoDGA49FXQuAmbUnmCj0AboDLc3sG4k8R7oFegnQM2a7Bwl+yJJpwhn1E8DD7v5k1PVUFj5EfxkYG20lAJwIjA/n1XOB08zsoWhLCrj75vC/24A/EYwfo1YClMQ8unqcIOBTxdnAYnffGnUhoTOAd9291N0PAE8CJyTyBOkW6AuBAWbWJ/zrOxF4JuKaUlb45OPdwAp3vznqeiqYWa6ZtQu/P4rgF31lpEUB7v4Td+/h7r0Jfrf+5u4J7aDqwsxahk9qE440vgREvqLK3bcAG83s6PCi04FIn3CvZBIpMm4JbQBGm1mL8N/m6QTPayVMTiKvLNncvczMpgHPA42Be9x9ecRlYWZzgFOATmZWAlzn7ndHWxUQdJzfBJaG82qAq919XnQlAdANuD9cgdAIeNTdU2aJYArqAvwpyABygNnu/ly0JR1yBfBw2GCtA6ZEXA8AZtaCYDXcd6OupYK7zzezx4HFQBnwBgl+C4C0WrYoIiLVS7eRi4iIVEOBLiKSIRToIiIZQoEuIpIhFOgiIhlCgS4ikiEU6CIiGeL/ACdJsJd7fA2JAAAAAElFTkSuQmCC\n",
      "text/plain": [
       "<Figure size 432x288 with 1 Axes>"
      ]
     },
     "metadata": {
      "needs_background": "light"
     },
     "output_type": "display_data"
    },
    {
     "name": "stdout",
     "output_type": "stream",
     "text": [
      "Found existing file, loading....\n",
      "Finished loading file\n",
      "Found existing file, loading....\n",
      "Finished loading file\n",
      "Ratio: 0.5\n",
      "Pos train: 126\n",
      "Neg train: 129\n",
      "Batch size: 14\n",
      "Randomizing training and test data..\n",
      "Reading in glove vector\n",
      "Finished reading glove vector\n"
     ]
    },
    {
     "name": "stderr",
     "output_type": "stream",
     "text": [
      "Training Epochs:   0%|          | 0/9 [00:00<?, ?it/s]"
     ]
    },
    {
     "name": "stdout",
     "output_type": "stream",
     "text": [
      "\n",
      "\n",
      "Training (0/9): {'precision': 0.5745798319327731, 'recall': 0.8044117647058824, 'f1': 0.6703431372549019, 'tp': 1641, 'tn': 315, 'fp': 1215, 'fn': 399} Loss: 0.68985\n",
      "\n",
      "---------- EVALUATION ----------\n",
      "Document Accuracy: 0.0\n",
      "Soft Document Accuracy: 1.0\n",
      "Chunk Accuracy: 0.0636\n",
      "Loss: 0.74891928883342\n",
      "precision: 0.0636215334420881\n",
      "recall: 1.0\n",
      "f1: 0.11963190184049079\n",
      "tp: 117\n",
      "tn: 0\n",
      "fp: 1722\n",
      "fn: 0\n"
     ]
    },
    {
     "name": "stderr",
     "output_type": "stream",
     "text": [
      "Training Epochs:  11%|█         | 1/9 [01:54<15:17, 114.74s/it]"
     ]
    },
    {
     "name": "stdout",
     "output_type": "stream",
     "text": [
      "\n",
      "\n",
      "Training (1/9): {'precision': 0.5609476499808942, 'recall': 0.7196078431372549, 'f1': 0.6304487867726004, 'tp': 1468, 'tn': 381, 'fp': 1149, 'fn': 572} Loss: 0.69017\n",
      "\n",
      "---------- EVALUATION ----------\n",
      "Document Accuracy: 0.0\n",
      "Soft Document Accuracy: 1.0\n",
      "Chunk Accuracy: 0.0636\n",
      "Loss: 0.7702969057219369\n",
      "precision: 0.0636215334420881\n",
      "recall: 1.0\n",
      "f1: 0.11963190184049079\n",
      "tp: 117\n",
      "tn: 0\n",
      "fp: 1722\n",
      "fn: 0\n"
     ]
    },
    {
     "name": "stderr",
     "output_type": "stream",
     "text": [
      "Training Epochs:  22%|██▏       | 2/9 [03:49<13:21, 114.47s/it]"
     ]
    },
    {
     "name": "stdout",
     "output_type": "stream",
     "text": [
      "\n",
      "\n",
      "Training (2/9): {'precision': 0.641575663026521, 'recall': 0.8063725490196079, 'f1': 0.7145960034752389, 'tp': 1645, 'tn': 611, 'fp': 919, 'fn': 395} Loss: 0.6384\n",
      "\n",
      "---------- EVALUATION ----------\n",
      "Document Accuracy: 0.1818\n",
      "Soft Document Accuracy: 0.5789\n",
      "Chunk Accuracy: 0.7417\n",
      "Loss: 0.6340949248957943\n",
      "precision: 0.1346938775510204\n",
      "recall: 0.5641025641025641\n",
      "f1: 0.21746293245469522\n",
      "tp: 66\n",
      "tn: 1298\n",
      "fp: 424\n",
      "fn: 51\n"
     ]
    },
    {
     "name": "stderr",
     "output_type": "stream",
     "text": [
      "Training Epochs:  33%|███▎      | 3/9 [05:43<11:27, 114.54s/it]"
     ]
    },
    {
     "name": "stdout",
     "output_type": "stream",
     "text": [
      "\n",
      "\n",
      "Training (3/9): {'precision': 0.8266922707633221, 'recall': 0.8441176470588235, 'f1': 0.8353140916808149, 'tp': 1722, 'tn': 1169, 'fp': 361, 'fn': 318} Loss: 0.47105\n",
      "\n",
      "---------- EVALUATION ----------\n",
      "Document Accuracy: 0.3896\n",
      "Soft Document Accuracy: 0.5\n",
      "Chunk Accuracy: 0.9141\n",
      "Loss: 0.3653814034028487\n",
      "precision: 0.3586206896551724\n",
      "recall: 0.4444444444444444\n",
      "f1: 0.3969465648854961\n",
      "tp: 52\n",
      "tn: 1629\n",
      "fp: 93\n",
      "fn: 65\n"
     ]
    },
    {
     "name": "stderr",
     "output_type": "stream",
     "text": [
      "Training Epochs:  44%|████▍     | 4/9 [07:37<09:31, 114.20s/it]"
     ]
    },
    {
     "name": "stdout",
     "output_type": "stream",
     "text": [
      "\n",
      "\n",
      "Training (4/9): {'precision': 0.9090909090909091, 'recall': 0.9215686274509803, 'f1': 0.9152872444011684, 'tp': 1880, 'tn': 1342, 'fp': 188, 'fn': 160} Loss: 0.29021\n",
      "\n",
      "---------- EVALUATION ----------\n",
      "Document Accuracy: 0.2727\n",
      "Soft Document Accuracy: 0.7368\n",
      "Chunk Accuracy: 0.8858\n",
      "Loss: 0.3280936076076\n",
      "precision: 0.31906614785992216\n",
      "recall: 0.7008547008547008\n",
      "f1: 0.43850267379679136\n",
      "tp: 82\n",
      "tn: 1547\n",
      "fp: 175\n",
      "fn: 35\n"
     ]
    },
    {
     "name": "stderr",
     "output_type": "stream",
     "text": [
      "Training Epochs:  56%|█████▌    | 5/9 [09:30<07:34, 113.67s/it]"
     ]
    },
    {
     "name": "stdout",
     "output_type": "stream",
     "text": [
      "\n",
      "\n",
      "Training (5/9): {'precision': 0.947316592811423, 'recall': 0.9431372549019608, 'f1': 0.9452223041021861, 'tp': 1924, 'tn': 1423, 'fp': 107, 'fn': 116} Loss: 0.20516\n",
      "\n",
      "---------- EVALUATION ----------\n",
      "Document Accuracy: 0.2338\n",
      "Soft Document Accuracy: 0.6842\n",
      "Chunk Accuracy: 0.8309\n",
      "Loss: 0.5190299194935081\n",
      "precision: 0.22285714285714286\n",
      "recall: 0.6666666666666666\n",
      "f1: 0.3340471092077088\n",
      "tp: 78\n",
      "tn: 1450\n",
      "fp: 272\n",
      "fn: 39\n"
     ]
    },
    {
     "name": "stderr",
     "output_type": "stream",
     "text": [
      "Training Epochs:  67%|██████▋   | 6/9 [11:23<05:40, 113.53s/it]"
     ]
    },
    {
     "name": "stdout",
     "output_type": "stream",
     "text": [
      "\n",
      "\n",
      "Training (6/9): {'precision': 0.9691176470588235, 'recall': 0.9691176470588235, 'f1': 0.9691176470588235, 'tp': 1977, 'tn': 1467, 'fp': 63, 'fn': 63} Loss: 0.12909\n",
      "\n",
      "---------- EVALUATION ----------\n",
      "Document Accuracy: 0.4286\n",
      "Soft Document Accuracy: 0.5263\n",
      "Chunk Accuracy: 0.9233\n",
      "Loss: 0.19012991578451224\n",
      "precision: 0.4142857142857143\n",
      "recall: 0.49572649572649574\n",
      "f1: 0.45136186770428016\n",
      "tp: 58\n",
      "tn: 1640\n",
      "fp: 82\n",
      "fn: 59\n"
     ]
    },
    {
     "name": "stderr",
     "output_type": "stream",
     "text": [
      "Training Epochs:  78%|███████▊  | 7/9 [13:18<03:47, 113.91s/it]"
     ]
    },
    {
     "name": "stdout",
     "output_type": "stream",
     "text": [
      "\n",
      "\n",
      "Training (7/9): {'precision': 0.9825610363726955, 'recall': 0.9666666666666667, 'f1': 0.974549048678033, 'tp': 1972, 'tn': 1495, 'fp': 35, 'fn': 68} Loss: 0.10242\n",
      "\n",
      "---------- EVALUATION ----------\n",
      "Document Accuracy: 0.4675\n",
      "Soft Document Accuracy: 0.6579\n",
      "Chunk Accuracy: 0.9369\n",
      "Loss: 0.19513462048459362\n",
      "precision: 0.5037037037037037\n",
      "recall: 0.5811965811965812\n",
      "f1: 0.5396825396825397\n",
      "tp: 68\n",
      "tn: 1655\n",
      "fp: 67\n",
      "fn: 49\n"
     ]
    },
    {
     "name": "stderr",
     "output_type": "stream",
     "text": [
      "Training Epochs:  89%|████████▉ | 8/9 [15:12<01:53, 113.95s/it]"
     ]
    },
    {
     "name": "stdout",
     "output_type": "stream",
     "text": [
      "\n",
      "\n",
      "Training (8/9): {'precision': 0.9930244145490782, 'recall': 0.9769607843137255, 'f1': 0.9849271064986409, 'tp': 1993, 'tn': 1516, 'fp': 14, 'fn': 47} Loss: 0.07363\n",
      "\n",
      "---------- EVALUATION ----------\n",
      "Document Accuracy: 0.3766\n",
      "Soft Document Accuracy: 0.7632\n",
      "Chunk Accuracy: 0.8564\n",
      "Loss: 0.3645315754723239\n",
      "precision: 0.2558139534883721\n",
      "recall: 0.6581196581196581\n",
      "f1: 0.368421052631579\n",
      "tp: 77\n",
      "tn: 1498\n",
      "fp: 224\n",
      "fn: 40\n"
     ]
    },
    {
     "name": "stderr",
     "output_type": "stream",
     "text": [
      "Training Epochs: 100%|██████████| 9/9 [17:05<00:00, 113.94s/it]"
     ]
    },
    {
     "name": "stdout",
     "output_type": "stream",
     "text": [
      "Finished Training!\n"
     ]
    },
    {
     "name": "stderr",
     "output_type": "stream",
     "text": [
      "\n"
     ]
    },
    {
     "data": {
      "image/png": "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\n",
      "text/plain": [
       "<Figure size 432x288 with 1 Axes>"
      ]
     },
     "metadata": {
      "needs_background": "light"
     },
     "output_type": "display_data"
    },
    {
     "data": {
      "image/png": "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\n",
      "text/plain": [
       "<Figure size 432x288 with 1 Axes>"
      ]
     },
     "metadata": {
      "needs_background": "light"
     },
     "output_type": "display_data"
    },
    {
     "name": "stdout",
     "output_type": "stream",
     "text": [
      "Found existing file, loading....\n",
      "Finished loading file\n",
      "Found existing file, loading....\n",
      "Finished loading file\n",
      "Ratio: 0.7\n",
      "Pos train: 195\n",
      "Neg train: 60\n",
      "Batch size: 14\n",
      "Randomizing training and test data..\n",
      "Reading in glove vector\n",
      "Finished reading glove vector\n"
     ]
    },
    {
     "name": "stderr",
     "output_type": "stream",
     "text": [
      "Training Epochs:   0%|          | 0/9 [00:00<?, ?it/s]"
     ]
    },
    {
     "name": "stdout",
     "output_type": "stream",
     "text": [
      "\n",
      "\n",
      "Training (0/9): {'precision': 0.7530593034201444, 'recall': 0.9411764705882353, 'f1': 0.836674219975597, 'tp': 2400, 'tn': 233, 'fp': 787, 'fn': 150} Loss: 0.52488\n",
      "\n",
      "---------- EVALUATION ----------\n",
      "Document Accuracy: 0.013\n",
      "Soft Document Accuracy: 0.9153\n",
      "Chunk Accuracy: 0.3713\n",
      "Loss: 0.8237123814496127\n",
      "precision: 0.04656862745098039\n",
      "recall: 0.8769230769230769\n",
      "f1: 0.08844065166795965\n",
      "tp: 57\n",
      "tn: 637\n",
      "fp: 1167\n",
      "fn: 8\n"
     ]
    },
    {
     "name": "stderr",
     "output_type": "stream",
     "text": [
      "Training Epochs:  11%|█         | 1/9 [01:53<15:07, 113.46s/it]"
     ]
    },
    {
     "name": "stdout",
     "output_type": "stream",
     "text": [
      "\n",
      "\n",
      "Training (1/9): {'precision': 0.8805346700083542, 'recall': 0.8266666666666667, 'f1': 0.8527508090614887, 'tp': 2108, 'tn': 734, 'fp': 286, 'fn': 442} Loss: 0.38339\n",
      "\n",
      "---------- EVALUATION ----------\n",
      "Document Accuracy: 0.0649\n",
      "Soft Document Accuracy: 0.8136\n",
      "Chunk Accuracy: 0.7373\n",
      "Loss: 0.7970319537373333\n",
      "precision: 0.09351145038167939\n",
      "recall: 0.7538461538461538\n",
      "f1: 0.16638370118845502\n",
      "tp: 49\n",
      "tn: 1329\n",
      "fp: 475\n",
      "fn: 16\n"
     ]
    },
    {
     "name": "stderr",
     "output_type": "stream",
     "text": [
      "Training Epochs:  22%|██▏       | 2/9 [03:48<13:19, 114.15s/it]"
     ]
    },
    {
     "name": "stdout",
     "output_type": "stream",
     "text": [
      "\n",
      "\n",
      "Training (2/9): {'precision': 0.9473684210526315, 'recall': 0.9176470588235294, 'f1': 0.9322709163346613, 'tp': 2340, 'tn': 890, 'fp': 130, 'fn': 210} Loss: 0.26501\n",
      "\n",
      "---------- EVALUATION ----------\n",
      "Document Accuracy: 0.2597\n",
      "Soft Document Accuracy: 0.6949\n",
      "Chunk Accuracy: 0.9337\n",
      "Loss: 0.5507575463164937\n",
      "precision: 0.2907801418439716\n",
      "recall: 0.6307692307692307\n",
      "f1: 0.39805825242718446\n",
      "tp: 41\n",
      "tn: 1704\n",
      "fp: 100\n",
      "fn: 24\n"
     ]
    },
    {
     "name": "stderr",
     "output_type": "stream",
     "text": [
      "Training Epochs:  33%|███▎      | 3/9 [05:42<11:26, 114.39s/it]"
     ]
    },
    {
     "name": "stdout",
     "output_type": "stream",
     "text": [
      "\n",
      "\n",
      "Training (3/9): {'precision': 0.9798975167520694, 'recall': 0.9749019607843137, 'f1': 0.9773933556123452, 'tp': 2486, 'tn': 969, 'fp': 51, 'fn': 64} Loss: 0.16585\n",
      "\n",
      "---------- EVALUATION ----------\n",
      "Document Accuracy: 0.2078\n",
      "Soft Document Accuracy: 0.6949\n",
      "Chunk Accuracy: 0.8828\n",
      "Loss: 0.5938577384917767\n",
      "precision: 0.17916666666666667\n",
      "recall: 0.6615384615384615\n",
      "f1: 0.2819672131147541\n",
      "tp: 43\n",
      "tn: 1607\n",
      "fp: 197\n",
      "fn: 22\n"
     ]
    },
    {
     "name": "stderr",
     "output_type": "stream",
     "text": [
      "Training Epochs:  44%|████▍     | 4/9 [07:37<09:32, 114.46s/it]"
     ]
    },
    {
     "name": "stdout",
     "output_type": "stream",
     "text": [
      "\n",
      "\n",
      "Training (4/9): {'precision': 0.9913385826771653, 'recall': 0.9874509803921568, 'f1': 0.9893909626719057, 'tp': 2518, 'tn': 998, 'fp': 22, 'fn': 32} Loss: 0.11896\n",
      "\n",
      "---------- EVALUATION ----------\n",
      "Document Accuracy: 0.2208\n",
      "Soft Document Accuracy: 0.6441\n",
      "Chunk Accuracy: 0.9117\n",
      "Loss: 0.5651406355492481\n",
      "precision: 0.2159090909090909\n",
      "recall: 0.5846153846153846\n",
      "f1: 0.3153526970954357\n",
      "tp: 38\n",
      "tn: 1666\n",
      "fp: 138\n",
      "fn: 27\n"
     ]
    },
    {
     "name": "stderr",
     "output_type": "stream",
     "text": [
      "Training Epochs:  56%|█████▌    | 5/9 [09:32<07:38, 114.60s/it]"
     ]
    },
    {
     "name": "stdout",
     "output_type": "stream",
     "text": [
      "\n",
      "\n",
      "Training (5/9): {'precision': 0.996059889676911, 'recall': 0.9913725490196078, 'f1': 0.9937106918238994, 'tp': 2528, 'tn': 1010, 'fp': 10, 'fn': 22} Loss: 0.11043\n",
      "\n",
      "---------- EVALUATION ----------\n",
      "Document Accuracy: 0.3117\n",
      "Soft Document Accuracy: 0.5424\n",
      "Chunk Accuracy: 0.9502\n",
      "Loss: 0.4165074646279409\n",
      "precision: 0.34782608695652173\n",
      "recall: 0.49230769230769234\n",
      "f1: 0.4076433121019108\n",
      "tp: 32\n",
      "tn: 1744\n",
      "fp: 60\n",
      "fn: 33\n"
     ]
    },
    {
     "name": "stderr",
     "output_type": "stream",
     "text": [
      "Training Epochs:  67%|██████▋   | 6/9 [11:26<05:43, 114.63s/it]"
     ]
    },
    {
     "name": "stdout",
     "output_type": "stream",
     "text": [
      "\n",
      "\n",
      "Training (6/9): {'precision': 0.9976237623762376, 'recall': 0.9878431372549019, 'f1': 0.9927093596059113, 'tp': 2519, 'tn': 1014, 'fp': 6, 'fn': 31} Loss: 0.10386\n",
      "\n",
      "---------- EVALUATION ----------\n",
      "Document Accuracy: 0.3247\n",
      "Soft Document Accuracy: 0.5763\n",
      "Chunk Accuracy: 0.9481\n",
      "Loss: 0.5381860791088698\n",
      "precision: 0.34\n",
      "recall: 0.5230769230769231\n",
      "f1: 0.41212121212121217\n",
      "tp: 34\n",
      "tn: 1738\n",
      "fp: 66\n",
      "fn: 31\n"
     ]
    },
    {
     "name": "stderr",
     "output_type": "stream",
     "text": [
      "Training Epochs:  78%|███████▊  | 7/9 [13:21<03:49, 114.78s/it]"
     ]
    },
    {
     "name": "stdout",
     "output_type": "stream",
     "text": [
      "\n",
      "\n",
      "Training (7/9): {'precision': 0.9964580873671782, 'recall': 0.9929411764705882, 'f1': 0.99469652327637, 'tp': 2532, 'tn': 1011, 'fp': 9, 'fn': 18} Loss: 0.09258\n",
      "\n",
      "---------- EVALUATION ----------\n",
      "Document Accuracy: 0.3766\n",
      "Soft Document Accuracy: 0.6102\n",
      "Chunk Accuracy: 0.9583\n",
      "Loss: 0.49246296596217465\n",
      "precision: 0.4235294117647059\n",
      "recall: 0.5538461538461539\n",
      "f1: 0.48\n",
      "tp: 36\n",
      "tn: 1755\n",
      "fp: 49\n",
      "fn: 29\n"
     ]
    },
    {
     "name": "stderr",
     "output_type": "stream",
     "text": [
      "Training Epochs:  89%|████████▉ | 8/9 [15:17<01:54, 114.90s/it]"
     ]
    },
    {
     "name": "stdout",
     "output_type": "stream",
     "text": [
      "\n",
      "\n",
      "Training (8/9): {'precision': 0.9980392156862745, 'recall': 0.9980392156862745, 'f1': 0.9980392156862745, 'tp': 2545, 'tn': 1015, 'fp': 5, 'fn': 5} Loss: 0.08845\n",
      "\n",
      "---------- EVALUATION ----------\n",
      "Document Accuracy: 0.3766\n",
      "Soft Document Accuracy: 0.5763\n",
      "Chunk Accuracy: 0.9492\n",
      "Loss: 0.531757940719654\n",
      "precision: 0.3469387755102041\n",
      "recall: 0.5230769230769231\n",
      "f1: 0.4171779141104294\n",
      "tp: 34\n",
      "tn: 1740\n",
      "fp: 64\n",
      "fn: 31\n"
     ]
    },
    {
     "name": "stderr",
     "output_type": "stream",
     "text": [
      "Training Epochs: 100%|██████████| 9/9 [17:11<00:00, 114.65s/it]"
     ]
    },
    {
     "name": "stdout",
     "output_type": "stream",
     "text": [
      "Finished Training!\n"
     ]
    },
    {
     "name": "stderr",
     "output_type": "stream",
     "text": [
      "\n"
     ]
    },
    {
     "data": {
      "image/png": "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\n",
      "text/plain": [
       "<Figure size 432x288 with 1 Axes>"
      ]
     },
     "metadata": {
      "needs_background": "light"
     },
     "output_type": "display_data"
    },
    {
     "data": {
      "image/png": "iVBORw0KGgoAAAANSUhEUgAAAXoAAAEICAYAAABRSj9aAAAAOXRFWHRTb2Z0d2FyZQBNYXRwbG90bGliIHZlcnNpb24zLjMuNCwgaHR0cHM6Ly9tYXRwbG90bGliLm9yZy8QVMy6AAAACXBIWXMAAAsTAAALEwEAmpwYAAAs+0lEQVR4nO3deXwV9b3/8debhDWEPexh3zcDBlQQxFoVFAW1KqjX1rZScalUb2vtT23r0uttr3sVd1vrgtQFN1SoiqCsQdk3E7YEBALIviZ8fn+cwZ5igAMkzDknn+fjkQeZ7cxnYnxnznfmzEdmhnPOueRVIewCnHPOlS0PeuecS3Ie9M45l+Q86J1zLsl50DvnXJLzoHfOuSTnQe9KhaSLJOVL2i6pe9j1OOf+zYPefUfS6ZKmSNoiaZOkLyT1jHHz/wNuNLPqwLeSTFLqYfb1B0n7JG0LvpZK+qukRqVyMHFAUosj/Ryi1v1JsO5lJ6I2V7540DsAJNUA3gMeA+oATYA/AntifInmwIKj3O1rZpYe7O8ioCEwK5nC/ij8GNgU/HvCxPJHyCU+D3p3QDsAM3vVzIrNbJeZjTezuQCSKki6Q9JKSeslvSippqTKkrYDKcAcSXnApOA1NwdDOacdbsdmts/MFgCXA4XArQeWSbpWUm7wDuMdSY2jlnWWNCFYtk7S74L5f5N0b9R6/SUVRE2vkPRrSXMl7ZD0nKQGkj4I3l38S1LtqPVPDd7pbJY0R1L/qGUTJd0TvPvZJmm8pHrB4ph+DpKaA2cAw4FzJTWIWpYi6XeS8oLXnyUpsxSO/zZJc4EdklIl/TZqHwslXXRQjddKWhS1vEfwM3zjoPUek/RwScfpQmRm/uVfADWAjcDfgYFA7YOW/xTIBVoB1YE3gX9ELTegTfB9i2A69TD7+wPwUgnz7wamB9//ANgA9AAqE3m3MSlYlg58Q+SPQpVg+pRg2d+Ae6Nesz9QEDW9ApgGNCDyzmU98CXQPdjPJ8Dvg3WbBD+X84icGJ0dTGcEyycCeUT+UFYNpu+P9ecQrHcnMCP4fh5wS9SyXwfz2gMCTgLqlsLxzwYygarBvEuBxsExXg7sABpFLVsN9AxqaEPkHVyjYL1awXqpwc/y5LB/n/3rP7/8jN4BYGZbgdOJBNMzQGFwBn3g7PJK4EEzW2Zm24HbgaFl8NZ/DZGhnAP7fN7MvjSzPcE+T5PUAhgErDWzB8xst5ltM7PpR7Gfx8xsnZmtBiYT+ePyVbCft4iEPsBVwDgzG2dm+81sApBDJPgPeMHMlprZLmAMkHWUx3w18Erw/Sv85/DNz4E7zGyJRcwxs40c//E/amb5Qc2Y2T/NbE1wjK8BXwO9omr4s5nNDGrINbOVZvYNkXctlwbrDQA2mNmsozx+V8Y86N13zGyRmf3EzJoCXYic4T0cLG4MrIxafSWRM7gGlK4mRMaqv7fP4A/MxmCdTCJn0sdqXdT3u0qYrh583xy4NBi22SxpM5E/iNHXEdZGfb8zatsjktQHaAmMDma9AnSVlBVMH+o4j/f48w+q42pJs6OOsQtwYAjqcPv6O5E/hgT//uM4anJlxIPelcjMFhMZAugSzFpDJPQOaAYU8Z8B+d3mx7JPSRWAC4icYX9vn5LSiAxbrCYSVK0P8VI7gGpR0w2PpZ5APpEhqlpRX2lmdn8M28byc/gxkeGQ2ZLWAgfOyq+O2n9Jx3m8x/9dbcE1gmeAG4G6ZlYLmB/UdaR9jQW6SepC5F3Gy4dYz4XIg94BIKmDpFslNQ2mM4FhRMayAV4FfiWppaTqwJ+I3DVTVMLLFQL7iYznx7LvipI6BvtoCDwYLHoFuEZSlqTKwT6nm9kKIncINZQ0MrggnC7plGC72cB5kupIagiMjP0n8T0vARdIOje4MFoluLjZNIZtD/tzkFQFuIzIRdisqK+bgCuDYbFngXsktVVEN0l1Kd3jTyMS/IVBXdfw7z/wBDX8t6STgxraBH8cMLPdwOtE/lvNMLNVMfxc3AnmQe8O2AacAkyXtINIwM/n33fAPE/kbfkkYDmwm0ggfY+Z7QTuA74IhgJOPcQ+L1fkjp3NwDtEhmVONrM1wet8TORC5RtELjy2BoYGy7YRuTB6AZGhk6+BM4PX/Qcwh8hFx/HAa0f1k/jPY8kHBgO/IxKE+UQukB7x/50Yfg5DiAwTvWhmaw98Ac8RuYtpAJE/emOC49gaLKtamsdvZguBB4CpRN6hdQW+iFr+z+A4XiHyezKWf19HgcjwTVd82CZuycwbjzjnjp2kZsBioGFwUd/FGT+jd84ds+C6yi3AaA/5+OWfinPOHZPg4vg6IndGDQi5HHcYPnTjnHNJzodunHMuycXl0E29evWsRYsWYZfhnHMJY9asWRvMLKOkZXEZ9C1atCAnJyfsMpxzLmFIWnmoZT5045xzSc6D3jnnkpwHvXPOJTkPeuecS3Ie9M45l+Q86J1zLsl50DvnXJJLmqAv3m88/mkuc/I3h12Kc87FlaQJ+u17inh52kp+9dpsdu4tqReGc86VT0kT9DWrVuSBy7JYvnEH97y3KOxynHMubiRN0AOc1rouw/u14tUZq5iwsKRWps45V/4kVdAD3HJ2Ozo1qsFtb8xl/bbdYZfjnHOhS7qgr5yawqPDstixp4jfvD4Xf96+c668iynoJQ2QtERSrqTflrC8tqS3JM2VNENSl1i3LQtt6qfz/87vyMQlhfxj2iEf6Oacc+XCEYNeUgrwODAQ6AQMk9TpoNV+B8w2s27A1cAjR7FtmfivU5vTv30G972/iK/XbTsRu3TOubgUyxl9LyDXzJaZ2V5gNDD4oHU6AR8DmNlioIWkBjFuWyYk8ecfdSOtcio3j57N3qL9J2K3zjkXd2IJ+iZAftR0QTAv2hzgYgBJvYDmQNMYtyXYbrikHEk5hYWFsVV/BPXTq/C/l3Rj4TdbeWDCklJ5TeecSzSxBL1KmHfwFc77gdqSZgM3AV8BRTFuG5lp9rSZZZtZdkZGid2wjsnZnRowrFcznp60jKl5G0vtdZ1zLlHEEvQFQGbUdFNgTfQKZrbVzK4xsywiY/QZwPJYtj0R7hzUkZZ107hlzGy27Nx3onfvnHOhiiXoZwJtJbWUVAkYCrwTvYKkWsEygJ8Dk8xsayzbngjVKqXy8NAsCrft4Y635/stl865cuWIQW9mRcCNwEfAImCMmS2QdJ2k64LVOgILJC0mcofNzYfbtvQP48i6Na3FyB+25d05axg7e3UYJTjnXCgUj2e32dnZlpOTU+qvW7zfGPr0VBZ/s41xN/cls061Ut+Hc86FQdIsM8suaVnSfTL2cFIqiAcvy8KAW8fMoXh//P2Rc8650laugh4gs0417h7cmRkrNvHkZ3lhl+Occ2Wu3AU9wEXdmzCoWyMemrCUuQWbwy7HOefKVLkMekncN6QrGemVGTnaG5U455JbuQx6gJrVKvLAZSexfOMO7n3fG5U455JXuQ16gN6t6zG8bytemb6Kf3mjEudckirXQQ9wyzn/blRSuG1P2OU451ypK/dBXzk1hUeGZrF9TxG/eX2Of2rWOZd0yn3QA7RtkM7vzuvIp0sKeckblTjnkowHfeDq05pzRrsM7n1/EbnrvVGJcy55eNAHJPGXS71RiXMu+XjQRznQqGTBmq08OGFp2OU451yp8KA/yIFGJU9NyvNGJc65pOBBX4I7B3WkRd00bvVGJc65JOBBX4JqlVJ5+PIs1m/bw51vzw+7HOecOy4e9IdwUmakUck7c9Yw9itvVOKcS1we9Icxon8bspvX5s6x88nftDPscpxz7ph40B9GSgXx0OXeqMQ5l9hiCnpJAyQtkZQr6bclLK8p6V1JcyQtkHRN1LIVkuZJmi2p9PsDljFvVOKcS3RHDHpJKcDjRJp+dwKGSep00Go3AAvN7CSgP/CApEpRy880s6xD9TOMdxd1b8L53qjEOZegYjmj7wXkmtkyM9sLjAYGH7SOAemSBFQHNgFJ081DEn/yRiXOuQQVS9A3AfKjpguCedH+CnQE1gDzgJvN7MAzBAwYL2mWpOGH2omk4ZJyJOUUFhbGfAAnSnSjkvu8UYlzLoHEEvQqYd7BVyXPBWYDjYEs4K+SagTL+phZDyJDPzdI6lfSTszsaTPLNrPsjIyMWGo/4Xq3rse1fVvxsjcqcc4lkFiCvgDIjJpuSuTMPdo1wJsWkQssBzoAmNma4N/1wFtEhoIS1q3eqMQ5l2BiCfqZQFtJLYMLrEOBdw5aZxVwFoCkBkB7YJmkNEnpwfw04BwgoT9q6o1KnHOJ5ohBb2ZFwI3AR8AiYIyZLZB0naTrgtXuAXpLmgd8DNxmZhuABsDnkuYAM4D3zezDsjiQE6ltg3RuH9jBG5U45xKC4vGMNDs723Jy4vuWezPjJy/MZNqyjbz/y9NpUz897JKcc+WYpFmHuoXdPxl7jKIblYx8zRuVOOfilwf9caifXoX7L+7K/NXeqMQ5F7886I/TOZ0bMqxXJk9NymPaMm9U4pyLPx70peDOQZ1oUTeNW16bzZZd3qjEORdfPOhLQbVKqTx0eRbrtu3hzrEJffeocy4JedCXkqzMWow8K9Ko5O3Z3qjEORc/POhL0fVnRhqV3PHWfAq+9UYlzrn44EFfiqIbldzymjcqcc7FBw/6UpZZpxp/vDDSqOSpSd6oxDkXPg/6MnBxj0ijkgfHL2VewZawy3HOlXMe9GVAEvcN6UK96pW5+bWv2LW3OOySnHPlmAd9GalVrRIPXnYSyzfs4L5xC8MuxzlXjnnQl6HebSKNSl6atopPFnujEudcODzoy9it57SjQ8N07nhrvveadc6FwoO+jFVOTeGeIV1Ys2U3j32SG3Y5zrlyyIP+BOjZog6X9GjKs5OXkbt+e9jlOOfKGQ/6E+T28zpQtWIKd70939sPOudOqJiCXtIASUsk5Ur6bQnLa0p6V9IcSQskXRPrtuVFveqV+fW57ZmSt5H35n4TdjnOuXLkiEEvKQV4HBgIdAKGSep00Go3AAvN7CSgP/CApEoxbltuXHFKc7o2qcm97y9k+x6/MOucOzFiOaPvBeSa2TIz2wuMBgYftI4B6ZIEVAc2AUUxbltupFQQ9wzpwvpte3jYO1I5506QWIK+CZAfNV0QzIv2V6AjsAaYB9xsZvtj3BYAScMl5UjKKSwsjLH8xJOVWYuhPTN5YcoKFq/dGnY5zrlyIJagVwnzDr6aeC4wG2gMZAF/lVQjxm0jM82eNrNsM8vOyMiIoazE9ZtzO1CjSip3jV3gF2adc2UulqAvADKjppsSOXOPdg3wpkXkAsuBDjFuW+7UTqvEbQM6MGPFJt76ypuUOOfKVixBPxNoK6mlpErAUOCdg9ZZBZwFIKkB0B5YFuO25dJl2Zl0b1aLP41b5H1mnXNl6ohBb2ZFwI3AR8AiYIyZLZB0naTrgtXuAXpLmgd8DNxmZhsOtW1ZHEiiqVBB3DO4C5t27OXB8UvCLsc5l8QUj2PE2dnZlpOTE3YZJ8Rdb8/npWkreefG0+nSpGbY5TjnEpSkWWaWXdIy/2RsyG49pz110ipxx9j57PfWg865MuBBH7KaVSty+8COzM7fzD9n5R95A+ecO0oe9HHg4h5N6NmiNvd/sJhvd+wNuxznXJLxoI8DUuQTs1t3F/Hnj/zCrHOudHnQx4kODWvwk94tGD1zFbPzN4ddjnMuiXjQx5GRP2xLRvXK3DF2HsV+YdY5V0o86ONIepWK3DGoE/NXb+WVGavCLsc5lyQ86OPMBd0a0bt1Xf7y4WI2bN8TdjnOuSTgQR9nJHH34M7s2lfM/R8sDrsc51wS8KCPQ23qp/Oz01vx+qwCclZsCrsc51yC86CPU788qw2Na1bhjrHzKSreH3Y5zrkE5kEfp6pVSuWuCzqxeO02Xpy6MuxynHMJzIM+jp3buSFntMvgwQlLWb91d9jlOOcSlAd9HJPEHy7szN6i/dw3blHY5TjnEpQHfZxrWS+N685oxduz1zAlb0PY5TjnEpAHfQK4/sw2ZNapyl1vL2CfX5h1zh0lD/oEUKViCn+4oDO567fz/OfLwy7HOZdgPOgTxFkdG/DDjg145OOv+WbLrrDLcc4lkJiCXtIASUsk5Ur6bQnLfy1pdvA1X1KxpDrBshWS5gXLykd/wDLy+ws6UbzfuOe9hWGX4pxLIEcMekkpwOPAQKATMExSp+h1zOwvZpZlZlnA7cBnZhb9kc4zg+Ul9jN0scmsU40bz2zDuHlrmbS0MOxynHMJIpYz+l5ArpktM7O9wGhg8GHWHwa8WhrFue8bfkYrWtZL4/fvLGBPUXHY5TjnEkAsQd8EiG5mWhDM+x5J1YABwBtRsw0YL2mWpOGH2omk4ZJyJOUUFvrZ6qFUTk3hDxd2ZvmGHTwzaVnY5TjnEkAsQa8S5h2qK8YFwBcHDdv0MbMeRIZ+bpDUr6QNzexpM8s2s+yMjIwYyiq/zmiXwcAuDfnrp7nkb9oZdjnOuTgXS9AXAJlR002BNYdYdygHDduY2Zrg3/XAW0SGgtxxunNQJypI/PFdvzDrnDu8WIJ+JtBWUktJlYiE+TsHrySpJnAG8HbUvDRJ6Qe+B84B5pdG4eVd41pV+eVZbfnXonV8vGhd2OU45+LYEYPezIqAG4GPgEXAGDNbIOk6SddFrXoRMN7MdkTNawB8LmkOMAN438w+LL3yy7ef9mlJm/rV+cO7C9i9zy/MOudKJrP4a0KdnZ1tOTl+y30spuRt4IpnpvPLs9pyy9ntwi7HORcSSbMOdQu7fzI2wfVuXY8LT2rMk5/lsWLDjiNv4Jwrdzzok8Ad53ekUkoFfv/OAuLxHZpzLlwe9Emgfo0q/Orsdny2tJCPFqwNuxznXJzxoE8SPz6tOR0apnP3uwvZubco7HKcc3HEgz5JpKZU4J4hXVizZTePfZIbdjnOuTjiQZ9EeraowyU9mvLs5GXkrt8edjnOuTjhQZ9kbj+vA1UrpnDX2/P9wqxzDvCgTzr1qlfm1+e2Z0reRt6d+03Y5Tjn4oAHfRK64pTmdGlSg3vfW8j2PX5h1rnyzoM+CaVUEPcM7kLh9j08PGFp2OU450LmQZ+kujerzdCembwwZQWL124NuxznXIg86JPYb87tQI0qqdw11j8x61x55kGfxGqnVeK2AR2YsWITb365OuxynHMh8aBPcpdlZ5KVWYv/+WARW3btC7sc51wIPOiTXIUK4t4hXdi0Yy8Pjl8SdjnOuRB40JcDXZrU5KpTm/OPaSuZv3pL2OU4504wD/py4tZz2lMnrRJ3jJ3P/v1+Yda58iSmoJc0QNISSbmSflvC8l9Lmh18zZdULKlOLNu6E6Nm1YrcPrAjs/M3MyYnP+xynHMn0BGDXlIK8DgwEOgEDJPUKXodM/uLmWWZWRZwO/CZmW2KZVt34lzcowk9W9Tmfz9czLc79oZdjnPuBInljL4XkGtmy8xsLzAaGHyY9YcBrx7jtq4MSeKeIV3YuruIP3/kF2adKy9iCfomQPR7/YJg3vdIqgYMAN44hm2HS8qRlFNYWBhDWe5YdGhYg5/0bsHomauYnb857HKccydALEGvEuYd6mreBcAXZrbpaLc1s6fNLNvMsjMyMmIoyx2rkT9sS0b1ytwxdh7FfmHWuaSXGsM6BUBm1HRTYM0h1h3Kv4dtjnZbd4KkV6nIHYM68ctXv+KqZ6dTq1rFsEv6nt6t63LlKc2pUKGkcwXn3NGIJehnAm0ltQRWEwnzKw5eSVJN4AzgqqPd1p14F3RrRM6KTUxbtpGNO/aEXc5/2L1vPx/MX8v4hev4v0tPokGNKmGX5FxCO2LQm1mRpBuBj4AU4HkzWyDpumD5k8GqFwHjzWzHkbYt7YNwR08Sdw/uEnYZJTIzXpmxinveW8i5D0/i/ou7MaBLw7DLci5hKR6fapidnW05OTlhl+FClle4nZGjZzNv9RYuz87krgs6kVY5ljehzpU/kmaZWXZJy/yTsS5utc6ozhsjenN9/9aMmZXP+Y9O9juFnDsGHvQurlVKrcBvBnRg9LWnsq/YuGTUFB77+Gu/W8i5o+BB7xLCKa3qMu7mvpzftREPTFjK5U9NJX/TzrDLci4heNC7hFGzakUeHdadhy/PYsnabQx8ZDJvflng3bOcOwIPepdwhnRvwrib+9KxUTq3jJnDTa9+xZad3lTFuUPxoHcJKbNONUYPP41fn9ueD+evZeAjk5iatzHsspyLSx70LmGlVBA3nNmGN0b0pnLFFK54dhr3f7CYvUX7wy7NubjiQe8S3kmZtXjvptMZ2jOTJz/L4+JRX5C7fnvYZTkXNzzoXVJIq5zK/1zcjaf+62RWf7uLQY9N5qVpK/1CrXN40Lskc27nhnw4sh89W9ThjrHzufbFHDZsj69n+Th3onnQu6TToEYV/n5NL+4a1IlJX29gwMOT+HTx+rDLci40HvQuKVWoIH56ekveubEP9apX5pq/zeSut+eze19x2KU5d8J50Luk1qFhDcbe0Iefnd6SF6eu5ILHPmfBmi1hl+XcCeVB75JelYop3DmoEy/+tBdbdu1jyONf8PSkPPb783JcOeFB78qNfu0y+HBkP37QoT5/GreYq56bzjdbdoVdlnNlzoPelSt10irx5FUn87+XdOWrVZsZ8PBkxs37JuyynCtTHvSu3JHE5T2bMe7mvrSoW43rX/6S//7nHLbvKQq7NOfKhAe9K7da1kvj9RG9uekHbXjzywLOe2Qys1Z+G3ZZzpW6mIJe0gBJSyTlSvrtIdbpL2m2pAWSPouav0LSvGCZ9wd0caViSgVuPac9r/3iNPabcdlTU3lowlKKiv15OS55HDHoJaUAjwMDgU7AMEmdDlqnFvAEcKGZdQYuPehlzjSzrEP1M3QubD1b1GHczX0ZfFJjHvn4ay59aiorN+448obOJYBYzuh7AblmtszM9gKjgcEHrXMF8KaZrQIwM/8Yoks4NapU5MHLs3h0WHdy12/nvEcm88+cfH9ejkt4sQR9EyA/arogmBetHVBb0kRJsyRdHbXMgPHB/OGH2omk4ZJyJOUUFhbGWr9zpe7Ckxrz4ch+dGlSk1+/PpcbXvmSzTv3hl2Wc8cslqBXCfMOPsVJBU4GzgfOBe6U1C5Y1sfMehAZ+rlBUr+SdmJmT5tZtpllZ2RkxFa9c2WkSa2qvHLtqdw2oAPjF6xjwMOTmZK7IeyynDsmsQR9AZAZNd0UWFPCOh+a2Q4z2wBMAk4CMLM1wb/rgbeIDAU5F/dSKogR/Vvz1vV9qFY5hSuenc6oiXlhl+XcUYsl6GcCbSW1lFQJGAq8c9A6bwN9JaVKqgacAiySlCYpHUBSGnAOML/0yneu7HVtWpP3b+rL+d0a8eePFnvLQpdwjhj0ZlYE3Ah8BCwCxpjZAknXSbouWGcR8CEwF5gBPGtm84EGwOeS5gTz3zezD8vmUJwrO1UrpfCXH3WjZd00bh0z25uRu4SieLyjIDs723Jy/JZ7F3/mFmzm4iemcF7XRjw6rHvY5Tj3HUmzDnULu38y1rmj0K1pLUb+sC3vzFnD2K9Wh12OczHxoHfuKI3o34aeLWpz59j55G/aGXY5zh2RB71zRymlgnjwsiwMuHXMHIr9ufYuznnQO3cMMutU4+7BnZmxYhNPfua3XLr45kHv3DG6qHsTBnVrxEMTljK3YHPY5Th3SB70zh0jSdw3pCsZ6ZUZOXo2O/f68+xdfPKgd+441KxWkQcuO4nlG3dw3/uLwi7HuRJ50Dt3nHq3rsfwvq14efoq/rVwXdjlOPc9HvTOlYJbzmlHp0Y1uO2NuRRu2xN2Oc79Bw9650pB5dQUHhmaxfY9Rfzm9Tn+DHsXVzzonSslbRuk87vzOvLpkkJemrYy7HKc+44HvXOl6OrTmnNGuwzufX8Rueu3hV2Oc4AHvXOlShJ/ubQbaZVTuXn0bPYWeZNxFz4PeudKWf30KvzvJd1YsGYrD05YGnY5znnQO1cWzu7UgGG9mvHUpDxvVBJHVm/exd3vLuSWMbPL1aeZ/Xn0zpWRnXuLOP/Rz9mzr5gPRvajZtWKYZdUbuWu38aoict4e3bk0dJVK6awbU8Rp7epx/X9W3Na67pIJbXHThyHex69B71zZWhO/mYuHjWF871RSSjm5G/miYm5jF+4jsqpFRjasxnX9mtFjSqpvDx9Fc9OXs6G7Xs4KbMW1/dvzdkdG1ChQmIG/nEHvaQBwCNACpE2gfeXsE5/4GGgIrDBzM6IdduDedC7ZPLYx1/zwISlPHx5FkO6Nwm7nKRnZkzJ28gTE3P5IncjNaqk8uPeLfhJ7xbUrV75P9bdva+Y12cV8NSkPPI37aJt/epcd0ZrLsxqTMWUxBrZPq6gl5QCLAXOBgqINAsfZmYLo9apBUwBBpjZKkn1zWx9LNuWxIPeJZPi/cblT01lydptfDCyL01rVwu7pKS0f78xfuE6Rk3MZU7BFjLSK/Pz01tyxSnNSK9y+GGzouL9vD/vG0ZNzGPx2m00qVWV4f1acVl2JlUrpZygIzg+xxv0pwF/MLNzg+nbAczsf6LWuR5obGZ3HO22JfGgd8kmf9NOBj4ymU6NavDq8FNJSdDhgXi0r3g/b89ew5Of5ZG7fjvN61bjF/1ac3GPJlSpeHQhbWZ8sng9T0zMY9bKb6mbVomfnt6Sq05tHvfXWA4X9KkxbN8EyI+aLgBOOWiddkBFSROBdOARM3sxxm0PFDkcGA7QrFmzGMpyLnFk1qnGHy/szK3/nMOTn+Vxw5ltwi4p4e3aW8zomat4ZtIy1mzZTYeG6Tw6rDvndWlI6jEOu0jirI4NOKtjA2Ys38QTE3P5y0dLGDUxjytPbcbPTm9J/fQqpXwkZS+WoC/p1OPgtwGpwMnAWUBVYKqkaTFuG5lp9jTwNETO6GOoy7mEcnGPJnyyZD0PTVhKv7YZdG1aM+ySEtKWnft4ceoKXpiygk079tKzRW3uu6gr/dtnlOqdM71a1qFXy14sWLOFURPzeGbSMl74YgWXntyUX/RrTbO6iTMEF0vQFwCZUdNNgTUlrLPBzHYAOyRNAk6KcVvnygVJ/GlIV75c+S03v/YV79/UN2HGf+PB+q27ee7z5bw8fRXb9xRxZvsMrj+zDT1b1CnT/XZuXJO/XtGDFRt28NSkPP6ZU8DomfkM6taIEf1b06FhjTLdf2mIZYw+lcgF1bOA1UQuqF5hZgui1ukI/BU4F6gEzACGAouPtG1JfIzeJbMpuRu48rnpXNGrGfdd1DXscuLeyo07eGrSMl6fVUBR8X7O79aYEWe0plPjcAJ23dbdPDt5GS9PX8XOvcWc1aE+15/ZmpObl+0fnCM5rjF6MyuSdCPwEZFbJJ83swWSrguWP2lmiyR9CMwF9hO5jXJ+sPPvbVsqR+Vcgurdph7X9m3F05OW8YMO9TmrY4OwS4pLi77ZyqiJebw3dw2pFSpwyclN+UW/VrSolxZqXQ1qVOH/nd+JG85sw9+nrORvU5Zzyaip9GpZh+v7t+aMdqU7hFQa/ANTzoVgT1ExQx6fwvqtu/lwZD8y0isfeaNyYuaKTYyamMcni9eTVimFq05tHrkIWiM+L4Lu3FvE6Bn5PDN5Gd9s2U3nxjUY0b81A7s0OqF3V/knY52LQ0vXbeOCxz6nd+u6PP+TnnF3FngimRkTlxTyxMRcZq74ljpplbimdwuuPq0FNavF922NB+wt2s/Y2at58rM8lhXuoGW9NH7RrxUX9WhC5dSyvxbjQe9cnPrbF8v5w7sLuWdIF/7r1OZhl3PCFe+37z6otOibrTSuWYVr+7Xi8p6ZVKsUy70i8ad4vzF+wVqemJjHvNVbaFCjMtf2bcWwXs1Iq1x2x+RB71ycMjN+8sJMpi/fyHs39aVN/ephl3RC7Ckq5o1Zq3lqUh4rN+6kdUYa153RmsFZTaiUmliPHjgUM+Pz3A088WkeU5dtpFa1ivz4tMijGGqnVSr1/XnQOxfH1m/dzYBHJtO4VhXeHNEnaYKuJNv3FPHK9JU8O3k567ftoVvTmlzfvzXndGqYsA8Ti8WXq75l1MQ8JixcR9WKKQzr1Yxr+7WkUc2qpbYPD3rn4tz4BWsZ/o9ZjOjfmtsGdAi7nFK3acde/vbFcv4+dSVbdu2jT5u6jDijDX3aJP7jgY/G0nXbeHJiHm/PWUMFwUXdm3DdGa1plXH87+Q86J1LALe/OZfRM/N59dpTObVV3bDLKRVrNu/imcnLGD0jn137ijm3cwNG9G9DVmatsEsLVf6mnTwzeRmvzcxnb/F+BnZpyPX929ClybF/WtqD3rkEsGNPEec/Opm9RfsTvlFJXuF2npyYx9jZqzGDwVlNGNG/FW3qp4ddWlwp3LaHF75Yzj+mrmTbniL6tq3HM1dnH/XD2MCD3rmEMTt/M5eMmsKgbo14ZGjiNSqZW7CZURPz+HDB2u8affy8b0t/NPMRbN29j5enrWLpum08dHnWMb3G8T690jl3gmRl1mLkWW15YMJSftChPoOz4r9RiZkxNW8jT0zM4/PcDaRXSeWG/m24ps/3G324ktWoUpER/VuX2et70DsXZ0b0b83EpYXc8dZ8Tm5eO27PhvfvNyYsWscTE/OYk7+ZjPTK/HZgB66ModGHO7E86J2LM6kpFXj48iwGPjKZW8bM4dVr46tRyb7i/bwTNPr4ev12mtWpxn0XdeGSHk2PaWzZlT0PeufiUHSjkqcm5XF9//AblezaW8xrM1fxzOTlrN68iw4N03lkaBbnd210zI0+3InhQe9cnLq4RxM+WbyeB8cvpW+b8BqVbNm1j39MXcELX6xg4469ZDevzT1DOnNm+/rl6h74ROZB71ycksR9F3VhVkiNStZvCxp9TIs0+ujfPoPr+7ehV8twn7vujp4HvXNxrFa1Sjx42Ulc8ex07hu3kHuHlH2jklUbd0Y6KQWNPs7rGumk1Lmxtz5MVB70zsW5SKOSljwzeTlnti+7RiWL10Yafbw7J74afbjj50HvXAL473PbM/nrDfzm9bml3qgkJ2j08XHQ6OPnfVvxs9Nb0iBOG324o+dB71wCqJyawqPDujPosc+57Y25PPfj7OO6EGpmTFxayKhP85ixYhO1q1XklrPbcfVpzalVrfQfoevCFVPQSxoAPEKk7+uzZnb/Qcv7A28Dy4NZb5rZ3cGyFcA2oBgoOtRHdJ1zh9euQTq3D+zAH99dyEvTVx1To5Li/ca4oNHHwm+20qhmFe4a1ImhvRK30Yc7siP+l5WUAjwOnA0UADMlvWNmCw9adbKZDTrEy5xpZhuOr1Tn3I9Pa8GnSwq57/2FnNaqbsyNSvYUFfPml6t56rM8VmzcSauMNP78o24MSaJGH+7QYvkv3AvINbNlZrYXGA0MLtuynHMlqVBB/N+PulG1YgojX/uKvUX7D7v+9j1FPDNpGf3+/Cm3vzmP9CoVGXVlDyb86gwuy870kC8nYvmv3ATIj5ouCOYd7DRJcyR9IKlz1HwDxkuaJWn4oXYiabikHEk5hYWFMRXvXHlUv0YV7r+kG/NXb+Whfy0tcZ1NO/by4ISl9Ln/E+4bt4jWGdV56Wen8M6NfRjYtVFcPVLBlb1YBuVK+o04+NnGXwLNzWy7pPOAsUDbYFkfM1sjqT4wQdJiM5v0vRc0exp4GiKPKY71AJwrj87t3JChPTN58rM8+rfL4JSgUcnBjT7O6dSAEf1b071Z7ZArdmGKJegLgMyo6abAmugVzGxr1PfjJD0hqZ6ZbTCzNcH89ZLeIjIU9L2gd84dnTsHdWLaso3cMmYOj1/Zg5enrfyu0ceFWY0ZcUZr2jbwRh8utqCfCbSV1BJYDQwFroheQVJDYJ2ZmaReRIaENkpKAyqY2bbg+3OAu0v1CJwrp9Iqp/LQ5Vn86MmpDHn8C6pUrMCVpzT3Rh/ue44Y9GZWJOlG4CMit1c+b2YLJF0XLH8S+BEwQlIRsAsYGoR+A+Ct4H7fVOAVM/uwjI7FuXKne7Pa/OVH3Vi1aSdXndqcet7ow5XAWwk651wSOFwrQb+3yjnnkpwHvXPOJTkPeuecS3Ie9M45l+Q86J1zLsl50DvnXJLzoHfOuSTnQe+cc0kuLj8wJakQWHmMm9cD4vHZ917X0fG6jo7XdXSSsa7mZpZR0oK4DPrjISknHrtYeV1Hx+s6Ol7X0SlvdfnQjXPOJTkPeuecS3LJGPRPh13AIXhdR8frOjpe19EpV3Ul3Ri9c865/5SMZ/TOOeeieNA751ySS5qglzRA0hJJuZJ+G3Y9B0h6XtJ6SfPDruUASZmSPpW0SNICSTeHXROApCqSZkiaE9T1x7BriiYpRdJXkt4Lu5ZoklZImidptqS46dgjqZak1yUtDn7XTouDmtoHP6cDX1sljQy7LgBJvwp+7+dLelVSlVJ77WQYo5eUAiwFzibSzHwmMMzMFoZaGCCpH7AdeNHMuoRdD4CkRkAjM/tSUjowCxgS9s9LkZ6TaWa2XVJF4HPgZjObFmZdB0i6BcgGapjZoLDrOUDSCiDbzOLqA0CS/g5MNrNnJVUCqpnZ5pDL+k6QG6uBU8zsWD+gWVq1NCHy+97JzHZJGgOMM7O/lcbrJ8sZfS8g18yWmdleYDQwOOSaADCzScCmsOuIZmbfmNmXwffbgEVAk3CrAovYHkxWDL7i4kxEUlPgfODZsGtJBJJqAP2A5wDMbG88hXzgLCAv7JCPkgpUlZQKVAPWlNYLJ0vQNwHyo6YLiIPgSgSSWgDdgekhlwJ8NzwyG1gPTDCzuKgLeBj4DbA/5DpKYsB4SbMkDQ+7mEAroBB4IRjuelZSWthFHWQo8GrYRQCY2Wrg/4BVwDfAFjMbX1qvnyxBrxLmxcWZYDyTVB14AxhpZlvDrgfAzIrNLAtoCvSSFPpwl6RBwHozmxV2LYfQx8x6AAOBG4LhwrClAj2AUWbWHdgBxNO1s0rAhcA/w64FQFJtIqMQLYHGQJqkq0rr9ZMl6AuAzKjpppTi255kFIyBvwG8bGZvhl3PwYK3+ROBAeFWAkAf4MJgLHw08ANJL4Vb0r+Z2Zrg3/XAW0SGMsNWABREvSN7nUjwx4uBwJdmti7sQgI/BJabWaGZ7QPeBHqX1osnS9DPBNpKahn8pR4KvBNyTXEruOj5HLDIzB4Mu54DJGVIqhV8X5XIL//iUIsCzOx2M2tqZi2I/G59YmaldrZ1PCSlBRfUCYZGzgFCv8PLzNYC+ZLaB7POAkK/OSLKMOJk2CawCjhVUrXg/8+ziFw7KxWppfVCYTKzIkk3Ah8BKcDzZrYg5LIAkPQq0B+oJ6kA+L2ZPRduVfQB/guYF4yHA/zOzMaFVxIAjYC/B3dDVADGmFlc3coYhxoAb0WygVTgFTP7MNySvnMT8HJw8rUMuCbkegCQVI3IHXq/CLuWA8xsuqTXgS+BIuArSvFxCElxe6VzzrlDS5ahG+ecc4fgQe+cc0nOg94555KcB71zziU5D3rnnEtyHvTOOZfkPOidcy7J/X/be4ULowobWgAAAABJRU5ErkJggg==\n",
      "text/plain": [
       "<Figure size 432x288 with 1 Axes>"
      ]
     },
     "metadata": {
      "needs_background": "light"
     },
     "output_type": "display_data"
    },
    {
     "name": "stdout",
     "output_type": "stream",
     "text": [
      "Found existing file, loading....\n",
      "Finished loading file\n",
      "Found existing file, loading....\n",
      "Finished loading file\n",
      "Ratio: 0.4\n",
      "Pos train: 110\n",
      "Neg train: 145\n",
      "Batch size: 15\n",
      "Randomizing training and test data..\n",
      "Reading in glove vector\n",
      "Finished reading glove vector\n"
     ]
    },
    {
     "name": "stderr",
     "output_type": "stream",
     "text": [
      "Training Epochs:   0%|          | 0/9 [00:00<?, ?it/s]"
     ]
    },
    {
     "name": "stdout",
     "output_type": "stream",
     "text": [
      "\n",
      "\n",
      "Training (0/9): {'precision': 0.4840182648401826, 'recall': 0.3563025210084034, 'f1': 0.41045498547918685, 'tp': 636, 'tn': 1362, 'fp': 678, 'fn': 1149} Loss: 0.69667\n",
      "\n",
      "---------- EVALUATION ----------\n",
      "Document Accuracy: 0.5714\n",
      "Soft Document Accuracy: 0.0\n",
      "Chunk Accuracy: 0.9536\n",
      "Loss: 0.6624615587197341\n",
      "Couldnt calculate precision, division by zero\n",
      "Couldnt calculate f1, division by zero\n",
      "precision: None\n",
      "recall: 0.0\n",
      "f1: None\n",
      "tp: 0\n",
      "tn: 1643\n",
      "fp: 0\n",
      "fn: 80\n"
     ]
    },
    {
     "name": "stderr",
     "output_type": "stream",
     "text": [
      "Training Epochs:  11%|█         | 1/9 [01:58<15:44, 118.06s/it]"
     ]
    },
    {
     "name": "stdout",
     "output_type": "stream",
     "text": [
      "\n",
      "\n",
      "Training (1/9): {'precision': 0.5599060297572436, 'recall': 0.4005602240896359, 'f1': 0.46701502286087526, 'tp': 715, 'tn': 1478, 'fp': 562, 'fn': 1070} Loss: 0.6691\n",
      "\n",
      "---------- EVALUATION ----------\n",
      "Document Accuracy: 0.0649\n",
      "Soft Document Accuracy: 1.0\n",
      "Chunk Accuracy: 0.3006\n",
      "Loss: 0.6407615492096195\n",
      "precision: 0.060203283815480846\n",
      "recall: 0.9625\n",
      "f1: 0.11331861662987491\n",
      "tp: 77\n",
      "tn: 441\n",
      "fp: 1202\n",
      "fn: 3\n"
     ]
    },
    {
     "name": "stderr",
     "output_type": "stream",
     "text": [
      "Training Epochs:  22%|██▏       | 2/9 [03:56<13:48, 118.31s/it]"
     ]
    },
    {
     "name": "stdout",
     "output_type": "stream",
     "text": [
      "\n",
      "\n",
      "Training (2/9): {'precision': 0.6580811332904056, 'recall': 0.5725490196078431, 'f1': 0.6123427201917315, 'tp': 1022, 'tn': 1509, 'fp': 531, 'fn': 763} Loss: 0.62369\n",
      "\n",
      "---------- EVALUATION ----------\n",
      "Document Accuracy: 0.5325\n",
      "Soft Document Accuracy: 0.0606\n",
      "Chunk Accuracy: 0.9495\n",
      "Loss: 0.38778238511317736\n",
      "precision: 0.23076923076923078\n",
      "recall: 0.0375\n",
      "f1: 0.06451612903225808\n",
      "tp: 3\n",
      "tn: 1633\n",
      "fp: 10\n",
      "fn: 77\n"
     ]
    },
    {
     "name": "stderr",
     "output_type": "stream",
     "text": [
      "Training Epochs:  33%|███▎      | 3/9 [05:54<11:50, 118.36s/it]"
     ]
    },
    {
     "name": "stdout",
     "output_type": "stream",
     "text": [
      "\n",
      "\n",
      "Training (3/9): {'precision': 0.7525387493319081, 'recall': 0.7887955182072829, 'f1': 0.7702407002188184, 'tp': 1408, 'tn': 1577, 'fp': 463, 'fn': 377} Loss: 0.48255\n",
      "\n",
      "---------- EVALUATION ----------\n",
      "Document Accuracy: 0.4805\n",
      "Soft Document Accuracy: 0.3939\n",
      "Chunk Accuracy: 0.9391\n",
      "Loss: 0.1635718263395421\n",
      "precision: 0.323943661971831\n",
      "recall: 0.2875\n",
      "f1: 0.304635761589404\n",
      "tp: 23\n",
      "tn: 1595\n",
      "fp: 48\n",
      "fn: 57\n"
     ]
    },
    {
     "name": "stderr",
     "output_type": "stream",
     "text": [
      "Training Epochs:  44%|████▍     | 4/9 [07:53<09:52, 118.40s/it]"
     ]
    },
    {
     "name": "stdout",
     "output_type": "stream",
     "text": [
      "\n",
      "\n",
      "Training (4/9): {'precision': 0.9284543965046422, 'recall': 0.9523809523809523, 'f1': 0.9402654867256637, 'tp': 1700, 'tn': 1909, 'fp': 131, 'fn': 85} Loss: 0.24217\n",
      "\n",
      "---------- EVALUATION ----------\n",
      "Document Accuracy: 0.4675\n",
      "Soft Document Accuracy: 0.3939\n",
      "Chunk Accuracy: 0.9431\n",
      "Loss: 0.16559821615969253\n",
      "precision: 0.36363636363636365\n",
      "recall: 0.3\n",
      "f1: 0.32876712328767127\n",
      "tp: 24\n",
      "tn: 1601\n",
      "fp: 42\n",
      "fn: 56\n"
     ]
    },
    {
     "name": "stderr",
     "output_type": "stream",
     "text": [
      "Training Epochs:  56%|█████▌    | 5/9 [09:51<07:53, 118.27s/it]"
     ]
    },
    {
     "name": "stdout",
     "output_type": "stream",
     "text": [
      "\n",
      "\n",
      "Training (5/9): {'precision': 0.9523551705468327, 'recall': 0.9854341736694678, 'f1': 0.9686123348017621, 'tp': 1759, 'tn': 1952, 'fp': 88, 'fn': 26} Loss: 0.18072\n",
      "\n",
      "---------- EVALUATION ----------\n",
      "Document Accuracy: 0.4416\n",
      "Soft Document Accuracy: 0.4242\n",
      "Chunk Accuracy: 0.9472\n",
      "Loss: 0.1916761529367238\n",
      "precision: 0.4153846153846154\n",
      "recall: 0.3375\n",
      "f1: 0.3724137931034483\n",
      "tp: 27\n",
      "tn: 1605\n",
      "fp: 38\n",
      "fn: 53\n"
     ]
    },
    {
     "name": "stderr",
     "output_type": "stream",
     "text": [
      "Training Epochs:  67%|██████▋   | 6/9 [11:49<05:54, 118.15s/it]"
     ]
    },
    {
     "name": "stdout",
     "output_type": "stream",
     "text": [
      "\n",
      "\n",
      "Training (6/9): {'precision': 0.9573434125269978, 'recall': 0.9932773109243698, 'f1': 0.9749793786087435, 'tp': 1773, 'tn': 1961, 'fp': 79, 'fn': 12} Loss: 0.16576\n",
      "\n",
      "---------- EVALUATION ----------\n",
      "Document Accuracy: 0.5325\n",
      "Soft Document Accuracy: 0.3636\n",
      "Chunk Accuracy: 0.9483\n",
      "Loss: 0.2069304543196527\n",
      "precision: 0.40816326530612246\n",
      "recall: 0.25\n",
      "f1: 0.31007751937984496\n",
      "tp: 20\n",
      "tn: 1614\n",
      "fp: 29\n",
      "fn: 60\n"
     ]
    },
    {
     "name": "stderr",
     "output_type": "stream",
     "text": [
      "Training Epochs:  78%|███████▊  | 7/9 [13:47<03:56, 118.13s/it]"
     ]
    },
    {
     "name": "stdout",
     "output_type": "stream",
     "text": [
      "\n",
      "\n",
      "Training (7/9): {'precision': 0.9636659436008677, 'recall': 0.9955182072829132, 'f1': 0.9793331496279967, 'tp': 1777, 'tn': 1973, 'fp': 67, 'fn': 8} Loss: 0.14662\n",
      "\n",
      "---------- EVALUATION ----------\n",
      "Document Accuracy: 0.4805\n",
      "Soft Document Accuracy: 0.2424\n",
      "Chunk Accuracy: 0.9489\n",
      "Loss: 0.22188480264337643\n",
      "precision: 0.4090909090909091\n",
      "recall: 0.225\n",
      "f1: 0.2903225806451613\n",
      "tp: 18\n",
      "tn: 1617\n",
      "fp: 26\n",
      "fn: 62\n"
     ]
    },
    {
     "name": "stderr",
     "output_type": "stream",
     "text": [
      "Training Epochs:  89%|████████▉ | 8/9 [15:45<01:57, 117.98s/it]"
     ]
    },
    {
     "name": "stdout",
     "output_type": "stream",
     "text": [
      "\n",
      "\n",
      "Training (8/9): {'precision': 0.9653492149431511, 'recall': 0.9988795518207283, 'f1': 0.9818281938325991, 'tp': 1783, 'tn': 1976, 'fp': 64, 'fn': 2} Loss: 0.13972\n",
      "\n",
      "---------- EVALUATION ----------\n",
      "Document Accuracy: 0.5065\n",
      "Soft Document Accuracy: 0.303\n",
      "Chunk Accuracy: 0.9565\n",
      "Loss: 0.2673680731205059\n",
      "precision: 0.5675675675675675\n",
      "recall: 0.2625\n",
      "f1: 0.35897435897435903\n",
      "tp: 21\n",
      "tn: 1627\n",
      "fp: 16\n",
      "fn: 59\n"
     ]
    },
    {
     "name": "stderr",
     "output_type": "stream",
     "text": [
      "Training Epochs: 100%|██████████| 9/9 [17:42<00:00, 118.10s/it]"
     ]
    },
    {
     "name": "stdout",
     "output_type": "stream",
     "text": [
      "Finished Training!\n"
     ]
    },
    {
     "name": "stderr",
     "output_type": "stream",
     "text": [
      "\n"
     ]
    },
    {
     "data": {
      "image/png": "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\n",
      "text/plain": [
       "<Figure size 432x288 with 1 Axes>"
      ]
     },
     "metadata": {
      "needs_background": "light"
     },
     "output_type": "display_data"
    },
    {
     "data": {
      "image/png": "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\n",
      "text/plain": [
       "<Figure size 432x288 with 1 Axes>"
      ]
     },
     "metadata": {
      "needs_background": "light"
     },
     "output_type": "display_data"
    },
    {
     "name": "stdout",
     "output_type": "stream",
     "text": [
      "Found existing file, loading....\n",
      "Finished loading file\n",
      "Found existing file, loading....\n",
      "Finished loading file\n",
      "Ratio: 0.4\n",
      "Pos train: 98\n",
      "Neg train: 157\n",
      "Batch size: 14\n",
      "Randomizing training and test data..\n",
      "Reading in glove vector\n",
      "Finished reading glove vector\n"
     ]
    },
    {
     "name": "stderr",
     "output_type": "stream",
     "text": [
      "Training Epochs:   0%|          | 0/9 [00:00<?, ?it/s]"
     ]
    },
    {
     "name": "stdout",
     "output_type": "stream",
     "text": [
      "\n",
      "\n",
      "Training (0/9): {'precision': 0.4235294117647059, 'recall': 0.047058823529411764, 'f1': 0.08470588235294117, 'tp': 72, 'tn': 1942, 'fp': 98, 'fn': 1458} Loss: 0.69035\n",
      "\n",
      "---------- EVALUATION ----------\n",
      "Document Accuracy: 0.6154\n",
      "Soft Document Accuracy: 0.0\n",
      "Chunk Accuracy: 0.9792\n",
      "Loss: 0.6287755950903281\n",
      "Couldnt calculate precision, division by zero\n",
      "Couldnt calculate f1, division by zero\n",
      "precision: None\n",
      "recall: 0.0\n",
      "f1: None\n",
      "tp: 0\n",
      "tn: 1738\n",
      "fp: 0\n",
      "fn: 37\n"
     ]
    },
    {
     "name": "stderr",
     "output_type": "stream",
     "text": [
      "Training Epochs:  11%|█         | 1/9 [01:51<14:51, 111.41s/it]"
     ]
    },
    {
     "name": "stdout",
     "output_type": "stream",
     "text": [
      "\n",
      "\n",
      "Training (1/9): {'precision': 0.7219101123595506, 'recall': 0.16797385620915034, 'f1': 0.27253446447507956, 'tp': 257, 'tn': 1941, 'fp': 99, 'fn': 1273} Loss: 0.62203\n",
      "\n",
      "---------- EVALUATION ----------\n",
      "Document Accuracy: 0.3718\n",
      "Soft Document Accuracy: 0.1333\n",
      "Chunk Accuracy: 0.9425\n",
      "Loss: 0.2657942230311724\n",
      "precision: 0.0547945205479452\n",
      "recall: 0.10810810810810811\n",
      "f1: 0.07272727272727272\n",
      "tp: 4\n",
      "tn: 1669\n",
      "fp: 69\n",
      "fn: 33\n"
     ]
    },
    {
     "name": "stderr",
     "output_type": "stream",
     "text": [
      "Training Epochs:  22%|██▏       | 2/9 [03:44<13:05, 112.27s/it]"
     ]
    },
    {
     "name": "stdout",
     "output_type": "stream",
     "text": [
      "\n",
      "\n",
      "Training (2/9): {'precision': 0.8808095952023988, 'recall': 0.7679738562091504, 'f1': 0.8205307262569832, 'tp': 1175, 'tn': 1881, 'fp': 159, 'fn': 355} Loss: 0.29824\n",
      "\n",
      "---------- EVALUATION ----------\n",
      "Document Accuracy: 0.3974\n",
      "Soft Document Accuracy: 0.1333\n",
      "Chunk Accuracy: 0.9392\n",
      "Loss: 0.22094078387062138\n",
      "precision: 0.05063291139240506\n",
      "recall: 0.10810810810810811\n",
      "f1: 0.06896551724137931\n",
      "tp: 4\n",
      "tn: 1663\n",
      "fp: 75\n",
      "fn: 33\n"
     ]
    },
    {
     "name": "stderr",
     "output_type": "stream",
     "text": [
      "Training Epochs:  33%|███▎      | 3/9 [05:42<11:31, 115.19s/it]"
     ]
    },
    {
     "name": "stdout",
     "output_type": "stream",
     "text": [
      "\n",
      "\n",
      "Training (3/9): {'precision': 0.9095873786407767, 'recall': 0.9797385620915032, 'f1': 0.9433606041535556, 'tp': 1499, 'tn': 1891, 'fp': 149, 'fn': 31} Loss: 0.19615\n",
      "\n",
      "---------- EVALUATION ----------\n",
      "Document Accuracy: 0.4359\n",
      "Soft Document Accuracy: 0.0333\n",
      "Chunk Accuracy: 0.9634\n",
      "Loss: 0.25360630107043575\n",
      "precision: 0.03333333333333333\n",
      "recall: 0.02702702702702703\n",
      "f1: 0.029850746268656716\n",
      "tp: 1\n",
      "tn: 1709\n",
      "fp: 29\n",
      "fn: 36\n"
     ]
    },
    {
     "name": "stderr",
     "output_type": "stream",
     "text": [
      "Training Epochs:  44%|████▍     | 4/9 [07:40<09:39, 115.97s/it]"
     ]
    },
    {
     "name": "stdout",
     "output_type": "stream",
     "text": [
      "\n",
      "\n",
      "Training (4/9): {'precision': 0.9488636363636364, 'recall': 0.9823529411764705, 'f1': 0.9653179190751444, 'tp': 1503, 'tn': 1959, 'fp': 81, 'fn': 27} Loss: 0.17608\n",
      "\n",
      "---------- EVALUATION ----------\n",
      "Document Accuracy: 0.4872\n",
      "Soft Document Accuracy: 0.0333\n",
      "Chunk Accuracy: 0.9668\n",
      "Loss: 0.32815031566431757\n",
      "precision: 0.041666666666666664\n",
      "recall: 0.02702702702702703\n",
      "f1: 0.03278688524590164\n",
      "tp: 1\n",
      "tn: 1715\n",
      "fp: 23\n",
      "fn: 36\n"
     ]
    },
    {
     "name": "stderr",
     "output_type": "stream",
     "text": [
      "Training Epochs:  56%|█████▌    | 5/9 [09:37<07:45, 116.43s/it]"
     ]
    },
    {
     "name": "stdout",
     "output_type": "stream",
     "text": [
      "\n",
      "\n",
      "Training (5/9): {'precision': 0.9531542785758901, 'recall': 0.9973856209150327, 'f1': 0.9747684445863942, 'tp': 1526, 'tn': 1965, 'fp': 75, 'fn': 4} Loss: 0.15591\n",
      "\n",
      "---------- EVALUATION ----------\n",
      "Document Accuracy: 0.4359\n",
      "Soft Document Accuracy: 0.0333\n",
      "Chunk Accuracy: 0.9566\n",
      "Loss: 0.3792069821416729\n",
      "precision: 0.023809523809523808\n",
      "recall: 0.02702702702702703\n",
      "f1: 0.02531645569620253\n",
      "tp: 1\n",
      "tn: 1697\n",
      "fp: 41\n",
      "fn: 36\n"
     ]
    },
    {
     "name": "stderr",
     "output_type": "stream",
     "text": [
      "Training Epochs:  67%|██████▋   | 6/9 [11:36<05:52, 117.45s/it]"
     ]
    },
    {
     "name": "stdout",
     "output_type": "stream",
     "text": [
      "\n",
      "\n",
      "Training (6/9): {'precision': 0.9664131812420785, 'recall': 0.9967320261437909, 'f1': 0.9813384813384813, 'tp': 1525, 'tn': 1987, 'fp': 53, 'fn': 5} Loss: 0.14124\n",
      "\n",
      "---------- EVALUATION ----------\n",
      "Document Accuracy: 0.4359\n",
      "Soft Document Accuracy: 0.0333\n",
      "Chunk Accuracy: 0.9555\n",
      "Loss: 0.41789405095686305\n",
      "precision: 0.022727272727272728\n",
      "recall: 0.02702702702702703\n",
      "f1: 0.02469135802469136\n",
      "tp: 1\n",
      "tn: 1695\n",
      "fp: 43\n",
      "fn: 36\n"
     ]
    },
    {
     "name": "stderr",
     "output_type": "stream",
     "text": [
      "Training Epochs:  78%|███████▊  | 7/9 [13:34<03:54, 117.39s/it]"
     ]
    },
    {
     "name": "stdout",
     "output_type": "stream",
     "text": [
      "\n",
      "\n",
      "Training (7/9): {'precision': 0.9579145728643216, 'recall': 0.9967320261437909, 'f1': 0.9769378603459321, 'tp': 1525, 'tn': 1973, 'fp': 67, 'fn': 5} Loss: 0.14344\n",
      "\n",
      "---------- EVALUATION ----------\n",
      "Document Accuracy: 0.5256\n",
      "Soft Document Accuracy: 0.0333\n",
      "Chunk Accuracy: 0.9701\n",
      "Loss: 0.4377804906633331\n",
      "precision: 0.05555555555555555\n",
      "recall: 0.02702702702702703\n",
      "f1: 0.03636363636363636\n",
      "tp: 1\n",
      "tn: 1721\n",
      "fp: 17\n",
      "fn: 36\n"
     ]
    },
    {
     "name": "stderr",
     "output_type": "stream",
     "text": [
      "Training Epochs:  89%|████████▉ | 8/9 [15:31<01:57, 117.55s/it]"
     ]
    },
    {
     "name": "stdout",
     "output_type": "stream",
     "text": [
      "\n",
      "\n",
      "Training (8/9): {'precision': 0.9508094645080947, 'recall': 0.9980392156862745, 'f1': 0.9738520408163266, 'tp': 1527, 'tn': 1961, 'fp': 79, 'fn': 3} Loss: 0.14119\n",
      "\n",
      "---------- EVALUATION ----------\n",
      "Document Accuracy: 0.3718\n",
      "Soft Document Accuracy: 0.0333\n",
      "Chunk Accuracy: 0.9476\n",
      "Loss: 0.46796180662428155\n",
      "precision: 0.017241379310344827\n",
      "recall: 0.02702702702702703\n",
      "f1: 0.021052631578947368\n",
      "tp: 1\n",
      "tn: 1681\n",
      "fp: 57\n",
      "fn: 36\n"
     ]
    },
    {
     "name": "stderr",
     "output_type": "stream",
     "text": [
      "Training Epochs: 100%|██████████| 9/9 [17:29<00:00, 116.61s/it]"
     ]
    },
    {
     "name": "stdout",
     "output_type": "stream",
     "text": [
      "Finished Training!\n"
     ]
    },
    {
     "name": "stderr",
     "output_type": "stream",
     "text": [
      "\n"
     ]
    },
    {
     "data": {
      "image/png": "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\n",
      "text/plain": [
       "<Figure size 432x288 with 1 Axes>"
      ]
     },
     "metadata": {
      "needs_background": "light"
     },
     "output_type": "display_data"
    },
    {
     "data": {
      "image/png": "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\n",
      "text/plain": [
       "<Figure size 432x288 with 1 Axes>"
      ]
     },
     "metadata": {
      "needs_background": "light"
     },
     "output_type": "display_data"
    },
    {
     "name": "stdout",
     "output_type": "stream",
     "text": [
      "Found existing file, loading....\n",
      "Finished loading file\n",
      "Found existing file, loading....\n",
      "Finished loading file\n",
      "Ratio: 0.3\n",
      "Pos train: 86\n",
      "Neg train: 169\n",
      "Batch size: 15\n",
      "Randomizing training and test data..\n",
      "Reading in glove vector\n",
      "Finished reading glove vector\n"
     ]
    },
    {
     "name": "stderr",
     "output_type": "stream",
     "text": [
      "Training Epochs:   0%|          | 0/9 [00:00<?, ?it/s]"
     ]
    },
    {
     "name": "stdout",
     "output_type": "stream",
     "text": [
      "\n",
      "\n",
      "Training (0/9): {'precision': 0.3108108108108108, 'recall': 0.01803921568627451, 'f1': 0.0340993328391401, 'tp': 23, 'tn': 2499, 'fp': 51, 'fn': 1252} Loss: 0.65129\n",
      "\n",
      "---------- EVALUATION ----------\n",
      "Document Accuracy: 0.6623\n",
      "Soft Document Accuracy: 0.0\n",
      "Chunk Accuracy: 0.9617\n",
      "Loss: 0.49619868552529967\n",
      "Couldnt calculate precision, division by zero\n",
      "Couldnt calculate f1, division by zero\n",
      "precision: None\n",
      "recall: 0.0\n",
      "f1: None\n",
      "tp: 0\n",
      "tn: 1657\n",
      "fp: 0\n",
      "fn: 66\n"
     ]
    },
    {
     "name": "stderr",
     "output_type": "stream",
     "text": [
      "Training Epochs:  11%|█         | 1/9 [02:00<16:03, 120.45s/it]"
     ]
    },
    {
     "name": "stdout",
     "output_type": "stream",
     "text": [
      "\n",
      "\n",
      "Training (1/9): {'precision': 0.25, 'recall': 0.000784313725490196, 'f1': 0.001563721657544957, 'tp': 1, 'tn': 2547, 'fp': 3, 'fn': 1274} Loss: 0.54662\n",
      "\n",
      "---------- EVALUATION ----------\n",
      "Document Accuracy: 0.6623\n",
      "Soft Document Accuracy: 0.0\n",
      "Chunk Accuracy: 0.9617\n",
      "Loss: 0.30665273190318765\n",
      "Couldnt calculate precision, division by zero\n",
      "Couldnt calculate f1, division by zero\n",
      "precision: None\n",
      "recall: 0.0\n",
      "f1: None\n",
      "tp: 0\n",
      "tn: 1657\n",
      "fp: 0\n",
      "fn: 66\n"
     ]
    },
    {
     "name": "stderr",
     "output_type": "stream",
     "text": [
      "Training Epochs:  22%|██▏       | 2/9 [04:04<14:16, 122.33s/it]"
     ]
    },
    {
     "name": "stdout",
     "output_type": "stream",
     "text": [
      "\n",
      "\n",
      "Training (2/9): {'precision': 0.9274193548387096, 'recall': 0.7215686274509804, 'f1': 0.811645346272607, 'tp': 920, 'tn': 2478, 'fp': 72, 'fn': 355} Loss: 0.30256\n",
      "\n",
      "---------- EVALUATION ----------\n",
      "Document Accuracy: 0.3506\n",
      "Soft Document Accuracy: 0.2308\n",
      "Chunk Accuracy: 0.917\n",
      "Loss: 0.25037220051185555\n",
      "precision: 0.1111111111111111\n",
      "recall: 0.16666666666666666\n",
      "f1: 0.13333333333333333\n",
      "tp: 11\n",
      "tn: 1569\n",
      "fp: 88\n",
      "fn: 55\n"
     ]
    },
    {
     "name": "stderr",
     "output_type": "stream",
     "text": [
      "Training Epochs:  33%|███▎      | 3/9 [06:07<12:17, 122.97s/it]"
     ]
    },
    {
     "name": "stdout",
     "output_type": "stream",
     "text": [
      "\n",
      "\n",
      "Training (3/9): {'precision': 0.9727201870615745, 'recall': 0.9788235294117648, 'f1': 0.9757623143080532, 'tp': 1248, 'tn': 2515, 'fp': 35, 'fn': 27} Loss: 0.23216\n",
      "\n",
      "---------- EVALUATION ----------\n",
      "Document Accuracy: 0.5325\n",
      "Soft Document Accuracy: 0.1538\n",
      "Chunk Accuracy: 0.9466\n",
      "Loss: 0.2762388226269236\n",
      "precision: 0.175\n",
      "recall: 0.10606060606060606\n",
      "f1: 0.13207547169811318\n",
      "tp: 7\n",
      "tn: 1624\n",
      "fp: 33\n",
      "fn: 59\n"
     ]
    },
    {
     "name": "stderr",
     "output_type": "stream",
     "text": [
      "Training Epochs:  44%|████▍     | 4/9 [08:12<10:18, 123.75s/it]"
     ]
    },
    {
     "name": "stdout",
     "output_type": "stream",
     "text": [
      "\n",
      "\n",
      "Training (4/9): {'precision': 0.9737451737451738, 'recall': 0.9890196078431372, 'f1': 0.9813229571984436, 'tp': 1261, 'tn': 2516, 'fp': 34, 'fn': 14} Loss: 0.22068\n",
      "\n",
      "---------- EVALUATION ----------\n",
      "Document Accuracy: 0.4805\n",
      "Soft Document Accuracy: 0.1538\n",
      "Chunk Accuracy: 0.935\n",
      "Loss: 0.3088226614032795\n",
      "precision: 0.140625\n",
      "recall: 0.13636363636363635\n",
      "f1: 0.13846153846153844\n",
      "tp: 9\n",
      "tn: 1602\n",
      "fp: 55\n",
      "fn: 57\n"
     ]
    },
    {
     "name": "stderr",
     "output_type": "stream",
     "text": [
      "Training Epochs:  56%|█████▌    | 5/9 [10:16<08:15, 123.85s/it]"
     ]
    },
    {
     "name": "stdout",
     "output_type": "stream",
     "text": [
      "\n",
      "\n",
      "Training (5/9): {'precision': 0.9752704791344667, 'recall': 0.9898039215686274, 'f1': 0.9824834565978979, 'tp': 1262, 'tn': 2518, 'fp': 32, 'fn': 13} Loss: 0.21222\n",
      "\n",
      "---------- EVALUATION ----------\n",
      "Document Accuracy: 0.5455\n",
      "Soft Document Accuracy: 0.1538\n",
      "Chunk Accuracy: 0.946\n",
      "Loss: 0.33415403037809943\n",
      "precision: 0.17073170731707318\n",
      "recall: 0.10606060606060606\n",
      "f1: 0.13084112149532712\n",
      "tp: 7\n",
      "tn: 1623\n",
      "fp: 34\n",
      "fn: 59\n"
     ]
    },
    {
     "name": "stderr",
     "output_type": "stream",
     "text": [
      "Training Epochs:  67%|██████▋   | 6/9 [12:19<06:10, 123.34s/it]"
     ]
    },
    {
     "name": "stdout",
     "output_type": "stream",
     "text": [
      "\n",
      "\n",
      "Training (6/9): {'precision': 0.9807098765432098, 'recall': 0.9968627450980392, 'f1': 0.9887203422792687, 'tp': 1271, 'tn': 2525, 'fp': 25, 'fn': 4} Loss: 0.19888\n",
      "\n",
      "---------- EVALUATION ----------\n",
      "Document Accuracy: 0.2468\n",
      "Soft Document Accuracy: 0.4231\n",
      "Chunk Accuracy: 0.8468\n",
      "Loss: 0.33589315932722574\n",
      "precision: 0.0875\n",
      "recall: 0.3181818181818182\n",
      "f1: 0.13725490196078433\n",
      "tp: 21\n",
      "tn: 1438\n",
      "fp: 219\n",
      "fn: 45\n"
     ]
    },
    {
     "name": "stderr",
     "output_type": "stream",
     "text": [
      "Training Epochs:  78%|███████▊  | 7/9 [14:23<04:07, 123.54s/it]"
     ]
    },
    {
     "name": "stdout",
     "output_type": "stream",
     "text": [
      "\n",
      "\n",
      "Training (7/9): {'precision': 0.9738863287250384, 'recall': 0.9945098039215686, 'f1': 0.9840900271633684, 'tp': 1268, 'tn': 2516, 'fp': 34, 'fn': 7} Loss: 0.19746\n",
      "\n",
      "---------- EVALUATION ----------\n",
      "Document Accuracy: 0.5065\n",
      "Soft Document Accuracy: 0.1538\n",
      "Chunk Accuracy: 0.9391\n",
      "Loss: 0.37215828544079266\n",
      "precision: 0.14545454545454545\n",
      "recall: 0.12121212121212122\n",
      "f1: 0.1322314049586777\n",
      "tp: 8\n",
      "tn: 1610\n",
      "fp: 47\n",
      "fn: 58\n"
     ]
    },
    {
     "name": "stderr",
     "output_type": "stream",
     "text": [
      "Training Epochs:  89%|████████▉ | 8/9 [16:27<02:03, 123.85s/it]"
     ]
    },
    {
     "name": "stdout",
     "output_type": "stream",
     "text": [
      "\n",
      "\n",
      "Training (8/9): {'precision': 0.9830377794911334, 'recall': 1.0, 'f1': 0.9914463452566096, 'tp': 1275, 'tn': 2528, 'fp': 22, 'fn': 0} Loss: 0.18338\n",
      "\n",
      "---------- EVALUATION ----------\n",
      "Document Accuracy: 0.5065\n",
      "Soft Document Accuracy: 0.1538\n",
      "Chunk Accuracy: 0.9414\n",
      "Loss: 0.4002369716156822\n",
      "precision: 0.16981132075471697\n",
      "recall: 0.13636363636363635\n",
      "f1: 0.1512605042016807\n",
      "tp: 9\n",
      "tn: 1613\n",
      "fp: 44\n",
      "fn: 57\n"
     ]
    },
    {
     "name": "stderr",
     "output_type": "stream",
     "text": [
      "Training Epochs: 100%|██████████| 9/9 [18:31<00:00, 123.47s/it]"
     ]
    },
    {
     "name": "stdout",
     "output_type": "stream",
     "text": [
      "Finished Training!\n"
     ]
    },
    {
     "name": "stderr",
     "output_type": "stream",
     "text": [
      "\n"
     ]
    },
    {
     "data": {
      "image/png": "iVBORw0KGgoAAAANSUhEUgAAAXQAAAEICAYAAABPgw/pAAAAOXRFWHRTb2Z0d2FyZQBNYXRwbG90bGliIHZlcnNpb24zLjMuNCwgaHR0cHM6Ly9tYXRwbG90bGliLm9yZy8QVMy6AAAACXBIWXMAAAsTAAALEwEAmpwYAAAz2UlEQVR4nO3deXxU5dn/8c+Vyb5AyMaSsIRd9iyiICqIKLgLWrEutdrHaqtWbR+Xto+lT+3T1l8XtdZa69bWXUHFvVJFQVwIi+z7mrBkgUACZJ3r98eZhAAhJGGSMzO53q/XvDJz5syZK0P45s597nPfoqoYY4wJfmFuF2CMMcY/LNCNMSZEWKAbY0yIsEA3xpgQYYFujDEhwgLdGGNChAW68TsReV9EvuN2HcZ0NBboBgARKW9w84rIoQaPr2nJsVR1iqr+o5V1bBGRc1vzWjeJyDUNPq9Dvs+w/jNtxfH6iIiKSHgT+8wQkedPrnITSizQDQCqGl93A7YBFzfY9kLdfk0FTEemqi80+PymADuO+kyNaXMW6KZJIjJeRPJF5F4R2QU8KyJdROQdESkSkb2++xkNXjNXRL7nu3+DiMwXkd/79t0sIlNaUUeUiDwsIjt8t4dFJMr3XIqvhlIR2SMi80QkzPfcvSJSICJlIrJWRCY2cuzTRWSXiHgabLtcRJb57o8WkTwR2S8iu0Xkjy2svYeIzPR9XptF5I4Gzx3v2J/5vpb6WvljWviel4jISt9nMldETmnwXKOfycl+n8Z9FuimOboBSUBv4Gacn5tnfY97AYeAx5p4/WnAWiAFeAh4WkSkhTX8DDgdGAWMBEYDP/c992MgH0gFugI/BVREBgG3AaeqagJwPrDl6AOr6pfAAeCcBpu/Dbzou/8I8IiqdgL6Aa82t2jfL5a3gW+AdGAicKeInH+CY5/l+5roa+V/0YL3HAi8BNyJ85m8B7wtIpEn+Exa/X2awGCBbprDC/xCVStV9ZCqlqjqTFU9qKplwK+Bs5t4/VZV/buq1gL/ALrjBG9LXAP8r6oWqmoR8EvgOt9z1b5j9lbValWdp84kRbVAFDBERCJUdYuqbjzO8V8CrgYQkQTgAt+2uuP3F5EUVS33/QJorlOBVFX9X1WtUtVNwN+B6X449vFcBbyrqh+pajXweyAGGEvTn0lb1GLakQW6aY4iVa2oeyAisSLyNxHZKiL7cboHEht2WRxlV90dVT3ou9vSfuUewNYGj7f6tgH8P2AD8G8R2SQi9/neawNOK3UGUCgiL4tIDxr3IjDV140zFVisqnXvdxMwEFgjIgtF5KIW1N0b6OHr+igVkVKcvyDqfqGdzLGP54jPSlW9wHYg/QSfSVvUYtqRBbppjqOn5PwxMAg4zffneV33QEu7UVpiB0441unl24aqlqnqj1W1L3AxcHddv7Cqvqiq43yvVeB3jR1cVVfhhOAUjuxuQVXXq+rVQJrv9a+LSFwz694ObFbVxAa3BFW94ATHPplpUI/4rHzdWz2BAt97NvqZnOT3aQKABbppjQScfvNSEUkCfuHn40eISHSDWzhO98fPRSRVRFKAB4DnAUTkIhHp7wuu/TjdCrUiMkhEzvG1uit8Ndc28b4vAnfg/IJ6rW6jiFwrIqm+lm6pb3NTx2noa2C/70RkjIh4RGSYiJx6gmMX4XR19T3B8cOO+qyicPq+LxSRiSISgfMLuBJY0NRncpLfpwkAFuimNR7G6ZMtBr4EPvDz8d/DCZq62wzgQSAPWAYsBxb7tgEMAOYA5cAXwOOqOhenr/i3vjp34bQ8f9rE+74EjAc+VtXiBtsnAyvFGU/+CDC9YRdUU3znDS7GOZm72VfLU0Dnpo7t65r6NfC5r6vm9OO8xdUc+VltVNW1wLXAn33vdzHOMNSqE3wmrf4+TWAQW+DCGGNCg7XQjTEmRFigG2NMiLBAN8aYEGGBbowxIcK1iZZSUlK0T58+br29McYEpUWLFhWrampjz7kW6H369CEvL8+ttzfGmKAkIluP95x1uRhjTIiwQDfGmBBhgW6MMSHCVp8xxgSN6upq8vPzqagI/RkJoqOjycjIICIiotmvsUA3xgSN/Px8EhIS6NOnDy1fIyV4qColJSXk5+eTmZnZ7NdZl4sxJmhUVFSQnJwc0mEOICIkJye3+C8RC3RjTFAJ9TCv05rvM+gCvaiskl++vZKqGq/bpRhjTEAJukBfuGUPz36+hftnLcem/jXGtKeSkhJGjRrFqFGj6NatG+np6fWPq6qqmnxtXl4ed9xxR5vWF3QnRS8Y3p27zh3In+aso09yLLdPHOB2ScaYDiI5OZmlS5cCMGPGDOLj4/nJT35S/3xNTQ3h4Y3Ham5uLrm5uW1aX9C10AHumNifqVnp/OGjdby1tMDtcowxHdgNN9zA3XffzYQJE7j33nv5+uuvGTt2LFlZWYwdO5a1a9cCMHfuXC66yFl3e8aMGdx4442MHz+evn378uijj/qllqBroYNzsuA304ZTUHqI/35tGd07xzA6M8ntsowx7eiXb69k1Y79fj3mkB6d+MXFQ1v8unXr1jFnzhw8Hg/79+/ns88+Izw8nDlz5vDTn/6UmTNnHvOaNWvW8Mknn1BWVsagQYO49dZbWzTmvDFB2UIHiAr38LfrcshIiuHmf+WxufiA2yUZYzqoK6+8Eo/HA8C+ffu48sorGTZsGHfddRcrV65s9DUXXnghUVFRpKSkkJaWxu7du0+6jqBsoddJjI3k2RtO5fLHF/DdZ7/mjR+cQZe4SLfLMsa0g9a0pNtKXFxc/f3/+Z//YcKECbzxxhts2bKF8ePHN/qaqKio+vsej4eampqTriNoW+h1eifH8ffrc9ixr4Kb/5VHRXWt2yUZYzqwffv2kZ6eDsBzzz3Xru8d9IEOkNM7iT9+ayQLt+zlnteX2XBGY4xr7rnnHu6//37OOOMMamvbt4EpboVfbm6u+nuBi8fnbuChD9Zyxzn9ufu8QX49tjHGfatXr+aUU05xu4x209j3KyKLVLXR8Y9B3Yd+tFvP7sfW4oM8+vEGeiXHcUVOhtslGWNMuwmpQBcRHrx8GAWlh7h/1jJ6JEYztl+K22UZY0y7CIk+9IYiPGE8fm02fZLjuOVfi9hQWOZ2ScYY0y5CLtABOkVH8MwNpxIZ7uG7zy2kuLzS7ZKMMabNhWSgA/RMiuXp7+RSVFbJf/3ThjMaY0JfyAY6wMieiTx8VRZLt5dy96tL8XptOKMxJnSFdKADTB7WjZ9dcArvLd/FQx+udbscY0wQO5npc8GZoGvBggVtVl9IjXI5npvGZbKl5ABPfLqR3smxXD26l9slGWOC0Immzz2RuXPnEh8fz9ixY9ukvpBvoYMznHHGxUMZPyiVn7+5gs/WFbldkjEmRCxatIizzz6bnJwczj//fHbu3AnAo48+ypAhQxgxYgTTp09ny5YtPPHEE/zpT39i1KhRzJs3z++1dIgWOkC4J4zHvp3NFX9dwA9eWMzMW8cyqFuC22UZY1rr/ftg13L/HrPbcJjy22bvrqrcfvvtvPXWW6SmpvLKK6/ws5/9jGeeeYbf/va3bN68maioKEpLS0lMTOSWW25pcau+JZrVQheRySKyVkQ2iMh9x9lnvIgsFZGVIvKpf8v0j/iocJ797qnERXm48bmFFO5v2YraxhjTUGVlJStWrGDSpEmMGjWKBx98kPz8fABGjBjBNddcw/PPP3/cVYz87YTvIiIe4C/AJCAfWCgis1V1VYN9EoHHgcmquk1E0tqo3pPWvXMMT3/nVL71ty+46R95vPL904mN7DB/qBgTOlrQkm4rqsrQoUP54osvjnnu3Xff5bPPPmP27Nn86le/Ou686P7UnBb6aGCDqm5S1SrgZeDSo/b5NjBLVbcBqGqhf8v0r2Hpnfnz1Vms3LGPH728lFobzmiMaYWoqCiKiorqA726upqVK1fi9XrZvn07EyZM4KGHHqK0tJTy8nISEhIoK2u7q9ebE+jpwPYGj/N92xoaCHQRkbkiskhErm/sQCJys4jkiUheUZG7JyYnntKVX1w8lI9W7eb/3lvtai3GmOAUFhbG66+/zr333svIkSMZNWoUCxYsoLa2lmuvvZbhw4eTlZXFXXfdRWJiIhdffDFvvPGGqydFpZFtRzdpw4EcYCIQA3whIl+q6rojXqT6JPAkONPntrxc//rO2D5sKTnA0/M30zs5luvH9HG7JGNMkJgxY0b9/c8+++yY5+fPn3/MtoEDB7Js2bI2q6k5gZ4P9GzwOAPY0cg+xap6ADggIp8BI4F1BLifXziE7XsOMWP2SjK6xHDO4K5ul2SMMa3SnC6XhcAAEckUkUhgOjD7qH3eAs4UkXARiQVOA4KiH8MTJjx69SiG9OjEbS8uYeWOfW6XZIwxrXLCQFfVGuA24EOckH5VVVeKyC0icotvn9XAB8Ay4GvgKVVd0XZl+1dsZDhPf+dUEmMiuPG5hezcd8jtkowxx9FRlphszfcZUkvQnaw1u/ZzxV+/oGdSLK/dMob4KBvOaEwg2bx5MwkJCSQnJyPS2Om90KCqlJSUUFZWRmZm5hHPNbUEnQX6UT5dV8SNzy3krAEp/P36XMI9HWJ2BGOCQnV1Nfn5+VRUhP5FgdHR0WRkZBAREXHE9g6zpqg/nD0wlV9dOoyfvrGcX769iv+9dGhItwSMCSYRERHHtFjNYRbojfj2ab3YWnKAv322id7JsXzvzL5ul2SMMSdkgX4c904ezLY9B/n1e6vpmRTL+UO7uV2SMcY0yTqIjyMsTPjTVaMYmZHIj15ewrL8UrdLMsaYJlmgNyE6wsPfr88lJT6Km/6RR/7eg26XZIwxx2WBfgKpCVE8991Tqaiu5cbnFrK/otrtkowxplEW6M3QPy2Bv12bw6aiA/zwhcVU13rdLskYY45hgd5MY/un8Jupw5m3vpj/eXNFh7lazRgTPGyUSwtcmduTbXsO8uePN9A7OY5bx/dzuyRjjKlngd5Cd08ayNaSg/zugzX0SorlwhHd3S7JGGMAC/QWExEeumIEO0oPcderS+nWOZqc3l3cLssYY6wPvTWiIzw8eX0uPTpHc/M/89hWYsMZjTHus0BvpaS4SJ797mhqVbnhua/Zd9CGMxpj3GWBfhIyU+J48rpc8vcc4vvP51FVY8MZjTHusUA/SaMzk3joihF8uWkP981aZsMZjTGusUD3g8uy0rnz3AHMWlzAvPXFbpdjjOmgLND95Nbx/egcE8Hri/LdLsUY00FZoPtJVLiHS0b24MOVuyiz+V6MMS6wQPejqdnpVNZ4eW/5TrdLMcZ0QBbofjSqZyJ9U+OYubjA7VKMMR2QBbofiQjTsjP4evMetu+xi42MMe3LAt3PLstKRwRmWSvdGNPOLND9LD0xhjF9k5m1JN/GpBtj2pUFehuYmp3B1pKDLNq61+1SjDEdiAV6G5gyrBsxER47OWqMaVcW6G0gLiqcKcO68c6yHVRU17pdjjGmg7BAbyPTcjIoq6hhzurdbpdijOkgLNDbyOl9k+neOZqZNhWAMaadWKC3EU+YcHlWOp+tL6awrMLtcowxHYAFehuamp1BrVeZvXSH26UYYzoAC/Q21D8tnpE9E220izGmXVigt7Fp2ems3rmfVTv2u12KMSbENSvQRWSyiKwVkQ0icl8jz48XkX0istR3e8D/pQani0f0IMIjzFpsJ0eNMW3rhIEuIh7gL8AUYAhwtYgMaWTXeao6ynf7Xz/XGbS6xEVyzuA03ly6g5paW3PUGNN2mtNCHw1sUNVNqloFvAxc2rZlhZap2RkUl1fa8nTGmDbVnEBPB7Y3eJzv23a0MSLyjYi8LyJDGzuQiNwsInkikldUVNSKcn0O7mn9a10wYVAaXWIjmGndLsaYNtScQJdGth09jeBioLeqjgT+DLzZ2IFU9UlVzVXV3NTU1BYVWm/56/CHQbBnU+te74LI8DAuGdmDf6/azb5DtjydMaZtNCfQ84GeDR5nAEcMrFbV/apa7rv/HhAhIil+q7KhPuMAgc8faZPDt5VpORlU2fJ0xpg21JxAXwgMEJFMEYkEpgOzG+4gIt1ERHz3R/uOW+LvYgFI6AZZ18DSF2F/8ITj8PTO9E+Lt6kAjDFt5oSBrqo1wG3Ah8Bq4FVVXSkit4jILb7drgBWiMg3wKPAdG3L1R3G3gHeWvjisTZ7C3+rW54ub+tetpYccLscY0wIatY4dFV9T1UHqmo/Vf21b9sTqvqE7/5jqjpUVUeq6umquqAtiyYpE4ZNg7xng+oE6WVZPRDBrhw1xrSJ4L1SdNxdUH0Avvqb25U0W/fOMYzrn8Ksxfl4vbY8nTHGv4I30LsOgUEXwFdPQGWZ29U029TsdPL3HmLhluD5y8IYExyCN9ABxt0NFaWw6Dm3K2m284d2Iy7SwyzrdjHG+FlwB3rPUyHzLFjwGNRUul1Ns8RGhjNleHfeXb6TQ1W2PJ0xxn+CO9DBaaWX73KGMQaJqdnplFfW8O9Vu9wuxRgTQoI/0PuOhx7Z8PnDUFvjdjXNcnpmMumJMdbtYozxq+APdBE488ewdwusetPtapolzLc83bz1Rezeb8vTGWP8I/gDHZzRLqmDYd4fwBscU9ROzU7Hq/DWUmulG2P8IzQCPSzMGZdeuArWf+h2Nc3SNzWerF6JzFxUQFteVGuM6ThCI9DBuXI0sZfTSg+SgJyWncHa3WWstOXpjDF+EDqB7olw5njJXwhb5rtdTbNcNKI7kZ4wmyfdGOMXoRPoAFnXQlya00oPAomxkZw7JI3ZS3dQbcvTGWNOUmgFekQMjPkBbPoECha7XU2zTM3KoORAFZ+uPYkVnIwxhlALdIDcmyCqM8z/o9uVNMvZg1JJjotk1hLrdjHGnJzQC/ToTnDazbD6HSha63Y1JxThCeOSUT2Ys6qQ0oNVbpdjjAlioRfoAKfdAuHRMP9htytplmnZGVTVenlnWfCswGSMCTyhGehxKZBzAyx/FUq3uV3NCQ3t0YlBXRNstIsx5qSEZqADjL0NEFjwZ7crOSERYWp2Oku2lbKpqNztcowxQSp0A71zBoy8Chb/E8oL3a7mhC7LSidM4I0lNhWAMaZ1QjfQAc64y5kn/cvH3a7khLp2imbcgFRmLS6w5emMMa0S2oGe0h+GXAoLn4ZDpW5Xc0LTstMpKD3EV5tteTpjTMuFdqADnHk3VO6HhU+5XckJnTekG/FR4XZy1BjTKqEf6N1HQv9JTrdL1UG3q2lSTKSHC4Z34/3lOzlYFRyLdRhjAkfoBzo4rfSDJbDkX25XckLTsjM4UFXLhytteTpjTMt0jEDvPRZ6jYHPH4WawL4a89Q+SWR0seXpjDEt1zECHZxl6vbnw/LX3K6kSWFhwtTsDOZvKGbnvkNul2OMCSIdJ9D7nwvdhsP8P4G31u1qmjQ1Kx1VeHPJDrdLMcYEkY4T6CIw7m4oWQ+r33a7mib1SYkjt3cXZi7Ot+XpjDHN1nECHZwx6Un9nKl1Azwop2ZnsKGwnOUF+9wuxRgTJDpWoId5YNydsPMb2Pgft6tp0oUjuhMZHmYnR40xzdaxAh1gxHTolA7zAnsBjM4xEUwa0pW3lhZQVWPL0xljTqzjBXp4JIy5DbZ+Dtu+dLuaJl2RncHeg9XMXRv4k4sZY9zX8QIdIOc7EJMU8K30MwekkBIfaVMBGGOapVmBLiKTRWStiGwQkfua2O9UEakVkSv8V2IbiIyD038A6z+EXcvdrua4wj1hXDoqnY/XFLL3QGBfEGWMcd8JA11EPMBfgCnAEOBqERlynP1+B3zo7yLbxOjvQWS8My49gE3LzqC6Vnl7mY1JN8Y0rTkt9NHABlXdpKpVwMvApY3sdzswEwiODt+YLnDqTbDyDSjZ6HY1xzWkRycGd0tgpo12MSb4le2GvGdh21dtcvjmBHo6sL3B43zftnoikg5cDjzR1IFE5GYRyRORvKKiopbW6n+n/xDCIuDzR9yupElX5GTwzfZSNhTa8nTGBJ3i9c6C9U9Ngj8MgnfuhFVvtslbNSfQpZFtR1+V8zBwr6o2eU29qj6pqrmqmpuamtrMEttQQlfIuhaWvgj7A7dL45JRPfCECbPs5Kgxgc/rhfw8mDMDHjsVHsuFOb+A2iqY8DO49Qs4///a5K3Dm7FPPtCzweMM4Oj0ywVeFhGAFOACEalR1Tf9UWSbOuMOWPQcLHgMJrfNh3yy0hKiOWtACm8sKeDH5w3CE9bY71hjjGtqKmHzPFjzDqx9H8p3QVg49BkHo2+GQVOcdY7bWHMCfSEwQEQygQJgOvDthjuoambdfRF5DngnKMIcoEsfGH4FLHoWzvoJxCa5XVGjpmZncPtLS/hyUwln9E9xuxxjTMU+WP8RrHnX+VpVBhFxMOBcGHwRDJjknKtrRycMdFWtEZHbcEaveIBnVHWliNzie77JfvOgMO4uWPYKfPUETPip29U0atKQriREhzNzUb4FujFu2b8D1r7nhPjmeeCthrhUGDbVCfHMsyAi2rXymtNCR1XfA947alujQa6qN5x8We0s7RTnH+OrJ2Ds7RCV4HZFx4iO8HDRiO68uWQHv7qshrioZv3TGWNOhioUrfV1pbwHBYuc7Un94PRbndzIyHXmiQoAlgp1xt3t/KPlPev0qwegqdkZvPT1dj5YsYtpOW3fH2dMh+StdU5qrnnHaYnv8Q1rTs+BiQ84IZ4y0JmSO8BYoNfJyIHMs+GLx5yTGC7+2XQ8ub270CsplpmL8y3QjfGn6grY/KmvJf4BHCh0hjRnngVjfgCDLoBOPdyu8oQs0Bs688fwz0vgmxch90a3qzmGiDA1O51H/rOegtJDpCfGuF2SMcHr0F7fSc13YP0cqD4AkQnOyczBFzpfozu7XWWLWKA3lHmW82fV/Ich63rwBN7HMzUrg4fnrOfNJQX8cEJ/t8sxJrjsy4c17zkhvvVz8NZAfDcYeRUMuhAyz4TwKLerbLXASyw3iTit9Je/DStnwYhvuV3RMXolxzK6TxIzF+fzg/H9kADsxzMmYKhC4arDIb5zqbM9ZaAzAGLwRdAjG8JCY+JZC/SjDZwCqYOdSbuGXRGQ/9DTctK5d+Zylm4vJatX+45zNSYoFK2DJf+C1bNh7xZnW8ZoOPeXTndKygBXy2srFuhHCwtzRry8cTOs+wAGX+B2RceYMrw7D7y1klmLCyzQjalTU+ksAJ/3LGyd71yp2XcCnHGnc6VmQje3K2xzFuiNGTYNPnkQ5v3B+UEIsG6NTtERnD+0G7O/2cHPLzqFqPDAGANrjCtKNjrTdyx9AQ6WQGJvmPgLZ56m+DS3q2tXFuiN8YTDGT+Cd38MW+Y5J0sDzNTsdGZ/s4NP1hQyeVh3t8sxpn3VVMHad53W+OZPQTzOX9M533Va5QHYVdoeLNCPZ9S1MPd3Tis9AAN9XP8U0hKieH1RgQW66Tj2bIbF/4Alz8OBIujcEyb83GmNd7L/BxboxxMRDWNvg48ecC73Tc9xu6IjhHvCuCwrnWfmb6akvJLk+OAdamVMk2qrnfNZec/Axk+cLtCBk53WeP+JAXPZfSDomH+XNFfujc6FBQG6mPTU7HRqvMrsbwJ3LndjWq10G3z8IPxpGLxyrTOnyvj74M4VcPVLMPA8C/OjWAu9KVEJMPr78NlDULgG0ga7XdERBnfrxNAenZi1uIDvnpF54hcYE+hqa2D9v53prNd/5GwbcB7kPgz9JwXkxX6BxFroJ3LaLRARC58/7HYljZqancHygn2s213mdinGtN6+AvjkN/DICHj5ati5zFmf4M5lcM2rzmgzC/MTskA/kbhkyLkBlr0Ke7e6Xc0xLvUtTzfTlqczwcZbC+s+hBenw8PD4NPfORf1XfU83LUCzvk5JPZyu8qgYoHeHGNuAwmDBY+6XckxUuKjGD8wlTeXFFDrPXqpV2MC0P6d8On/g0dGwovfcgYdnHEn/GgpXDcLTrkYPBFuVxmU7G+Y5uicDiOnw+J/wVn3OItLB5BpORn8Z00hn28o5qyBAbD4tjFH83ph08fOuPG174PWQt/xcN6DztS04ZFuVxgSLNCba9xdzpVoXz4Ok37pdjVHOGdwGp2iw5m1ON8C3QSW8kJnTpVF/4DSrRCb7AwHzv4OJPdzu7qQY4HeXMn9YMhlsPBpJ9xjEt2uqF50hIeLR/Zg5uJ8yiqqSYi2P1eNi7xe5+rNRc86K/54a6DPmc5qP6dcHNTT0wY660NviXF3OSt7L/y725UcY2p2BhXVXt5fscvtUkxHdaAYPn8EHsuBf10Gmz9zRondlgc3vAPDr7Awb2PWQm+J7iOcMbFf/hVO/yFExrpdUb3sXolkpsQxc1E+38rt6XY5JhipOiNPvNXO1ZneGudWW+3bVtPguQaPK/bDitedmQ5rq6DXWBh/P5xySUAu5RjKLNBbatzd8OxkWPxPOP0Wt6upJyJMzUrnDx+tY/ueg/RMCpxfNuYk1VbD9q9hy3yo3N8gUKubCNyaBqF8vOcaCenWiu4MuTc5Q3wD7AK8jsQCvaV6j3FaIAsedaYGCKCz85f5Av2NJQXcMTE0J/DvMEq3w4Y5zm3Tp05XH+Jc5OYJdxYw9kQ4X8M8h+83fM4T4fwVWb9veOP7HbG94ePwJp5rcIzwKOg+EiJsjVu3WaC3xpk/hhemwbJXIPs6t6up1zMpltP7JjFrcT63n9PflqcLJtUVzhqXG/7jhHjxWmd7pwwYNhX6nwt9zw66RYtN+7JAb43+E6HbCGc6gFHfDqgJgqZmZ3DP68tYvG0vOb2T3C7HHI+qszBDXSt8y3yoOQSeSOh9BmRf74R46qCAW2DFBC4L9NYQgTPvhtducNYsHHq52xXVu2B4dx54awUzFxdYoAeaynJn5EddiJf6ppJI6nc4wPucAZFx7tZpgpYFemudcgkk93cWwBhyWcC0ouKjwpk8tBvvfLODBy4aQnRE4Pz10OGowu6VhwN825fOiceIOGfRlLG3O3/tJfV1u1ITIizQWyvM48w/Mfs2p99zwLluV1RvWk4Gby7dwX9WF3LhCFvFpV0d2gub5vpC/D9QttPZnjYUTr/VaYX3Ot3GY5s2YYF+MkZcBXN/47TSAyjQx/ZLoVunaGYtzrdAb2teL+xccvhkZv5CUK9z8rLvBCfA+0+ETj3crtR0ABboJyM8EsbeAR/cC1u/cIY0BgBPmHBZVjp/n7eJorJKUhOsNehX5YWw8WMnwDd+7Kw0j0CPLDjzJ06Ip+fY/N2m3dlP3MnKvt5Z0Wj+H6H3a25XU29qdjpPfLqR2d/s4KZxtprRSamtdlredX3hO79xtselOqvo9D8X+k2AuBR36zQdngX6yYqMdfpGP37QWWWl+wi3KwJgYNcEhqd3ZuaifAv01ijdDhv/c/jCnsr9IB7oeRqc8z9OiHcbAWE2HZIJHBbo/nDqf8H8R2D+n+DKZ92upt607HRmvL2K1Tv3c0r3Tm6XE/j2boXlr8LymVC02tnWKcMZlmoX9pgg0KzmhYhMFpG1IrJBRO5r5PlLRWSZiCwVkTwRGef/UgNYTCKcehOsfMOZXtfrdbsiAC4e2YPwMGGWLU93fIf2OosuPDPFWc/y4wchpguc92v4wVfOUmiXPApDLrEwNwHvhC10EfEAfwEmAfnAQhGZraqrGuz2H2C2qqqIjABeBTrWDD3j7nSW0nr3bvjmZbj4Eeg6xNWSkuOjmDA4jTeX7uDeyYMJ91j3AAA1Vc7K8stegXUfODMEpgx0ulKGXwldertdoTGt0pwul9HABlXdBCAiLwOXAvWBrqrlDfaPAzre4pYxXeA7bzth/uFP4W9nOheOnHWPq9PsXpGTwUerdnP/rOX86rJhHfdCI1VnxsJlr8DKWU7LPC7VmSFwxLecESoBcnGYMa3VnEBPB7Y3eJwPnHb0TiJyOfAbIA240C/VBRsRGHW1M2f6Rw84feorZsFFf3T6YF1w3pCu3DahP499soE1u8p4/JrsjjW1bslGWPaqE+R7N0N4DAy+0LmGoN8EW4zYhBRRbboxLSJXAuer6vd8j68DRqvq7cfZ/yzgAVU9JsFE5GbgZoBevXrlbN269STLD3Cb58E7d0HJehg2Dc7/jWsLTH+0ajd3v7IUj0d4ZHoWZ4fy2qMHSpxW+LJXnOGGiHOp/cjpMPgiiLYTxCZ4icgiVc1t9LlmBPoYYIaqnu97fD+Aqv6middsBk5V1eLj7ZObm6t5eXnNKD/I1VTC/Idh3u+d1uGkGZB9gyvD3TYXH+CWfy1iXWEZd587kB9O6E9YWIh0M1RXwLr3ndb4+n87izikDYWRV8GwK6BzutsVGuMXJxvo4cA6YCJQACwEvq2qKxvs0x/Y6Dspmg28DWRoEwfvMIFep3i901rfMg8yRrt20vRgVQ33z1rOW0t3MHFwGn+8ahSdY4K028HrhW0LfP3ib0HlPojvBiOudLpUug13u0Jj/O6kAt13gAuAhwEP8Iyq/lpEbgFQ1SdE5F7geqAaOAT8t6rOb+qYHS7QwTkxV3fStHK/aydNVZV/LNjCg++uJr1LDE9cmxNc49SL1johvuw12LfNmb1wyCVOiGeeFVDz0xvjbycd6G2hQwZ6nQMlzknTpc9DYm+48I+uTO6Vt2UPP3hhMfsrqvnN1OFcnpXR7jU0W3khLH/dCfKdS0HCoN85MGI6DL7A5hA3HYYFeqAKgJOmhWUV3PbiEr7evIfvjOnNzy4cQmR4gIxXrzoIa96FZS/Dxk9Aa521K0dMdz4vl04wG+MmC/RAFgAnTatrvfzu/TU8NX8z2b0SefyaHLp1jm639z+Ct9ZZ1WfZK7D6bagqdy6/H/Etp0vFVpQ3HZwFejAIgJOm7yzbwT2vLyM20sOfr85mTL/k9nvzXSuclvjy151FIaI6wZBLnaGGvcbaJFjG+FigB4sAOGm6fncZ339+EVtLDnLf5MF878xMpK2uoNy/A5a/5gw13L0CwsKd6WhHXgUDJ0NETNu8rzFBzAI92Lh80rSsopr/fm0ZH6zcxQXDu/HQFSOJj/LDxJzeWihY7IwT3/AR7FjibE/PdVriQy+3OcWNOQEL9GDl4klTVeXJzzbxuw/WkJkSx9+uy6V/WnzLD3Sg2Lc820fO10N7nBEqGac6rfGhl0NKf/9/A8aEKAv0YObySdMFG4q5/aUlVFTX8vsrRzJl+AnWKPV6nZb3ho+clnjBYkAhNsWZz2bAJGe4YWxSu9RvTKixQA8Fx5w0fRi6Dm2Xt95ReogfvLCYpdtL+f5Zffnv8wcdORXvwT3O2prrP3JW+DlYDIizruaA85zuou5ZdmLTGD+wQA8VLp40rayp5VfvrOL5L7cxJjORxydG0KXgU18rPM9Z6T4mqUErfCLEteMoGWM6CAv0UOPGSdNDe2HjJ2z58k3its8lVfY523tkOwE+4DxnTnG77N6YNtVUoNuaosEoLhku+4szMuSdu+CFaf4/aaoKu5b7RqTMcRaH0Fr6RCeyr//ZPLg9k7cPnMJtw8dw7em9225oozGm2ayFHuz8edK0Yh9smuuE+Po5UL7L2d59pNMC7z/J6Rf3hLPvYDV3vrKET9YWMTUrnV9fPpyYSGudG9PWrMulIyjeAO/c2bKTpqpQuOpwgG//0plHPKqzs5rPgPOcPvHjtPq9XuXRj9fzyH/WM6hrAn+7LofeyTZJljFtyQK9o2jOSdPKMl8r3DciZX+Bs73rcF9f+CTnF4Kn+b1xn6wt5M6Xl+JV5eGrRjHxFJs0y5i2YoHe0Rx90nTiA85l9uv/Ddu+BG81RCb4WuGTnFZ4px4n9ZbbSg5yy/OLWLVzP3dMHMCPJg7AEyqrIRkTQCzQO6qGV5qCsyTbgHOdrpSep/l9geSK6lp+9sYKZi7O5+yBqTwyfRSJsZF+fQ9jOjoL9I6sptKZjjbtFOjc9gtYqCovfr2NGbNX0rVTNE9cm8Ow9M5t/r7GdBRNBbpduhfqwqOcbpV2CHMAEeGa03rz6vfHUOtVpv51Aa/mbW+X9zamo7NAN20iq1cX3rl9HLm9u3DP68u4f9ZyKmtq3S7LmJBmgW7aTHJ8FP+8cTS3ju/HS19v41tPfEFB6SG3yzImZFmgmzYV7gnj3smDeeLaHDYWHeDiP89n/vpit8syJiRZoJt2MXlYN9667QyS4yK5/pmveHzuBtw6IW9MqLK5XEy76Zcaz5s/PIN7Zy7joQ/WsnhrKZdnpdMzKYaMLrF0iY2wOWGMOQkW6KZdxUWF8+ers8jq1YXfvr+aOat3H34u0kPPpFgyujgBX3e/Z5dYMpJi6BTt33HzxoQaC3TT7kSEm8Zl8q3cDLbtOUj+3kNs933N33uQ7XsOsWBjCQerjhwV0zkmwmnNJ8bSMynmiMBP7xJDbKT9OJuOzf4HGNckREcwtEdnhvY49sIjVWXvwer6oN++92B92K8rLOPjtYVU1XiPeE1KfCQZXXwhnxTrtOx993skRhMVbrNBmtBmgW4CkoiQFBdJUlwkI3smHvO816sUl1f6gv7QEcG/LH8fH6zYRY1XGxwPuiZE1/fX9+wSQ0aDFn73ztFHLqtnTBCyQDdBKSxMSOsUTVqnaHJ6H/t8rVfZtb+C/D0H2X5U4H+9eQ9vLT1Eg7zHEyZ07xxd36rv2ima1ISow7f4KNI6RVm3jglo9tNpQpInTEhPjCE9MYbTGnm+qsbLzn2Hjmndb99zkE/XFVFcXnlE4NeJi/QcE/RHPnZ+ESTHRxJhLX7TzizQTYcUGR5G7+S44y7IUetV9h6soqissv5WWHe/vJKisgrW7ipjflkx+ytqGj1GUlxkfcv+2OA/fL9zjA3XNP5hgW5MIzxhQkp8FCnxUZzSvel9K6prKS4/HPxFDe/7Hm8uPkBhWeUxJ3IBIjzSeOB3iq7fnubbHh1hJ3bN8VmgG3OSoiM8vtE1sU3up6qUVdY4rf39jQd/QWkFS7fvo+RAJY1dSJuWEEWflDj6psSR6bv1TY2jZ1KsjeIxFujGtBcRoVN0BJ2iI+iXGt/kvjW1XvY00uWzteQAm4sPMGf1borLq+r3DxPI6BJ7RMjX3e/ROYYwWz2qQ7BANyYAhXvCSEuIJi0h+rj77DtUzZZiJ+A3+b5uLi4nb8seDjS4KCsyPIzM5Dj6pMSSmRLvtO59gZ8cF2n99yGkWYEuIpOBRwAP8JSq/vao568B7vU9LAduVdVv/FmoMeZInWMiGNkz8Zhx+qpKUVllfchv8QX+xqIDfLymkOraw305CdHhDbpv4slMdbpz+qTEER9l7b1gc8J/MRHxAH8BJgH5wEIRma2qqxrsthk4W1X3isgU4ElodLSYMaaNiRweo3963+Qjnqup9bKjtIJNxeW+Fr1zW7hlL299s+OIfvu0hKj67ps+ydZfHwya8yt4NLBBVTcBiMjLwKVAfaCr6oIG+38JtM96Z8aYFgn3hNErOZZeybGMH3TkcxXVtWwtOdgg6J3Q/2hV0/31mSlxxEWFE+ERPGFCeJjgCQvzfZXDXz3H2R4WhscjjW/3PbZzAM3TnEBPBxouCplP063vm4D3G3tCRG4Gbgbo1atXM0s0xrSH6AgPg7olMKhbwjHPNbe/vq2I0GjQ13/1NLLdE0b3TtH0S4ujf1o8/VLj6ZsaH9JdSc35zhr71djoygQiMgEn0Mc19ryqPonTHUNubq6tbmBMkGiqv764vIqK6lpqvEqt10uNV6mpVWq96tum1Hi9hx/XHmd7/fPeIx/Xf/VS09hrj/NelTVe1hWW8dHq3dQ2uOy3my/k+6XGH76lxdGtU3TQnyBuTqDnAz0bPM4Adhy9k4iMAJ4CpqhqiX/KM8YEMhEhNSHK7TKaVFXjZdueg2wsKnduhQfYWFTOG4sLKKs8fJVvXKSHvqnx9Ev1hb2vVd8nJXjOGTQn0BcCA0QkEygApgPfbriDiPQCZgHXqeo6v1dpjDGtFBkeRv+0ePqnHTn2X1UpKq+sD3jn5pwgfnPp4TZrmEDPpFhfa/7IsE+Ki2zvb6dJJwx0Va0RkduAD3GGLT6jqitF5Bbf808ADwDJwOO+P1lqVDW37co2xpiTIyL1Y/3H9DtyNNDBqho2+4Z6biwsZ0NRORsLy/l8QzGVDaZv6BLrXCRW10df15WT0SUWjwsncsWthXpzc3M1Ly/Plfc2xpjWqPUqO0oP1Qf8xiKndb+pqPyIkUCRnjAyU+KO6avvm+qMCDoZIrLoeA3m0D3da4wxfuYJE2c1rKRYJgxKO+K50oNV9QFf11e/ZmcZH6488qRs987R3HhGJv91Vl+/12eBbowxfpAYG0lO70hyenc5YrtzUvYAGxr01ad1apsTyRboxhjThpyTsgn0Tzt2fL+/2ZIqxhgTIizQjTEmRFigG2NMiLBAN8aYEGGBbowxIcIC3RhjQoQFujHGhAgLdGOMCRGuzeUiIkXA1la+PAUo9mM5/hKodUHg1mZ1tYzV1TKhWFdvVU1t7AnXAv1kiEheIM7mGKh1QeDWZnW1jNXVMh2tLutyMcaYEGGBbowxISJYA/1Jtws4jkCtCwK3NqurZayululQdQVlH7oxxphjBWsL3RhjzFEs0I0xJkQEXaCLyGQRWSsiG0TkPrfrARCRZ0SkUERWuF1LQyLSU0Q+EZHVIrJSRH7kdk0AIhItIl+LyDe+un7pdk0NiYhHRJaIyDtu11JHRLaIyHIRWSoiAbMYr4gkisjrIrLG93M2JgBqGuT7nOpu+0XkTrfrAhCRu3w/8ytE5CURifbr8YOpD11EPMA6YBKQDywErlbVVS7XdRZQDvxTVYe5WUtDItId6K6qi0UkAVgEXBYAn5cAcapaLiIRwHzgR6r6pZt11RGRu4FcoJOqXuR2PeAEOpCrqgF1kYyI/AOYp6pPiUgkEKuqpS6XVc+XGQXAaara2gsZ/VVLOs7P+hBVPSQirwLvqepz/nqPYGuhjwY2qOomVa0CXgYudbkmVPUzYI/bdRxNVXeq6mLf/TJgNZDublWgjnLfwwjfLSBaFiKSAVwIPOV2LYFORDoBZwFPA6hqVSCFuc9EYKPbYd5AOBAjIuFALLDDnwcPtkBPB7Y3eJxPAARUMBCRPkAW8JXLpQD13RpLgULgI1UNiLqAh4F7AK/LdRxNgX+LyCIRudntYnz6AkXAs74uqqdEJM7too4yHXjJ7SIAVLUA+D2wDdgJ7FPVf/vzPYIt0KWRbQHRsgtkIhIPzATuVNX9btcDoKq1qjoKyABGi4jrXVUichFQqKqL3K6lEWeoajYwBfihr5vPbeFANvBXVc0CDgABcV4LwNcFdAnwmtu1AIhIF5wehUygBxAnItf68z2CLdDzgZ4NHmfg5z9ZQo2vj3om8IKqznK7nqP5/kSfC0x2txIAzgAu8fVXvwycIyLPu1uSQ1V3+L4WAm/gdD+6LR/Ib/DX1es4AR8opgCLVXW324X4nAtsVtUiVa0GZgFj/fkGwRboC4EBIpLp++07HZjtck0By3fy8Wlgtar+0e166ohIqogk+u7H4Pygr3G1KEBV71fVDFXtg/Oz9bGq+rUF1RoiEuc7qY2vS+M8wPURVaq6C9guIoN8myYCrp5wP8rVBEh3i8824HQRifX935yIc17Lb8L9ebC2pqo1InIb8CHgAZ5R1ZUul4WIvASMB1JEJB/4hao+7W5VgNPivA5Y7uuvBvipqr7nXkkAdAf+4RuBEAa8qqoBM0QwAHUF3nAygHDgRVX9wN2S6t0OvOBrYG0CvutyPQCISCzOaLjvu11LHVX9SkReBxYDNcAS/DwFQFANWzTGGHN8wdblYowx5jgs0I0xJkRYoBtjTIiwQDfGmBBhgW6MMSHCAt0YY0KEBboxxoSI/w9BsEqV/cyxegAAAABJRU5ErkJggg==\n",
      "text/plain": [
       "<Figure size 432x288 with 1 Axes>"
      ]
     },
     "metadata": {
      "needs_background": "light"
     },
     "output_type": "display_data"
    },
    {
     "data": {
      "image/png": "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\n",
      "text/plain": [
       "<Figure size 432x288 with 1 Axes>"
      ]
     },
     "metadata": {
      "needs_background": "light"
     },
     "output_type": "display_data"
    },
    {
     "name": "stdout",
     "output_type": "stream",
     "text": [
      "Found existing file, loading....\n",
      "Finished loading file\n",
      "Found existing file, loading....\n",
      "Finished loading file\n",
      "Ratio: 0.3\n",
      "Pos train: 88\n",
      "Neg train: 167\n",
      "Batch size: 14\n",
      "Randomizing training and test data..\n",
      "Reading in glove vector\n",
      "Finished reading glove vector\n"
     ]
    },
    {
     "name": "stderr",
     "output_type": "stream",
     "text": [
      "Training Epochs:   0%|          | 0/9 [00:00<?, ?it/s]"
     ]
    },
    {
     "name": "stdout",
     "output_type": "stream",
     "text": [
      "\n",
      "\n",
      "Training (0/9): {'precision': 0.11764705882352941, 'recall': 0.001568627450980392, 'f1': 0.003095975232198142, 'tp': 2, 'tn': 2280, 'fp': 15, 'fn': 1273} Loss: 0.66469\n",
      "\n",
      "---------- EVALUATION ----------\n",
      "Document Accuracy: 0.6538\n",
      "Soft Document Accuracy: 0.0\n",
      "Chunk Accuracy: 0.9826\n",
      "Loss: 0.502055959059642\n",
      "Couldnt calculate precision, division by zero\n",
      "Couldnt calculate f1, division by zero\n",
      "precision: None\n",
      "recall: 0.0\n",
      "f1: None\n",
      "tp: 0\n",
      "tn: 1805\n",
      "fp: 0\n",
      "fn: 32\n"
     ]
    },
    {
     "name": "stderr",
     "output_type": "stream",
     "text": [
      "Training Epochs:  11%|█         | 1/9 [01:56<15:35, 116.95s/it]"
     ]
    },
    {
     "name": "stdout",
     "output_type": "stream",
     "text": [
      "\n",
      "\n",
      "Training (1/9): {'precision': 0.8888888888888888, 'recall': 0.06274509803921569, 'f1': 0.11721611721611722, 'tp': 80, 'tn': 2285, 'fp': 10, 'fn': 1195} Loss: 0.48782\n",
      "\n",
      "---------- EVALUATION ----------\n",
      "Document Accuracy: 0.2564\n",
      "Soft Document Accuracy: 0.1481\n",
      "Chunk Accuracy: 0.9467\n",
      "Loss: 0.24583095694199586\n",
      "precision: 0.05405405405405406\n",
      "recall: 0.125\n",
      "f1: 0.07547169811320754\n",
      "tp: 4\n",
      "tn: 1735\n",
      "fp: 70\n",
      "fn: 28\n"
     ]
    },
    {
     "name": "stderr",
     "output_type": "stream",
     "text": [
      "Training Epochs:  22%|██▏       | 2/9 [03:56<13:48, 118.41s/it]"
     ]
    },
    {
     "name": "stdout",
     "output_type": "stream",
     "text": [
      "\n",
      "\n",
      "Training (2/9): {'precision': 0.924901185770751, 'recall': 0.9176470588235294, 'f1': 0.9212598425196851, 'tp': 1170, 'tn': 2200, 'fp': 95, 'fn': 105} Loss: 0.19032\n",
      "\n",
      "---------- EVALUATION ----------\n",
      "Document Accuracy: 0.2949\n",
      "Soft Document Accuracy: 0.1111\n",
      "Chunk Accuracy: 0.951\n",
      "Loss: 0.2979757025814018\n",
      "precision: 0.046875\n",
      "recall: 0.09375\n",
      "f1: 0.0625\n",
      "tp: 3\n",
      "tn: 1744\n",
      "fp: 61\n",
      "fn: 29\n"
     ]
    },
    {
     "name": "stderr",
     "output_type": "stream",
     "text": [
      "Training Epochs:  33%|███▎      | 3/9 [05:54<11:49, 118.17s/it]"
     ]
    },
    {
     "name": "stdout",
     "output_type": "stream",
     "text": [
      "\n",
      "\n",
      "Training (3/9): {'precision': 0.9577572964669739, 'recall': 0.9780392156862745, 'f1': 0.9677920062087698, 'tp': 1247, 'tn': 2240, 'fp': 55, 'fn': 28} Loss: 0.1455\n",
      "\n",
      "---------- EVALUATION ----------\n",
      "Document Accuracy: 0.4872\n",
      "Soft Document Accuracy: 0.037\n",
      "Chunk Accuracy: 0.9711\n",
      "Loss: 0.30858391491813403\n",
      "precision: 0.043478260869565216\n",
      "recall: 0.03125\n",
      "f1: 0.03636363636363636\n",
      "tp: 1\n",
      "tn: 1783\n",
      "fp: 22\n",
      "fn: 31\n"
     ]
    },
    {
     "name": "stderr",
     "output_type": "stream",
     "text": [
      "Training Epochs:  44%|████▍     | 4/9 [07:51<09:49, 117.90s/it]"
     ]
    },
    {
     "name": "stdout",
     "output_type": "stream",
     "text": [
      "\n",
      "\n",
      "Training (4/9): {'precision': 0.9678653404743688, 'recall': 0.9921568627450981, 'f1': 0.9798605731990704, 'tp': 1265, 'tn': 2253, 'fp': 42, 'fn': 10} Loss: 0.1353\n",
      "\n",
      "---------- EVALUATION ----------\n",
      "Document Accuracy: 0.4615\n",
      "Soft Document Accuracy: 0.0741\n",
      "Chunk Accuracy: 0.9679\n",
      "Loss: 0.33143644356002766\n",
      "precision: 0.06451612903225806\n",
      "recall: 0.0625\n",
      "f1: 0.06349206349206349\n",
      "tp: 2\n",
      "tn: 1776\n",
      "fp: 29\n",
      "fn: 30\n"
     ]
    },
    {
     "name": "stderr",
     "output_type": "stream",
     "text": [
      "Training Epochs:  56%|█████▌    | 5/9 [09:49<07:51, 117.92s/it]"
     ]
    },
    {
     "name": "stdout",
     "output_type": "stream",
     "text": [
      "\n",
      "\n",
      "Training (5/9): {'precision': 0.9716908951798011, 'recall': 0.996078431372549, 'f1': 0.983733539891557, 'tp': 1270, 'tn': 2258, 'fp': 37, 'fn': 5} Loss: 0.12344\n",
      "\n",
      "---------- EVALUATION ----------\n",
      "Document Accuracy: 0.5256\n",
      "Soft Document Accuracy: 0.0741\n",
      "Chunk Accuracy: 0.9722\n",
      "Loss: 0.3536450399732507\n",
      "precision: 0.08695652173913043\n",
      "recall: 0.0625\n",
      "f1: 0.07272727272727272\n",
      "tp: 2\n",
      "tn: 1784\n",
      "fp: 21\n",
      "fn: 30\n"
     ]
    },
    {
     "name": "stderr",
     "output_type": "stream",
     "text": [
      "Training Epochs:  67%|██████▋   | 6/9 [11:47<05:53, 117.84s/it]"
     ]
    },
    {
     "name": "stdout",
     "output_type": "stream",
     "text": [
      "\n",
      "\n",
      "Training (6/9): {'precision': 0.9572192513368984, 'recall': 0.9827450980392157, 'f1': 0.9698142414860682, 'tp': 1253, 'tn': 2239, 'fp': 56, 'fn': 22} Loss: 0.14036\n",
      "\n",
      "---------- EVALUATION ----------\n",
      "Document Accuracy: 0.359\n",
      "Soft Document Accuracy: 0.0741\n",
      "Chunk Accuracy: 0.963\n",
      "Loss: 0.33096848847549737\n",
      "precision: 0.05\n",
      "recall: 0.0625\n",
      "f1: 0.05555555555555556\n",
      "tp: 2\n",
      "tn: 1767\n",
      "fp: 38\n",
      "fn: 30\n"
     ]
    },
    {
     "name": "stderr",
     "output_type": "stream",
     "text": [
      "Training Epochs:  78%|███████▊  | 7/9 [13:43<03:54, 117.42s/it]"
     ]
    },
    {
     "name": "stdout",
     "output_type": "stream",
     "text": [
      "\n",
      "\n",
      "Training (7/9): {'precision': 0.9571106094808126, 'recall': 0.9976470588235294, 'f1': 0.9769585253456222, 'tp': 1272, 'tn': 2238, 'fp': 57, 'fn': 3} Loss: 0.12167\n",
      "\n",
      "---------- EVALUATION ----------\n",
      "Document Accuracy: 0.4744\n",
      "Soft Document Accuracy: 0.0741\n",
      "Chunk Accuracy: 0.9679\n",
      "Loss: 0.40417597443112857\n",
      "precision: 0.06451612903225806\n",
      "recall: 0.0625\n",
      "f1: 0.06349206349206349\n",
      "tp: 2\n",
      "tn: 1776\n",
      "fp: 29\n",
      "fn: 30\n"
     ]
    },
    {
     "name": "stderr",
     "output_type": "stream",
     "text": [
      "Training Epochs:  89%|████████▉ | 8/9 [15:42<01:57, 117.93s/it]"
     ]
    },
    {
     "name": "stdout",
     "output_type": "stream",
     "text": [
      "\n",
      "\n",
      "Training (8/9): {'precision': 0.9710144927536232, 'recall': 0.9984313725490196, 'f1': 0.9845320959010053, 'tp': 1273, 'tn': 2257, 'fp': 38, 'fn': 2} Loss: 0.11481\n",
      "\n",
      "---------- EVALUATION ----------\n",
      "Document Accuracy: 0.5385\n",
      "Soft Document Accuracy: 0.0741\n",
      "Chunk Accuracy: 0.9733\n",
      "Loss: 0.4222843800420253\n",
      "precision: 0.09523809523809523\n",
      "recall: 0.0625\n",
      "f1: 0.07547169811320754\n",
      "tp: 2\n",
      "tn: 1786\n",
      "fp: 19\n",
      "fn: 30\n"
     ]
    },
    {
     "name": "stderr",
     "output_type": "stream",
     "text": [
      "Training Epochs: 100%|██████████| 9/9 [17:39<00:00, 117.76s/it]"
     ]
    },
    {
     "name": "stdout",
     "output_type": "stream",
     "text": [
      "Finished Training!\n"
     ]
    },
    {
     "name": "stderr",
     "output_type": "stream",
     "text": [
      "\n"
     ]
    },
    {
     "data": {
      "image/png": "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\n",
      "text/plain": [
       "<Figure size 432x288 with 1 Axes>"
      ]
     },
     "metadata": {
      "needs_background": "light"
     },
     "output_type": "display_data"
    },
    {
     "data": {
      "image/png": "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\n",
      "text/plain": [
       "<Figure size 432x288 with 1 Axes>"
      ]
     },
     "metadata": {
      "needs_background": "light"
     },
     "output_type": "display_data"
    },
    {
     "name": "stdout",
     "output_type": "stream",
     "text": [
      "Found existing file, loading....\n",
      "Finished loading file\n",
      "Found existing file, loading....\n",
      "Finished loading file\n",
      "Ratio: 0.3\n",
      "Pos train: 86\n",
      "Neg train: 169\n",
      "Batch size: 14\n",
      "Randomizing training and test data..\n",
      "Reading in glove vector\n",
      "Finished reading glove vector\n"
     ]
    },
    {
     "name": "stderr",
     "output_type": "stream",
     "text": [
      "Training Epochs:   0%|          | 0/9 [00:00<?, ?it/s]"
     ]
    },
    {
     "name": "stdout",
     "output_type": "stream",
     "text": [
      "\n",
      "\n",
      "Training (0/9): {'precision': 0.3565217391304348, 'recall': 0.03215686274509804, 'f1': 0.058992805755395686, 'tp': 41, 'tn': 2221, 'fp': 74, 'fn': 1234} Loss: 0.65894\n",
      "\n",
      "---------- EVALUATION ----------\n",
      "Document Accuracy: 0.6623\n",
      "Soft Document Accuracy: 0.0\n",
      "Chunk Accuracy: 0.9784\n",
      "Loss: 0.5241616631483103\n",
      "Couldnt calculate precision, division by zero\n",
      "Couldnt calculate f1, division by zero\n",
      "precision: None\n",
      "recall: 0.0\n",
      "f1: None\n",
      "tp: 0\n",
      "tn: 1809\n",
      "fp: 0\n",
      "fn: 40\n"
     ]
    },
    {
     "name": "stderr",
     "output_type": "stream",
     "text": [
      "Training Epochs:  11%|█         | 1/9 [01:57<15:38, 117.27s/it]"
     ]
    },
    {
     "name": "stdout",
     "output_type": "stream",
     "text": [
      "\n",
      "\n",
      "Training (1/9): {'precision': 0.5925925925925926, 'recall': 0.03764705882352941, 'f1': 0.07079646017699115, 'tp': 48, 'tn': 2262, 'fp': 33, 'fn': 1227} Loss: 0.6274\n",
      "\n",
      "---------- EVALUATION ----------\n",
      "Document Accuracy: 0.5974\n",
      "Soft Document Accuracy: 0.1538\n",
      "Chunk Accuracy: 0.9757\n",
      "Loss: 0.4694599207345541\n",
      "precision: 0.3076923076923077\n",
      "recall: 0.1\n",
      "f1: 0.15094339622641512\n",
      "tp: 4\n",
      "tn: 1800\n",
      "fp: 9\n",
      "fn: 36\n"
     ]
    },
    {
     "name": "stderr",
     "output_type": "stream",
     "text": [
      "Training Epochs:  22%|██▏       | 2/9 [03:55<13:46, 118.06s/it]"
     ]
    },
    {
     "name": "stdout",
     "output_type": "stream",
     "text": [
      "\n",
      "\n",
      "Training (2/9): {'precision': 0.8581661891117478, 'recall': 0.46980392156862744, 'f1': 0.6071971616827166, 'tp': 599, 'tn': 2196, 'fp': 99, 'fn': 676} Loss: 0.33624\n",
      "\n",
      "---------- EVALUATION ----------\n",
      "Document Accuracy: 0.5584\n",
      "Soft Document Accuracy: 0.4231\n",
      "Chunk Accuracy: 0.967\n",
      "Loss: 0.11245582761944502\n",
      "precision: 0.2765957446808511\n",
      "recall: 0.325\n",
      "f1: 0.2988505747126437\n",
      "tp: 13\n",
      "tn: 1775\n",
      "fp: 34\n",
      "fn: 27\n"
     ]
    },
    {
     "name": "stderr",
     "output_type": "stream",
     "text": [
      "Training Epochs:  33%|███▎      | 3/9 [05:53<11:47, 117.96s/it]"
     ]
    },
    {
     "name": "stdout",
     "output_type": "stream",
     "text": [
      "\n",
      "\n",
      "Training (3/9): {'precision': 0.937560975609756, 'recall': 0.7537254901960785, 'f1': 0.8356521739130435, 'tp': 961, 'tn': 2231, 'fp': 64, 'fn': 314} Loss: 0.15351\n",
      "\n",
      "---------- EVALUATION ----------\n",
      "Document Accuracy: 0.5325\n",
      "Soft Document Accuracy: 0.4231\n",
      "Chunk Accuracy: 0.9697\n",
      "Loss: 0.12080186407698633\n",
      "precision: 0.2894736842105263\n",
      "recall: 0.275\n",
      "f1: 0.28205128205128205\n",
      "tp: 11\n",
      "tn: 1782\n",
      "fp: 27\n",
      "fn: 29\n"
     ]
    },
    {
     "name": "stderr",
     "output_type": "stream",
     "text": [
      "Training Epochs:  44%|████▍     | 4/9 [07:52<09:52, 118.43s/it]"
     ]
    },
    {
     "name": "stdout",
     "output_type": "stream",
     "text": [
      "\n",
      "\n",
      "Training (4/9): {'precision': 0.9726166328600405, 'recall': 0.7521568627450981, 'f1': 0.848297213622291, 'tp': 959, 'tn': 2268, 'fp': 27, 'fn': 316} Loss: 0.12687\n",
      "\n",
      "---------- EVALUATION ----------\n",
      "Document Accuracy: 0.4675\n",
      "Soft Document Accuracy: 0.5769\n",
      "Chunk Accuracy: 0.9481\n",
      "Loss: 0.15327934231178217\n",
      "precision: 0.18888888888888888\n",
      "recall: 0.425\n",
      "f1: 0.2615384615384615\n",
      "tp: 17\n",
      "tn: 1736\n",
      "fp: 73\n",
      "fn: 23\n"
     ]
    },
    {
     "name": "stderr",
     "output_type": "stream",
     "text": [
      "Training Epochs:  56%|█████▌    | 5/9 [09:51<07:53, 118.42s/it]"
     ]
    },
    {
     "name": "stdout",
     "output_type": "stream",
     "text": [
      "\n",
      "\n",
      "Training (5/9): {'precision': 0.9605475040257649, 'recall': 0.9356862745098039, 'f1': 0.9479539133889551, 'tp': 1193, 'tn': 2246, 'fp': 49, 'fn': 82} Loss: 0.09373\n",
      "\n",
      "---------- EVALUATION ----------\n",
      "Document Accuracy: 0.4675\n",
      "Soft Document Accuracy: 0.5769\n",
      "Chunk Accuracy: 0.9519\n",
      "Loss: 0.15655748210182147\n",
      "precision: 0.19753086419753085\n",
      "recall: 0.4\n",
      "f1: 0.2644628099173554\n",
      "tp: 16\n",
      "tn: 1744\n",
      "fp: 65\n",
      "fn: 24\n"
     ]
    },
    {
     "name": "stderr",
     "output_type": "stream",
     "text": [
      "Training Epochs:  67%|██████▋   | 6/9 [11:48<05:54, 118.16s/it]"
     ]
    },
    {
     "name": "stdout",
     "output_type": "stream",
     "text": [
      "\n",
      "\n",
      "Training (6/9): {'precision': 0.9620060790273556, 'recall': 0.9929411764705882, 'f1': 0.9772288691624854, 'tp': 1266, 'tn': 2245, 'fp': 50, 'fn': 9} Loss: 0.08117\n",
      "\n",
      "---------- EVALUATION ----------\n",
      "Document Accuracy: 0.5714\n",
      "Soft Document Accuracy: 0.5\n",
      "Chunk Accuracy: 0.9703\n",
      "Loss: 0.1621976246168648\n",
      "precision: 0.3333333333333333\n",
      "recall: 0.375\n",
      "f1: 0.35294117647058826\n",
      "tp: 15\n",
      "tn: 1779\n",
      "fp: 30\n",
      "fn: 25\n"
     ]
    },
    {
     "name": "stderr",
     "output_type": "stream",
     "text": [
      "Training Epochs:  78%|███████▊  | 7/9 [13:48<03:57, 118.51s/it]"
     ]
    },
    {
     "name": "stdout",
     "output_type": "stream",
     "text": [
      "\n",
      "\n",
      "Training (7/9): {'precision': 0.9717341482047365, 'recall': 0.9976470588235294, 'f1': 0.9845201238390093, 'tp': 1272, 'tn': 2258, 'fp': 37, 'fn': 3} Loss: 0.07051\n",
      "\n",
      "---------- EVALUATION ----------\n",
      "Document Accuracy: 0.6234\n",
      "Soft Document Accuracy: 0.4231\n",
      "Chunk Accuracy: 0.9751\n",
      "Loss: 0.17653194595709318\n",
      "precision: 0.4\n",
      "recall: 0.3\n",
      "f1: 0.34285714285714286\n",
      "tp: 12\n",
      "tn: 1791\n",
      "fp: 18\n",
      "fn: 28\n"
     ]
    },
    {
     "name": "stderr",
     "output_type": "stream",
     "text": [
      "Training Epochs:  89%|████████▉ | 8/9 [15:46<01:58, 118.42s/it]"
     ]
    },
    {
     "name": "stdout",
     "output_type": "stream",
     "text": [
      "\n",
      "\n",
      "Training (8/9): {'precision': 0.9702743902439024, 'recall': 0.9984313725490196, 'f1': 0.9841515268650946, 'tp': 1273, 'tn': 2256, 'fp': 39, 'fn': 2} Loss: 0.07357\n",
      "\n",
      "---------- EVALUATION ----------\n",
      "Document Accuracy: 0.6104\n",
      "Soft Document Accuracy: 0.4231\n",
      "Chunk Accuracy: 0.9757\n",
      "Loss: 0.18415077718904221\n",
      "precision: 0.41379310344827586\n",
      "recall: 0.3\n",
      "f1: 0.34782608695652173\n",
      "tp: 12\n",
      "tn: 1792\n",
      "fp: 17\n",
      "fn: 28\n"
     ]
    },
    {
     "name": "stderr",
     "output_type": "stream",
     "text": [
      "Training Epochs: 100%|██████████| 9/9 [17:45<00:00, 118.41s/it]"
     ]
    },
    {
     "name": "stdout",
     "output_type": "stream",
     "text": [
      "Finished Training!\n"
     ]
    },
    {
     "name": "stderr",
     "output_type": "stream",
     "text": [
      "\n"
     ]
    },
    {
     "data": {
      "image/png": "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\n",
      "text/plain": [
       "<Figure size 432x288 with 1 Axes>"
      ]
     },
     "metadata": {
      "needs_background": "light"
     },
     "output_type": "display_data"
    },
    {
     "data": {
      "image/png": "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\n",
      "text/plain": [
       "<Figure size 432x288 with 1 Axes>"
      ]
     },
     "metadata": {
      "needs_background": "light"
     },
     "output_type": "display_data"
    },
    {
     "name": "stdout",
     "output_type": "stream",
     "text": [
      "Found existing file, loading....\n",
      "Finished loading file\n",
      "Found existing file, loading....\n",
      "Finished loading file\n",
      "Ratio: 0.3\n",
      "Pos train: 76\n",
      "Neg train: 179\n",
      "Batch size: 15\n",
      "Randomizing training and test data..\n",
      "Reading in glove vector\n",
      "Finished reading glove vector\n"
     ]
    },
    {
     "name": "stderr",
     "output_type": "stream",
     "text": [
      "Training Epochs:   0%|          | 0/9 [00:00<?, ?it/s]"
     ]
    },
    {
     "name": "stdout",
     "output_type": "stream",
     "text": [
      "\n",
      "\n",
      "Training (0/9): {'precision': 0.3548387096774194, 'recall': 0.008627450980392156, 'f1': 0.016845329249617153, 'tp': 11, 'tn': 2530, 'fp': 20, 'fn': 1264} Loss: 0.64786\n",
      "\n",
      "---------- EVALUATION ----------\n",
      "Document Accuracy: 0.7013\n",
      "Soft Document Accuracy: 0.0\n",
      "Chunk Accuracy: 0.9705\n",
      "Loss: 0.4900623331596325\n",
      "Couldnt calculate precision, division by zero\n",
      "Couldnt calculate f1, division by zero\n",
      "precision: None\n",
      "recall: 0.0\n",
      "f1: None\n",
      "tp: 0\n",
      "tn: 1546\n",
      "fp: 0\n",
      "fn: 47\n"
     ]
    },
    {
     "name": "stderr",
     "output_type": "stream",
     "text": [
      "Training Epochs:  11%|█         | 1/9 [02:00<16:03, 120.43s/it]"
     ]
    },
    {
     "name": "stdout",
     "output_type": "stream",
     "text": [
      "\n",
      "\n",
      "Couldnt calculate precision, division by zero\n",
      "Couldnt calculate f1, division by zero\n",
      "Training (1/9): {'precision': None, 'recall': 0.0, 'f1': None, 'tp': 0, 'tn': 2550, 'fp': 0, 'fn': 1275} Loss: 0.54502\n",
      "\n",
      "---------- EVALUATION ----------\n",
      "Document Accuracy: 0.7013\n",
      "Soft Document Accuracy: 0.0\n",
      "Chunk Accuracy: 0.9705\n",
      "Loss: 0.26285704776838226\n",
      "Couldnt calculate precision, division by zero\n",
      "Couldnt calculate f1, division by zero\n",
      "precision: None\n",
      "recall: 0.0\n",
      "f1: None\n",
      "tp: 0\n",
      "tn: 1546\n",
      "fp: 0\n",
      "fn: 47\n"
     ]
    },
    {
     "name": "stderr",
     "output_type": "stream",
     "text": [
      "Training Epochs:  22%|██▏       | 2/9 [04:03<14:14, 122.10s/it]"
     ]
    },
    {
     "name": "stdout",
     "output_type": "stream",
     "text": [
      "\n",
      "\n",
      "Couldnt calculate precision, division by zero\n",
      "Couldnt calculate f1, division by zero\n",
      "Training (2/9): {'precision': None, 'recall': 0.0, 'f1': None, 'tp': 0, 'tn': 2550, 'fp': 0, 'fn': 1275} Loss: 0.32057\n",
      "\n",
      "---------- EVALUATION ----------\n",
      "Document Accuracy: 0.7013\n",
      "Soft Document Accuracy: 0.0\n",
      "Chunk Accuracy: 0.9705\n",
      "Loss: 0.21526540742050132\n",
      "Couldnt calculate precision, division by zero\n",
      "Couldnt calculate f1, division by zero\n",
      "precision: None\n",
      "recall: 0.0\n",
      "f1: None\n",
      "tp: 0\n",
      "tn: 1546\n",
      "fp: 0\n",
      "fn: 47\n"
     ]
    },
    {
     "name": "stderr",
     "output_type": "stream",
     "text": [
      "Training Epochs:  33%|███▎      | 3/9 [06:04<12:08, 121.33s/it]"
     ]
    },
    {
     "name": "stdout",
     "output_type": "stream",
     "text": [
      "\n",
      "\n",
      "Training (3/9): {'precision': 0.963923337091319, 'recall': 0.6705882352941176, 'f1': 0.7909343200740055, 'tp': 855, 'tn': 2518, 'fp': 32, 'fn': 420} Loss: 0.25459\n",
      "\n",
      "---------- EVALUATION ----------\n",
      "Document Accuracy: 0.4675\n",
      "Soft Document Accuracy: 0.0435\n",
      "Chunk Accuracy: 0.9429\n",
      "Loss: 0.2391722747730904\n",
      "precision: 0.09259259259259259\n",
      "recall: 0.10638297872340426\n",
      "f1: 0.09900990099009901\n",
      "tp: 5\n",
      "tn: 1497\n",
      "fp: 49\n",
      "fn: 42\n"
     ]
    },
    {
     "name": "stderr",
     "output_type": "stream",
     "text": [
      "Training Epochs:  44%|████▍     | 4/9 [08:04<10:04, 120.92s/it]"
     ]
    },
    {
     "name": "stdout",
     "output_type": "stream",
     "text": [
      "\n",
      "\n",
      "Training (4/9): {'precision': 0.968167701863354, 'recall': 0.9780392156862745, 'f1': 0.9730784237222005, 'tp': 1247, 'tn': 2509, 'fp': 41, 'fn': 28} Loss: 0.23524\n",
      "\n",
      "---------- EVALUATION ----------\n",
      "Document Accuracy: 0.4416\n",
      "Soft Document Accuracy: 0.1304\n",
      "Chunk Accuracy: 0.9435\n",
      "Loss: 0.24753126240721504\n",
      "precision: 0.12280701754385964\n",
      "recall: 0.14893617021276595\n",
      "f1: 0.1346153846153846\n",
      "tp: 7\n",
      "tn: 1496\n",
      "fp: 50\n",
      "fn: 40\n"
     ]
    },
    {
     "name": "stderr",
     "output_type": "stream",
     "text": [
      "Training Epochs:  56%|█████▌    | 5/9 [10:05<08:03, 120.83s/it]"
     ]
    },
    {
     "name": "stdout",
     "output_type": "stream",
     "text": [
      "\n",
      "\n",
      "Training (5/9): {'precision': 0.978328173374613, 'recall': 0.9913725490196078, 'f1': 0.9848071679002726, 'tp': 1264, 'tn': 2522, 'fp': 28, 'fn': 11} Loss: 0.21992\n",
      "\n",
      "---------- EVALUATION ----------\n",
      "Document Accuracy: 0.5455\n",
      "Soft Document Accuracy: 0.0435\n",
      "Chunk Accuracy: 0.9523\n",
      "Loss: 0.34281821871921214\n",
      "precision: 0.10810810810810811\n",
      "recall: 0.0851063829787234\n",
      "f1: 0.09523809523809523\n",
      "tp: 4\n",
      "tn: 1513\n",
      "fp: 33\n",
      "fn: 43\n"
     ]
    },
    {
     "name": "stderr",
     "output_type": "stream",
     "text": [
      "Training Epochs:  67%|██████▋   | 6/9 [12:04<06:00, 120.31s/it]"
     ]
    },
    {
     "name": "stdout",
     "output_type": "stream",
     "text": [
      "\n",
      "\n",
      "Training (6/9): {'precision': 0.9868012422360248, 'recall': 0.9968627450980392, 'f1': 0.9918064767850175, 'tp': 1271, 'tn': 2533, 'fp': 17, 'fn': 4} Loss: 0.20866\n",
      "\n",
      "---------- EVALUATION ----------\n",
      "Document Accuracy: 0.5065\n",
      "Soft Document Accuracy: 0.0435\n",
      "Chunk Accuracy: 0.9517\n",
      "Loss: 0.3313074103245715\n",
      "precision: 0.14285714285714285\n",
      "recall: 0.1276595744680851\n",
      "f1: 0.1348314606741573\n",
      "tp: 6\n",
      "tn: 1510\n",
      "fp: 36\n",
      "fn: 41\n"
     ]
    },
    {
     "name": "stderr",
     "output_type": "stream",
     "text": [
      "Training Epochs:  78%|███████▊  | 7/9 [14:04<04:00, 120.35s/it]"
     ]
    },
    {
     "name": "stdout",
     "output_type": "stream",
     "text": [
      "\n",
      "\n",
      "Training (7/9): {'precision': 0.9852598913886734, 'recall': 0.996078431372549, 'f1': 0.9906396255850234, 'tp': 1270, 'tn': 2531, 'fp': 19, 'fn': 5} Loss: 0.20277\n",
      "\n",
      "---------- EVALUATION ----------\n",
      "Document Accuracy: 0.5325\n",
      "Soft Document Accuracy: 0.0435\n",
      "Chunk Accuracy: 0.9542\n",
      "Loss: 0.39499999536025393\n",
      "precision: 0.15789473684210525\n",
      "recall: 0.1276595744680851\n",
      "f1: 0.14117647058823526\n",
      "tp: 6\n",
      "tn: 1514\n",
      "fp: 32\n",
      "fn: 41\n"
     ]
    },
    {
     "name": "stderr",
     "output_type": "stream",
     "text": [
      "Training Epochs:  89%|████████▉ | 8/9 [16:04<02:00, 120.09s/it]"
     ]
    },
    {
     "name": "stdout",
     "output_type": "stream",
     "text": [
      "\n",
      "\n",
      "Training (8/9): {'precision': 0.9914396887159533, 'recall': 0.9992156862745099, 'f1': 0.9953125, 'tp': 1274, 'tn': 2539, 'fp': 11, 'fn': 1} Loss: 0.19156\n",
      "\n",
      "---------- EVALUATION ----------\n",
      "Document Accuracy: 0.5455\n",
      "Soft Document Accuracy: 0.0\n",
      "Chunk Accuracy: 0.9542\n",
      "Loss: 0.4280347968639659\n",
      "precision: 0.09375\n",
      "recall: 0.06382978723404255\n",
      "f1: 0.0759493670886076\n",
      "tp: 3\n",
      "tn: 1517\n",
      "fp: 29\n",
      "fn: 44\n"
     ]
    },
    {
     "name": "stderr",
     "output_type": "stream",
     "text": [
      "Training Epochs: 100%|██████████| 9/9 [18:05<00:00, 120.58s/it]"
     ]
    },
    {
     "name": "stdout",
     "output_type": "stream",
     "text": [
      "Finished Training!\n"
     ]
    },
    {
     "name": "stderr",
     "output_type": "stream",
     "text": [
      "\n"
     ]
    },
    {
     "data": {
      "image/png": "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\n",
      "text/plain": [
       "<Figure size 432x288 with 1 Axes>"
      ]
     },
     "metadata": {
      "needs_background": "light"
     },
     "output_type": "display_data"
    },
    {
     "data": {
      "image/png": "iVBORw0KGgoAAAANSUhEUgAAAXoAAAEICAYAAABRSj9aAAAAOXRFWHRTb2Z0d2FyZQBNYXRwbG90bGliIHZlcnNpb24zLjMuNCwgaHR0cHM6Ly9tYXRwbG90bGliLm9yZy8QVMy6AAAACXBIWXMAAAsTAAALEwEAmpwYAAAsf0lEQVR4nO3de3zU9Z3v8dcnkwshBAJkwiXhEiBMSNUqpoiikHgHZek+enaVx1a37Z7leFbb2tr2aO3Brdazbh+ux1PXR11be7GtWqvuFhVFrYmoBeQiaiEZCOGScJtJAgQCuX/OH/MLjiEhkzDJb2byeT4e82Dmd5nf5zck7/zm+/v+fl9RVYwxxiSuJLcLMMYYM7gs6I0xJsFZ0BtjTIKzoDfGmARnQW+MMQnOgt4YYxKcBb2JChH5axGpEZETInKR2/UYYz5lQW9OE5HLReTPInJMRBpE5H0R+UKEqz8M3KGqo4AjIqIiknyWbf2ziLSJyHHnsUNE/l1EJkVlZ2KAiEzv63MIW/YrzrJ/OxS1meHFgt4AICKjgVeAx4BxQC7wQ6AlwreYBmzr52Z/r6qZzvb+GpgIbE6ksO+HvwcanH+HTCR/hEz8s6A3XWYDqOqzqtqhqqdU9Q1V/RhARJJE5AcisldEAiLytIiMEZE0ETkBeICPRGQXsNZ5z6NOU86lZ9uwqrap6jbgJiAI3NU1T0T+UUSqnG8Yq0Rkcti8z4nIm868wyLyfWf6r0TkR2HLlYhIbdjrPSLyXRH5WESaROQpEZkgIq853y7eEpGxYcvPd77pHBWRj0SkJGxeuYg84Hz7OS4ib4hItjM7os9BRKYBi4AVwHUiMiFsnkdEvi8iu5z33ywiU6Kw//9LRD4GmkQkWUTuDtvGdhH56241/qOIVITNn+t8hi92W+4xEXm0p/00LlJVe9gDYDRQD/waWAyM7Tb/a0AVMAMYBbwE/CZsvgKznOfTndfJZ9nePwO/7WH6/cAG5/mVQB0wF0gj9G1jrTMvEzhI6I/CCOf1Jc68XwE/CnvPEqA27PUeYD0wgdA3lwCwBbjI2c7bwH3OsrnO57KE0IHRNc5rrzO/HNhF6A9luvP6oUg/B2e5/w184Dz/BPh22LzvOtN8gACfB8ZHYf+3AlOAdGfa3wCTnX28CWgCJoXN2w98walhFqFvcJOc5bKc5ZKdz/Jit3+e7fHZhx3RGwBUtRG4nFAw/QwIOkfQXUeXfwc8oqrVqnoCuAe4eRC++h8g1JTTtc1fqOoWVW1xtnmpiEwHbgQOqeq/qWqzqh5X1Q392M5jqnpYVfcD7xL64/Khs53/JBT6AF8GVqvqalXtVNU3gU2Egr/LL1V1h6qeAp4HLuznPt8KPOM8f4bPNt/8d+AHqurXkI9UtZ5z3/+fqGqNUzOq+gdVPeDs4++BncC8sBp+rKobnRqqVHWvqh4k9K3lb5zlrgfqVHVzP/ffDDILenOaqlao6ldUNQ84j9AR3qPO7MnA3rDF9xI6gptAdOUSaqs+Y5vOH5h6Z5kphI6kB+pw2PNTPbwe5TyfBvyN02xzVESOEvqDGH4e4VDY85Nh6/ZJRBYA+cBzzqRngPNF5ELndW/7ea77X9OtjltFZGvYPp4HdDVBnW1bvyb0xxDn39+cQ01mkFjQmx6paiWhJoDznEkHCIVel6lAO58NyNOrD2SbIpIELCV0hH3GNkUkg1CzxX5CQTWzl7dqAkaGvZ44kHocNYSaqLLCHhmq+lAE60byOfw9oeaQrSJyCOg6Kr81bPs97ee57v/p2pxzBD8D7gDGq2oW8Benrr629V/ABSJyHqFvGb/rZTnjIgt6A4CIFIrIXSKS57yeAiwn1JYN8CzwLRHJF5FRwP8h1GumvYe3CwKdhNrzI9l2iojMcbYxEXjEmfUM8FURuVBE0pxtblDVPYR6CE0UkTudE8KZInKJs95WYImIjBORicCdkX8SZ/gtsFRErnNOjI5wTm7mRbDuWT8HERkB/C2hk7AXhj2+Dvyd0yz2c+ABESmQkAtEZDzR3f8MQsEfdOr6Kp/+gcep4TsicrFTwyznjwOq2gy8QOj/6gNV3RfB52KGmAW96XIcuATYICJNhAL+L3zaA+YXhL6WrwV2A82EAukMqnoSeBB432kKmN/LNm+SUI+do8AqQs0yF6vqAed9/kToROWLhE48zgRuduYdJ3RidCmhppOdQKnzvr8BPiJ00vEN4Pf9+iQ+uy81wDLg+4SCsIbQCdI+f3ci+By+SKiZ6GlVPdT1AJ4i1IvpekJ/9J539qPRmZcezf1X1e3AvwHrCH1DOx94P2z+H5z9eIbQz8l/8el5FAg135yPNdvELFG1gUeMMQMnIlOBSmCic1LfxBg7ojfGDJhzXuXbwHMW8rHLroozxgyIc3L8MKGeUde7XI45C2u6McaYBGdNN8YYk+BisukmOztbp0+f7nYZxhgTNzZv3lynqt6e5sVk0E+fPp1Nmza5XYYxxsQNEdnb2zxrujHGmARnQW+MMQnOgt4YYxKcBb0xxiQ4C3pjjElwFvTGGJPgLOiNMSbBWdAbE6GNexrYWnPU7TKM6TcLemMioKp889kP+e4fPnK7FGP6LSavjDUm1uw4fIIDx5oBqD1ykryxI/tYw5jYYUf0xkSgzB84/bzcH3SxEmP6z4LemAiUVQYonJjJlHHplIeFvjHxwILemD40Nrexae8RSgtzKPXl8H5VPc1tHW6XZUzELOiN6cN7O+vo6FRKfaGgP9XWwQe7G9wuy5iIWdAb04eyygCZI5KZOzWL+TPGk5ac9Jk2e2NinQW9MWehqpTvCLJwtpdkTxLpqR4unTmed+yErIkjFvTGnMW2A40Ej7dQ6ss5Pa3Ul0N1XRN76ppcrMyYyFnQG3MWXT1sFs3+dIS2rtC33jcmXljQG3MWZf4gF+SNwZuZdnra1PEjmeHNoMyab0ycsKA3phdHmlr5cN8RSsKabbqU+nJYV13PqVbrZmlinwW9Mb1YuzNIp0Kpz3vGvFJfDq3tnayrrnOhMmP6J6KgF5HrRcQvIlUicncP8wtFZJ2ItIjId8KmTxGRMhGpEJFtIvLNaBZvzGAq9wcZl5HKBXlZZ8z7Qv5YRqZ6KKu05hsT+/q8qZmIeIDHgWuAWmCjiKxS1e1hizUA3wC+2G31duAuVd0iIpnAZhF5s9u6xsScjk7lnR1BFs324kmSM+anJXtYMCubMn8AVUXkzGWMiRWRHNHPA6pUtVpVW4HngGXhC6hqQFU3Am3dph9U1S3O8+NABZAblcqNGUQf1x6loamVkh6abbqU+nKoPXKKXcETQ1iZMf0XSdDnAjVhr2sZQFiLyHTgImBDL/NXiMgmEdkUDNrXYeOuMn+QJIGFBb0HfdcfAWu+MbEukqDv6Tup9mcjIjIKeBG4U1Ube1pGVZ9U1WJVLfZ6e//lMmYolPsDXDR1LGMzUntdZnJWOoUTM+12CCbmRRL0tcCUsNd5wIFINyAiKYRC/neq+lL/yjNm6AWPt/Bx7bEee9t0t8jnZeOeBo43t/W5rDFuiSToNwIFIpIvIqnAzcCqSN5cQmeongIqVPWRgZdpzNB5Z0eoKaan/vPdlfpyaOtQ3q+qH+yyjBmwPoNeVduBO4A1hE6mPq+q20TkNhG5DUBEJopILfBt4AciUisio4EFwC3AlSKy1XksGbS9MSYKyvwBvJlpfG7y6D6XvXjaWDLTku12CCamRTRmrKquBlZ3m/ZE2PNDhJp0unuPntv4jYlJ7R2dvLsjyHWfmxhRl8kUTxJXzLZulia22ZWxxoT5sOYojc3tlBb23WzTpcSXw+HGFioOHh/EyowZOAt6Y8KUVQbwJAmXF2RHvE6Jc2fL8h3WfGNikwW9MWHK/EGKp41l9IiUiNfJGT2C83JHU2796U2MsqA3xnHoWDMVBxv71WzTpdSXw+Z9Rzh20rpZmthjQW+Mo6vnTGkE3Sq7K/Hl0NGpvFtlR/Um9ljQG+Mo8weYPGYEsyeM6ve6F07JImtkit0OwcQkC3pjgNb2Tt7bWUdJYc6Aukh6koRFs728syNAZ2e/7hBizKCzoDcG2LSngabWjgE123Qp9eVQd6KVvxw4FsXKjDl3FvTGEGq2SfUkcdnM8QN+j4WzvYjY3SxN7LGgN4ZQt8pLZowjIy2ii8V7NC4jlQunZNndLE3MsaA3w15Nw0mqAiciuolZX0p9OXxUe5T6Ey1RqMyY6LCgN8Pep90qz30chBKfF9XQwOLGxAoLejPslfmDTBs/kvzsjHN+r/MmjyF7VKq105uYYkFvhrXmtg7+vKuOUt/AulV2l5QkLJqdwzs7gnRYN0sTIyzozbC2vrqe5rbOsw4C3l+lhV6OnWpja82RqL2nMefCgt4Ma+X+IGnJScyfMfBuld1dMcuLJ0ms+cbEDAt6M6yV+wNcNnM8I1I8UXvPMSNTuHjqWOtmaWKGBb0ZtnbXNbGn/uSA7lbZl5JCL9sONBJobI76exvTXxb0ZtgqqwwdcZfMjn7Qd91KoXyHNd8Y91nQm2GrzB9gpjeDqeNHRv29CydmMnH0CBs03MQEC3ozLJ1sbWdDdcM53cTsbESE0kIv7+6oo62jc1C2YUykIgp6EbleRPwiUiUid/cwv1BE1olIi4h8pz/rGuOGP1fV09rROSjt811KfDkcb2ln817rZmnc1WfQi4gHeBxYDBQBy0WkqNtiDcA3gIcHsK4xQ67MHyAj1UPx9LGDto0Fs7JJ8Yj1vjGui+SIfh5QparVqtoKPAcsC19AVQOquhHoPmBmn+saM9RUlXJ/kAWzsklLjl63yu5GpSUzL3+cDRpuXBdJ0OcCNWGva51pkYh4XRFZISKbRGRTMGi/GGbw7AycYP/RU4PabNOl1JeD//Bx9h89NejbMqY3kQR9TzcAifQmHhGvq6pPqmqxqhZ7vdG7HN2Y7k53q4zibQ9603XrY+t9Y9wUSdDXAlPCXucBByJ8/3NZ15hBUeYPUDgxk0lj0gd9WzO9GeSNTbfbIRhXRRL0G4ECEckXkVTgZmBVhO9/LusaE3WNzW1s2nNkSJptwOlm6cvh/ao6Wto7hmSbxnTXZ9CrajtwB7AGqACeV9VtInKbiNwGICITRaQW+DbwAxGpFZHRva07WDtjTF/e31lHe6cOWv/5npQWejnV1sEHuxuGbJvGhItogExVXQ2s7jbtibDnhwg1y0S0rjFuKfMHyByRzNypWUO2zUtnZJOanERZZZArCuz8kxl6dmWsGTa6ulUunO0l2TN0P/rpqR4unTHeTsga11jQm2Fj+8FGAsdbhrTZpkupz0t1XRN76pqGfNvGWNCbYaPcH+r5smj20DefWDdL4yYLejNslFUGOD93DN7MtCHf9vTsDGZkZ9hti40rLOjNsHD0ZCtb9h2hdAgukupNiS+HdbvqOdVq3SzN0LKgN8PC2p11dCqUDFH/+Z6UFnppae9kfXW9azWY4cmC3gwL5ZUBxo5M4fN5Wa7VMC9/HOkpHrubpRlyFvQm4XV2KuU7giya7cWT1NPtl4ZGWrKHBbOyebsygGqkt4sy5txZ0JuE9/H+YzQ0tQ7ZbQ/OprTQS+2RU+wKWjdLM3Qs6E3CK6sMIAILY+CqVOtmadxgQW8SXrk/wEVTshibkep2KeRmpeObkGnt9GZIWdCbhBY83sJHtcdcuRq2NyU+Lx/sbuBES7vbpZhhwoLeJLS1zgVKsdA+36XEl0Nbh/J+VZ3bpZhhwoLeJLQyfwBvZhpFk0a7XcppxdPHMiot2drpzZCxoDcJq72jk7U7gpTM9pLkYrfK7lI8SVxRkE1ZZdC6WZohYUFvEtbWmqM0NrfHVLNNl1JfDocam6k8dNztUswwYEFvElaZP4AnSbi8INvtUs6wyLnnjvW+MUPBgt4krLLKIMXTxjJ6RIrbpZxhwugRfG7yaMpt0HAzBCzoTUI6dKyZ7QcbY7LZpkupL4fN+45w7FSb26WYBGdBbxLSOztCTSIlLt6WuC+lhV46OpX3dlo3SzO4LOhNQiqrDDJpzAh8EzLdLqVXF04ZS9bIFGunN4MuoqAXketFxC8iVSJydw/zRUR+4sz/WETmhs37lohsE5G/iMizIjIimjtgTHet7Z28V1VHiS8HkdjpVtmdJ0lYWOCl3B+ks9O6WZrB02fQi4gHeBxYDBQBy0WkqNtii4EC57EC+Kmzbi7wDaBYVc8DPMDNUavemB5s2hu6vYCbo0lFqrTQS92JFrYdaHS7FJPAIjminwdUqWq1qrYCzwHLui2zDHhaQ9YDWSIyyZmXDKSLSDIwEjgQpdqN6VG5P0iKR1gwK/a6VXa3sMCLiHWzNIMrkqDPBWrCXtc60/pcRlX3Aw8D+4CDwDFVfWPg5RrTt7LKAJfkjycjLdntUvo0flQan8/LsqA3gyqSoO+pkbN7g2KPy4jIWEJH+/nAZCBDRL7c40ZEVojIJhHZFAxa32IzMDUNJ9kZOBHTvW26K/XlsLXmKA1NrW6XYhJUJEFfC0wJe53Hmc0vvS1zNbBbVYOq2ga8BFzW00ZU9UlVLVbVYq83fn5JTWwpj8G7VfalxOdF9dM7bRoTbZEE/UagQETyRSSV0MnUVd2WWQXc6vS+mU+oieYgoSab+SIyUkLdH64CKqJYvzGfUV4ZYOq4kczIznC7lIidnzuG8Rmp1nxjBk2fjZiq2i4idwBrCPWa+YWqbhOR25z5TwCrgSVAFXAS+Kozb4OIvABsAdqBD4EnB2NHjGlu6+D9XXXcVDwlprtVdpeUJCzyeXm7MkBHp7o6gLlJTBGdrVLV1YTCPHzaE2HPFbi9l3XvA+47hxqNiciG3Q00t3VSEkfNNl1KfTm8tGU/W2uOcvG0sW6XYxKMXRlrEka5P0BachKXzhjvdin9trDAS5LYoOFmcFjQm4RR7g9y2czxjEjxuF1Kv40ZmcLF08ZaO70ZFBb0JiHsrmtid11TXPW26a7El8Nf9jcSaGx2uxSTYCzoTULoavIomR2/QV/qC9Vebt0sTZRZ0JuEUOYPMtObwdTxI90uZcDmTMpkwug0a6c3UWdBb+LeydZ21lfXnz4ijlciQqkvh3d31tHW0el2OSaBWNCbuLduVz2t7Z2UxHnQQ6id/nhzO1v2HnG7FJNALOhN3CvzBxiZ6uEL+fHf/3zBrPGkeIQyv7XTm+ixoDdxTVUpqwyyYFY2acnx162yu8wRKXxh+jhrpzdRZUFv4lpV4AT7j56K+/b5cKW+HCoPHefA0VNul2IShAW9iWtdFxjF022J+1JaGNqXcmu+MVFiQW/iWlllkMKJmUzOSne7lKiZ6R1Fbla6XSVrosaC3sSt481tbNzTkBC9bcKJCKWFXt6vqqOlvcPtckwCsKA3cev9qjraOzUuBgHvr1JfDidbO9i427pZmnNnQW/iVlllkMwRycxNwNv6XjpzPKnJSdZ8Y6LCgt7EJVWlfEeAhQVeUjyJ92M8MjWZ+TPGW9CbqEi83xAzLFQcPM7hxpaE6m3TXanPS3Wwib31TW6XYuKcBb2JS11HuosSOuidu1laN0tzjizoTVwq9wc4P3cMOZkj3C5l0EzPziA/O8Oab8w5s6A3cefYyTY27z2SkL1tuivxeVm3q55TrdbN0gycBb2JO2t3BulU4nIQ8P4q9eXQ0t7J+up6t0sxccyC3sSdMn+AsSNT+HxeltulDLp5+eNIT/HYTc7MOYko6EXkehHxi0iViNzdw3wRkZ848z8Wkblh87JE5AURqRSRChG5NJo7YIaXzk7lHX+QRbO9eJLE7XIG3YgUDwtmjafMH0RV3S7HxKk+g15EPMDjwGKgCFguIkXdFlsMFDiPFcBPw+b9P+B1VS0EPg9URKFuM0x9sv8Y9U2tCXfbg7Mp8eWwr+Ek1XXWzdIMTCRH9POAKlWtVtVW4DlgWbdllgFPa8h6IEtEJonIaGAh8BSAqraq6tHolW+GmzJ/ABFYODvxT8R26bpWoKzSmm/MwEQS9LlATdjrWmdaJMvMAILAL0XkQxH5uYhk9LQREVkhIptEZFMwaP2GTc/K/EEunJLFuIxUt0sZMnljRzJ7wijrT28GLJKg76khtHtjYW/LJANzgZ+q6kVAE3BGGz+Aqj6pqsWqWuz1Dp+jNRO5uhMtfFx7NKEGGYlUiS+HDbvraWppd7sUE4ciCfpaYErY6zzgQITL1AK1qrrBmf4CoeA3pt/W7giiyjANei9tHcr7VXVul2LiUCRBvxEoEJF8EUkFbgZWdVtmFXCr0/tmPnBMVQ+q6iGgRkR8znJXAdujVbwZXsr8QbJHpfG5yaPdLmXIFU8bx6i0ZBs03AxIcl8LqGq7iNwBrAE8wC9UdZuI3ObMfwJYDSwBqoCTwFfD3uLrwO+cPxLV3eYZE5H2jk7W7ghyTdEEkoZBt8ruUpOTuHxWNuX+AKqKyPD7DMzA9Rn0AKq6mlCYh097Iuy5Arf3su5WoHjgJRoDW2uOcuxU27BstulSWujl9W2H8B8+TuHE4fetxgycXRlr4kK5P4gnSbi8INvtUlzTde1AWaU135j+saA3caHMH+DiaWMZk57idimumTB6BEWTRtvdLE2/WdCbmHe4sZltBxqHdbNNl9JCL5v3HuHYqTa3SzFxxILexLx3nJ4mpYV2fUWpL4eOTuW9ndbN0kTOgt7EvDJ/gEljRuCbkOl2Ka67cEoWY9JTrPnG9IsFvYlpbR2dvLuzjhJfjnUpBJI9SSyc7aXcH6Sz0+5maSJjQW9i2qY9RzjR0j4sRpOKVKnPS92JFrYfbHS7FBMnLOhNTCv3B0jxCAtmDd9uld0tnO1FxO5maSJnQW9iWpk/wCX548lIi+javmEhe1QaF+RlWTu9iZgFvYlZtUdOsuPwidP3YzefKvV5+bDmKA1NrW6XYuKABb2JWV33Xx9Oo0lFqsSXgyq8u9OukjV9s6A3MavcH2DKuHRmenscq2ZYuyB3DOMzUq2d3kTEgt7EpOa2Dt6vqqfUulX2KClJWDTbyzs7gnRYN0vTBwt6E5M+2N3AqbYOu+3BWZQU5nDkZBsf1R51uxQT4yzoTUwq8wdIS05i/ozxbpcSsxYWZJMkUG7NN6YPFvQmJr3jD3LpzPGkp3rcLiVmZY1MZe7UsTbqlOmTBb2JOXvqmqiua7JmmwiUFubwyf5jBI43u12KiWEW9CbmlDsXAlnQ963rGoN37KjenIVdbmhizlsVAWZ4M5g6fqTbpcS8okmjyclM48dr/Dz7wT63y4kbl83M5jvX+dwuY8hY0JuYsr66nveq6vjOtbPdLiUuiAh3XTubVz4+6HYpcePYqTb+vayK4uljh83FeBb0JmZ0dCo/fHk7uVnp/MPlM9wuJ27c9IWp3PSFqW6XETda2zu57tG1PPDKdhbMyibFk/gt2BHtoYhcLyJ+EakSkbt7mC8i8hNn/sciMrfbfI+IfCgir0SrcJN4nt9UQ8XBRu5ZUmi9bcygSU1O4t4lc9gVbOI36/a6Xc6Q6DPoRcQDPA4sBoqA5SJS1G2xxUCB81gB/LTb/G8CFedcrUlYx0618fAaP/Omj+OG8ye5XY5JcFfNyeGKgmwefWvHsLgxXCRH9POAKlWtVtVW4DlgWbdllgFPa8h6IEtEJgGISB5wA/DzKNZtEsxjf9pJw8lWVi4tslsemEEnIqy8sYim1g4eedPvdjmDLpKgzwVqwl7XOtMiXeZR4HtA59k2IiIrRGSTiGwKBq2r2HCyK3iCX/15DzcVT+G83DFul2OGiYIJmdwyfxrPbNhHRYKP1hVJ0Pd0eNX9Lko9LiMiNwIBVd3c10ZU9UlVLVbVYq/X7j8+nDz4agUjUjzcde3w6e5mYsOdVxcwOj2F+1/ejmri3hwukqCvBaaEvc4DDkS4zALgr0RkD6EmnytF5LcDrtYknHJ/gLcrA3zjqll4M9PcLscMM1kjU7nrmtmsq65nzbbDbpczaCIJ+o1AgYjki0gqcDOwqtsyq4Bbnd4384FjqnpQVe9R1TxVne6s97aqfjmaO2DiV1tHJw+8sp387Ay+clm+2+WYYWr5vKn4JmTy4OrtNLd1uF3OoOgz6FW1HbgDWEOo58zzqrpNRG4TkducxVYD1UAV8DPgnwapXpNAfrNuL7uCTdy7ZA6pyYnfl9nEpmRPEiuXFlHTcIqn3tvtdjmDIqILplR1NaEwD5/2RNhzBW7v4z3KgfJ+V2gSUv2JFv7vWzu4oiCbq+YMj6sTTexaMCuba4sm8HhZFf/t4jwmjB7hdklRZYdRxhWPvLmDk60drLzRulOa2HDvDXNo71B+/Hridbe0oDdDruJgI89+sI9b5k+jYEKm2+UYA8C08Rl87fJ8XtxSy9aao26XE1UW9GZIqSr3v7yd0ekp3Hl1gdvlGPMZd1wZ6v31w5e3JVR3Swt6M6TWbDvEuup67rpmNlkjU90ux5jPGJWWzPeu8/HhvqP8cWv3XuTxy4LeDJnmtg4eXF2Bb0Imy+fZ3RZNbPrS3DwuyBvDQ69VcrK13e1yosKC3gyZp97bTU3DKVYuLSJ5GNwa1sSnpCThvqVFHGps5onyXW6XExX222aGxOHGZh4vq+LaogksmJXtdjnGnNXF08ax7MLJ/MfaamoaTrpdzjmzoDdD4l9fr6S9Q7n3hjlul2JMRO5eXEiSCA+9Vul2KefMgt4Muq01R3lpy36+dnk+08ZnuF2OMRGZNCad2xbN5NVPDrK+ut7tcs6JBb0ZVJ2dyj+v2oY3M407rpzldjnG9MuKhTPIzUrn/pe309EZv90tLejNoPrjR/vZWnOU713nY1SaDVFs4kt6qod7lhSy/WAjz2+q6XuFGGVBbwZNU0s7D71WyQV5Y/jS3Dy3yzFmQG44fxLzpo/j4TV+Gpvb3C5nQCzozaB54p1dHG5s4b6lRSQl2f1sTHwSEVYuLaLhZCuP/Wmn2+UMiAW9GRQ1DSf5j7XVLLtwMhdPG+d2Ocack/Nyx3BT8RR++f4edgVPuF1Ov1nQm0Hx0GuVeES4e3Gh26UYExV3XetjRIqHB1+tcLuUfrOgN1G3vrqeVz85yG2LZjJpTLrb5RgTFd7MNL5x1SzergxQ7g+4XU6/WNCbqOroVH748nZys9JZsXCG2+UYE1VfuSyf/OwMHnhlO20dnW6XEzELehNVv99YQ8XBRu5ZUkh6qsftcoyJqtTkJH5wwxx2BZv4zbq9bpcTMQt6EzXHTrXxb2/4mTd9HDecP8ntcowZFFcW5nBFQTaPvrWDhqZWt8uJiAW9iZrH/rSThpOtrFxqwwOaxCUirLyxiKbWDh55Mz6GHbSgN1GxK3iCX/15DzcVT+G83DFul2PMoCqYkMkt86fxzIZ9VBxsdLucPkUU9CJyvYj4RaRKRO7uYb6IyE+c+R+LyFxn+hQRKRORChHZJiLfjPYOmNjw4KsVjEjxcNe1PrdLMWZI3Hl1AaPTU7j/5e0xP+xgn0EvIh7gcWAxUAQsF5GibostBgqcxwrgp870duAuVZ0DzAdu72FdE+fK/AHergzwjatC420aMxxkjUzlrmtms666njXbDrtdzllFckQ/D6hS1WpVbQWeA5Z1W2YZ8LSGrAeyRGSSqh5U1S0AqnocqAByo1i/cVlbRycPvLKd/OwMvnJZvtvlGDOkls+bim9CJg+u3k5zW4fb5fQqkqDPBcJv21bLmWHd5zIiMh24CNjQ7ypNzHp63V6qg03cu2QOqcl2yscML8meJFYuLaKm4RRPvbfb7XJ6FclvZk/dJ7o3SJ11GREZBbwI3KmqPZ65EJEVIrJJRDYFg8EIyjJuqz/RwqNv7eCKgmyumpPjdjnGuGLBrGyuLZrA42VVHG5sdrucHkUS9LXAlLDXecCBSJcRkRRCIf87VX2pt42o6pOqWqyqxV6vN5LajcseeXMHJ1s7WHmjdac0w9u9N8yhvUP58eux2d0ykqDfCBSISL6IpAI3A6u6LbMKuNXpfTMfOKaqByX02/8UUKGqj0S1cuOqioONPPvBPm6ZP42CCZlul2OMq6aNz+AfrsjnxS21bK056nY5Z+gz6FW1HbgDWEPoZOrzqrpNRG4TkducxVYD1UAV8DPgn5zpC4BbgCtFZKvzWBLtnTBDS1W5/+XtjE5P4c6rC9wux5iYcHtpqNfZD1/eFnPdLSMa201VVxMK8/BpT4Q9V+D2HtZ7j57b700cW7PtEOuq63lg2efIGpnqdjnGxIRRacl87zof333hY/649QBfvCh2OhhaNwnTL81tHfzo1Qp8EzJZPm+q2+UYE1O+NDePC/LG8C+vVdDU0u52OadZ0Jt+eeq93dQeOcXKpUUke+zHx5hwSUnCfUuLONzYwhPv7HK7nNPsN9VE7HBjM4+XVXFt0QQWzMp2uxxjYtLF08ax7MLJPLm2mpqGk26XA1jQm37419crae9Q7r1hjtulGBPT7l5cSJIID71W6XYpgAW9idCH+47w0pb9fO3yfKaNz3C7HGNi2qQx6dy2aCavfnKQ9dX1bpdjQW/61ukMD+jNTOOOK2e5XY4xcWHFwhnkZqVz/8vb6eh0t7ulBb3p0x8/2s/WmqN87zofo9Ii6pFrzLCXnurhniWFbD/YyPObavpeYRBZ0Juzampp56HXKrkgbwxfmpvndjnGxJUbzp/EvOnjeHiNn8bmNtfqsKA3Z/XEO7s43NjCfUuLSEqya9+M6Q8RYeXSIhpOtvLYn3a6VocFvelVTcNJ/mNtNcsunMzF08a5XY4xcem83DHcVDyFX76/h13BE67UYEFvevUvr1XgEeHuxYVul2JMXLvrWh/pKR4efLXCle1b0Jsera+uZ/Unh7ht0UwmjUl3uxxj4po3M42vXzWLtysDlPsDQ759C3pzhg6nO2VuVjorFs5wuxxjEsJXLssnPzuDB17ZTltH55Bu24LenOH3G2uoONjIPUsKSU/1uF2OMQkhNTmJH9wwh13BJn6zbu+QbtuC3nzGsVNtPPyGn3nTx3HD+ZPcLseYhHJlYQ5XFGTz6Fs7aGhqHbLtWtCbz3jsTzs5crKVlUtteEBjok1EWHljEU2tHTzy5tANO2hBb07bFTzBr/68h5uKp3Be7hi3yzEmIRVMyOSW+dN4ZsM+Kg42Dsk2LejNaT96ZTsjUjzcda3P7VKMSWjfuno2Y9JTuP/l7UMy7KAFvQGgzB+gzB/kG1eFxr00xgyeMSNT+PY1s1lXXc+abYcHfXsW9Ia2jk4eeGU7+dkZfOWyfLfLMWZYWD5vKr4JmTy4ejvNbR2Dui0LesPT6/ZSHWzi3iVzSE22HwljhkKyJ4mVS4uoaTjFU+/tHtRt2W/1MFd/ooVH39rBFQXZXDUnx+1yjBlWFszK5tqiCTxeVsXhxuZB205EQS8i14uIX0SqROTuHuaLiPzEmf+xiMyNdF3jrkfe3MHJ1g5W3mjdKY1xw703zKG9Q/nx64PX3bLPoBcRD/A4sBgoApaLSFG3xRYDBc5jBfDTfqxrXLL9QCPPfrCPW+ZPo2BCptvlGDMsTRufwT9ckc+LW2rZWnN0ULYRyXBB84AqVa0GEJHngGXA9rBllgFPa6if0HoRyRKRScD0CNaNmqWPvTfoJzUSSX1TK6PTU7jz6gK3SzFmWLu9dBYvbK7lhy9v46X/eVnUv11HEvS5QPg4WLXAJREskxvhugCIyApC3waYOnVqBGWdaaY3g9YhvllQPJuNsHzeVLJGprpdijHD2qi0ZO6+vpCtNUdpae9kREp07zEVSdD39Kelew//3paJZN3QRNUngScBiouLB3QFwaM3XzSQ1YwxxnVfujiPL108OMN1RhL0tcCUsNd5wIEIl0mNYF1jjDGDKJJeNxuBAhHJF5FU4GZgVbdlVgG3Or1v5gPHVPVghOsaY4wZRH0e0atqu4jcAawBPMAvVHWbiNzmzH8CWA0sAaqAk8BXz7buoOyJMcaYHslQ3FCnv4qLi3XTpk1ul2GMMXFDRDaranFP8+zKWGOMSXAW9MYYk+As6I0xJsFZ0BtjTIKLyZOxIhIEBjpMejZQF8VyosXq6h+rq3+srv5JxLqmqaq3pxkxGfTnQkQ29Xbm2U1WV/9YXf1jdfXPcKvLmm6MMSbBWdAbY0yCS8Sgf9LtAnphdfWP1dU/Vlf/DKu6Eq6N3hhjzGcl4hG9McaYMBb0xhiT4BIm6GN1EHIR+YWIBETkL27X0kVEpohImYhUiMg2Efmm2zUBiMgIEflARD5y6vqh2zWFExGPiHwoIq+4XUs4EdkjIp+IyFYRiZm7ATpDir4gIpXOz9qlMVCTz/mcuh6NInKn23UBiMi3nJ/7v4jIsyIyImrvnQht9M4g5DuAawgNgrIRWK6qgzI2bX+IyELgBKExdc9zux4AZzzfSaq6RUQygc3AF93+vCQ0UGaGqp4QkRTgPeCbqrrezbq6iMi3gWJgtKre6HY9XURkD1CsqjF1AZCI/Bp4V1V/7oxHMVJVj7pc1mlObuwHLlHVgV6gGa1acgn9vBep6ikReR5Yraq/isb7J8oR/ekBzFW1FegahNx1qroWaHC7jnCqelBVtzjPjwMVhMb3dZWGnHBepjiPmDgSEZE84Abg527XEg9EZDSwEHgKQFVbYynkHVcBu9wO+TDJQLqIJAMjieJofIkS9L0NTm76ICLTgYuADS6XApxuHtkKBIA3VTUm6gIeBb4HxOLo8wq8ISKbRWSF28U4ZgBB4JdOc9fPRSTD7aK6uRl41u0iAFR1P/AwsA84SGiUvjei9f6JEvQRD0JuPiUio4AXgTtVtdHtegBUtUNVLyQ0vvA8EXG9uUtEbgQCqrrZ7Vp6sUBV5wKLgdud5kK3JQNzgZ+q6kVAExBL585Sgb8C/uB2LQAiMpZQK0Q+MBnIEJEvR+v9EyXoIxnA3IRx2sBfBH6nqi+5XU93ztf8cuB6dysBYAHwV05b+HPAlSLyW3dL+pSqHnD+DQD/Sagp0221QG3YN7IXCAV/rFgMbFHVw24X4rga2K2qQVVtA14CLovWmydK0Nsg5P3gnPR8CqhQ1UfcrqeLiHhFJMt5nk7oh7/S1aIAVb1HVfNUdTqhn623VTVqR1vnQkQynBPqOE0j1wKu9/BS1UNAjYj4nElXAa53jgiznBhptnHsA+aLyEjn9/MqQufOoqLPwcHjQSwPQi4izwIlQLaI1AL3qepT7lbFAuAW4BOnPRzg+6q62r2SAJgE/NrpDZEEPK+qMdWVMQZNAP4zlA0kA8+o6uvulnTa14HfOQdf1cBXXa4HABEZSaiH3v9wu5YuqrpBRF4AtgDtwIdE8XYICdG90hhjTO8SpenGGGNMLyzojTEmwVnQG2NMgrOgN8aYBGdBb4wxCc6C3hhjEpwFvTHGJLj/D8ZfGY38Z2IIAAAAAElFTkSuQmCC\n",
      "text/plain": [
       "<Figure size 432x288 with 1 Axes>"
      ]
     },
     "metadata": {
      "needs_background": "light"
     },
     "output_type": "display_data"
    },
    {
     "name": "stdout",
     "output_type": "stream",
     "text": [
      "Found existing file, loading....\n",
      "Finished loading file\n",
      "Found existing file, loading....\n",
      "Finished loading file\n",
      "Ratio: 0.2\n",
      "Pos train: 40\n",
      "Neg train: 215\n",
      "Batch size: 15\n",
      "Randomizing training and test data..\n",
      "Reading in glove vector\n",
      "Finished reading glove vector\n"
     ]
    },
    {
     "name": "stderr",
     "output_type": "stream",
     "text": [
      "Training Epochs:   0%|          | 0/9 [00:00<?, ?it/s]"
     ]
    },
    {
     "name": "stdout",
     "output_type": "stream",
     "text": [
      "\n",
      "\n",
      "Training (0/9): {'precision': 0.26666666666666666, 'recall': 0.00392156862745098, 'f1': 0.007729468599033816, 'tp': 4, 'tn': 2794, 'fp': 11, 'fn': 1016} Loss: 0.57576\n",
      "\n",
      "---------- EVALUATION ----------\n",
      "Document Accuracy: 0.8442\n",
      "Soft Document Accuracy: 0.0\n",
      "Chunk Accuracy: 0.9878\n",
      "Loss: 0.2740637720985846\n",
      "Couldnt calculate precision, division by zero\n",
      "Couldnt calculate f1, division by zero\n",
      "precision: None\n",
      "recall: 0.0\n",
      "f1: None\n",
      "tp: 0\n",
      "tn: 1702\n",
      "fp: 0\n",
      "fn: 21\n"
     ]
    },
    {
     "name": "stderr",
     "output_type": "stream",
     "text": [
      "Training Epochs:  11%|█         | 1/9 [02:08<17:08, 128.54s/it]"
     ]
    },
    {
     "name": "stdout",
     "output_type": "stream",
     "text": [
      "\n",
      "\n",
      "Couldnt calculate precision, division by zero\n",
      "Couldnt calculate f1, division by zero\n",
      "Training (1/9): {'precision': None, 'recall': 0.0, 'f1': None, 'tp': 0, 'tn': 2805, 'fp': 0, 'fn': 1020} Loss: 0.2895\n",
      "\n",
      "---------- EVALUATION ----------\n",
      "Document Accuracy: 0.8442\n",
      "Soft Document Accuracy: 0.0\n",
      "Chunk Accuracy: 0.9878\n",
      "Loss: 0.10842194524896029\n",
      "Couldnt calculate precision, division by zero\n",
      "Couldnt calculate f1, division by zero\n",
      "precision: None\n",
      "recall: 0.0\n",
      "f1: None\n",
      "tp: 0\n",
      "tn: 1702\n",
      "fp: 0\n",
      "fn: 21\n"
     ]
    },
    {
     "name": "stderr",
     "output_type": "stream",
     "text": [
      "Training Epochs:  22%|██▏       | 2/9 [04:09<14:29, 124.19s/it]"
     ]
    },
    {
     "name": "stdout",
     "output_type": "stream",
     "text": [
      "\n",
      "\n",
      "Training (2/9): {'precision': 0.9720176730486009, 'recall': 0.6470588235294118, 'f1': 0.7769276044732195, 'tp': 660, 'tn': 2786, 'fp': 19, 'fn': 360} Loss: 0.1964\n",
      "\n",
      "---------- EVALUATION ----------\n",
      "Document Accuracy: 0.7662\n",
      "Soft Document Accuracy: 0.0\n",
      "Chunk Accuracy: 0.9837\n",
      "Loss: 0.12494948813268407\n",
      "Couldnt calculate f1, division by zero\n",
      "precision: 0.0\n",
      "recall: 0.0\n",
      "f1: None\n",
      "tp: 0\n",
      "tn: 1695\n",
      "fp: 7\n",
      "fn: 21\n"
     ]
    },
    {
     "name": "stderr",
     "output_type": "stream",
     "text": [
      "Training Epochs:  33%|███▎      | 3/9 [06:12<12:20, 123.44s/it]"
     ]
    },
    {
     "name": "stdout",
     "output_type": "stream",
     "text": [
      "\n",
      "\n",
      "Training (3/9): {'precision': 0.9833659491193738, 'recall': 0.9852941176470589, 'f1': 0.9843290891283056, 'tp': 1005, 'tn': 2788, 'fp': 17, 'fn': 15} Loss: 0.18657\n",
      "\n",
      "---------- EVALUATION ----------\n",
      "Document Accuracy: 0.7662\n",
      "Soft Document Accuracy: 0.0\n",
      "Chunk Accuracy: 0.9808\n",
      "Loss: 0.14061257412128736\n",
      "Couldnt calculate f1, division by zero\n",
      "precision: 0.0\n",
      "recall: 0.0\n",
      "f1: None\n",
      "tp: 0\n",
      "tn: 1690\n",
      "fp: 12\n",
      "fn: 21\n"
     ]
    },
    {
     "name": "stderr",
     "output_type": "stream",
     "text": [
      "Training Epochs:  44%|████▍     | 4/9 [08:15<10:17, 123.44s/it]"
     ]
    },
    {
     "name": "stdout",
     "output_type": "stream",
     "text": [
      "\n",
      "\n",
      "Training (4/9): {'precision': 0.9688128772635815, 'recall': 0.9441176470588235, 'f1': 0.9563058589870904, 'tp': 963, 'tn': 2774, 'fp': 31, 'fn': 57} Loss: 0.19535\n",
      "\n",
      "---------- EVALUATION ----------\n",
      "Document Accuracy: 0.5974\n",
      "Soft Document Accuracy: 0.0833\n",
      "Chunk Accuracy: 0.9652\n",
      "Loss: 0.33448074071051237\n",
      "precision: 0.046511627906976744\n",
      "recall: 0.09523809523809523\n",
      "f1: 0.0625\n",
      "tp: 2\n",
      "tn: 1661\n",
      "fp: 41\n",
      "fn: 19\n"
     ]
    },
    {
     "name": "stderr",
     "output_type": "stream",
     "text": [
      "Training Epochs:  56%|█████▌    | 5/9 [10:14<08:07, 121.92s/it]"
     ]
    },
    {
     "name": "stdout",
     "output_type": "stream",
     "text": [
      "\n",
      "\n",
      "Training (5/9): {'precision': 0.9702258726899384, 'recall': 0.9264705882352942, 'f1': 0.9478435305917753, 'tp': 945, 'tn': 2776, 'fp': 29, 'fn': 75} Loss: 0.19487\n",
      "\n",
      "---------- EVALUATION ----------\n",
      "Document Accuracy: 0.6883\n",
      "Soft Document Accuracy: 0.0833\n",
      "Chunk Accuracy: 0.9791\n",
      "Loss: 0.18586859615149734\n",
      "precision: 0.10526315789473684\n",
      "recall: 0.09523809523809523\n",
      "f1: 0.1\n",
      "tp: 2\n",
      "tn: 1685\n",
      "fp: 17\n",
      "fn: 19\n"
     ]
    },
    {
     "name": "stderr",
     "output_type": "stream",
     "text": [
      "Training Epochs:  67%|██████▋   | 6/9 [12:13<06:02, 120.69s/it]"
     ]
    },
    {
     "name": "stdout",
     "output_type": "stream",
     "text": [
      "\n",
      "\n",
      "Training (6/9): {'precision': 0.996078431372549, 'recall': 0.996078431372549, 'f1': 0.996078431372549, 'tp': 1016, 'tn': 2801, 'fp': 4, 'fn': 4} Loss: 0.16115\n",
      "\n",
      "---------- EVALUATION ----------\n",
      "Document Accuracy: 0.6753\n",
      "Soft Document Accuracy: 0.0833\n",
      "Chunk Accuracy: 0.9774\n",
      "Loss: 0.22301951969428063\n",
      "precision: 0.09090909090909091\n",
      "recall: 0.09523809523809523\n",
      "f1: 0.09302325581395349\n",
      "tp: 2\n",
      "tn: 1682\n",
      "fp: 20\n",
      "fn: 19\n"
     ]
    },
    {
     "name": "stderr",
     "output_type": "stream",
     "text": [
      "Training Epochs:  78%|███████▊  | 7/9 [14:11<04:00, 120.04s/it]"
     ]
    },
    {
     "name": "stdout",
     "output_type": "stream",
     "text": [
      "\n",
      "\n",
      "Training (7/9): {'precision': 0.9912451361867705, 'recall': 0.9990196078431373, 'f1': 0.9951171875, 'tp': 1019, 'tn': 2796, 'fp': 9, 'fn': 1} Loss: 0.15601\n",
      "\n",
      "---------- EVALUATION ----------\n",
      "Document Accuracy: 0.6883\n",
      "Soft Document Accuracy: 0.0833\n",
      "Chunk Accuracy: 0.9774\n",
      "Loss: 0.23996099107523244\n",
      "precision: 0.05\n",
      "recall: 0.047619047619047616\n",
      "f1: 0.04878048780487805\n",
      "tp: 1\n",
      "tn: 1683\n",
      "fp: 19\n",
      "fn: 20\n"
     ]
    },
    {
     "name": "stderr",
     "output_type": "stream",
     "text": [
      "Training Epochs:  89%|████████▉ | 8/9 [16:10<01:59, 119.59s/it]"
     ]
    },
    {
     "name": "stdout",
     "output_type": "stream",
     "text": [
      "\n",
      "\n",
      "Training (8/9): {'precision': 0.9941520467836257, 'recall': 1.0, 'f1': 0.9970674486803519, 'tp': 1020, 'tn': 2799, 'fp': 6, 'fn': 0} Loss: 0.14948\n",
      "\n",
      "---------- EVALUATION ----------\n",
      "Document Accuracy: 0.7273\n",
      "Soft Document Accuracy: 0.0\n",
      "Chunk Accuracy: 0.9808\n",
      "Loss: 0.28817579543203853\n",
      "Couldnt calculate f1, division by zero\n",
      "precision: 0.0\n",
      "recall: 0.0\n",
      "f1: None\n",
      "tp: 0\n",
      "tn: 1690\n",
      "fp: 12\n",
      "fn: 21\n"
     ]
    },
    {
     "name": "stderr",
     "output_type": "stream",
     "text": [
      "Training Epochs: 100%|██████████| 9/9 [18:09<00:00, 121.06s/it]"
     ]
    },
    {
     "name": "stdout",
     "output_type": "stream",
     "text": [
      "Finished Training!\n"
     ]
    },
    {
     "name": "stderr",
     "output_type": "stream",
     "text": [
      "\n"
     ]
    },
    {
     "data": {
      "image/png": "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\n",
      "text/plain": [
       "<Figure size 432x288 with 1 Axes>"
      ]
     },
     "metadata": {
      "needs_background": "light"
     },
     "output_type": "display_data"
    },
    {
     "data": {
      "image/png": "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\n",
      "text/plain": [
       "<Figure size 432x288 with 1 Axes>"
      ]
     },
     "metadata": {
      "needs_background": "light"
     },
     "output_type": "display_data"
=======
>>>>>>> updating results
    }
   ],
   "source": [
    "run_with_categories(categories)"
   ]
  },
  {
   "cell_type": "code",
   "execution_count": null,
   "metadata": {},
   "outputs": [],
   "source": []
  },
  {
   "cell_type": "code",
   "execution_count": null,
   "metadata": {},
   "outputs": [],
   "source": []
  }
 ],
 "metadata": {
  "kernelspec": {
   "display_name": "Python 3",
   "language": "python",
   "name": "python3"
  },
  "language_info": {
   "codemirror_mode": {
    "name": "ipython",
    "version": 3
   },
   "file_extension": ".py",
   "mimetype": "text/x-python",
   "name": "python",
   "nbconvert_exporter": "python",
   "pygments_lexer": "ipython3",
   "version": "3.8.6"
  },
  "metadata": {
   "interpreter": {
    "hash": "916dbcbb3f70747c44a77c7bcd40155683ae19c65e1c03b4aa3499c5328201f1"
   }
  }
 },
 "nbformat": 4,
 "nbformat_minor": 4
}
