{
 "cells": [
  {
   "cell_type": "code",
   "execution_count": 5,
   "metadata": {},
   "outputs": [],
   "source": [
    "# First load in train, valid, and test datasets\n",
    "import pandas as pd\n",
    "import numpy as np\n",
    "\n",
    "import itertools\n",
    "\n",
    "from data_handling.bert_data_tokenization import get_dataset_for_category_bert\n",
    "from data_handling.data import DocumentData, BinaryCUADDataset\n",
    "from metrics.metrics import get_metrics, calculate_metrics, calculate_chunk_accuracy, calculate_document_accuracy, calculate_soft_document_accuracy\n",
    "from utils.bert_utils import train_bert\n",
    "from utils.utils import get_device\n",
    "\n",
    "import matplotlib.pyplot as plt\n",
    "import pandas as pd\n",
    "import torch\n",
    "\n",
    "import os\n",
    "import json\n",
    "import math\n",
    "import random\n",
    "from tqdm import tqdm\n",
    "\n",
    "# Models\n",
    "\n",
    "import torch.nn as nn\n",
    "from torch.utils.data import DataLoader\n",
    "\n",
    "# Training\n",
    "\n",
    "import torch.optim as optim\n",
    "from transformers import RobertaTokenizerFast, RobertaForSequenceClassification, AdamW\n",
    "from transformers import BertTokenizerFast, BertForSequenceClassification\n",
    "\n",
    "# Evaluation\n",
    "\n",
    "from sklearn.metrics import accuracy_score, classification_report, confusion_matrix\n",
    "import seaborn as sns"
   ]
  },
  {
   "cell_type": "markdown",
   "metadata": {},
   "source": [
    "# INFO\n",
    "\n",
    "This file is able to run both the BERT and the RoBERTa models, you only have to change the model name.\n",
    "\n",
    "The two model names that I've used are:\n",
    "\n",
    "* roberta-base\n",
    "* bert-base-uncased"
   ]
  },
  {
   "cell_type": "code",
   "execution_count": 9,
   "metadata": {},
   "outputs": [],
   "source": [
    "def run_with_categories(categories, model_name):\n",
    "    for category in categories:\n",
    "        run(category, model_name)\n",
    "        \n",
    "def run(category, model_name):\n",
    "    data_source = \"data/CUADv1.json\"\n",
    "    num_examples = 255 # 510 is max\n",
    "    subpart_size = 512\n",
    "    subpart_overlap = 26\n",
    "    data_destination = f\"data/binary_dataset_{model_name}_{subpart_size}_{subpart_overlap}_{num_examples}.json\"\n",
    "    vocab_destination = f\"data/vocab_{model_name}_{num_examples}.json\"\n",
    "    category = category\n",
    "\n",
    "    model_name = model_name\n",
    "    \n",
    "    \n",
    "    if model_name == \"roberta-base\":\n",
    "        tokenize = RobertaTokenizerFast.from_pretrained(model_name)\n",
    "    else:\n",
    "        tokenize = BertTokenizerFast.from_pretrained(model_name)\n",
    "\n",
    "    train_dataset, test_dataset, tokenize = get_dataset_for_category_bert(category, data_source, data_destination, vocab_destination, num_examples, subpart_size, subpart_overlap, tokenize)\n",
    "    \n",
    "    train_loader = DataLoader(train_dataset, shuffle=True)\n",
    "    test_loader = DataLoader(test_dataset, shuffle=True)\n",
    "\n",
    "    device = get_device()\n",
    "\n",
    "    # Declare the model\n",
    "    if model_name == \"roberta-base\":\n",
    "        model = RobertaForSequenceClassification.from_pretrained(model_name, num_labels=1, num_hidden_layers=8).to(device)\n",
    "    else:\n",
    "        model = BertForSequenceClassification.from_pretrained(model_name, num_labels=1, num_hidden_layers=8).to(device)\n",
    "\n",
    "    optimizer = AdamW(model.parameters(), lr = 8e-6,)\n",
    "    \n",
    "    train_bert(model, optimizer, train_loader, test_loader, category, model_name, device=device, num_epochs=5)"
   ]
  },
  {
   "cell_type": "code",
   "execution_count": 10,
   "metadata": {},
   "outputs": [
    {
     "data": {
      "application/vnd.jupyter.widget-view+json": {
       "model_id": "6daeb1e13f1b47bc8a0bb72a9a2fd165",
       "version_major": 2,
       "version_minor": 0
      },
      "text/plain": [
       "Downloading:   0%|          | 0.00/899k [00:00<?, ?B/s]"
      ]
     },
     "metadata": {},
     "output_type": "display_data"
    },
    {
     "data": {
      "application/vnd.jupyter.widget-view+json": {
       "model_id": "7d23c329c1f64e90b01cde636461ad5b",
       "version_major": 2,
       "version_minor": 0
      },
      "text/plain": [
       "Downloading:   0%|          | 0.00/456k [00:00<?, ?B/s]"
      ]
     },
     "metadata": {},
     "output_type": "display_data"
    },
    {
     "name": "stderr",
     "output_type": "stream",
     "text": [
      "Creating vocabulary:   0%|          | 0/255 [00:00<?, ?it/s]Token indices sequence length is longer than the specified maximum sequence length for this model (23250 > 512). Running this sequence through the model will result in indexing errors\n",
      "Creating vocabulary: 100%|██████████| 255/255 [00:07<00:00, 32.39it/s]\n",
      "Creating subparts and labels:   1%|          | 2/255 [00:00<00:17, 14.84it/s]"
     ]
    },
    {
     "name": "stdout",
     "output_type": "stream",
     "text": [
      "255\n",
      "No existing file with same configuration, creating new file....\n"
     ]
    },
    {
     "name": "stderr",
     "output_type": "stream",
     "text": [
      "Creating subparts and labels: 100%|██████████| 255/255 [00:13<00:00, 18.98it/s]\n",
      "IOPub data rate exceeded.\n",
      "The notebook server will temporarily stop sending output\n",
      "to the client in order to avoid crashing it.\n",
      "To change this limit, set the config variable\n",
      "`--NotebookApp.iopub_data_rate_limit`.\n",
      "\n",
      "Current values:\n",
      "NotebookApp.iopub_data_rate_limit=1000000.0 (bytes/sec)\n",
      "NotebookApp.rate_limit_window=3.0 (secs)\n",
      "\n"
     ]
    },
    {
     "name": "stdout",
     "output_type": "stream",
     "text": [
      "Ratio: 0.7\n",
      "Pos train: 208\n",
      "Neg train: 47\n",
      "Batch size: 18\n",
      "Randomizing training and testing data..\n"
     ]
    },
    {
     "data": {
      "application/vnd.jupyter.widget-view+json": {
       "model_id": "bd9257bbd2c74d01b714fa8e38754151",
       "version_major": 2,
       "version_minor": 0
      },
      "text/plain": [
       "Downloading:   0%|          | 0.00/481 [00:00<?, ?B/s]"
      ]
     },
     "metadata": {},
     "output_type": "display_data"
    },
    {
     "data": {
      "application/vnd.jupyter.widget-view+json": {
       "model_id": "152f608527d44701b69503a66ee5cdf2",
       "version_major": 2,
       "version_minor": 0
      },
      "text/plain": [
       "Downloading:   0%|          | 0.00/501M [00:00<?, ?B/s]"
      ]
     },
     "metadata": {},
     "output_type": "display_data"
    },
    {
     "name": "stderr",
     "output_type": "stream",
     "text": [
      "Some weights of the model checkpoint at roberta-base were not used when initializing RobertaForSequenceClassification: ['lm_head.dense.weight', 'roberta.encoder.layer.9.attention.self.value.bias', 'roberta.encoder.layer.11.attention.output.dense.bias', 'roberta.encoder.layer.8.attention.self.value.bias', 'roberta.encoder.layer.8.output.dense.bias', 'roberta.encoder.layer.8.attention.output.LayerNorm.bias', 'roberta.encoder.layer.10.attention.self.value.bias', 'roberta.encoder.layer.11.output.dense.bias', 'roberta.encoder.layer.11.attention.self.value.weight', 'roberta.encoder.layer.9.attention.output.LayerNorm.weight', 'roberta.encoder.layer.10.attention.output.LayerNorm.bias', 'roberta.encoder.layer.8.attention.self.query.weight', 'roberta.encoder.layer.10.intermediate.dense.bias', 'roberta.encoder.layer.9.attention.self.value.weight', 'roberta.encoder.layer.10.attention.output.dense.weight', 'roberta.encoder.layer.11.output.LayerNorm.bias', 'lm_head.decoder.weight', 'lm_head.dense.bias', 'roberta.encoder.layer.9.attention.output.LayerNorm.bias', 'roberta.encoder.layer.11.attention.output.dense.weight', 'roberta.encoder.layer.10.attention.output.dense.bias', 'roberta.encoder.layer.9.attention.self.query.bias', 'roberta.encoder.layer.8.intermediate.dense.bias', 'roberta.encoder.layer.11.attention.self.query.bias', 'roberta.encoder.layer.8.output.LayerNorm.bias', 'roberta.encoder.layer.11.attention.self.query.weight', 'roberta.encoder.layer.11.output.dense.weight', 'roberta.encoder.layer.9.output.LayerNorm.weight', 'roberta.encoder.layer.10.output.LayerNorm.weight', 'roberta.encoder.layer.9.output.dense.bias', 'roberta.encoder.layer.10.attention.self.query.weight', 'lm_head.layer_norm.weight', 'roberta.encoder.layer.8.output.LayerNorm.weight', 'roberta.encoder.layer.9.output.LayerNorm.bias', 'roberta.encoder.layer.8.output.dense.weight', 'roberta.encoder.layer.9.intermediate.dense.weight', 'roberta.encoder.layer.11.attention.self.value.bias', 'roberta.encoder.layer.11.intermediate.dense.weight', 'roberta.encoder.layer.9.attention.output.dense.weight', 'roberta.encoder.layer.9.intermediate.dense.bias', 'roberta.encoder.layer.8.intermediate.dense.weight', 'roberta.encoder.layer.10.attention.self.key.weight', 'roberta.encoder.layer.10.attention.self.value.weight', 'roberta.encoder.layer.8.attention.output.dense.bias', 'roberta.encoder.layer.8.attention.self.key.bias', 'roberta.encoder.layer.11.intermediate.dense.bias', 'roberta.encoder.layer.9.attention.self.key.bias', 'roberta.encoder.layer.8.attention.self.value.weight', 'roberta.encoder.layer.11.output.LayerNorm.weight', 'roberta.pooler.dense.weight', 'roberta.encoder.layer.11.attention.output.LayerNorm.weight', 'lm_head.layer_norm.bias', 'roberta.encoder.layer.9.attention.self.query.weight', 'roberta.encoder.layer.10.output.dense.bias', 'roberta.encoder.layer.9.output.dense.weight', 'roberta.encoder.layer.11.attention.self.key.weight', 'roberta.encoder.layer.9.attention.output.dense.bias', 'roberta.encoder.layer.10.attention.output.LayerNorm.weight', 'roberta.encoder.layer.9.attention.self.key.weight', 'roberta.encoder.layer.8.attention.output.LayerNorm.weight', 'roberta.encoder.layer.10.intermediate.dense.weight', 'roberta.encoder.layer.10.output.LayerNorm.bias', 'roberta.encoder.layer.8.attention.self.query.bias', 'roberta.encoder.layer.10.output.dense.weight', 'roberta.encoder.layer.8.attention.output.dense.weight', 'roberta.encoder.layer.11.attention.self.key.bias', 'roberta.encoder.layer.8.attention.self.key.weight', 'roberta.encoder.layer.11.attention.output.LayerNorm.bias', 'roberta.pooler.dense.bias', 'lm_head.bias', 'roberta.encoder.layer.10.attention.self.query.bias', 'roberta.encoder.layer.10.attention.self.key.bias']\n",
      "- This IS expected if you are initializing RobertaForSequenceClassification from the checkpoint of a model trained on another task or with another architecture (e.g. initializing a BertForSequenceClassification model from a BertForPreTraining model).\n",
      "- This IS NOT expected if you are initializing RobertaForSequenceClassification from the checkpoint of a model that you expect to be exactly identical (initializing a BertForSequenceClassification model from a BertForSequenceClassification model).\n",
      "Some weights of RobertaForSequenceClassification were not initialized from the model checkpoint at roberta-base and are newly initialized: ['classifier.out_proj.weight', 'classifier.dense.bias', 'classifier.out_proj.bias', 'classifier.dense.weight']\n",
      "You should probably TRAIN this model on a down-stream task to be able to use it for predictions and inference.\n",
      "Training Epochs:   0%|          | 0/5 [00:00<?, ?it/s]"
     ]
    },
    {
     "name": "stdout",
     "output_type": "stream",
     "text": [
      "\n",
      "\n",
      "Training (0/5): {'precision': 0.8678439191113643, 'recall': 0.919155354449472, 'f1': 0.8927629651333137, 'tp': 3047, 'tn': 811, 'fp': 464, 'fn': 268} Loss: 0.35027\n",
      "\n",
      "---------- EVALUATION ----------\n",
      "Document Accuracy: 0.1667\n",
      "Soft Document Accuracy: 0.9683\n",
      "Chunk Accuracy: 0.9133\n",
      "Loss: 0.5014909385488584\n",
      "precision: 0.26296296296296295\n",
      "recall: 0.9466666666666667\n",
      "f1: 0.4115942028985507\n",
      "tp: 71\n",
      "tn: 2067\n",
      "fp: 199\n",
      "fn: 4\n"
     ]
    },
    {
     "name": "stderr",
     "output_type": "stream",
     "text": [
      "Training Epochs:  20%|██        | 1/5 [02:42<10:49, 162.27s/it]"
     ]
    },
    {
     "name": "stdout",
     "output_type": "stream",
     "text": [
      "\n",
      "\n",
      "Training (1/5): {'precision': 0.9905775075987842, 'recall': 0.9831070889894419, 'f1': 0.9868281604844815, 'tp': 3259, 'tn': 1244, 'fp': 31, 'fn': 56} Loss: 0.07508\n",
      "\n",
      "---------- EVALUATION ----------\n",
      "Document Accuracy: 0.3333\n",
      "Soft Document Accuracy: 0.9683\n",
      "Chunk Accuracy: 0.9449\n",
      "Loss: 0.33954051519051576\n",
      "precision: 0.36082474226804123\n",
      "recall: 0.9333333333333333\n",
      "f1: 0.5204460966542751\n",
      "tp: 70\n",
      "tn: 2142\n",
      "fp: 124\n",
      "fn: 5\n"
     ]
    },
    {
     "name": "stderr",
     "output_type": "stream",
     "text": [
      "Training Epochs:  40%|████      | 2/5 [05:28<08:14, 164.68s/it]"
     ]
    },
    {
     "name": "stdout",
     "output_type": "stream",
     "text": [
      "\n",
      "\n",
      "Training (2/5): {'precision': 0.9948531637904935, 'recall': 0.9912518853695325, 'f1': 0.9930492595950438, 'tp': 3286, 'tn': 1258, 'fp': 17, 'fn': 29} Loss: 0.03136\n",
      "\n",
      "---------- EVALUATION ----------\n",
      "Document Accuracy: 0.2051\n",
      "Soft Document Accuracy: 0.9683\n",
      "Chunk Accuracy: 0.9342\n",
      "Loss: 0.45388602991051114\n",
      "precision: 0.319634703196347\n",
      "recall: 0.9333333333333333\n",
      "f1: 0.4761904761904762\n",
      "tp: 70\n",
      "tn: 2117\n",
      "fp: 149\n",
      "fn: 5\n"
     ]
    },
    {
     "name": "stderr",
     "output_type": "stream",
     "text": [
      "Training Epochs:  60%|██████    | 3/5 [08:14<05:30, 165.30s/it]"
     ]
    },
    {
     "name": "stdout",
     "output_type": "stream",
     "text": [
      "\n",
      "\n",
      "Training (3/5): {'precision': 0.9972801450589301, 'recall': 0.995475113122172, 'f1': 0.9963768115942029, 'tp': 3300, 'tn': 1266, 'fp': 9, 'fn': 15} Loss: 0.01705\n",
      "\n",
      "---------- EVALUATION ----------\n",
      "Document Accuracy: 0.3333\n",
      "Soft Document Accuracy: 0.9683\n",
      "Chunk Accuracy: 0.9466\n",
      "Loss: 0.3675335036883226\n",
      "precision: 0.3684210526315789\n",
      "recall: 0.9333333333333333\n",
      "f1: 0.5283018867924527\n",
      "tp: 70\n",
      "tn: 2146\n",
      "fp: 120\n",
      "fn: 5\n"
     ]
    },
    {
     "name": "stderr",
     "output_type": "stream",
     "text": [
      "Training Epochs:  80%|████████  | 4/5 [11:00<02:45, 165.40s/it]"
     ]
    },
    {
     "name": "stdout",
     "output_type": "stream",
     "text": [
      "\n",
      "\n",
      "Training (4/5): {'precision': 0.9987900786448881, 'recall': 0.996078431372549, 'f1': 0.9974324120223532, 'tp': 3302, 'tn': 1271, 'fp': 4, 'fn': 13} Loss: 0.00985\n",
      "\n",
      "---------- EVALUATION ----------\n",
      "Document Accuracy: 0.2949\n",
      "Soft Document Accuracy: 0.9683\n",
      "Chunk Accuracy: 0.9449\n",
      "Loss: 0.468054649667092\n",
      "precision: 0.36082474226804123\n",
      "recall: 0.9333333333333333\n",
      "f1: 0.5204460966542751\n",
      "tp: 70\n",
      "tn: 2142\n",
      "fp: 124\n",
      "fn: 5\n"
     ]
    },
    {
     "name": "stderr",
     "output_type": "stream",
     "text": [
      "Training Epochs: 100%|██████████| 5/5 [13:45<00:00, 165.17s/it]"
     ]
    },
    {
     "name": "stdout",
     "output_type": "stream",
     "text": [
      "Finished Training!\n"
     ]
    },
    {
     "name": "stderr",
     "output_type": "stream",
     "text": [
      "\n"
     ]
    },
    {
     "data": {
      "image/png": "[encoded data removed]",
      "text/plain": [
       "<Figure size 432x288 with 1 Axes>"
      ]
     },
     "metadata": {
      "needs_background": "light"
     },
     "output_type": "display_data"
    },
    {
     "data": {
      "image/png": "[encoded data removed]",
      "text/plain": [
       "<Figure size 432x288 with 1 Axes>"
      ]
     },
     "metadata": {
      "needs_background": "light"
     },
     "output_type": "display_data"
    },
    {
     "name": "stderr",
     "output_type": "stream",
     "text": [
      "Creating vocabulary:   0%|          | 0/255 [00:00<?, ?it/s]Token indices sequence length is longer than the specified maximum sequence length for this model (23250 > 512). Running this sequence through the model will result in indexing errors\n",
      "Creating vocabulary: 100%|██████████| 255/255 [00:08<00:00, 30.69it/s]\n"
     ]
    },
    {
     "name": "stdout",
     "output_type": "stream",
     "text": [
      "255\n",
      "Found existing file, loading....\n",
      "Finished loading file\n",
      "Ratio: 0.7\n",
      "Pos train: 189\n",
      "Neg train: 66\n",
      "Batch size: 19\n",
      "Randomizing training and testing data..\n"
     ]
    },
    {
     "name": "stderr",
     "output_type": "stream",
     "text": [
      "Some weights of the model checkpoint at roberta-base were not used when initializing RobertaForSequenceClassification: ['lm_head.dense.weight', 'roberta.encoder.layer.9.attention.self.value.bias', 'roberta.encoder.layer.11.attention.output.dense.bias', 'roberta.encoder.layer.8.attention.self.value.bias', 'roberta.encoder.layer.8.output.dense.bias', 'roberta.encoder.layer.8.attention.output.LayerNorm.bias', 'roberta.encoder.layer.10.attention.self.value.bias', 'roberta.encoder.layer.11.output.dense.bias', 'roberta.encoder.layer.11.attention.self.value.weight', 'roberta.encoder.layer.9.attention.output.LayerNorm.weight', 'roberta.encoder.layer.10.attention.output.LayerNorm.bias', 'roberta.encoder.layer.8.attention.self.query.weight', 'roberta.encoder.layer.10.intermediate.dense.bias', 'roberta.encoder.layer.9.attention.self.value.weight', 'roberta.encoder.layer.10.attention.output.dense.weight', 'roberta.encoder.layer.11.output.LayerNorm.bias', 'lm_head.decoder.weight', 'lm_head.dense.bias', 'roberta.encoder.layer.9.attention.output.LayerNorm.bias', 'roberta.encoder.layer.11.attention.output.dense.weight', 'roberta.encoder.layer.10.attention.output.dense.bias', 'roberta.encoder.layer.9.attention.self.query.bias', 'roberta.encoder.layer.8.intermediate.dense.bias', 'roberta.encoder.layer.11.attention.self.query.bias', 'roberta.encoder.layer.8.output.LayerNorm.bias', 'roberta.encoder.layer.11.attention.self.query.weight', 'roberta.encoder.layer.11.output.dense.weight', 'roberta.encoder.layer.9.output.LayerNorm.weight', 'roberta.encoder.layer.10.output.LayerNorm.weight', 'roberta.encoder.layer.9.output.dense.bias', 'roberta.encoder.layer.10.attention.self.query.weight', 'lm_head.layer_norm.weight', 'roberta.encoder.layer.8.output.LayerNorm.weight', 'roberta.encoder.layer.9.output.LayerNorm.bias', 'roberta.encoder.layer.8.output.dense.weight', 'roberta.encoder.layer.9.intermediate.dense.weight', 'roberta.encoder.layer.11.attention.self.value.bias', 'roberta.encoder.layer.11.intermediate.dense.weight', 'roberta.encoder.layer.9.attention.output.dense.weight', 'roberta.encoder.layer.9.intermediate.dense.bias', 'roberta.encoder.layer.8.intermediate.dense.weight', 'roberta.encoder.layer.10.attention.self.key.weight', 'roberta.encoder.layer.10.attention.self.value.weight', 'roberta.encoder.layer.8.attention.output.dense.bias', 'roberta.encoder.layer.8.attention.self.key.bias', 'roberta.encoder.layer.11.intermediate.dense.bias', 'roberta.encoder.layer.9.attention.self.key.bias', 'roberta.encoder.layer.8.attention.self.value.weight', 'roberta.encoder.layer.11.output.LayerNorm.weight', 'roberta.pooler.dense.weight', 'roberta.encoder.layer.11.attention.output.LayerNorm.weight', 'lm_head.layer_norm.bias', 'roberta.encoder.layer.9.attention.self.query.weight', 'roberta.encoder.layer.10.output.dense.bias', 'roberta.encoder.layer.9.output.dense.weight', 'roberta.encoder.layer.11.attention.self.key.weight', 'roberta.encoder.layer.9.attention.output.dense.bias', 'roberta.encoder.layer.10.attention.output.LayerNorm.weight', 'roberta.encoder.layer.9.attention.self.key.weight', 'roberta.encoder.layer.8.attention.output.LayerNorm.weight', 'roberta.encoder.layer.10.intermediate.dense.weight', 'roberta.encoder.layer.10.output.LayerNorm.bias', 'roberta.encoder.layer.8.attention.self.query.bias', 'roberta.encoder.layer.10.output.dense.weight', 'roberta.encoder.layer.8.attention.output.dense.weight', 'roberta.encoder.layer.11.attention.self.key.bias', 'roberta.encoder.layer.8.attention.self.key.weight', 'roberta.encoder.layer.11.attention.output.LayerNorm.bias', 'roberta.pooler.dense.bias', 'lm_head.bias', 'roberta.encoder.layer.10.attention.self.query.bias', 'roberta.encoder.layer.10.attention.self.key.bias']\n",
      "- This IS expected if you are initializing RobertaForSequenceClassification from the checkpoint of a model trained on another task or with another architecture (e.g. initializing a BertForSequenceClassification model from a BertForPreTraining model).\n",
      "- This IS NOT expected if you are initializing RobertaForSequenceClassification from the checkpoint of a model that you expect to be exactly identical (initializing a BertForSequenceClassification model from a BertForSequenceClassification model).\n",
      "Some weights of RobertaForSequenceClassification were not initialized from the model checkpoint at roberta-base and are newly initialized: ['classifier.out_proj.weight', 'classifier.dense.bias', 'classifier.out_proj.bias', 'classifier.dense.weight']\n",
      "You should probably TRAIN this model on a down-stream task to be able to use it for predictions and inference.\n",
      "Training Epochs:   0%|          | 0/5 [00:00<?, ?it/s]"
     ]
    },
    {
     "name": "stdout",
     "output_type": "stream",
     "text": [
      "\n",
      "\n",
      "Training (0/5): {'precision': 0.8327611574301128, 'recall': 0.9512605042016806, 'f1': 0.8880753138075314, 'tp': 3396, 'tn': 593, 'fp': 682, 'fn': 174} Loss: 0.40817\n",
      "\n",
      "---------- EVALUATION ----------\n",
      "Document Accuracy: 0.039\n",
      "Soft Document Accuracy: 0.9825\n",
      "Chunk Accuracy: 0.7332\n",
      "Loss: 0.9119151238497202\n",
      "precision: 0.12310030395136778\n",
      "recall: 0.9310344827586207\n",
      "f1: 0.21744966442953023\n",
      "tp: 81\n",
      "tn: 1521\n",
      "fp: 577\n",
      "fn: 6\n"
     ]
    },
    {
     "name": "stderr",
     "output_type": "stream",
     "text": [
      "Training Epochs:  20%|██        | 1/5 [02:50<11:21, 170.33s/it]"
     ]
    },
    {
     "name": "stdout",
     "output_type": "stream",
     "text": [
      "\n",
      "\n",
      "Training (1/5): {'precision': 0.9668416689693285, 'recall': 0.9801120448179271, 'f1': 0.9734316316594797, 'tp': 3499, 'tn': 1155, 'fp': 120, 'fn': 71} Loss: 0.12283\n",
      "\n",
      "---------- EVALUATION ----------\n",
      "Document Accuracy: 0.4545\n",
      "Soft Document Accuracy: 0.9298\n",
      "Chunk Accuracy: 0.9716\n",
      "Loss: 0.1875867933796888\n",
      "precision: 0.6033057851239669\n",
      "recall: 0.8390804597701149\n",
      "f1: 0.7019230769230769\n",
      "tp: 73\n",
      "tn: 2050\n",
      "fp: 48\n",
      "fn: 14\n"
     ]
    },
    {
     "name": "stderr",
     "output_type": "stream",
     "text": [
      "Training Epochs:  40%|████      | 2/5 [05:42<08:33, 171.18s/it]"
     ]
    },
    {
     "name": "stdout",
     "output_type": "stream",
     "text": [
      "\n",
      "\n",
      "Training (2/5): {'precision': 0.9930245535714286, 'recall': 0.9969187675070028, 'f1': 0.9949678501537602, 'tp': 3559, 'tn': 1250, 'fp': 25, 'fn': 11} Loss: 0.02786\n",
      "\n",
      "---------- EVALUATION ----------\n",
      "Document Accuracy: 0.3117\n",
      "Soft Document Accuracy: 0.9474\n",
      "Chunk Accuracy: 0.9387\n",
      "Loss: 0.2599549922039853\n",
      "precision: 0.38308457711442784\n",
      "recall: 0.8850574712643678\n",
      "f1: 0.5347222222222222\n",
      "tp: 77\n",
      "tn: 1974\n",
      "fp: 124\n",
      "fn: 10\n"
     ]
    },
    {
     "name": "stderr",
     "output_type": "stream",
     "text": [
      "Training Epochs:  60%|██████    | 3/5 [08:34<05:43, 171.61s/it]"
     ]
    },
    {
     "name": "stdout",
     "output_type": "stream",
     "text": [
      "\n",
      "\n",
      "Training (3/5): {'precision': 0.9980408620207109, 'recall': 0.9988795518207283, 'f1': 0.998460030799384, 'tp': 3566, 'tn': 1268, 'fp': 7, 'fn': 4} Loss: 0.00856\n",
      "\n",
      "---------- EVALUATION ----------\n",
      "Document Accuracy: 0.4935\n",
      "Soft Document Accuracy: 0.9298\n",
      "Chunk Accuracy: 0.9698\n",
      "Loss: 0.178869480563497\n",
      "precision: 0.5826771653543307\n",
      "recall: 0.8505747126436781\n",
      "f1: 0.6915887850467289\n",
      "tp: 74\n",
      "tn: 2045\n",
      "fp: 53\n",
      "fn: 13\n"
     ]
    },
    {
     "name": "stderr",
     "output_type": "stream",
     "text": [
      "Training Epochs:  80%|████████  | 4/5 [11:26<02:52, 172.01s/it]"
     ]
    },
    {
     "name": "stdout",
     "output_type": "stream",
     "text": [
      "\n",
      "\n",
      "Training (4/5): {'precision': 0.9997199663959675, 'recall': 1.0, 'f1': 0.9998599635905335, 'tp': 3570, 'tn': 1274, 'fp': 1, 'fn': 0} Loss: 0.00269\n",
      "\n",
      "---------- EVALUATION ----------\n",
      "Document Accuracy: 0.5195\n",
      "Soft Document Accuracy: 0.9298\n",
      "Chunk Accuracy: 0.9744\n",
      "Loss: 0.171146362258708\n",
      "precision: 0.6324786324786325\n",
      "recall: 0.8505747126436781\n",
      "f1: 0.7254901960784313\n",
      "tp: 74\n",
      "tn: 2055\n",
      "fp: 43\n",
      "fn: 13\n"
     ]
    },
    {
     "name": "stderr",
     "output_type": "stream",
     "text": [
      "Training Epochs: 100%|██████████| 5/5 [14:22<00:00, 172.50s/it]"
     ]
    },
    {
     "name": "stdout",
     "output_type": "stream",
     "text": [
      "Finished Training!\n"
     ]
    },
    {
     "name": "stderr",
     "output_type": "stream",
     "text": [
      "\n"
     ]
    },
    {
     "data": {
      "image/png": "[encoded data removed]",
      "text/plain": [
       "<Figure size 432x288 with 1 Axes>"
      ]
     },
     "metadata": {
      "needs_background": "light"
     },
     "output_type": "display_data"
    },
    {
     "data": {
      "image/png": "[encoded data removed]",
      "text/plain": [
       "<Figure size 432x288 with 1 Axes>"
      ]
     },
     "metadata": {
      "needs_background": "light"
     },
     "output_type": "display_data"
    },
    {
     "name": "stderr",
     "output_type": "stream",
     "text": [
      "Creating vocabulary:   0%|          | 0/255 [00:00<?, ?it/s]Token indices sequence length is longer than the specified maximum sequence length for this model (23250 > 512). Running this sequence through the model will result in indexing errors\n",
      "Creating vocabulary: 100%|██████████| 255/255 [00:08<00:00, 31.08it/s]\n"
     ]
    },
    {
     "name": "stdout",
     "output_type": "stream",
     "text": [
      "255\n",
      "Found existing file, loading....\n",
      "Finished loading file\n",
      "Ratio: 0.5\n",
      "Pos train: 135\n",
      "Neg train: 120\n",
      "Batch size: 19\n",
      "Randomizing training and testing data..\n"
     ]
    },
    {
     "name": "stderr",
     "output_type": "stream",
     "text": [
      "Some weights of the model checkpoint at roberta-base were not used when initializing RobertaForSequenceClassification: ['lm_head.dense.weight', 'roberta.encoder.layer.9.attention.self.value.bias', 'roberta.encoder.layer.11.attention.output.dense.bias', 'roberta.encoder.layer.8.attention.self.value.bias', 'roberta.encoder.layer.8.output.dense.bias', 'roberta.encoder.layer.8.attention.output.LayerNorm.bias', 'roberta.encoder.layer.10.attention.self.value.bias', 'roberta.encoder.layer.11.output.dense.bias', 'roberta.encoder.layer.11.attention.self.value.weight', 'roberta.encoder.layer.9.attention.output.LayerNorm.weight', 'roberta.encoder.layer.10.attention.output.LayerNorm.bias', 'roberta.encoder.layer.8.attention.self.query.weight', 'roberta.encoder.layer.10.intermediate.dense.bias', 'roberta.encoder.layer.9.attention.self.value.weight', 'roberta.encoder.layer.10.attention.output.dense.weight', 'roberta.encoder.layer.11.output.LayerNorm.bias', 'lm_head.decoder.weight', 'lm_head.dense.bias', 'roberta.encoder.layer.9.attention.output.LayerNorm.bias', 'roberta.encoder.layer.11.attention.output.dense.weight', 'roberta.encoder.layer.10.attention.output.dense.bias', 'roberta.encoder.layer.9.attention.self.query.bias', 'roberta.encoder.layer.8.intermediate.dense.bias', 'roberta.encoder.layer.11.attention.self.query.bias', 'roberta.encoder.layer.8.output.LayerNorm.bias', 'roberta.encoder.layer.11.attention.self.query.weight', 'roberta.encoder.layer.11.output.dense.weight', 'roberta.encoder.layer.9.output.LayerNorm.weight', 'roberta.encoder.layer.10.output.LayerNorm.weight', 'roberta.encoder.layer.9.output.dense.bias', 'roberta.encoder.layer.10.attention.self.query.weight', 'lm_head.layer_norm.weight', 'roberta.encoder.layer.8.output.LayerNorm.weight', 'roberta.encoder.layer.9.output.LayerNorm.bias', 'roberta.encoder.layer.8.output.dense.weight', 'roberta.encoder.layer.9.intermediate.dense.weight', 'roberta.encoder.layer.11.attention.self.value.bias', 'roberta.encoder.layer.11.intermediate.dense.weight', 'roberta.encoder.layer.9.attention.output.dense.weight', 'roberta.encoder.layer.9.intermediate.dense.bias', 'roberta.encoder.layer.8.intermediate.dense.weight', 'roberta.encoder.layer.10.attention.self.key.weight', 'roberta.encoder.layer.10.attention.self.value.weight', 'roberta.encoder.layer.8.attention.output.dense.bias', 'roberta.encoder.layer.8.attention.self.key.bias', 'roberta.encoder.layer.11.intermediate.dense.bias', 'roberta.encoder.layer.9.attention.self.key.bias', 'roberta.encoder.layer.8.attention.self.value.weight', 'roberta.encoder.layer.11.output.LayerNorm.weight', 'roberta.pooler.dense.weight', 'roberta.encoder.layer.11.attention.output.LayerNorm.weight', 'lm_head.layer_norm.bias', 'roberta.encoder.layer.9.attention.self.query.weight', 'roberta.encoder.layer.10.output.dense.bias', 'roberta.encoder.layer.9.output.dense.weight', 'roberta.encoder.layer.11.attention.self.key.weight', 'roberta.encoder.layer.9.attention.output.dense.bias', 'roberta.encoder.layer.10.attention.output.LayerNorm.weight', 'roberta.encoder.layer.9.attention.self.key.weight', 'roberta.encoder.layer.8.attention.output.LayerNorm.weight', 'roberta.encoder.layer.10.intermediate.dense.weight', 'roberta.encoder.layer.10.output.LayerNorm.bias', 'roberta.encoder.layer.8.attention.self.query.bias', 'roberta.encoder.layer.10.output.dense.weight', 'roberta.encoder.layer.8.attention.output.dense.weight', 'roberta.encoder.layer.11.attention.self.key.bias', 'roberta.encoder.layer.8.attention.self.key.weight', 'roberta.encoder.layer.11.attention.output.LayerNorm.bias', 'roberta.pooler.dense.bias', 'lm_head.bias', 'roberta.encoder.layer.10.attention.self.query.bias', 'roberta.encoder.layer.10.attention.self.key.bias']\n",
      "- This IS expected if you are initializing RobertaForSequenceClassification from the checkpoint of a model trained on another task or with another architecture (e.g. initializing a BertForSequenceClassification model from a BertForPreTraining model).\n",
      "- This IS NOT expected if you are initializing RobertaForSequenceClassification from the checkpoint of a model that you expect to be exactly identical (initializing a BertForSequenceClassification model from a BertForSequenceClassification model).\n",
      "Some weights of RobertaForSequenceClassification were not initialized from the model checkpoint at roberta-base and are newly initialized: ['classifier.out_proj.weight', 'classifier.dense.bias', 'classifier.out_proj.bias', 'classifier.dense.weight']\n",
      "You should probably TRAIN this model on a down-stream task to be able to use it for predictions and inference.\n",
      "Training Epochs:   0%|          | 0/5 [00:00<?, ?it/s]"
     ]
    },
    {
     "name": "stdout",
     "output_type": "stream",
     "text": [
      "\n",
      "\n",
      "Training (0/5): {'precision': 0.8235294117647058, 'recall': 0.8729411764705882, 'f1': 0.8475157053112508, 'tp': 2226, 'tn': 1818, 'fp': 477, 'fn': 324} Loss: 0.38175\n",
      "\n",
      "---------- EVALUATION ----------\n",
      "Document Accuracy: 0.2078\n",
      "Soft Document Accuracy: 0.9268\n",
      "Chunk Accuracy: 0.8824\n",
      "Loss: 0.33650700781833043\n",
      "precision: 0.25153374233128833\n",
      "recall: 0.845360824742268\n",
      "f1: 0.3877068557919621\n",
      "tp: 82\n",
      "tn: 1862\n",
      "fp: 244\n",
      "fn: 15\n"
     ]
    },
    {
     "name": "stderr",
     "output_type": "stream",
     "text": [
      "Training Epochs:  20%|██        | 1/5 [02:50<11:20, 170.15s/it]"
     ]
    },
    {
     "name": "stdout",
     "output_type": "stream",
     "text": [
      "\n",
      "\n",
      "Training (1/5): {'precision': 0.9599377674056787, 'recall': 0.967843137254902, 'f1': 0.9638742433118531, 'tp': 2468, 'tn': 2192, 'fp': 103, 'fn': 82} Loss: 0.10985\n",
      "\n",
      "---------- EVALUATION ----------\n",
      "Document Accuracy: 0.4156\n",
      "Soft Document Accuracy: 0.8293\n",
      "Chunk Accuracy: 0.9542\n",
      "Loss: 0.15838555481236477\n",
      "precision: 0.4863013698630137\n",
      "recall: 0.7319587628865979\n",
      "f1: 0.5843621399176955\n",
      "tp: 71\n",
      "tn: 2031\n",
      "fp: 75\n",
      "fn: 26\n"
     ]
    },
    {
     "name": "stderr",
     "output_type": "stream",
     "text": [
      "Training Epochs:  40%|████      | 2/5 [05:43<08:36, 172.24s/it]"
     ]
    },
    {
     "name": "stdout",
     "output_type": "stream",
     "text": [
      "\n",
      "\n",
      "Training (2/5): {'precision': 0.9871495327102804, 'recall': 0.9941176470588236, 'f1': 0.9906213364595545, 'tp': 2535, 'tn': 2262, 'fp': 33, 'fn': 15} Loss: 0.03276\n",
      "\n",
      "---------- EVALUATION ----------\n",
      "Document Accuracy: 0.4416\n",
      "Soft Document Accuracy: 0.7805\n",
      "Chunk Accuracy: 0.9605\n",
      "Loss: 0.17830188115816806\n",
      "precision: 0.5403225806451613\n",
      "recall: 0.6907216494845361\n",
      "f1: 0.6063348416289592\n",
      "tp: 67\n",
      "tn: 2049\n",
      "fp: 57\n",
      "fn: 30\n"
     ]
    },
    {
     "name": "stderr",
     "output_type": "stream",
     "text": [
      "Training Epochs:  60%|██████    | 3/5 [08:36<05:45, 172.54s/it]"
     ]
    },
    {
     "name": "stdout",
     "output_type": "stream",
     "text": [
      "\n",
      "\n",
      "Training (3/5): {'precision': 0.9949179046129789, 'recall': 0.9980392156862745, 'f1': 0.9964761158966328, 'tp': 2545, 'tn': 2282, 'fp': 13, 'fn': 5} Loss: 0.01559\n",
      "\n",
      "---------- EVALUATION ----------\n",
      "Document Accuracy: 0.3636\n",
      "Soft Document Accuracy: 0.878\n",
      "Chunk Accuracy: 0.951\n",
      "Loss: 0.19927296335294892\n",
      "precision: 0.4658385093167702\n",
      "recall: 0.7731958762886598\n",
      "f1: 0.5813953488372092\n",
      "tp: 75\n",
      "tn: 2020\n",
      "fp: 86\n",
      "fn: 22\n"
     ]
    },
    {
     "name": "stderr",
     "output_type": "stream",
     "text": [
      "Training Epochs:  80%|████████  | 4/5 [11:28<02:52, 172.38s/it]"
     ]
    },
    {
     "name": "stdout",
     "output_type": "stream",
     "text": [
      "\n",
      "\n",
      "Training (4/5): {'precision': 0.9949099451840251, 'recall': 0.9964705882352941, 'f1': 0.9956896551724137, 'tp': 2541, 'tn': 2282, 'fp': 13, 'fn': 9} Loss: 0.01546\n",
      "\n",
      "---------- EVALUATION ----------\n",
      "Document Accuracy: 0.3636\n",
      "Soft Document Accuracy: 0.878\n",
      "Chunk Accuracy: 0.9496\n",
      "Loss: 0.20270739812494631\n",
      "precision: 0.4567901234567901\n",
      "recall: 0.7628865979381443\n",
      "f1: 0.5714285714285713\n",
      "tp: 74\n",
      "tn: 2018\n",
      "fp: 88\n",
      "fn: 23\n"
     ]
    },
    {
     "name": "stderr",
     "output_type": "stream",
     "text": [
      "Training Epochs: 100%|██████████| 5/5 [14:21<00:00, 172.20s/it]"
     ]
    },
    {
     "name": "stdout",
     "output_type": "stream",
     "text": [
      "Finished Training!\n"
     ]
    },
    {
     "name": "stderr",
     "output_type": "stream",
     "text": [
      "\n"
     ]
    },
    {
     "data": {
      "image/png": "[encoded data removed]",
      "text/plain": [
       "<Figure size 432x288 with 1 Axes>"
      ]
     },
     "metadata": {
      "needs_background": "light"
     },
     "output_type": "display_data"
    },
    {
     "data": {
      "image/png": "[encoded data removed]",
      "text/plain": [
       "<Figure size 432x288 with 1 Axes>"
      ]
     },
     "metadata": {
      "needs_background": "light"
     },
     "output_type": "display_data"
    },
    {
     "name": "stderr",
     "output_type": "stream",
     "text": [
      "Creating vocabulary:   0%|          | 0/255 [00:00<?, ?it/s]Token indices sequence length is longer than the specified maximum sequence length for this model (23250 > 512). Running this sequence through the model will result in indexing errors\n",
      "Creating vocabulary: 100%|██████████| 255/255 [00:08<00:00, 30.64it/s]\n"
     ]
    },
    {
     "name": "stdout",
     "output_type": "stream",
     "text": [
      "255\n",
      "Found existing file, loading....\n",
      "Finished loading file\n",
      "Ratio: 0.5\n",
      "Pos train: 126\n",
      "Neg train: 129\n",
      "Batch size: 18\n",
      "Randomizing training and testing data..\n"
     ]
    },
    {
     "name": "stderr",
     "output_type": "stream",
     "text": [
      "Some weights of the model checkpoint at roberta-base were not used when initializing RobertaForSequenceClassification: ['lm_head.dense.weight', 'roberta.encoder.layer.9.attention.self.value.bias', 'roberta.encoder.layer.11.attention.output.dense.bias', 'roberta.encoder.layer.8.attention.self.value.bias', 'roberta.encoder.layer.8.output.dense.bias', 'roberta.encoder.layer.8.attention.output.LayerNorm.bias', 'roberta.encoder.layer.10.attention.self.value.bias', 'roberta.encoder.layer.11.output.dense.bias', 'roberta.encoder.layer.11.attention.self.value.weight', 'roberta.encoder.layer.9.attention.output.LayerNorm.weight', 'roberta.encoder.layer.10.attention.output.LayerNorm.bias', 'roberta.encoder.layer.8.attention.self.query.weight', 'roberta.encoder.layer.10.intermediate.dense.bias', 'roberta.encoder.layer.9.attention.self.value.weight', 'roberta.encoder.layer.10.attention.output.dense.weight', 'roberta.encoder.layer.11.output.LayerNorm.bias', 'lm_head.decoder.weight', 'lm_head.dense.bias', 'roberta.encoder.layer.9.attention.output.LayerNorm.bias', 'roberta.encoder.layer.11.attention.output.dense.weight', 'roberta.encoder.layer.10.attention.output.dense.bias', 'roberta.encoder.layer.9.attention.self.query.bias', 'roberta.encoder.layer.8.intermediate.dense.bias', 'roberta.encoder.layer.11.attention.self.query.bias', 'roberta.encoder.layer.8.output.LayerNorm.bias', 'roberta.encoder.layer.11.attention.self.query.weight', 'roberta.encoder.layer.11.output.dense.weight', 'roberta.encoder.layer.9.output.LayerNorm.weight', 'roberta.encoder.layer.10.output.LayerNorm.weight', 'roberta.encoder.layer.9.output.dense.bias', 'roberta.encoder.layer.10.attention.self.query.weight', 'lm_head.layer_norm.weight', 'roberta.encoder.layer.8.output.LayerNorm.weight', 'roberta.encoder.layer.9.output.LayerNorm.bias', 'roberta.encoder.layer.8.output.dense.weight', 'roberta.encoder.layer.9.intermediate.dense.weight', 'roberta.encoder.layer.11.attention.self.value.bias', 'roberta.encoder.layer.11.intermediate.dense.weight', 'roberta.encoder.layer.9.attention.output.dense.weight', 'roberta.encoder.layer.9.intermediate.dense.bias', 'roberta.encoder.layer.8.intermediate.dense.weight', 'roberta.encoder.layer.10.attention.self.key.weight', 'roberta.encoder.layer.10.attention.self.value.weight', 'roberta.encoder.layer.8.attention.output.dense.bias', 'roberta.encoder.layer.8.attention.self.key.bias', 'roberta.encoder.layer.11.intermediate.dense.bias', 'roberta.encoder.layer.9.attention.self.key.bias', 'roberta.encoder.layer.8.attention.self.value.weight', 'roberta.encoder.layer.11.output.LayerNorm.weight', 'roberta.pooler.dense.weight', 'roberta.encoder.layer.11.attention.output.LayerNorm.weight', 'lm_head.layer_norm.bias', 'roberta.encoder.layer.9.attention.self.query.weight', 'roberta.encoder.layer.10.output.dense.bias', 'roberta.encoder.layer.9.output.dense.weight', 'roberta.encoder.layer.11.attention.self.key.weight', 'roberta.encoder.layer.9.attention.output.dense.bias', 'roberta.encoder.layer.10.attention.output.LayerNorm.weight', 'roberta.encoder.layer.9.attention.self.key.weight', 'roberta.encoder.layer.8.attention.output.LayerNorm.weight', 'roberta.encoder.layer.10.intermediate.dense.weight', 'roberta.encoder.layer.10.output.LayerNorm.bias', 'roberta.encoder.layer.8.attention.self.query.bias', 'roberta.encoder.layer.10.output.dense.weight', 'roberta.encoder.layer.8.attention.output.dense.weight', 'roberta.encoder.layer.11.attention.self.key.bias', 'roberta.encoder.layer.8.attention.self.key.weight', 'roberta.encoder.layer.11.attention.output.LayerNorm.bias', 'roberta.pooler.dense.bias', 'lm_head.bias', 'roberta.encoder.layer.10.attention.self.query.bias', 'roberta.encoder.layer.10.attention.self.key.bias']\n",
      "- This IS expected if you are initializing RobertaForSequenceClassification from the checkpoint of a model trained on another task or with another architecture (e.g. initializing a BertForSequenceClassification model from a BertForPreTraining model).\n",
      "- This IS NOT expected if you are initializing RobertaForSequenceClassification from the checkpoint of a model that you expect to be exactly identical (initializing a BertForSequenceClassification model from a BertForSequenceClassification model).\n",
      "Some weights of RobertaForSequenceClassification were not initialized from the model checkpoint at roberta-base and are newly initialized: ['classifier.out_proj.weight', 'classifier.dense.bias', 'classifier.out_proj.bias', 'classifier.dense.weight']\n",
      "You should probably TRAIN this model on a down-stream task to be able to use it for predictions and inference.\n",
      "Training Epochs:   0%|          | 0/5 [00:00<?, ?it/s]"
     ]
    },
    {
     "name": "stdout",
     "output_type": "stream",
     "text": [
      "\n",
      "\n",
      "Training (0/5): {'precision': 0.8177178271965002, 'recall': 0.8796078431372549, 'f1': 0.8475344795012281, 'tp': 2243, 'tn': 1540, 'fp': 500, 'fn': 307} Loss: 0.37755\n",
      "\n",
      "---------- EVALUATION ----------\n",
      "Document Accuracy: 0.3506\n",
      "Soft Document Accuracy: 1.0\n",
      "Chunk Accuracy: 0.8468\n",
      "Loss: 0.46652471893406533\n",
      "precision: 0.2478813559322034\n",
      "recall: 0.9915254237288136\n",
      "f1: 0.39661016949152544\n",
      "tp: 117\n",
      "tn: 1851\n",
      "fp: 355\n",
      "fn: 1\n"
     ]
    },
    {
     "name": "stderr",
     "output_type": "stream",
     "text": [
      "Training Epochs:  20%|██        | 1/5 [02:43<10:52, 163.19s/it]"
     ]
    },
    {
     "name": "stdout",
     "output_type": "stream",
     "text": [
      "\n",
      "\n",
      "Training (1/5): {'precision': 0.9706342991386061, 'recall': 0.972156862745098, 'f1': 0.9713949843260189, 'tp': 2479, 'tn': 1965, 'fp': 75, 'fn': 71} Loss: 0.10266\n",
      "\n",
      "---------- EVALUATION ----------\n",
      "Document Accuracy: 0.4156\n",
      "Soft Document Accuracy: 1.0\n",
      "Chunk Accuracy: 0.917\n",
      "Loss: 0.29603362978472336\n",
      "precision: 0.3778501628664495\n",
      "recall: 0.9830508474576272\n",
      "f1: 0.5458823529411765\n",
      "tp: 116\n",
      "tn: 2015\n",
      "fp: 191\n",
      "fn: 2\n"
     ]
    },
    {
     "name": "stderr",
     "output_type": "stream",
     "text": [
      "Training Epochs:  40%|████      | 2/5 [05:27<08:12, 164.14s/it]"
     ]
    },
    {
     "name": "stdout",
     "output_type": "stream",
     "text": [
      "\n",
      "\n",
      "Training (2/5): {'precision': 0.9882168106834249, 'recall': 0.9866666666666667, 'f1': 0.9874411302982731, 'tp': 2516, 'tn': 2010, 'fp': 30, 'fn': 34} Loss: 0.04755\n",
      "\n",
      "---------- EVALUATION ----------\n",
      "Document Accuracy: 0.5584\n",
      "Soft Document Accuracy: 0.9211\n",
      "Chunk Accuracy: 0.9669\n",
      "Loss: 0.0937532669314268\n",
      "precision: 0.6184971098265896\n",
      "recall: 0.9067796610169492\n",
      "f1: 0.7353951890034364\n",
      "tp: 107\n",
      "tn: 2140\n",
      "fp: 66\n",
      "fn: 11\n"
     ]
    },
    {
     "name": "stderr",
     "output_type": "stream",
     "text": [
      "Training Epochs:  60%|██████    | 3/5 [08:13<05:29, 164.65s/it]"
     ]
    },
    {
     "name": "stdout",
     "output_type": "stream",
     "text": [
      "\n",
      "\n",
      "Training (3/5): {'precision': 0.997248427672956, 'recall': 0.9949019607843137, 'f1': 0.9960738123282293, 'tp': 2537, 'tn': 2033, 'fp': 7, 'fn': 13} Loss: 0.0152\n",
      "\n",
      "---------- EVALUATION ----------\n",
      "Document Accuracy: 0.4545\n",
      "Soft Document Accuracy: 0.9211\n",
      "Chunk Accuracy: 0.9475\n",
      "Loss: 0.213035116472596\n",
      "precision: 0.49107142857142855\n",
      "recall: 0.9322033898305084\n",
      "f1: 0.6432748538011696\n",
      "tp: 110\n",
      "tn: 2092\n",
      "fp: 114\n",
      "fn: 8\n"
     ]
    },
    {
     "name": "stderr",
     "output_type": "stream",
     "text": [
      "Training Epochs:  80%|████████  | 4/5 [10:59<02:45, 165.22s/it]"
     ]
    },
    {
     "name": "stdout",
     "output_type": "stream",
     "text": [
      "\n",
      "\n",
      "Training (4/5): {'precision': 0.9933463796477495, 'recall': 0.9952941176470588, 'f1': 0.9943192948090108, 'tp': 2538, 'tn': 2023, 'fp': 17, 'fn': 12} Loss: 0.01882\n",
      "\n",
      "---------- EVALUATION ----------\n",
      "Document Accuracy: 0.6104\n",
      "Soft Document Accuracy: 0.8421\n",
      "Chunk Accuracy: 0.9776\n",
      "Loss: 0.09353231087889426\n",
      "precision: 0.7796610169491526\n",
      "recall: 0.7796610169491526\n",
      "f1: 0.7796610169491526\n",
      "tp: 92\n",
      "tn: 2180\n",
      "fp: 26\n",
      "fn: 26\n"
     ]
    },
    {
     "name": "stderr",
     "output_type": "stream",
     "text": [
      "Training Epochs: 100%|██████████| 5/5 [13:44<00:00, 164.94s/it]"
     ]
    },
    {
     "name": "stdout",
     "output_type": "stream",
     "text": [
      "Finished Training!\n"
     ]
    },
    {
     "name": "stderr",
     "output_type": "stream",
     "text": [
      "\n"
     ]
    },
    {
     "data": {
      "image/png": "[encoded data removed]",
      "text/plain": [
       "<Figure size 432x288 with 1 Axes>"
      ]
     },
     "metadata": {
      "needs_background": "light"
     },
     "output_type": "display_data"
    },
    {
     "data": {
      "image/png": "[encoded data removed]",
      "text/plain": [
       "<Figure size 432x288 with 1 Axes>"
      ]
     },
     "metadata": {
      "needs_background": "light"
     },
     "output_type": "display_data"
    },
    {
     "name": "stderr",
     "output_type": "stream",
     "text": [
      "Creating vocabulary:   0%|          | 0/255 [00:00<?, ?it/s]Token indices sequence length is longer than the specified maximum sequence length for this model (23250 > 512). Running this sequence through the model will result in indexing errors\n",
      "Creating vocabulary: 100%|██████████| 255/255 [00:08<00:00, 30.87it/s]\n"
     ]
    },
    {
     "name": "stdout",
     "output_type": "stream",
     "text": [
      "255\n",
      "Found existing file, loading....\n",
      "Finished loading file\n",
      "Ratio: 0.7\n",
      "Pos train: 195\n",
      "Neg train: 60\n",
      "Batch size: 18\n",
      "Randomizing training and testing data..\n"
     ]
    },
    {
     "name": "stderr",
     "output_type": "stream",
     "text": [
      "Some weights of the model checkpoint at roberta-base were not used when initializing RobertaForSequenceClassification: ['lm_head.dense.weight', 'roberta.encoder.layer.9.attention.self.value.bias', 'roberta.encoder.layer.11.attention.output.dense.bias', 'roberta.encoder.layer.8.attention.self.value.bias', 'roberta.encoder.layer.8.output.dense.bias', 'roberta.encoder.layer.8.attention.output.LayerNorm.bias', 'roberta.encoder.layer.10.attention.self.value.bias', 'roberta.encoder.layer.11.output.dense.bias', 'roberta.encoder.layer.11.attention.self.value.weight', 'roberta.encoder.layer.9.attention.output.LayerNorm.weight', 'roberta.encoder.layer.10.attention.output.LayerNorm.bias', 'roberta.encoder.layer.8.attention.self.query.weight', 'roberta.encoder.layer.10.intermediate.dense.bias', 'roberta.encoder.layer.9.attention.self.value.weight', 'roberta.encoder.layer.10.attention.output.dense.weight', 'roberta.encoder.layer.11.output.LayerNorm.bias', 'lm_head.decoder.weight', 'lm_head.dense.bias', 'roberta.encoder.layer.9.attention.output.LayerNorm.bias', 'roberta.encoder.layer.11.attention.output.dense.weight', 'roberta.encoder.layer.10.attention.output.dense.bias', 'roberta.encoder.layer.9.attention.self.query.bias', 'roberta.encoder.layer.8.intermediate.dense.bias', 'roberta.encoder.layer.11.attention.self.query.bias', 'roberta.encoder.layer.8.output.LayerNorm.bias', 'roberta.encoder.layer.11.attention.self.query.weight', 'roberta.encoder.layer.11.output.dense.weight', 'roberta.encoder.layer.9.output.LayerNorm.weight', 'roberta.encoder.layer.10.output.LayerNorm.weight', 'roberta.encoder.layer.9.output.dense.bias', 'roberta.encoder.layer.10.attention.self.query.weight', 'lm_head.layer_norm.weight', 'roberta.encoder.layer.8.output.LayerNorm.weight', 'roberta.encoder.layer.9.output.LayerNorm.bias', 'roberta.encoder.layer.8.output.dense.weight', 'roberta.encoder.layer.9.intermediate.dense.weight', 'roberta.encoder.layer.11.attention.self.value.bias', 'roberta.encoder.layer.11.intermediate.dense.weight', 'roberta.encoder.layer.9.attention.output.dense.weight', 'roberta.encoder.layer.9.intermediate.dense.bias', 'roberta.encoder.layer.8.intermediate.dense.weight', 'roberta.encoder.layer.10.attention.self.key.weight', 'roberta.encoder.layer.10.attention.self.value.weight', 'roberta.encoder.layer.8.attention.output.dense.bias', 'roberta.encoder.layer.8.attention.self.key.bias', 'roberta.encoder.layer.11.intermediate.dense.bias', 'roberta.encoder.layer.9.attention.self.key.bias', 'roberta.encoder.layer.8.attention.self.value.weight', 'roberta.encoder.layer.11.output.LayerNorm.weight', 'roberta.pooler.dense.weight', 'roberta.encoder.layer.11.attention.output.LayerNorm.weight', 'lm_head.layer_norm.bias', 'roberta.encoder.layer.9.attention.self.query.weight', 'roberta.encoder.layer.10.output.dense.bias', 'roberta.encoder.layer.9.output.dense.weight', 'roberta.encoder.layer.11.attention.self.key.weight', 'roberta.encoder.layer.9.attention.output.dense.bias', 'roberta.encoder.layer.10.attention.output.LayerNorm.weight', 'roberta.encoder.layer.9.attention.self.key.weight', 'roberta.encoder.layer.8.attention.output.LayerNorm.weight', 'roberta.encoder.layer.10.intermediate.dense.weight', 'roberta.encoder.layer.10.output.LayerNorm.bias', 'roberta.encoder.layer.8.attention.self.query.bias', 'roberta.encoder.layer.10.output.dense.weight', 'roberta.encoder.layer.8.attention.output.dense.weight', 'roberta.encoder.layer.11.attention.self.key.bias', 'roberta.encoder.layer.8.attention.self.key.weight', 'roberta.encoder.layer.11.attention.output.LayerNorm.bias', 'roberta.pooler.dense.bias', 'lm_head.bias', 'roberta.encoder.layer.10.attention.self.query.bias', 'roberta.encoder.layer.10.attention.self.key.bias']\n",
      "- This IS expected if you are initializing RobertaForSequenceClassification from the checkpoint of a model trained on another task or with another architecture (e.g. initializing a BertForSequenceClassification model from a BertForPreTraining model).\n",
      "- This IS NOT expected if you are initializing RobertaForSequenceClassification from the checkpoint of a model that you expect to be exactly identical (initializing a BertForSequenceClassification model from a BertForSequenceClassification model).\n",
      "Some weights of RobertaForSequenceClassification were not initialized from the model checkpoint at roberta-base and are newly initialized: ['classifier.out_proj.weight', 'classifier.dense.bias', 'classifier.out_proj.bias', 'classifier.dense.weight']\n",
      "You should probably TRAIN this model on a down-stream task to be able to use it for predictions and inference.\n",
      "Training Epochs:   0%|          | 0/5 [00:00<?, ?it/s]"
     ]
    },
    {
     "name": "stdout",
     "output_type": "stream",
     "text": [
      "\n",
      "\n",
      "Training (0/5): {'precision': 0.859185325060696, 'recall': 0.9607843137254902, 'f1': 0.9071489604101397, 'tp': 3185, 'tn': 753, 'fp': 522, 'fn': 130} Loss: 0.31054\n",
      "\n",
      "---------- EVALUATION ----------\n",
      "Document Accuracy: 0.0779\n",
      "Soft Document Accuracy: 0.9831\n",
      "Chunk Accuracy: 0.878\n",
      "Loss: 0.5638862404149848\n",
      "precision: 0.18285714285714286\n",
      "recall: 0.9696969696969697\n",
      "f1: 0.3076923076923077\n",
      "tp: 64\n",
      "tn: 2009\n",
      "fp: 286\n",
      "fn: 2\n"
     ]
    },
    {
     "name": "stderr",
     "output_type": "stream",
     "text": [
      "Training Epochs:  20%|██        | 1/5 [02:43<10:55, 163.99s/it]"
     ]
    },
    {
     "name": "stdout",
     "output_type": "stream",
     "text": [
      "\n",
      "\n",
      "Training (1/5): {'precision': 0.9853205512282804, 'recall': 0.9921568627450981, 'f1': 0.9887268901247557, 'tp': 3289, 'tn': 1226, 'fp': 49, 'fn': 26} Loss: 0.06461\n",
      "\n",
      "---------- EVALUATION ----------\n",
      "Document Accuracy: 0.1818\n",
      "Soft Document Accuracy: 0.9661\n",
      "Chunk Accuracy: 0.9305\n",
      "Loss: 0.42509047985197856\n",
      "precision: 0.27927927927927926\n",
      "recall: 0.9393939393939394\n",
      "f1: 0.4305555555555555\n",
      "tp: 62\n",
      "tn: 2135\n",
      "fp: 160\n",
      "fn: 4\n"
     ]
    },
    {
     "name": "stderr",
     "output_type": "stream",
     "text": [
      "Training Epochs:  40%|████      | 2/5 [05:29<08:14, 164.88s/it]"
     ]
    },
    {
     "name": "stdout",
     "output_type": "stream",
     "text": [
      "\n",
      "\n",
      "Training (2/5): {'precision': 0.9936861094407697, 'recall': 0.9969834087481146, 'f1': 0.9953320283089897, 'tp': 3305, 'tn': 1254, 'fp': 21, 'fn': 10} Loss: 0.02879\n",
      "\n",
      "---------- EVALUATION ----------\n",
      "Document Accuracy: 0.1558\n",
      "Soft Document Accuracy: 0.9831\n",
      "Chunk Accuracy: 0.9115\n",
      "Loss: 0.5375564529306509\n",
      "precision: 0.23616236162361623\n",
      "recall: 0.9696969696969697\n",
      "f1: 0.3798219584569733\n",
      "tp: 64\n",
      "tn: 2088\n",
      "fp: 207\n",
      "fn: 2\n"
     ]
    },
    {
     "name": "stderr",
     "output_type": "stream",
     "text": [
      "Training Epochs:  60%|██████    | 3/5 [08:15<05:30, 165.35s/it]"
     ]
    },
    {
     "name": "stdout",
     "output_type": "stream",
     "text": [
      "\n",
      "\n",
      "Training (3/5): {'precision': 0.9942908653846154, 'recall': 0.9981900452488688, 'f1': 0.9962366400722565, 'tp': 3309, 'tn': 1256, 'fp': 19, 'fn': 6} Loss: 0.02266\n",
      "\n",
      "---------- EVALUATION ----------\n",
      "Document Accuracy: 0.2208\n",
      "Soft Document Accuracy: 0.9831\n",
      "Chunk Accuracy: 0.9305\n",
      "Loss: 0.4920560951864758\n",
      "precision: 0.28125\n",
      "recall: 0.9545454545454546\n",
      "f1: 0.4344827586206897\n",
      "tp: 63\n",
      "tn: 2134\n",
      "fp: 161\n",
      "fn: 3\n"
     ]
    },
    {
     "name": "stderr",
     "output_type": "stream",
     "text": [
      "Training Epochs:  80%|████████  | 4/5 [11:01<02:45, 165.64s/it]"
     ]
    },
    {
     "name": "stdout",
     "output_type": "stream",
     "text": [
      "\n",
      "\n",
      "Training (4/5): {'precision': 0.9960890493381468, 'recall': 0.9987933634992459, 'f1': 0.9974393733996083, 'tp': 3311, 'tn': 1262, 'fp': 13, 'fn': 4} Loss: 0.01647\n",
      "\n",
      "---------- EVALUATION ----------\n",
      "Document Accuracy: 0.2987\n",
      "Soft Document Accuracy: 0.9492\n",
      "Chunk Accuracy: 0.9572\n",
      "Loss: 0.3760711591896395\n",
      "precision: 0.3885350318471338\n",
      "recall: 0.9242424242424242\n",
      "f1: 0.547085201793722\n",
      "tp: 61\n",
      "tn: 2199\n",
      "fp: 96\n",
      "fn: 5\n"
     ]
    },
    {
     "name": "stderr",
     "output_type": "stream",
     "text": [
      "Training Epochs: 100%|██████████| 5/5 [13:47<00:00, 165.48s/it]"
     ]
    },
    {
     "name": "stdout",
     "output_type": "stream",
     "text": [
      "Finished Training!\n"
     ]
    },
    {
     "name": "stderr",
     "output_type": "stream",
     "text": [
      "\n"
     ]
    },
    {
     "data": {
      "image/png": "[encoded data removed]",
      "text/plain": [
       "<Figure size 432x288 with 1 Axes>"
      ]
     },
     "metadata": {
      "needs_background": "light"
     },
     "output_type": "display_data"
    },
    {
     "data": {
      "image/png": "[encoded data removed]",
      "text/plain": [
       "<Figure size 432x288 with 1 Axes>"
      ]
     },
     "metadata": {
      "needs_background": "light"
     },
     "output_type": "display_data"
    },
    {
     "name": "stderr",
     "output_type": "stream",
     "text": [
      "Creating vocabulary:   0%|          | 0/255 [00:00<?, ?it/s]Token indices sequence length is longer than the specified maximum sequence length for this model (23250 > 512). Running this sequence through the model will result in indexing errors\n",
      "Creating vocabulary: 100%|██████████| 255/255 [00:08<00:00, 31.16it/s]\n"
     ]
    },
    {
     "name": "stdout",
     "output_type": "stream",
     "text": [
      "255\n",
      "Found existing file, loading....\n",
      "Finished loading file\n",
      "Ratio: 0.4\n",
      "Pos train: 110\n",
      "Neg train: 145\n",
      "Batch size: 19\n",
      "Randomizing training and testing data..\n"
     ]
    },
    {
     "name": "stderr",
     "output_type": "stream",
     "text": [
      "Some weights of the model checkpoint at roberta-base were not used when initializing RobertaForSequenceClassification: ['lm_head.dense.weight', 'roberta.encoder.layer.9.attention.self.value.bias', 'roberta.encoder.layer.11.attention.output.dense.bias', 'roberta.encoder.layer.8.attention.self.value.bias', 'roberta.encoder.layer.8.output.dense.bias', 'roberta.encoder.layer.8.attention.output.LayerNorm.bias', 'roberta.encoder.layer.10.attention.self.value.bias', 'roberta.encoder.layer.11.output.dense.bias', 'roberta.encoder.layer.11.attention.self.value.weight', 'roberta.encoder.layer.9.attention.output.LayerNorm.weight', 'roberta.encoder.layer.10.attention.output.LayerNorm.bias', 'roberta.encoder.layer.8.attention.self.query.weight', 'roberta.encoder.layer.10.intermediate.dense.bias', 'roberta.encoder.layer.9.attention.self.value.weight', 'roberta.encoder.layer.10.attention.output.dense.weight', 'roberta.encoder.layer.11.output.LayerNorm.bias', 'lm_head.decoder.weight', 'lm_head.dense.bias', 'roberta.encoder.layer.9.attention.output.LayerNorm.bias', 'roberta.encoder.layer.11.attention.output.dense.weight', 'roberta.encoder.layer.10.attention.output.dense.bias', 'roberta.encoder.layer.9.attention.self.query.bias', 'roberta.encoder.layer.8.intermediate.dense.bias', 'roberta.encoder.layer.11.attention.self.query.bias', 'roberta.encoder.layer.8.output.LayerNorm.bias', 'roberta.encoder.layer.11.attention.self.query.weight', 'roberta.encoder.layer.11.output.dense.weight', 'roberta.encoder.layer.9.output.LayerNorm.weight', 'roberta.encoder.layer.10.output.LayerNorm.weight', 'roberta.encoder.layer.9.output.dense.bias', 'roberta.encoder.layer.10.attention.self.query.weight', 'lm_head.layer_norm.weight', 'roberta.encoder.layer.8.output.LayerNorm.weight', 'roberta.encoder.layer.9.output.LayerNorm.bias', 'roberta.encoder.layer.8.output.dense.weight', 'roberta.encoder.layer.9.intermediate.dense.weight', 'roberta.encoder.layer.11.attention.self.value.bias', 'roberta.encoder.layer.11.intermediate.dense.weight', 'roberta.encoder.layer.9.attention.output.dense.weight', 'roberta.encoder.layer.9.intermediate.dense.bias', 'roberta.encoder.layer.8.intermediate.dense.weight', 'roberta.encoder.layer.10.attention.self.key.weight', 'roberta.encoder.layer.10.attention.self.value.weight', 'roberta.encoder.layer.8.attention.output.dense.bias', 'roberta.encoder.layer.8.attention.self.key.bias', 'roberta.encoder.layer.11.intermediate.dense.bias', 'roberta.encoder.layer.9.attention.self.key.bias', 'roberta.encoder.layer.8.attention.self.value.weight', 'roberta.encoder.layer.11.output.LayerNorm.weight', 'roberta.pooler.dense.weight', 'roberta.encoder.layer.11.attention.output.LayerNorm.weight', 'lm_head.layer_norm.bias', 'roberta.encoder.layer.9.attention.self.query.weight', 'roberta.encoder.layer.10.output.dense.bias', 'roberta.encoder.layer.9.output.dense.weight', 'roberta.encoder.layer.11.attention.self.key.weight', 'roberta.encoder.layer.9.attention.output.dense.bias', 'roberta.encoder.layer.10.attention.output.LayerNorm.weight', 'roberta.encoder.layer.9.attention.self.key.weight', 'roberta.encoder.layer.8.attention.output.LayerNorm.weight', 'roberta.encoder.layer.10.intermediate.dense.weight', 'roberta.encoder.layer.10.output.LayerNorm.bias', 'roberta.encoder.layer.8.attention.self.query.bias', 'roberta.encoder.layer.10.output.dense.weight', 'roberta.encoder.layer.8.attention.output.dense.weight', 'roberta.encoder.layer.11.attention.self.key.bias', 'roberta.encoder.layer.8.attention.self.key.weight', 'roberta.encoder.layer.11.attention.output.LayerNorm.bias', 'roberta.pooler.dense.bias', 'lm_head.bias', 'roberta.encoder.layer.10.attention.self.query.bias', 'roberta.encoder.layer.10.attention.self.key.bias']\n",
      "- This IS expected if you are initializing RobertaForSequenceClassification from the checkpoint of a model trained on another task or with another architecture (e.g. initializing a BertForSequenceClassification model from a BertForPreTraining model).\n",
      "- This IS NOT expected if you are initializing RobertaForSequenceClassification from the checkpoint of a model that you expect to be exactly identical (initializing a BertForSequenceClassification model from a BertForSequenceClassification model).\n",
      "Some weights of RobertaForSequenceClassification were not initialized from the model checkpoint at roberta-base and are newly initialized: ['classifier.out_proj.weight', 'classifier.dense.bias', 'classifier.out_proj.bias', 'classifier.dense.weight']\n",
      "You should probably TRAIN this model on a down-stream task to be able to use it for predictions and inference.\n",
      "Training Epochs:   0%|          | 0/5 [00:00<?, ?it/s]"
     ]
    },
    {
     "name": "stdout",
     "output_type": "stream",
     "text": [
      "\n",
      "\n",
      "Training (0/5): {'precision': 0.8978149100257069, 'recall': 0.6848039215686275, 'f1': 0.7769744160177975, 'tp': 1397, 'tn': 2646, 'fp': 159, 'fn': 643} Loss: 0.34428\n",
      "\n",
      "---------- EVALUATION ----------\n",
      "Document Accuracy: 0.5195\n",
      "Soft Document Accuracy: 0.9697\n",
      "Chunk Accuracy: 0.9364\n",
      "Loss: 0.15940597940647563\n",
      "precision: 0.35323383084577115\n",
      "recall: 0.8875\n",
      "f1: 0.5053380782918149\n",
      "tp: 71\n",
      "tn: 1975\n",
      "fp: 130\n",
      "fn: 9\n"
     ]
    },
    {
     "name": "stderr",
     "output_type": "stream",
     "text": [
      "Training Epochs:  20%|██        | 1/5 [02:57<11:50, 177.70s/it]"
     ]
    },
    {
     "name": "stdout",
     "output_type": "stream",
     "text": [
      "\n",
      "\n",
      "Training (1/5): {'precision': 0.9797003383276945, 'recall': 0.9936274509803922, 'f1': 0.9866147481138963, 'tp': 2027, 'tn': 2763, 'fp': 42, 'fn': 13} Loss: 0.04218\n",
      "\n",
      "---------- EVALUATION ----------\n",
      "Document Accuracy: 0.5325\n",
      "Soft Document Accuracy: 1.0\n",
      "Chunk Accuracy: 0.9309\n",
      "Loss: 0.2089735873742029\n",
      "precision: 0.3422222222222222\n",
      "recall: 0.9625\n",
      "f1: 0.5049180327868852\n",
      "tp: 77\n",
      "tn: 1957\n",
      "fp: 148\n",
      "fn: 3\n"
     ]
    },
    {
     "name": "stderr",
     "output_type": "stream",
     "text": [
      "Training Epochs:  40%|████      | 2/5 [05:49<08:43, 174.49s/it]"
     ]
    },
    {
     "name": "stdout",
     "output_type": "stream",
     "text": [
      "\n",
      "\n",
      "Training (2/5): {'precision': 0.9926793557833089, 'recall': 0.9970588235294118, 'f1': 0.9948642699926633, 'tp': 2034, 'tn': 2790, 'fp': 15, 'fn': 6} Loss: 0.01635\n",
      "\n",
      "---------- EVALUATION ----------\n",
      "Document Accuracy: 0.7403\n",
      "Soft Document Accuracy: 1.0\n",
      "Chunk Accuracy: 0.9785\n",
      "Loss: 0.08741274805869545\n",
      "precision: 0.6571428571428571\n",
      "recall: 0.8625\n",
      "f1: 0.745945945945946\n",
      "tp: 69\n",
      "tn: 2069\n",
      "fp: 36\n",
      "fn: 11\n"
     ]
    },
    {
     "name": "stderr",
     "output_type": "stream",
     "text": [
      "Training Epochs:  60%|██████    | 3/5 [08:41<05:46, 173.36s/it]"
     ]
    },
    {
     "name": "stdout",
     "output_type": "stream",
     "text": [
      "\n",
      "\n",
      "Training (3/5): {'precision': 0.9951171875, 'recall': 0.9990196078431373, 'f1': 0.99706457925636, 'tp': 2038, 'tn': 2795, 'fp': 10, 'fn': 2} Loss: 0.01135\n",
      "\n",
      "---------- EVALUATION ----------\n",
      "Document Accuracy: 0.7273\n",
      "Soft Document Accuracy: 1.0\n",
      "Chunk Accuracy: 0.9835\n",
      "Loss: 0.061859327354075316\n",
      "precision: 0.7894736842105263\n",
      "recall: 0.75\n",
      "f1: 0.7692307692307692\n",
      "tp: 60\n",
      "tn: 2089\n",
      "fp: 16\n",
      "fn: 20\n"
     ]
    },
    {
     "name": "stderr",
     "output_type": "stream",
     "text": [
      "Training Epochs:  80%|████████  | 4/5 [11:33<02:52, 172.61s/it]"
     ]
    },
    {
     "name": "stdout",
     "output_type": "stream",
     "text": [
      "\n",
      "\n",
      "Training (4/5): {'precision': 0.9936492427943332, 'recall': 0.9970588235294118, 'f1': 0.9953511132860289, 'tp': 2034, 'tn': 2792, 'fp': 13, 'fn': 6} Loss: 0.01226\n",
      "\n",
      "---------- EVALUATION ----------\n",
      "Document Accuracy: 0.6364\n",
      "Soft Document Accuracy: 1.0\n",
      "Chunk Accuracy: 0.9689\n",
      "Loss: 0.11999147610630018\n",
      "precision: 0.546875\n",
      "recall: 0.875\n",
      "f1: 0.6730769230769231\n",
      "tp: 70\n",
      "tn: 2047\n",
      "fp: 58\n",
      "fn: 10\n"
     ]
    },
    {
     "name": "stderr",
     "output_type": "stream",
     "text": [
      "Training Epochs: 100%|██████████| 5/5 [14:26<00:00, 173.23s/it]"
     ]
    },
    {
     "name": "stdout",
     "output_type": "stream",
     "text": [
      "Finished Training!\n"
     ]
    },
    {
     "name": "stderr",
     "output_type": "stream",
     "text": [
      "\n"
     ]
    },
    {
     "data": {
      "image/png": "[encoded data removed]",
      "text/plain": [
       "<Figure size 432x288 with 1 Axes>"
      ]
     },
     "metadata": {
      "needs_background": "light"
     },
     "output_type": "display_data"
    },
    {
     "data": {
      "image/png": "[encoded data removed]",
      "text/plain": [
       "<Figure size 432x288 with 1 Axes>"
      ]
     },
     "metadata": {
      "needs_background": "light"
     },
     "output_type": "display_data"
    },
    {
     "name": "stderr",
     "output_type": "stream",
     "text": [
      "Creating vocabulary:   0%|          | 0/255 [00:00<?, ?it/s]Token indices sequence length is longer than the specified maximum sequence length for this model (23250 > 512). Running this sequence through the model will result in indexing errors\n",
      "Creating vocabulary: 100%|██████████| 255/255 [00:08<00:00, 29.68it/s]\n"
     ]
    },
    {
     "name": "stdout",
     "output_type": "stream",
     "text": [
      "255\n",
      "Found existing file, loading....\n",
      "Finished loading file\n",
      "Ratio: 0.4\n",
      "Pos train: 98\n",
      "Neg train: 157\n",
      "Batch size: 19\n",
      "Randomizing training and testing data..\n"
     ]
    },
    {
     "name": "stderr",
     "output_type": "stream",
     "text": [
      "Some weights of the model checkpoint at roberta-base were not used when initializing RobertaForSequenceClassification: ['lm_head.dense.weight', 'roberta.encoder.layer.9.attention.self.value.bias', 'roberta.encoder.layer.11.attention.output.dense.bias', 'roberta.encoder.layer.8.attention.self.value.bias', 'roberta.encoder.layer.8.output.dense.bias', 'roberta.encoder.layer.8.attention.output.LayerNorm.bias', 'roberta.encoder.layer.10.attention.self.value.bias', 'roberta.encoder.layer.11.output.dense.bias', 'roberta.encoder.layer.11.attention.self.value.weight', 'roberta.encoder.layer.9.attention.output.LayerNorm.weight', 'roberta.encoder.layer.10.attention.output.LayerNorm.bias', 'roberta.encoder.layer.8.attention.self.query.weight', 'roberta.encoder.layer.10.intermediate.dense.bias', 'roberta.encoder.layer.9.attention.self.value.weight', 'roberta.encoder.layer.10.attention.output.dense.weight', 'roberta.encoder.layer.11.output.LayerNorm.bias', 'lm_head.decoder.weight', 'lm_head.dense.bias', 'roberta.encoder.layer.9.attention.output.LayerNorm.bias', 'roberta.encoder.layer.11.attention.output.dense.weight', 'roberta.encoder.layer.10.attention.output.dense.bias', 'roberta.encoder.layer.9.attention.self.query.bias', 'roberta.encoder.layer.8.intermediate.dense.bias', 'roberta.encoder.layer.11.attention.self.query.bias', 'roberta.encoder.layer.8.output.LayerNorm.bias', 'roberta.encoder.layer.11.attention.self.query.weight', 'roberta.encoder.layer.11.output.dense.weight', 'roberta.encoder.layer.9.output.LayerNorm.weight', 'roberta.encoder.layer.10.output.LayerNorm.weight', 'roberta.encoder.layer.9.output.dense.bias', 'roberta.encoder.layer.10.attention.self.query.weight', 'lm_head.layer_norm.weight', 'roberta.encoder.layer.8.output.LayerNorm.weight', 'roberta.encoder.layer.9.output.LayerNorm.bias', 'roberta.encoder.layer.8.output.dense.weight', 'roberta.encoder.layer.9.intermediate.dense.weight', 'roberta.encoder.layer.11.attention.self.value.bias', 'roberta.encoder.layer.11.intermediate.dense.weight', 'roberta.encoder.layer.9.attention.output.dense.weight', 'roberta.encoder.layer.9.intermediate.dense.bias', 'roberta.encoder.layer.8.intermediate.dense.weight', 'roberta.encoder.layer.10.attention.self.key.weight', 'roberta.encoder.layer.10.attention.self.value.weight', 'roberta.encoder.layer.8.attention.output.dense.bias', 'roberta.encoder.layer.8.attention.self.key.bias', 'roberta.encoder.layer.11.intermediate.dense.bias', 'roberta.encoder.layer.9.attention.self.key.bias', 'roberta.encoder.layer.8.attention.self.value.weight', 'roberta.encoder.layer.11.output.LayerNorm.weight', 'roberta.pooler.dense.weight', 'roberta.encoder.layer.11.attention.output.LayerNorm.weight', 'lm_head.layer_norm.bias', 'roberta.encoder.layer.9.attention.self.query.weight', 'roberta.encoder.layer.10.output.dense.bias', 'roberta.encoder.layer.9.output.dense.weight', 'roberta.encoder.layer.11.attention.self.key.weight', 'roberta.encoder.layer.9.attention.output.dense.bias', 'roberta.encoder.layer.10.attention.output.LayerNorm.weight', 'roberta.encoder.layer.9.attention.self.key.weight', 'roberta.encoder.layer.8.attention.output.LayerNorm.weight', 'roberta.encoder.layer.10.intermediate.dense.weight', 'roberta.encoder.layer.10.output.LayerNorm.bias', 'roberta.encoder.layer.8.attention.self.query.bias', 'roberta.encoder.layer.10.output.dense.weight', 'roberta.encoder.layer.8.attention.output.dense.weight', 'roberta.encoder.layer.11.attention.self.key.bias', 'roberta.encoder.layer.8.attention.self.key.weight', 'roberta.encoder.layer.11.attention.output.LayerNorm.bias', 'roberta.pooler.dense.bias', 'lm_head.bias', 'roberta.encoder.layer.10.attention.self.query.bias', 'roberta.encoder.layer.10.attention.self.key.bias']\n",
      "- This IS expected if you are initializing RobertaForSequenceClassification from the checkpoint of a model trained on another task or with another architecture (e.g. initializing a BertForSequenceClassification model from a BertForPreTraining model).\n",
      "- This IS NOT expected if you are initializing RobertaForSequenceClassification from the checkpoint of a model that you expect to be exactly identical (initializing a BertForSequenceClassification model from a BertForSequenceClassification model).\n",
      "Some weights of RobertaForSequenceClassification were not initialized from the model checkpoint at roberta-base and are newly initialized: ['classifier.out_proj.weight', 'classifier.dense.bias', 'classifier.out_proj.bias', 'classifier.dense.weight']\n",
      "You should probably TRAIN this model on a down-stream task to be able to use it for predictions and inference.\n",
      "Training Epochs:   0%|          | 0/5 [00:00<?, ?it/s]"
     ]
    },
    {
     "name": "stdout",
     "output_type": "stream",
     "text": [
      "\n",
      "\n",
      "Training (0/5): {'precision': 0.867862969004894, 'recall': 0.7823529411764706, 'f1': 0.8228924980665119, 'tp': 1596, 'tn': 2562, 'fp': 243, 'fn': 444} Loss: 0.28352\n",
      "\n",
      "---------- EVALUATION ----------\n",
      "Document Accuracy: 0.4103\n",
      "Soft Document Accuracy: 0.8\n",
      "Chunk Accuracy: 0.9698\n",
      "Loss: 0.12381866093701085\n",
      "precision: 0.3170731707317073\n",
      "recall: 0.6666666666666666\n",
      "f1: 0.4297520661157025\n",
      "tp: 26\n",
      "tn: 2189\n",
      "fp: 56\n",
      "fn: 13\n"
     ]
    },
    {
     "name": "stderr",
     "output_type": "stream",
     "text": [
      "Training Epochs:  20%|██        | 1/5 [02:50<11:23, 170.97s/it]"
     ]
    },
    {
     "name": "stdout",
     "output_type": "stream",
     "text": [
      "\n",
      "\n",
      "Training (1/5): {'precision': 0.9740134744947064, 'recall': 0.9921568627450981, 'f1': 0.9830014570179699, 'tp': 2024, 'tn': 2751, 'fp': 54, 'fn': 16} Loss: 0.05563\n",
      "\n",
      "---------- EVALUATION ----------\n",
      "Document Accuracy: 0.4231\n",
      "Soft Document Accuracy: 0.9333\n",
      "Chunk Accuracy: 0.9641\n",
      "Loss: 0.1922819804540501\n",
      "precision: 0.29906542056074764\n",
      "recall: 0.8205128205128205\n",
      "f1: 0.4383561643835616\n",
      "tp: 32\n",
      "tn: 2170\n",
      "fp: 75\n",
      "fn: 7\n"
     ]
    },
    {
     "name": "stderr",
     "output_type": "stream",
     "text": [
      "Training Epochs:  40%|████      | 2/5 [05:48<08:44, 174.92s/it]"
     ]
    },
    {
     "name": "stdout",
     "output_type": "stream",
     "text": [
      "\n",
      "\n",
      "Training (2/5): {'precision': 0.9864209505334627, 'recall': 0.9970588235294118, 'f1': 0.991711360312043, 'tp': 2034, 'tn': 2777, 'fp': 28, 'fn': 6} Loss: 0.02807\n",
      "\n",
      "---------- EVALUATION ----------\n",
      "Document Accuracy: 0.4487\n",
      "Soft Document Accuracy: 0.8333\n",
      "Chunk Accuracy: 0.9711\n",
      "Loss: 0.1732740615724395\n",
      "precision: 0.3373493975903614\n",
      "recall: 0.717948717948718\n",
      "f1: 0.459016393442623\n",
      "tp: 28\n",
      "tn: 2190\n",
      "fp: 55\n",
      "fn: 11\n"
     ]
    },
    {
     "name": "stderr",
     "output_type": "stream",
     "text": [
      "Training Epochs:  60%|██████    | 3/5 [08:44<05:50, 175.35s/it]"
     ]
    },
    {
     "name": "stdout",
     "output_type": "stream",
     "text": [
      "\n",
      "\n",
      "Training (3/5): {'precision': 0.9921951219512195, 'recall': 0.9970588235294118, 'f1': 0.9946210268948655, 'tp': 2034, 'tn': 2789, 'fp': 16, 'fn': 6} Loss: 0.01945\n",
      "\n",
      "---------- EVALUATION ----------\n",
      "Document Accuracy: 0.3333\n",
      "Soft Document Accuracy: 0.9667\n",
      "Chunk Accuracy: 0.9492\n",
      "Loss: 0.327798118634233\n",
      "precision: 0.23448275862068965\n",
      "recall: 0.8717948717948718\n",
      "f1: 0.3695652173913043\n",
      "tp: 34\n",
      "tn: 2134\n",
      "fp: 111\n",
      "fn: 5\n"
     ]
    },
    {
     "name": "stderr",
     "output_type": "stream",
     "text": [
      "Training Epochs:  80%|████████  | 4/5 [11:37<02:54, 174.37s/it]"
     ]
    },
    {
     "name": "stdout",
     "output_type": "stream",
     "text": [
      "\n",
      "\n",
      "Training (4/5): {'precision': 0.99365234375, 'recall': 0.9975490196078431, 'f1': 0.9955968688845401, 'tp': 2035, 'tn': 2792, 'fp': 13, 'fn': 5} Loss: 0.01304\n",
      "\n",
      "---------- EVALUATION ----------\n",
      "Document Accuracy: 0.3077\n",
      "Soft Document Accuracy: 1.0\n",
      "Chunk Accuracy: 0.9391\n",
      "Loss: 0.38260691623369125\n",
      "precision: 0.20930232558139536\n",
      "recall: 0.9230769230769231\n",
      "f1: 0.3412322274881517\n",
      "tp: 36\n",
      "tn: 2109\n",
      "fp: 136\n",
      "fn: 3\n"
     ]
    },
    {
     "name": "stderr",
     "output_type": "stream",
     "text": [
      "Training Epochs: 100%|██████████| 5/5 [14:30<00:00, 174.05s/it]"
     ]
    },
    {
     "name": "stdout",
     "output_type": "stream",
     "text": [
      "Finished Training!\n"
     ]
    },
    {
     "name": "stderr",
     "output_type": "stream",
     "text": [
      "\n"
     ]
    },
    {
     "data": {
      "image/png": "[encoded data removed]",
      "text/plain": [
       "<Figure size 432x288 with 1 Axes>"
      ]
     },
     "metadata": {
      "needs_background": "light"
     },
     "output_type": "display_data"
    },
    {
     "data": {
      "image/png": "[encoded data removed]",
      "text/plain": [
       "<Figure size 432x288 with 1 Axes>"
      ]
     },
     "metadata": {
      "needs_background": "light"
     },
     "output_type": "display_data"
    },
    {
     "name": "stderr",
     "output_type": "stream",
     "text": [
      "Creating vocabulary:   0%|          | 0/255 [00:00<?, ?it/s]Token indices sequence length is longer than the specified maximum sequence length for this model (23250 > 512). Running this sequence through the model will result in indexing errors\n",
      "Creating vocabulary: 100%|██████████| 255/255 [00:08<00:00, 28.39it/s]\n"
     ]
    },
    {
     "name": "stdout",
     "output_type": "stream",
     "text": [
      "255\n",
      "Found existing file, loading....\n",
      "Finished loading file\n",
      "Ratio: 0.3\n",
      "Pos train: 86\n",
      "Neg train: 169\n",
      "Batch size: 19\n",
      "Randomizing training and testing data..\n"
     ]
    },
    {
     "name": "stderr",
     "output_type": "stream",
     "text": [
      "Some weights of the model checkpoint at roberta-base were not used when initializing RobertaForSequenceClassification: ['lm_head.dense.weight', 'roberta.encoder.layer.9.attention.self.value.bias', 'roberta.encoder.layer.11.attention.output.dense.bias', 'roberta.encoder.layer.8.attention.self.value.bias', 'roberta.encoder.layer.8.output.dense.bias', 'roberta.encoder.layer.8.attention.output.LayerNorm.bias', 'roberta.encoder.layer.10.attention.self.value.bias', 'roberta.encoder.layer.11.output.dense.bias', 'roberta.encoder.layer.11.attention.self.value.weight', 'roberta.encoder.layer.9.attention.output.LayerNorm.weight', 'roberta.encoder.layer.10.attention.output.LayerNorm.bias', 'roberta.encoder.layer.8.attention.self.query.weight', 'roberta.encoder.layer.10.intermediate.dense.bias', 'roberta.encoder.layer.9.attention.self.value.weight', 'roberta.encoder.layer.10.attention.output.dense.weight', 'roberta.encoder.layer.11.output.LayerNorm.bias', 'lm_head.decoder.weight', 'lm_head.dense.bias', 'roberta.encoder.layer.9.attention.output.LayerNorm.bias', 'roberta.encoder.layer.11.attention.output.dense.weight', 'roberta.encoder.layer.10.attention.output.dense.bias', 'roberta.encoder.layer.9.attention.self.query.bias', 'roberta.encoder.layer.8.intermediate.dense.bias', 'roberta.encoder.layer.11.attention.self.query.bias', 'roberta.encoder.layer.8.output.LayerNorm.bias', 'roberta.encoder.layer.11.attention.self.query.weight', 'roberta.encoder.layer.11.output.dense.weight', 'roberta.encoder.layer.9.output.LayerNorm.weight', 'roberta.encoder.layer.10.output.LayerNorm.weight', 'roberta.encoder.layer.9.output.dense.bias', 'roberta.encoder.layer.10.attention.self.query.weight', 'lm_head.layer_norm.weight', 'roberta.encoder.layer.8.output.LayerNorm.weight', 'roberta.encoder.layer.9.output.LayerNorm.bias', 'roberta.encoder.layer.8.output.dense.weight', 'roberta.encoder.layer.9.intermediate.dense.weight', 'roberta.encoder.layer.11.attention.self.value.bias', 'roberta.encoder.layer.11.intermediate.dense.weight', 'roberta.encoder.layer.9.attention.output.dense.weight', 'roberta.encoder.layer.9.intermediate.dense.bias', 'roberta.encoder.layer.8.intermediate.dense.weight', 'roberta.encoder.layer.10.attention.self.key.weight', 'roberta.encoder.layer.10.attention.self.value.weight', 'roberta.encoder.layer.8.attention.output.dense.bias', 'roberta.encoder.layer.8.attention.self.key.bias', 'roberta.encoder.layer.11.intermediate.dense.bias', 'roberta.encoder.layer.9.attention.self.key.bias', 'roberta.encoder.layer.8.attention.self.value.weight', 'roberta.encoder.layer.11.output.LayerNorm.weight', 'roberta.pooler.dense.weight', 'roberta.encoder.layer.11.attention.output.LayerNorm.weight', 'lm_head.layer_norm.bias', 'roberta.encoder.layer.9.attention.self.query.weight', 'roberta.encoder.layer.10.output.dense.bias', 'roberta.encoder.layer.9.output.dense.weight', 'roberta.encoder.layer.11.attention.self.key.weight', 'roberta.encoder.layer.9.attention.output.dense.bias', 'roberta.encoder.layer.10.attention.output.LayerNorm.weight', 'roberta.encoder.layer.9.attention.self.key.weight', 'roberta.encoder.layer.8.attention.output.LayerNorm.weight', 'roberta.encoder.layer.10.intermediate.dense.weight', 'roberta.encoder.layer.10.output.LayerNorm.bias', 'roberta.encoder.layer.8.attention.self.query.bias', 'roberta.encoder.layer.10.output.dense.weight', 'roberta.encoder.layer.8.attention.output.dense.weight', 'roberta.encoder.layer.11.attention.self.key.bias', 'roberta.encoder.layer.8.attention.self.key.weight', 'roberta.encoder.layer.11.attention.output.LayerNorm.bias', 'roberta.pooler.dense.bias', 'lm_head.bias', 'roberta.encoder.layer.10.attention.self.query.bias', 'roberta.encoder.layer.10.attention.self.key.bias']\n",
      "- This IS expected if you are initializing RobertaForSequenceClassification from the checkpoint of a model trained on another task or with another architecture (e.g. initializing a BertForSequenceClassification model from a BertForPreTraining model).\n",
      "- This IS NOT expected if you are initializing RobertaForSequenceClassification from the checkpoint of a model that you expect to be exactly identical (initializing a BertForSequenceClassification model from a BertForSequenceClassification model).\n",
      "Some weights of RobertaForSequenceClassification were not initialized from the model checkpoint at roberta-base and are newly initialized: ['classifier.out_proj.weight', 'classifier.dense.bias', 'classifier.out_proj.bias', 'classifier.dense.weight']\n",
      "You should probably TRAIN this model on a down-stream task to be able to use it for predictions and inference.\n",
      "Training Epochs:   0%|          | 0/5 [00:00<?, ?it/s]"
     ]
    },
    {
     "name": "stdout",
     "output_type": "stream",
     "text": [
      "\n",
      "\n",
      "Training (0/5): {'precision': 0.8045977011494253, 'recall': 0.5032679738562091, 'f1': 0.6192199437072777, 'tp': 770, 'tn': 3128, 'fp': 187, 'fn': 760} Loss: 0.4068\n",
      "\n",
      "---------- EVALUATION ----------\n",
      "Document Accuracy: 0.4805\n",
      "Soft Document Accuracy: 0.6154\n",
      "Chunk Accuracy: 0.9538\n",
      "Loss: 0.1519071761301005\n",
      "precision: 0.4095238095238095\n",
      "recall: 0.524390243902439\n",
      "f1: 0.4598930481283422\n",
      "tp: 43\n",
      "tn: 2041\n",
      "fp: 62\n",
      "fn: 39\n"
     ]
    },
    {
     "name": "stderr",
     "output_type": "stream",
     "text": [
      "Training Epochs:  20%|██        | 1/5 [02:51<11:27, 171.84s/it]"
     ]
    },
    {
     "name": "stdout",
     "output_type": "stream",
     "text": [
      "\n",
      "\n",
      "Training (1/5): {'precision': 0.9437420986093552, 'recall': 0.9758169934640523, 'f1': 0.9595115681233932, 'tp': 1493, 'tn': 3226, 'fp': 89, 'fn': 37} Loss: 0.08541\n",
      "\n",
      "---------- EVALUATION ----------\n",
      "Document Accuracy: 0.4545\n",
      "Soft Document Accuracy: 0.6923\n",
      "Chunk Accuracy: 0.9497\n",
      "Loss: 0.21806846579306988\n",
      "precision: 0.38524590163934425\n",
      "recall: 0.573170731707317\n",
      "f1: 0.46078431372549017\n",
      "tp: 47\n",
      "tn: 2028\n",
      "fp: 75\n",
      "fn: 35\n"
     ]
    },
    {
     "name": "stderr",
     "output_type": "stream",
     "text": [
      "Training Epochs:  40%|████      | 2/5 [05:46<08:40, 173.61s/it]"
     ]
    },
    {
     "name": "stdout",
     "output_type": "stream",
     "text": [
      "\n",
      "\n",
      "Training (2/5): {'precision': 0.9781068898905344, 'recall': 0.9928104575163399, 'f1': 0.9854038274408043, 'tp': 1519, 'tn': 3281, 'fp': 34, 'fn': 11} Loss: 0.03349\n",
      "\n",
      "---------- EVALUATION ----------\n",
      "Document Accuracy: 0.5844\n",
      "Soft Document Accuracy: 0.5769\n",
      "Chunk Accuracy: 0.9661\n",
      "Loss: 0.19901013530808948\n",
      "precision: 0.5625\n",
      "recall: 0.43902439024390244\n",
      "f1: 0.4931506849315069\n",
      "tp: 36\n",
      "tn: 2075\n",
      "fp: 28\n",
      "fn: 46\n"
     ]
    },
    {
     "name": "stderr",
     "output_type": "stream",
     "text": [
      "Training Epochs:  60%|██████    | 3/5 [08:39<05:46, 173.21s/it]"
     ]
    },
    {
     "name": "stdout",
     "output_type": "stream",
     "text": [
      "\n",
      "\n",
      "Training (3/5): {'precision': 0.9837662337662337, 'recall': 0.9901960784313726, 'f1': 0.986970684039088, 'tp': 1515, 'tn': 3290, 'fp': 25, 'fn': 15} Loss: 0.02862\n",
      "\n",
      "---------- EVALUATION ----------\n",
      "Document Accuracy: 0.5195\n",
      "Soft Document Accuracy: 0.6923\n",
      "Chunk Accuracy: 0.9588\n",
      "Loss: 0.2448221889329022\n",
      "precision: 0.46153846153846156\n",
      "recall: 0.5853658536585366\n",
      "f1: 0.5161290322580645\n",
      "tp: 48\n",
      "tn: 2047\n",
      "fp: 56\n",
      "fn: 34\n"
     ]
    },
    {
     "name": "stderr",
     "output_type": "stream",
     "text": [
      "Training Epochs:  80%|████████  | 4/5 [11:32<02:53, 173.10s/it]"
     ]
    },
    {
     "name": "stdout",
     "output_type": "stream",
     "text": [
      "\n",
      "\n",
      "Training (4/5): {'precision': 0.9967362924281984, 'recall': 0.9980392156862745, 'f1': 0.9973873285434357, 'tp': 1527, 'tn': 3310, 'fp': 5, 'fn': 3} Loss: 0.00877\n",
      "\n",
      "---------- EVALUATION ----------\n",
      "Document Accuracy: 0.5584\n",
      "Soft Document Accuracy: 0.4615\n",
      "Chunk Accuracy: 0.9634\n",
      "Loss: 0.2740696981793433\n",
      "precision: 0.515625\n",
      "recall: 0.4024390243902439\n",
      "f1: 0.452054794520548\n",
      "tp: 33\n",
      "tn: 2072\n",
      "fp: 31\n",
      "fn: 49\n"
     ]
    },
    {
     "name": "stderr",
     "output_type": "stream",
     "text": [
      "Training Epochs: 100%|██████████| 5/5 [14:25<00:00, 173.12s/it]"
     ]
    },
    {
     "name": "stdout",
     "output_type": "stream",
     "text": [
      "Finished Training!\n"
     ]
    },
    {
     "name": "stderr",
     "output_type": "stream",
     "text": [
      "\n"
     ]
    },
    {
     "data": {
      "image/png": "[encoded data removed]",
      "text/plain": [
       "<Figure size 432x288 with 1 Axes>"
      ]
     },
     "metadata": {
      "needs_background": "light"
     },
     "output_type": "display_data"
    },
    {
     "data": {
      "image/png": "[encoded data removed]",
      "text/plain": [
       "<Figure size 432x288 with 1 Axes>"
      ]
     },
     "metadata": {
      "needs_background": "light"
     },
     "output_type": "display_data"
    },
    {
     "name": "stderr",
     "output_type": "stream",
     "text": [
      "Creating vocabulary:   0%|          | 0/255 [00:00<?, ?it/s]Token indices sequence length is longer than the specified maximum sequence length for this model (23250 > 512). Running this sequence through the model will result in indexing errors\n",
      "Creating vocabulary: 100%|██████████| 255/255 [00:08<00:00, 30.93it/s]\n"
     ]
    },
    {
     "name": "stdout",
     "output_type": "stream",
     "text": [
      "255\n",
      "Found existing file, loading....\n",
      "Finished loading file\n",
      "Ratio: 0.3\n",
      "Pos train: 88\n",
      "Neg train: 167\n",
      "Batch size: 18\n",
      "Randomizing training and testing data..\n"
     ]
    },
    {
     "name": "stderr",
     "output_type": "stream",
     "text": [
      "Some weights of the model checkpoint at roberta-base were not used when initializing RobertaForSequenceClassification: ['lm_head.dense.weight', 'roberta.encoder.layer.9.attention.self.value.bias', 'roberta.encoder.layer.11.attention.output.dense.bias', 'roberta.encoder.layer.8.attention.self.value.bias', 'roberta.encoder.layer.8.output.dense.bias', 'roberta.encoder.layer.8.attention.output.LayerNorm.bias', 'roberta.encoder.layer.10.attention.self.value.bias', 'roberta.encoder.layer.11.output.dense.bias', 'roberta.encoder.layer.11.attention.self.value.weight', 'roberta.encoder.layer.9.attention.output.LayerNorm.weight', 'roberta.encoder.layer.10.attention.output.LayerNorm.bias', 'roberta.encoder.layer.8.attention.self.query.weight', 'roberta.encoder.layer.10.intermediate.dense.bias', 'roberta.encoder.layer.9.attention.self.value.weight', 'roberta.encoder.layer.10.attention.output.dense.weight', 'roberta.encoder.layer.11.output.LayerNorm.bias', 'lm_head.decoder.weight', 'lm_head.dense.bias', 'roberta.encoder.layer.9.attention.output.LayerNorm.bias', 'roberta.encoder.layer.11.attention.output.dense.weight', 'roberta.encoder.layer.10.attention.output.dense.bias', 'roberta.encoder.layer.9.attention.self.query.bias', 'roberta.encoder.layer.8.intermediate.dense.bias', 'roberta.encoder.layer.11.attention.self.query.bias', 'roberta.encoder.layer.8.output.LayerNorm.bias', 'roberta.encoder.layer.11.attention.self.query.weight', 'roberta.encoder.layer.11.output.dense.weight', 'roberta.encoder.layer.9.output.LayerNorm.weight', 'roberta.encoder.layer.10.output.LayerNorm.weight', 'roberta.encoder.layer.9.output.dense.bias', 'roberta.encoder.layer.10.attention.self.query.weight', 'lm_head.layer_norm.weight', 'roberta.encoder.layer.8.output.LayerNorm.weight', 'roberta.encoder.layer.9.output.LayerNorm.bias', 'roberta.encoder.layer.8.output.dense.weight', 'roberta.encoder.layer.9.intermediate.dense.weight', 'roberta.encoder.layer.11.attention.self.value.bias', 'roberta.encoder.layer.11.intermediate.dense.weight', 'roberta.encoder.layer.9.attention.output.dense.weight', 'roberta.encoder.layer.9.intermediate.dense.bias', 'roberta.encoder.layer.8.intermediate.dense.weight', 'roberta.encoder.layer.10.attention.self.key.weight', 'roberta.encoder.layer.10.attention.self.value.weight', 'roberta.encoder.layer.8.attention.output.dense.bias', 'roberta.encoder.layer.8.attention.self.key.bias', 'roberta.encoder.layer.11.intermediate.dense.bias', 'roberta.encoder.layer.9.attention.self.key.bias', 'roberta.encoder.layer.8.attention.self.value.weight', 'roberta.encoder.layer.11.output.LayerNorm.weight', 'roberta.pooler.dense.weight', 'roberta.encoder.layer.11.attention.output.LayerNorm.weight', 'lm_head.layer_norm.bias', 'roberta.encoder.layer.9.attention.self.query.weight', 'roberta.encoder.layer.10.output.dense.bias', 'roberta.encoder.layer.9.output.dense.weight', 'roberta.encoder.layer.11.attention.self.key.weight', 'roberta.encoder.layer.9.attention.output.dense.bias', 'roberta.encoder.layer.10.attention.output.LayerNorm.weight', 'roberta.encoder.layer.9.attention.self.key.weight', 'roberta.encoder.layer.8.attention.output.LayerNorm.weight', 'roberta.encoder.layer.10.intermediate.dense.weight', 'roberta.encoder.layer.10.output.LayerNorm.bias', 'roberta.encoder.layer.8.attention.self.query.bias', 'roberta.encoder.layer.10.output.dense.weight', 'roberta.encoder.layer.8.attention.output.dense.weight', 'roberta.encoder.layer.11.attention.self.key.bias', 'roberta.encoder.layer.8.attention.self.key.weight', 'roberta.encoder.layer.11.attention.output.LayerNorm.bias', 'roberta.pooler.dense.bias', 'lm_head.bias', 'roberta.encoder.layer.10.attention.self.query.bias', 'roberta.encoder.layer.10.attention.self.key.bias']\n",
      "- This IS expected if you are initializing RobertaForSequenceClassification from the checkpoint of a model trained on another task or with another architecture (e.g. initializing a BertForSequenceClassification model from a BertForPreTraining model).\n",
      "- This IS NOT expected if you are initializing RobertaForSequenceClassification from the checkpoint of a model that you expect to be exactly identical (initializing a BertForSequenceClassification model from a BertForSequenceClassification model).\n",
      "Some weights of RobertaForSequenceClassification were not initialized from the model checkpoint at roberta-base and are newly initialized: ['classifier.out_proj.weight', 'classifier.dense.bias', 'classifier.out_proj.bias', 'classifier.dense.weight']\n",
      "You should probably TRAIN this model on a down-stream task to be able to use it for predictions and inference.\n",
      "Training Epochs:   0%|          | 0/5 [00:00<?, ?it/s]"
     ]
    },
    {
     "name": "stdout",
     "output_type": "stream",
     "text": [
      "\n",
      "\n",
      "Training (0/5): {'precision': 0.9494949494949495, 'recall': 0.6143790849673203, 'f1': 0.7460317460317462, 'tp': 940, 'tn': 3010, 'fp': 50, 'fn': 590} Loss: 0.28647\n",
      "\n",
      "---------- EVALUATION ----------\n",
      "Document Accuracy: 0.5385\n",
      "Soft Document Accuracy: 0.963\n",
      "Chunk Accuracy: 0.9763\n",
      "Loss: 0.14327055780599132\n",
      "precision: 0.37209302325581395\n",
      "recall: 0.9696969696969697\n",
      "f1: 0.5378151260504201\n",
      "tp: 32\n",
      "tn: 2233\n",
      "fp: 54\n",
      "fn: 1\n"
     ]
    },
    {
     "name": "stderr",
     "output_type": "stream",
     "text": [
      "Training Epochs:  20%|██        | 1/5 [02:43<10:55, 163.91s/it]"
     ]
    },
    {
     "name": "stdout",
     "output_type": "stream",
     "text": [
      "\n",
      "\n",
      "Training (1/5): {'precision': 0.9811197916666666, 'recall': 0.984967320261438, 'f1': 0.9830397912589693, 'tp': 1507, 'tn': 3031, 'fp': 29, 'fn': 23} Loss: 0.04291\n",
      "\n",
      "---------- EVALUATION ----------\n",
      "Document Accuracy: 0.7051\n",
      "Soft Document Accuracy: 0.963\n",
      "Chunk Accuracy: 0.9879\n",
      "Loss: 0.08036719018575521\n",
      "precision: 0.5423728813559322\n",
      "recall: 0.9696969696969697\n",
      "f1: 0.6956521739130436\n",
      "tp: 32\n",
      "tn: 2260\n",
      "fp: 27\n",
      "fn: 1\n"
     ]
    },
    {
     "name": "stderr",
     "output_type": "stream",
     "text": [
      "Training Epochs:  40%|████      | 2/5 [05:30<08:16, 165.66s/it]"
     ]
    },
    {
     "name": "stdout",
     "output_type": "stream",
     "text": [
      "\n",
      "\n",
      "Training (2/5): {'precision': 0.9915639195327709, 'recall': 0.9986928104575163, 'f1': 0.995115597525236, 'tp': 1528, 'tn': 3047, 'fp': 13, 'fn': 2} Loss: 0.01722\n",
      "\n",
      "---------- EVALUATION ----------\n",
      "Document Accuracy: 0.6795\n",
      "Soft Document Accuracy: 0.963\n",
      "Chunk Accuracy: 0.9862\n",
      "Loss: 0.07459727756661148\n",
      "precision: 0.5081967213114754\n",
      "recall: 0.9393939393939394\n",
      "f1: 0.6595744680851064\n",
      "tp: 31\n",
      "tn: 2257\n",
      "fp: 30\n",
      "fn: 2\n"
     ]
    },
    {
     "name": "stderr",
     "output_type": "stream",
     "text": [
      "Training Epochs:  60%|██████    | 3/5 [08:25<05:39, 169.62s/it]"
     ]
    },
    {
     "name": "stdout",
     "output_type": "stream",
     "text": [
      "\n",
      "\n",
      "Training (3/5): {'precision': 0.9947984395318595, 'recall': 1.0, 'f1': 0.9973924380704041, 'tp': 1530, 'tn': 3052, 'fp': 8, 'fn': 0} Loss: 0.01136\n",
      "\n",
      "---------- EVALUATION ----------\n",
      "Document Accuracy: 0.7436\n",
      "Soft Document Accuracy: 0.963\n",
      "Chunk Accuracy: 0.9888\n",
      "Loss: 0.07535466355217907\n",
      "precision: 0.5636363636363636\n",
      "recall: 0.9393939393939394\n",
      "f1: 0.7045454545454546\n",
      "tp: 31\n",
      "tn: 2263\n",
      "fp: 24\n",
      "fn: 2\n"
     ]
    },
    {
     "name": "stderr",
     "output_type": "stream",
     "text": [
      "Training Epochs:  80%|████████  | 4/5 [11:25<02:53, 173.75s/it]"
     ]
    },
    {
     "name": "stdout",
     "output_type": "stream",
     "text": [
      "\n",
      "\n",
      "Training (4/5): {'precision': 0.9954456733897202, 'recall': 1.0, 'f1': 0.9977176393870232, 'tp': 1530, 'tn': 3053, 'fp': 7, 'fn': 0} Loss: 0.00938\n",
      "\n",
      "---------- EVALUATION ----------\n",
      "Document Accuracy: 0.7692\n",
      "Soft Document Accuracy: 0.963\n",
      "Chunk Accuracy: 0.9892\n",
      "Loss: 0.05996733687397164\n",
      "precision: 0.5740740740740741\n",
      "recall: 0.9393939393939394\n",
      "f1: 0.7126436781609197\n",
      "tp: 31\n",
      "tn: 2264\n",
      "fp: 23\n",
      "fn: 2\n"
     ]
    },
    {
     "name": "stderr",
     "output_type": "stream",
     "text": [
      "Training Epochs: 100%|██████████| 5/5 [14:11<00:00, 170.26s/it]"
     ]
    },
    {
     "name": "stdout",
     "output_type": "stream",
     "text": [
      "Finished Training!\n"
     ]
    },
    {
     "name": "stderr",
     "output_type": "stream",
     "text": [
      "\n"
     ]
    },
    {
     "data": {
      "image/png": "[encoded data removed]",
      "text/plain": [
       "<Figure size 432x288 with 1 Axes>"
      ]
     },
     "metadata": {
      "needs_background": "light"
     },
     "output_type": "display_data"
    },
    {
     "data": {
      "image/png": "[encoded data removed]",
      "text/plain": [
       "<Figure size 432x288 with 1 Axes>"
      ]
     },
     "metadata": {
      "needs_background": "light"
     },
     "output_type": "display_data"
    },
    {
     "name": "stderr",
     "output_type": "stream",
     "text": [
      "Creating vocabulary:   0%|          | 0/255 [00:00<?, ?it/s]Token indices sequence length is longer than the specified maximum sequence length for this model (23250 > 512). Running this sequence through the model will result in indexing errors\n",
      "Creating vocabulary: 100%|██████████| 255/255 [00:08<00:00, 30.76it/s]\n"
     ]
    },
    {
     "name": "stdout",
     "output_type": "stream",
     "text": [
      "255\n",
      "Found existing file, loading....\n",
      "Finished loading file\n",
      "Ratio: 0.3\n",
      "Pos train: 86\n",
      "Neg train: 169\n",
      "Batch size: 18\n",
      "Randomizing training and testing data..\n"
     ]
    },
    {
     "name": "stderr",
     "output_type": "stream",
     "text": [
      "Some weights of the model checkpoint at roberta-base were not used when initializing RobertaForSequenceClassification: ['lm_head.dense.weight', 'roberta.encoder.layer.9.attention.self.value.bias', 'roberta.encoder.layer.11.attention.output.dense.bias', 'roberta.encoder.layer.8.attention.self.value.bias', 'roberta.encoder.layer.8.output.dense.bias', 'roberta.encoder.layer.8.attention.output.LayerNorm.bias', 'roberta.encoder.layer.10.attention.self.value.bias', 'roberta.encoder.layer.11.output.dense.bias', 'roberta.encoder.layer.11.attention.self.value.weight', 'roberta.encoder.layer.9.attention.output.LayerNorm.weight', 'roberta.encoder.layer.10.attention.output.LayerNorm.bias', 'roberta.encoder.layer.8.attention.self.query.weight', 'roberta.encoder.layer.10.intermediate.dense.bias', 'roberta.encoder.layer.9.attention.self.value.weight', 'roberta.encoder.layer.10.attention.output.dense.weight', 'roberta.encoder.layer.11.output.LayerNorm.bias', 'lm_head.decoder.weight', 'lm_head.dense.bias', 'roberta.encoder.layer.9.attention.output.LayerNorm.bias', 'roberta.encoder.layer.11.attention.output.dense.weight', 'roberta.encoder.layer.10.attention.output.dense.bias', 'roberta.encoder.layer.9.attention.self.query.bias', 'roberta.encoder.layer.8.intermediate.dense.bias', 'roberta.encoder.layer.11.attention.self.query.bias', 'roberta.encoder.layer.8.output.LayerNorm.bias', 'roberta.encoder.layer.11.attention.self.query.weight', 'roberta.encoder.layer.11.output.dense.weight', 'roberta.encoder.layer.9.output.LayerNorm.weight', 'roberta.encoder.layer.10.output.LayerNorm.weight', 'roberta.encoder.layer.9.output.dense.bias', 'roberta.encoder.layer.10.attention.self.query.weight', 'lm_head.layer_norm.weight', 'roberta.encoder.layer.8.output.LayerNorm.weight', 'roberta.encoder.layer.9.output.LayerNorm.bias', 'roberta.encoder.layer.8.output.dense.weight', 'roberta.encoder.layer.9.intermediate.dense.weight', 'roberta.encoder.layer.11.attention.self.value.bias', 'roberta.encoder.layer.11.intermediate.dense.weight', 'roberta.encoder.layer.9.attention.output.dense.weight', 'roberta.encoder.layer.9.intermediate.dense.bias', 'roberta.encoder.layer.8.intermediate.dense.weight', 'roberta.encoder.layer.10.attention.self.key.weight', 'roberta.encoder.layer.10.attention.self.value.weight', 'roberta.encoder.layer.8.attention.output.dense.bias', 'roberta.encoder.layer.8.attention.self.key.bias', 'roberta.encoder.layer.11.intermediate.dense.bias', 'roberta.encoder.layer.9.attention.self.key.bias', 'roberta.encoder.layer.8.attention.self.value.weight', 'roberta.encoder.layer.11.output.LayerNorm.weight', 'roberta.pooler.dense.weight', 'roberta.encoder.layer.11.attention.output.LayerNorm.weight', 'lm_head.layer_norm.bias', 'roberta.encoder.layer.9.attention.self.query.weight', 'roberta.encoder.layer.10.output.dense.bias', 'roberta.encoder.layer.9.output.dense.weight', 'roberta.encoder.layer.11.attention.self.key.weight', 'roberta.encoder.layer.9.attention.output.dense.bias', 'roberta.encoder.layer.10.attention.output.LayerNorm.weight', 'roberta.encoder.layer.9.attention.self.key.weight', 'roberta.encoder.layer.8.attention.output.LayerNorm.weight', 'roberta.encoder.layer.10.intermediate.dense.weight', 'roberta.encoder.layer.10.output.LayerNorm.bias', 'roberta.encoder.layer.8.attention.self.query.bias', 'roberta.encoder.layer.10.output.dense.weight', 'roberta.encoder.layer.8.attention.output.dense.weight', 'roberta.encoder.layer.11.attention.self.key.bias', 'roberta.encoder.layer.8.attention.self.key.weight', 'roberta.encoder.layer.11.attention.output.LayerNorm.bias', 'roberta.pooler.dense.bias', 'lm_head.bias', 'roberta.encoder.layer.10.attention.self.query.bias', 'roberta.encoder.layer.10.attention.self.key.bias']\n",
      "- This IS expected if you are initializing RobertaForSequenceClassification from the checkpoint of a model trained on another task or with another architecture (e.g. initializing a BertForSequenceClassification model from a BertForPreTraining model).\n",
      "- This IS NOT expected if you are initializing RobertaForSequenceClassification from the checkpoint of a model that you expect to be exactly identical (initializing a BertForSequenceClassification model from a BertForSequenceClassification model).\n",
      "Some weights of RobertaForSequenceClassification were not initialized from the model checkpoint at roberta-base and are newly initialized: ['classifier.out_proj.weight', 'classifier.dense.bias', 'classifier.out_proj.bias', 'classifier.dense.weight']\n",
      "You should probably TRAIN this model on a down-stream task to be able to use it for predictions and inference.\n",
      "Training Epochs:   0%|          | 0/5 [00:00<?, ?it/s]"
     ]
    },
    {
     "name": "stdout",
     "output_type": "stream",
     "text": [
      "\n",
      "\n",
      "Training (0/5): {'precision': 0.9461382113821138, 'recall': 0.6084967320261437, 'f1': 0.7406523468575975, 'tp': 931, 'tn': 3007, 'fp': 53, 'fn': 599} Loss: 0.2831\n",
      "\n",
      "---------- EVALUATION ----------\n",
      "Document Accuracy: 0.6883\n",
      "Soft Document Accuracy: 0.9615\n",
      "Chunk Accuracy: 0.9816\n",
      "Loss: 0.08410508579925283\n",
      "precision: 0.4520547945205479\n",
      "recall: 0.9166666666666666\n",
      "f1: 0.6055045871559632\n",
      "tp: 33\n",
      "tn: 2256\n",
      "fp: 40\n",
      "fn: 3\n"
     ]
    },
    {
     "name": "stderr",
     "output_type": "stream",
     "text": [
      "Training Epochs:  20%|██        | 1/5 [02:50<11:22, 170.59s/it]"
     ]
    },
    {
     "name": "stdout",
     "output_type": "stream",
     "text": [
      "\n",
      "\n",
      "Training (1/5): {'precision': 0.9838292367399741, 'recall': 0.9941176470588236, 'f1': 0.9889466840052016, 'tp': 1521, 'tn': 3035, 'fp': 25, 'fn': 9} Loss: 0.02476\n",
      "\n",
      "---------- EVALUATION ----------\n",
      "Document Accuracy: 0.7792\n",
      "Soft Document Accuracy: 0.9231\n",
      "Chunk Accuracy: 0.9897\n",
      "Loss: 0.041881662343671036\n",
      "precision: 0.6153846153846154\n",
      "recall: 0.8888888888888888\n",
      "f1: 0.7272727272727274\n",
      "tp: 32\n",
      "tn: 2276\n",
      "fp: 20\n",
      "fn: 4\n"
     ]
    },
    {
     "name": "stderr",
     "output_type": "stream",
     "text": [
      "Training Epochs:  40%|████      | 2/5 [05:55<08:57, 179.26s/it]"
     ]
    },
    {
     "name": "stdout",
     "output_type": "stream",
     "text": [
      "\n",
      "\n",
      "Training (2/5): {'precision': 0.9973924380704041, 'recall': 1.0, 'f1': 0.9986945169712794, 'tp': 1530, 'tn': 3056, 'fp': 4, 'fn': 0} Loss: 0.0059\n",
      "\n",
      "---------- EVALUATION ----------\n",
      "Document Accuracy: 0.7792\n",
      "Soft Document Accuracy: 0.9615\n",
      "Chunk Accuracy: 0.9901\n",
      "Loss: 0.05016848528205853\n",
      "precision: 0.6226415094339622\n",
      "recall: 0.9166666666666666\n",
      "f1: 0.7415730337078651\n",
      "tp: 33\n",
      "tn: 2276\n",
      "fp: 20\n",
      "fn: 3\n"
     ]
    },
    {
     "name": "stderr",
     "output_type": "stream",
     "text": [
      "Training Epochs:  60%|██████    | 3/5 [09:01<06:04, 182.03s/it]"
     ]
    },
    {
     "name": "stdout",
     "output_type": "stream",
     "text": [
      "\n",
      "\n",
      "Training (3/5): {'precision': 1.0, 'recall': 1.0, 'f1': 1.0, 'tp': 1530, 'tn': 3060, 'fp': 0, 'fn': 0} Loss: 0.00102\n",
      "\n",
      "---------- EVALUATION ----------\n",
      "Document Accuracy: 0.7792\n",
      "Soft Document Accuracy: 0.9615\n",
      "Chunk Accuracy: 0.9893\n",
      "Loss: 0.06376341369733299\n",
      "precision: 0.6037735849056604\n",
      "recall: 0.8888888888888888\n",
      "f1: 0.7191011235955056\n",
      "tp: 32\n",
      "tn: 2275\n",
      "fp: 21\n",
      "fn: 4\n"
     ]
    },
    {
     "name": "stderr",
     "output_type": "stream",
     "text": [
      "Training Epochs:  80%|████████  | 4/5 [11:53<02:58, 178.24s/it]"
     ]
    },
    {
     "name": "stdout",
     "output_type": "stream",
     "text": [
      "\n",
      "\n",
      "Training (4/5): {'precision': 0.9941329856584094, 'recall': 0.9967320261437909, 'f1': 0.9954308093994778, 'tp': 1525, 'tn': 3051, 'fp': 9, 'fn': 5} Loss: 0.01054\n",
      "\n",
      "---------- EVALUATION ----------\n",
      "Document Accuracy: 0.7662\n",
      "Soft Document Accuracy: 0.9615\n",
      "Chunk Accuracy: 0.9884\n",
      "Loss: 0.05432947032499828\n",
      "precision: 0.5789473684210527\n",
      "recall: 0.9166666666666666\n",
      "f1: 0.7096774193548387\n",
      "tp: 33\n",
      "tn: 2272\n",
      "fp: 24\n",
      "fn: 3\n"
     ]
    },
    {
     "name": "stderr",
     "output_type": "stream",
     "text": [
      "Training Epochs: 100%|██████████| 5/5 [14:40<00:00, 176.14s/it]"
     ]
    },
    {
     "name": "stdout",
     "output_type": "stream",
     "text": [
      "Finished Training!\n"
     ]
    },
    {
     "name": "stderr",
     "output_type": "stream",
     "text": [
      "\n"
     ]
    },
    {
     "data": {
      "image/png": "[encoded data removed]",
      "text/plain": [
       "<Figure size 432x288 with 1 Axes>"
      ]
     },
     "metadata": {
      "needs_background": "light"
     },
     "output_type": "display_data"
    },
    {
     "data": {
      "image/png": "[encoded data removed]",
      "text/plain": [
       "<Figure size 432x288 with 1 Axes>"
      ]
     },
     "metadata": {
      "needs_background": "light"
     },
     "output_type": "display_data"
    },
    {
     "name": "stderr",
     "output_type": "stream",
     "text": [
      "Creating vocabulary:   0%|          | 0/255 [00:00<?, ?it/s]Token indices sequence length is longer than the specified maximum sequence length for this model (23250 > 512). Running this sequence through the model will result in indexing errors\n",
      "Creating vocabulary: 100%|██████████| 255/255 [00:08<00:00, 30.37it/s]\n"
     ]
    },
    {
     "name": "stdout",
     "output_type": "stream",
     "text": [
      "255\n",
      "Found existing file, loading....\n",
      "Finished loading file\n",
      "Ratio: 0.3\n",
      "Pos train: 76\n",
      "Neg train: 179\n",
      "Batch size: 20\n",
      "Randomizing training and testing data..\n"
     ]
    },
    {
     "name": "stderr",
     "output_type": "stream",
     "text": [
      "Some weights of the model checkpoint at roberta-base were not used when initializing RobertaForSequenceClassification: ['lm_head.dense.weight', 'roberta.encoder.layer.9.attention.self.value.bias', 'roberta.encoder.layer.11.attention.output.dense.bias', 'roberta.encoder.layer.8.attention.self.value.bias', 'roberta.encoder.layer.8.output.dense.bias', 'roberta.encoder.layer.8.attention.output.LayerNorm.bias', 'roberta.encoder.layer.10.attention.self.value.bias', 'roberta.encoder.layer.11.output.dense.bias', 'roberta.encoder.layer.11.attention.self.value.weight', 'roberta.encoder.layer.9.attention.output.LayerNorm.weight', 'roberta.encoder.layer.10.attention.output.LayerNorm.bias', 'roberta.encoder.layer.8.attention.self.query.weight', 'roberta.encoder.layer.10.intermediate.dense.bias', 'roberta.encoder.layer.9.attention.self.value.weight', 'roberta.encoder.layer.10.attention.output.dense.weight', 'roberta.encoder.layer.11.output.LayerNorm.bias', 'lm_head.decoder.weight', 'lm_head.dense.bias', 'roberta.encoder.layer.9.attention.output.LayerNorm.bias', 'roberta.encoder.layer.11.attention.output.dense.weight', 'roberta.encoder.layer.10.attention.output.dense.bias', 'roberta.encoder.layer.9.attention.self.query.bias', 'roberta.encoder.layer.8.intermediate.dense.bias', 'roberta.encoder.layer.11.attention.self.query.bias', 'roberta.encoder.layer.8.output.LayerNorm.bias', 'roberta.encoder.layer.11.attention.self.query.weight', 'roberta.encoder.layer.11.output.dense.weight', 'roberta.encoder.layer.9.output.LayerNorm.weight', 'roberta.encoder.layer.10.output.LayerNorm.weight', 'roberta.encoder.layer.9.output.dense.bias', 'roberta.encoder.layer.10.attention.self.query.weight', 'lm_head.layer_norm.weight', 'roberta.encoder.layer.8.output.LayerNorm.weight', 'roberta.encoder.layer.9.output.LayerNorm.bias', 'roberta.encoder.layer.8.output.dense.weight', 'roberta.encoder.layer.9.intermediate.dense.weight', 'roberta.encoder.layer.11.attention.self.value.bias', 'roberta.encoder.layer.11.intermediate.dense.weight', 'roberta.encoder.layer.9.attention.output.dense.weight', 'roberta.encoder.layer.9.intermediate.dense.bias', 'roberta.encoder.layer.8.intermediate.dense.weight', 'roberta.encoder.layer.10.attention.self.key.weight', 'roberta.encoder.layer.10.attention.self.value.weight', 'roberta.encoder.layer.8.attention.output.dense.bias', 'roberta.encoder.layer.8.attention.self.key.bias', 'roberta.encoder.layer.11.intermediate.dense.bias', 'roberta.encoder.layer.9.attention.self.key.bias', 'roberta.encoder.layer.8.attention.self.value.weight', 'roberta.encoder.layer.11.output.LayerNorm.weight', 'roberta.pooler.dense.weight', 'roberta.encoder.layer.11.attention.output.LayerNorm.weight', 'lm_head.layer_norm.bias', 'roberta.encoder.layer.9.attention.self.query.weight', 'roberta.encoder.layer.10.output.dense.bias', 'roberta.encoder.layer.9.output.dense.weight', 'roberta.encoder.layer.11.attention.self.key.weight', 'roberta.encoder.layer.9.attention.output.dense.bias', 'roberta.encoder.layer.10.attention.output.LayerNorm.weight', 'roberta.encoder.layer.9.attention.self.key.weight', 'roberta.encoder.layer.8.attention.output.LayerNorm.weight', 'roberta.encoder.layer.10.intermediate.dense.weight', 'roberta.encoder.layer.10.output.LayerNorm.bias', 'roberta.encoder.layer.8.attention.self.query.bias', 'roberta.encoder.layer.10.output.dense.weight', 'roberta.encoder.layer.8.attention.output.dense.weight', 'roberta.encoder.layer.11.attention.self.key.bias', 'roberta.encoder.layer.8.attention.self.key.weight', 'roberta.encoder.layer.11.attention.output.LayerNorm.bias', 'roberta.pooler.dense.bias', 'lm_head.bias', 'roberta.encoder.layer.10.attention.self.query.bias', 'roberta.encoder.layer.10.attention.self.key.bias']\n",
      "- This IS expected if you are initializing RobertaForSequenceClassification from the checkpoint of a model trained on another task or with another architecture (e.g. initializing a BertForSequenceClassification model from a BertForPreTraining model).\n",
      "- This IS NOT expected if you are initializing RobertaForSequenceClassification from the checkpoint of a model that you expect to be exactly identical (initializing a BertForSequenceClassification model from a BertForSequenceClassification model).\n",
      "Some weights of RobertaForSequenceClassification were not initialized from the model checkpoint at roberta-base and are newly initialized: ['classifier.out_proj.weight', 'classifier.dense.bias', 'classifier.out_proj.bias', 'classifier.dense.weight']\n",
      "You should probably TRAIN this model on a down-stream task to be able to use it for predictions and inference.\n",
      "Training Epochs:   0%|          | 0/5 [00:00<?, ?it/s]"
     ]
    },
    {
     "name": "stdout",
     "output_type": "stream",
     "text": [
      "\n",
      "\n",
      "Training (0/5): {'precision': 0.8760393046107332, 'recall': 0.6492997198879552, 'f1': 0.7458172458172457, 'tp': 1159, 'tn': 3151, 'fp': 164, 'fn': 626} Loss: 0.31555\n",
      "\n",
      "---------- EVALUATION ----------\n",
      "Document Accuracy: 0.5195\n",
      "Soft Document Accuracy: 0.8261\n",
      "Chunk Accuracy: 0.9477\n",
      "Loss: 0.14969238363109627\n",
      "precision: 0.31386861313868614\n",
      "recall: 0.7818181818181819\n",
      "f1: 0.4479166666666667\n",
      "tp: 43\n",
      "tn: 1877\n",
      "fp: 94\n",
      "fn: 12\n"
     ]
    },
    {
     "name": "stderr",
     "output_type": "stream",
     "text": [
      "Training Epochs:  20%|██        | 1/5 [03:03<12:12, 183.20s/it]"
     ]
    },
    {
     "name": "stdout",
     "output_type": "stream",
     "text": [
      "\n",
      "\n",
      "Training (1/5): {'precision': 0.9820828667413214, 'recall': 0.9826330532212885, 'f1': 0.9823578829459535, 'tp': 1754, 'tn': 3283, 'fp': 32, 'fn': 31} Loss: 0.04117\n",
      "\n",
      "---------- EVALUATION ----------\n",
      "Document Accuracy: 0.7792\n",
      "Soft Document Accuracy: 0.6087\n",
      "Chunk Accuracy: 0.9827\n",
      "Loss: 0.13936568951451933\n",
      "precision: 0.7631578947368421\n",
      "recall: 0.5272727272727272\n",
      "f1: 0.6236559139784946\n",
      "tp: 29\n",
      "tn: 1962\n",
      "fp: 9\n",
      "fn: 26\n"
     ]
    },
    {
     "name": "stderr",
     "output_type": "stream",
     "text": [
      "Training Epochs:  40%|████      | 2/5 [06:08<09:13, 184.34s/it]"
     ]
    },
    {
     "name": "stdout",
     "output_type": "stream",
     "text": [
      "\n",
      "\n",
      "Training (2/5): {'precision': 0.9888579387186629, 'recall': 0.9943977591036415, 'f1': 0.9916201117318436, 'tp': 1775, 'tn': 3295, 'fp': 20, 'fn': 10} Loss: 0.0211\n",
      "\n",
      "---------- EVALUATION ----------\n",
      "Document Accuracy: 0.6883\n",
      "Soft Document Accuracy: 0.8261\n",
      "Chunk Accuracy: 0.9783\n",
      "Loss: 0.1569679045056404\n",
      "precision: 0.5753424657534246\n",
      "recall: 0.7636363636363637\n",
      "f1: 0.65625\n",
      "tp: 42\n",
      "tn: 1940\n",
      "fp: 31\n",
      "fn: 13\n"
     ]
    },
    {
     "name": "stderr",
     "output_type": "stream",
     "text": [
      "Training Epochs:  60%|██████    | 3/5 [09:12<06:08, 184.15s/it]"
     ]
    },
    {
     "name": "stdout",
     "output_type": "stream",
     "text": [
      "\n",
      "\n",
      "Training (3/5): {'precision': 0.9972067039106145, 'recall': 1.0, 'f1': 0.9986013986013986, 'tp': 1785, 'tn': 3310, 'fp': 5, 'fn': 0} Loss: 0.00611\n",
      "\n",
      "---------- EVALUATION ----------\n",
      "Document Accuracy: 0.6753\n",
      "Soft Document Accuracy: 0.8261\n",
      "Chunk Accuracy: 0.9793\n",
      "Loss: 0.19111900679032354\n",
      "precision: 0.5942028985507246\n",
      "recall: 0.7454545454545455\n",
      "f1: 0.661290322580645\n",
      "tp: 41\n",
      "tn: 1943\n",
      "fp: 28\n",
      "fn: 14\n"
     ]
    },
    {
     "name": "stderr",
     "output_type": "stream",
     "text": [
      "Training Epochs:  80%|████████  | 4/5 [12:16<03:04, 184.03s/it]"
     ]
    },
    {
     "name": "stdout",
     "output_type": "stream",
     "text": [
      "\n",
      "\n",
      "Training (4/5): {'precision': 0.996078431372549, 'recall': 0.996078431372549, 'f1': 0.996078431372549, 'tp': 1778, 'tn': 3308, 'fp': 7, 'fn': 7} Loss: 0.00957\n",
      "\n",
      "---------- EVALUATION ----------\n",
      "Document Accuracy: 0.5844\n",
      "Soft Document Accuracy: 0.8696\n",
      "Chunk Accuracy: 0.9733\n",
      "Loss: 0.17764974181697546\n",
      "precision: 0.5057471264367817\n",
      "recall: 0.8\n",
      "f1: 0.619718309859155\n",
      "tp: 44\n",
      "tn: 1928\n",
      "fp: 43\n",
      "fn: 11\n"
     ]
    },
    {
     "name": "stderr",
     "output_type": "stream",
     "text": [
      "Training Epochs: 100%|██████████| 5/5 [15:19<00:00, 183.81s/it]"
     ]
    },
    {
     "name": "stdout",
     "output_type": "stream",
     "text": [
      "Finished Training!\n"
     ]
    },
    {
     "name": "stderr",
     "output_type": "stream",
     "text": [
      "\n"
     ]
    },
    {
     "data": {
      "image/png": "[encoded data removed]",
      "text/plain": [
       "<Figure size 432x288 with 1 Axes>"
      ]
     },
     "metadata": {
      "needs_background": "light"
     },
     "output_type": "display_data"
    },
    {
     "data": {
      "image/png": "[encoded data removed]",
      "text/plain": [
       "<Figure size 432x288 with 1 Axes>"
      ]
     },
     "metadata": {
      "needs_background": "light"
     },
     "output_type": "display_data"
    },
    {
     "name": "stderr",
     "output_type": "stream",
     "text": [
      "Creating vocabulary:   0%|          | 0/255 [00:00<?, ?it/s]Token indices sequence length is longer than the specified maximum sequence length for this model (23250 > 512). Running this sequence through the model will result in indexing errors\n",
      "Creating vocabulary: 100%|██████████| 255/255 [00:08<00:00, 28.77it/s]\n"
     ]
    },
    {
     "name": "stdout",
     "output_type": "stream",
     "text": [
      "255\n",
      "Found existing file, loading....\n",
      "Finished loading file\n",
      "Ratio: 0.2\n",
      "Pos train: 40\n",
      "Neg train: 215\n",
      "Batch size: 19\n",
      "Randomizing training and testing data..\n"
     ]
    },
    {
     "name": "stderr",
     "output_type": "stream",
     "text": [
      "Some weights of the model checkpoint at roberta-base were not used when initializing RobertaForSequenceClassification: ['lm_head.dense.weight', 'roberta.encoder.layer.9.attention.self.value.bias', 'roberta.encoder.layer.11.attention.output.dense.bias', 'roberta.encoder.layer.8.attention.self.value.bias', 'roberta.encoder.layer.8.output.dense.bias', 'roberta.encoder.layer.8.attention.output.LayerNorm.bias', 'roberta.encoder.layer.10.attention.self.value.bias', 'roberta.encoder.layer.11.output.dense.bias', 'roberta.encoder.layer.11.attention.self.value.weight', 'roberta.encoder.layer.9.attention.output.LayerNorm.weight', 'roberta.encoder.layer.10.attention.output.LayerNorm.bias', 'roberta.encoder.layer.8.attention.self.query.weight', 'roberta.encoder.layer.10.intermediate.dense.bias', 'roberta.encoder.layer.9.attention.self.value.weight', 'roberta.encoder.layer.10.attention.output.dense.weight', 'roberta.encoder.layer.11.output.LayerNorm.bias', 'lm_head.decoder.weight', 'lm_head.dense.bias', 'roberta.encoder.layer.9.attention.output.LayerNorm.bias', 'roberta.encoder.layer.11.attention.output.dense.weight', 'roberta.encoder.layer.10.attention.output.dense.bias', 'roberta.encoder.layer.9.attention.self.query.bias', 'roberta.encoder.layer.8.intermediate.dense.bias', 'roberta.encoder.layer.11.attention.self.query.bias', 'roberta.encoder.layer.8.output.LayerNorm.bias', 'roberta.encoder.layer.11.attention.self.query.weight', 'roberta.encoder.layer.11.output.dense.weight', 'roberta.encoder.layer.9.output.LayerNorm.weight', 'roberta.encoder.layer.10.output.LayerNorm.weight', 'roberta.encoder.layer.9.output.dense.bias', 'roberta.encoder.layer.10.attention.self.query.weight', 'lm_head.layer_norm.weight', 'roberta.encoder.layer.8.output.LayerNorm.weight', 'roberta.encoder.layer.9.output.LayerNorm.bias', 'roberta.encoder.layer.8.output.dense.weight', 'roberta.encoder.layer.9.intermediate.dense.weight', 'roberta.encoder.layer.11.attention.self.value.bias', 'roberta.encoder.layer.11.intermediate.dense.weight', 'roberta.encoder.layer.9.attention.output.dense.weight', 'roberta.encoder.layer.9.intermediate.dense.bias', 'roberta.encoder.layer.8.intermediate.dense.weight', 'roberta.encoder.layer.10.attention.self.key.weight', 'roberta.encoder.layer.10.attention.self.value.weight', 'roberta.encoder.layer.8.attention.output.dense.bias', 'roberta.encoder.layer.8.attention.self.key.bias', 'roberta.encoder.layer.11.intermediate.dense.bias', 'roberta.encoder.layer.9.attention.self.key.bias', 'roberta.encoder.layer.8.attention.self.value.weight', 'roberta.encoder.layer.11.output.LayerNorm.weight', 'roberta.pooler.dense.weight', 'roberta.encoder.layer.11.attention.output.LayerNorm.weight', 'lm_head.layer_norm.bias', 'roberta.encoder.layer.9.attention.self.query.weight', 'roberta.encoder.layer.10.output.dense.bias', 'roberta.encoder.layer.9.output.dense.weight', 'roberta.encoder.layer.11.attention.self.key.weight', 'roberta.encoder.layer.9.attention.output.dense.bias', 'roberta.encoder.layer.10.attention.output.LayerNorm.weight', 'roberta.encoder.layer.9.attention.self.key.weight', 'roberta.encoder.layer.8.attention.output.LayerNorm.weight', 'roberta.encoder.layer.10.intermediate.dense.weight', 'roberta.encoder.layer.10.output.LayerNorm.bias', 'roberta.encoder.layer.8.attention.self.query.bias', 'roberta.encoder.layer.10.output.dense.weight', 'roberta.encoder.layer.8.attention.output.dense.weight', 'roberta.encoder.layer.11.attention.self.key.bias', 'roberta.encoder.layer.8.attention.self.key.weight', 'roberta.encoder.layer.11.attention.output.LayerNorm.bias', 'roberta.pooler.dense.bias', 'lm_head.bias', 'roberta.encoder.layer.10.attention.self.query.bias', 'roberta.encoder.layer.10.attention.self.key.bias']\n",
      "- This IS expected if you are initializing RobertaForSequenceClassification from the checkpoint of a model trained on another task or with another architecture (e.g. initializing a BertForSequenceClassification model from a BertForPreTraining model).\n",
      "- This IS NOT expected if you are initializing RobertaForSequenceClassification from the checkpoint of a model that you expect to be exactly identical (initializing a BertForSequenceClassification model from a BertForSequenceClassification model).\n",
      "Some weights of RobertaForSequenceClassification were not initialized from the model checkpoint at roberta-base and are newly initialized: ['classifier.out_proj.weight', 'classifier.dense.bias', 'classifier.out_proj.bias', 'classifier.dense.weight']\n",
      "You should probably TRAIN this model on a down-stream task to be able to use it for predictions and inference.\n",
      "Training Epochs:   0%|          | 0/5 [00:00<?, ?it/s]"
     ]
    },
    {
     "name": "stdout",
     "output_type": "stream",
     "text": [
      "\n",
      "\n",
      "Training (0/5): {'precision': 0.6827503015681544, 'recall': 0.5549019607843138, 'f1': 0.6122228231476474, 'tp': 566, 'tn': 3562, 'fp': 263, 'fn': 454} Loss: 0.29893\n",
      "\n",
      "---------- EVALUATION ----------\n",
      "Document Accuracy: 0.5584\n",
      "Soft Document Accuracy: 0.5\n",
      "Chunk Accuracy: 0.9428\n",
      "Loss: 0.16980824001472106\n",
      "precision: 0.08\n",
      "recall: 0.5\n",
      "f1: 0.13793103448275865\n",
      "tp: 10\n",
      "tn: 2050\n",
      "fp: 115\n",
      "fn: 10\n"
     ]
    },
    {
     "name": "stderr",
     "output_type": "stream",
     "text": [
      "Training Epochs:  20%|██        | 1/5 [02:54<11:38, 174.63s/it]"
     ]
    },
    {
     "name": "stdout",
     "output_type": "stream",
     "text": [
      "\n",
      "\n",
      "Training (1/5): {'precision': 0.9533980582524272, 'recall': 0.9627450980392157, 'f1': 0.9580487804878048, 'tp': 982, 'tn': 3777, 'fp': 48, 'fn': 38} Loss: 0.05096\n",
      "\n",
      "---------- EVALUATION ----------\n",
      "Document Accuracy: 0.7143\n",
      "Soft Document Accuracy: 0.25\n",
      "Chunk Accuracy: 0.9789\n",
      "Loss: 0.10173513218926798\n",
      "precision: 0.09375\n",
      "recall: 0.15\n",
      "f1: 0.11538461538461538\n",
      "tp: 3\n",
      "tn: 2136\n",
      "fp: 29\n",
      "fn: 17\n"
     ]
    },
    {
     "name": "stderr",
     "output_type": "stream",
     "text": [
      "Training Epochs:  40%|████      | 2/5 [05:52<08:48, 176.33s/it]"
     ]
    },
    {
     "name": "stdout",
     "output_type": "stream",
     "text": [
      "\n",
      "\n",
      "Training (2/5): {'precision': 0.9883268482490273, 'recall': 0.996078431372549, 'f1': 0.9921875, 'tp': 1016, 'tn': 3813, 'fp': 12, 'fn': 4} Loss: 0.01641\n",
      "\n",
      "---------- EVALUATION ----------\n",
      "Document Accuracy: 0.6234\n",
      "Soft Document Accuracy: 0.3333\n",
      "Chunk Accuracy: 0.9629\n",
      "Loss: 0.15640664645909125\n",
      "precision: 0.07042253521126761\n",
      "recall: 0.25\n",
      "f1: 0.10989010989010989\n",
      "tp: 5\n",
      "tn: 2099\n",
      "fp: 66\n",
      "fn: 15\n"
     ]
    },
    {
     "name": "stderr",
     "output_type": "stream",
     "text": [
      "Training Epochs:  60%|██████    | 3/5 [08:50<05:54, 177.29s/it]"
     ]
    },
    {
     "name": "stdout",
     "output_type": "stream",
     "text": [
      "\n",
      "\n",
      "Training (3/5): {'precision': 0.9883268482490273, 'recall': 0.996078431372549, 'f1': 0.9921875, 'tp': 1016, 'tn': 3813, 'fp': 12, 'fn': 4} Loss: 0.01142\n",
      "\n",
      "---------- EVALUATION ----------\n",
      "Document Accuracy: 0.7792\n",
      "Soft Document Accuracy: 0.25\n",
      "Chunk Accuracy: 0.9835\n",
      "Loss: 0.09947420874430629\n",
      "precision: 0.13636363636363635\n",
      "recall: 0.15\n",
      "f1: 0.14285714285714282\n",
      "tp: 3\n",
      "tn: 2146\n",
      "fp: 19\n",
      "fn: 17\n"
     ]
    },
    {
     "name": "stderr",
     "output_type": "stream",
     "text": [
      "Training Epochs:  80%|████████  | 4/5 [11:48<02:57, 177.35s/it]"
     ]
    },
    {
     "name": "stdout",
     "output_type": "stream",
     "text": [
      "\n",
      "\n",
      "Training (4/5): {'precision': 0.9921951219512195, 'recall': 0.9970588235294118, 'f1': 0.9946210268948655, 'tp': 1017, 'tn': 3817, 'fp': 8, 'fn': 3} Loss: 0.00911\n",
      "\n",
      "---------- EVALUATION ----------\n",
      "Document Accuracy: 0.7662\n",
      "Soft Document Accuracy: 0.25\n",
      "Chunk Accuracy: 0.9803\n",
      "Loss: 0.11840705619879255\n",
      "precision: 0.12903225806451613\n",
      "recall: 0.2\n",
      "f1: 0.1568627450980392\n",
      "tp: 4\n",
      "tn: 2138\n",
      "fp: 27\n",
      "fn: 16\n"
     ]
    },
    {
     "name": "stderr",
     "output_type": "stream",
     "text": [
      "Training Epochs: 100%|██████████| 5/5 [14:43<00:00, 176.61s/it]"
     ]
    },
    {
     "name": "stdout",
     "output_type": "stream",
     "text": [
      "Finished Training!\n"
     ]
    },
    {
     "name": "stderr",
     "output_type": "stream",
     "text": [
      "\n"
     ]
    },
    {
     "data": {
      "image/png": "[encoded data removed]",
      "text/plain": [
       "<Figure size 432x288 with 1 Axes>"
      ]
     },
     "metadata": {
      "needs_background": "light"
     },
     "output_type": "display_data"
    },
    {
     "data": {
      "image/png": "[encoded data removed]",
      "text/plain": [
       "<Figure size 432x288 with 1 Axes>"
      ]
     },
     "metadata": {
      "needs_background": "light"
     },
     "output_type": "display_data"
    }
   ],
   "source": [
    "categories = [\"expiration_date\", \"anti-assignment\", \"cap_on_liability\", \"license_grant\", \"effective_date\", \"audit_rights\", \"termination_for_convenience\"]\n",
    "categories_2 = [\"exclusivity\", \"renewal_term\", \"insurance\", \"revenueprofit_sharing\", \"volume_restriction\"]\n",
    "\n",
    "categories = categories + categories_2\n",
    "\n",
    "model_name = \"roberta-base\"\n",
    "\n",
    "run_with_categories(categories, model_name)"
   ]
  },
  {
   "cell_type": "code",
   "execution_count": null,
   "metadata": {},
   "outputs": [],
   "source": []
  }
 ],
 "metadata": {
  "kernelspec": {
   "display_name": "Python 3",
   "language": "python",
   "name": "python3"
  },
  "language_info": {
   "codemirror_mode": {
    "name": "ipython",
    "version": 3
   },
   "file_extension": ".py",
   "mimetype": "text/x-python",
   "name": "python",
   "nbconvert_exporter": "python",
   "pygments_lexer": "ipython3",
   "version": "3.8.6"
  },
  "metadata": {
   "interpreter": {
    "hash": "916dbcbb3f70747c44a77c7bcd40155683ae19c65e1c03b4aa3499c5328201f1"
   }
  }
 },
 "nbformat": 4,
 "nbformat_minor": 4
}
